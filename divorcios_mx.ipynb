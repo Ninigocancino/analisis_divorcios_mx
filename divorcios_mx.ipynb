{
 "cells": [
  {
   "cell_type": "markdown",
   "metadata": {},
   "source": [
    "# Objetivo del análisis "
   ]
  },
  {
   "cell_type": "markdown",
   "metadata": {},
   "source": [
    "Este análisis busca dimensionar el fenomeno de divorcios en México a traves de aspectos como; el número total de divorcios por año, los diferentes grupos poblacionales a los que afecta el fenomeno  o que se ven relacionados con él, las principales entidades federativas donde se sucita, la tendencia a la baja o alta en terminos globales y particulares. "
   ]
  },
  {
   "cell_type": "markdown",
   "metadata": {},
   "source": [
    "# Contexto comercial"
   ]
  },
  {
   "cell_type": "markdown",
   "metadata": {},
   "source": [
    "* En la mayoría de las culturas o sociedades la familia es considerada como una institución social fundamental y la base misma de la sociedad bajo el entendido que dicha estructura social cumple con diferentes funciones de vital importancia como lo son ; la reproducción y crianzas de individuos, brindar apoyo emocional, físico y económico a los individuos, promover y faciltar la sociabilización y transmitir la cultura. Tradicionalmente al centro de está estructura se encuentra el matrimonio, otra institución social, pero tambien legal que establece una unión formal y reconocida entre dos individuos generalmente con el propósito de establecer una familia. \n",
    "\n",
    "* Por otra parte el divorcio es la acción que disuelve en vínculo del matrimonio y deja a los cónyuges en aptitud de contraer otro. \n",
    "\n",
    "* En las útimas decadas, los profundos cambios en las dinámicas sociales han dado como resultado un cambio importante en la configuración de las familias y en la durabilidad de la convivencia de las parejas legalmente establecidas. \n",
    "\n",
    "* Si bien la diferencia entre la dinamica actual y la de hace algunas decadas en cuanto a matrimonio y divorcio respecta es algo de lo que la mayoría de las personas percibe a simple vista, es necesario contar con una mejor perspectiva que permita definir si este es un fenomeno que puede tener mayor impacto negativo a la sociedad o si es un aspecto de mera percepción. "
   ]
  },
  {
   "cell_type": "markdown",
   "metadata": {},
   "source": [
    "# Problema comercial"
   ]
  },
  {
   "cell_type": "markdown",
   "metadata": {},
   "source": [
    "# Adquisición de datos"
   ]
  },
  {
   "cell_type": "markdown",
   "metadata": {},
   "source": [
    "# Hipotesís y preguntas"
   ]
  },
  {
   "cell_type": "markdown",
   "metadata": {},
   "source": [
    "# EDA Preliminar"
   ]
  },
  {
   "cell_type": "markdown",
   "metadata": {},
   "source": [
    "# Wrangling"
   ]
  }
 ],
 "metadata": {
  "language_info": {
   "name": "python"
  }
 },
 "nbformat": 4,
 "nbformat_minor": 2
}
