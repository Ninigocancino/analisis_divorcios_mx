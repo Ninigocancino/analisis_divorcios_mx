{
 "cells": [
  {
   "cell_type": "markdown",
   "metadata": {},
   "source": [
    "**tipo_divorcio**\n",
    "\n",
    "Guarda el tipo de tramite del cuál se recoge información en el conjunto de datos.\n",
    "\n",
    "Se designa la **clave '1'** para divorcio Judicial y la **clave '2'** para divorcio Administrativo.\n",
    "\n",
    "Recibe valores de **tipo N**, es decir numéricos."
   ]
  },
  {
   "cell_type": "markdown",
   "metadata": {},
   "source": [
    "**ent_regis**\n",
    "\n",
    "Guarda la entidad donde se realiza el tramite de divorcio.\n",
    "\n",
    "Se designan claves del '01' al '32' para identificar las entidades federativas (Estados), la clave '33' para aquellos divorcios (de matrimonios realizados en territorio mexicano) realizados en los Estados Unidos de América, la calve '34' para aquellos divorcios (de matrimonios realizados en territorio mexicano) realizados en los otros paises de Latiniamérica, la clave '35' para aquellos divorcios (de matrimonios realizados en territorio mexicano) realizados en cualquier otro país que no forme parte de las anteriores consideraciones.\n",
    "\n",
    "Recibe valores de **tipo C**, es decir categóricos"
   ]
  },
  {
   "cell_type": "markdown",
   "metadata": {},
   "source": [
    "**mun_regist**\n",
    "\n",
    "Guarda la municipalidad donde se realiza el tramite de divorcio.\n",
    "\n",
    "Se designan claves del '000' al '930' para identificar las municipalidades del territorio mexicano, mientras que la clave '998' indica la categoría 'no aplica y la clave '999' indica 'municipio no indicado'\n",
    "\n",
    "Recibe valores de **tipo C**, es decir categóricos"
   ]
  },
  {
   "cell_type": "markdown",
   "metadata": {},
   "source": [
    "**loc_regis**\n",
    "\n",
    "\n",
    "Guarda la localidad donde se realiza el tramite.\n",
    "\n",
    "Se designan claves del '0000' al '3395' para identificar las localidades del territorio mexicano, mientras que la clave designa '7777' \"Cifra confidencial. Establecido en la Ley del SNIEG.\", la clave '9998' y '9999' indica 'localidad no especificada'\n",
    "\n",
    "Recibe valores de tipo C, es decir categóricos"
   ]
  },
  {
   "cell_type": "markdown",
   "metadata": {},
   "source": [
    "**tloc_regis**\n",
    "\n",
    "Guarda el rango poblacional de la  donde se realizó l tramite de divorcio, designando claves que van del 1 al 17 para los rangos de población, la clave '98' para no aplica y '99' para 'No especificada'\n",
    "\n",
    "clave, descripción\n",
    "1,  De 1 a 999 habitantes\n",
    "2,  De 1 000 a 1 999 habitantes\n",
    "3,  De 2 000 a 2 499 habitantes\n",
    "4,  De 2 500 a 4 999 habitantes\n",
    "5,  De 5 000 a 9 999 habitantes\n",
    "6,  De 10 000 a 14 999 habitantes\n",
    "7,  De 15 000 a 19 999 habitantes\n",
    "8,  De 20 000 a 29 999 habitantes\n",
    "9,  De 30 000 a 39 999 habitantes\n",
    "10, De 40 000 a 49 999 habitantes\n",
    "11, De 50 000 a 74 999 habitantes\n",
    "12, De 75 000 a 99 999 habitantes\n",
    "13, De 100 000 a 249 999 habitantes\n",
    "14, De 250 000 a 499 999 habitantes\n",
    "15, De 500 000 a 999 999 habitantes\n",
    "16, De 1 000 000 a 1 499 999 habitantes\n",
    "17, De 1 500 000 y más habitantes\n",
    "98, No aplica\n",
    "99, No especificado"
   ]
  },
  {
   "cell_type": "markdown",
   "metadata": {},
   "source": [
    "**ent_mat**\n",
    "\n",
    "Guarda la entidad donde se realizó el regirto del metrimonio.\n",
    "\n",
    "Se designan claves del '01' al '32' para identificar las entidades federativas (Estados), la clave '33' para aquellos divorcios (de matrimonios realizados en territorio mexicano) realizados en los Estados Unidos de América, la calve '34' para aquellos divorcios (de matrimonios realizados en territorio mexicano) realizados en los otros paises de Latiniamérica, la clave '35' para aquellos divorcios (de matrimonios realizados en territorio mexicano) realizados en cualquier otro país que no forme parte de las anteriores consideraciones.\n",
    "\n",
    "Recibe valores de **tipo C**, es decir categóricos\n"
   ]
  },
  {
   "cell_type": "markdown",
   "metadata": {},
   "source": [
    "**mun_mat**\n",
    "\n",
    "Guarda la municipalidad donde se realizó el registro de matrimonio.\n",
    "\n",
    "Se designan claves del '000' al '930' para identificar las municipalidades del territorio mexicano, mientras que la clave '998' indica la categoría 'no aplica y la clave '999' indica 'municipio no indicado'\n",
    "\n",
    "Recibe valores de tipo C, es decir categóricos"
   ]
  },
  {
   "cell_type": "markdown",
   "metadata": {},
   "source": [
    "**local_mat**\n",
    "\n",
    "Guarda la localidad donde se realizó el registro del metrimonio.\n",
    "\n",
    "Se designan claves del '0000' al '3395' para identificar las localidades del territorio mexicano, mientras que la clave designa '7777' \"Cifra confidencial. Establecido en la Ley del SNIEG.\", la clave '9998' y '9999' indica 'localidad no especificada'\n",
    "\n",
    "Recibe valores de tipo C, es decir categóricos"
   ]
  },
  {
   "cell_type": "markdown",
   "metadata": {},
   "source": [
    "**tloc_mat**\n",
    "\n",
    "Guarda el rango poblacional de la localidad donde se realizó el regirtro del matrimonio, designando claves que van del 1 al 17 para los rangos de población, la clave '98' para no aplica y '99' para 'No especificada'\n",
    "\n",
    "clave, descripción\n",
    "\n",
    "1,  De 1 a 999 habitantes\n",
    "\n",
    "2,  De 1 000 a 1 999 habitantes\n",
    "\n",
    "3,  De 2 000 a 2 499 habitantes\n",
    "\n",
    "4,  De 2 500 a 4 999 habitantes\n",
    "\n",
    "5,  De 5 000 a 9 999 habitantes\n",
    "\n",
    "6,  De 10 000 a 14 999 habitantes\n",
    "\n",
    "7,  De 15 000 a 19 999 habitantes\n",
    "\n",
    "8,  De 20 000 a 29 999 habitantes\n",
    "\n",
    "9,  De 30 000 a 39 999 habitantes\n",
    "\n",
    "10, De 40 000 a 49 999 habitantes\n",
    "\n",
    "11, De 50 000 a 74 999 habitantes\n",
    "\n",
    "12, De 75 000 a 99 999 habitantes\n",
    "\n",
    "13, De 100 000 a 249 999 habitantes\n",
    "\n",
    "14, De 250 000 a 499 999 habitantes\n",
    "\n",
    "15, De 500 000 a 999 999 habitantes\n",
    "\n",
    "16, De 1 000 000 a 1 499 999 habitantes\n",
    "\n",
    "17, De 1 500 000 y más habitantes\n",
    "\n",
    "98, No aplica\n",
    "\n",
    "99, No especificado"
   ]
  },
  {
   "cell_type": "markdown",
   "metadata": {},
   "source": [
    "**dia_mat**\n",
    "\n",
    "Guarda el día del mes en el que se ralizó el registro del matrimonio.\n",
    "\n",
    "Se asignan valores del 1 al 31 para los días y el valor 99 para describir un valor no especificado."
   ]
  },
  {
   "cell_type": "markdown",
   "metadata": {},
   "source": [
    "**mes_mat**\n",
    "\n",
    "Guarda el mes en el cual se realiza el registro del matrimonio de la siguiente manera:\n",
    "\n",
    "\n",
    "clave,   descripción\n",
    "1,       Enero\n",
    "2,       Febrero\n",
    "3,       Marzo\n",
    "4,       Abril\n",
    "5,       Mayo\n",
    "6,       Junio\n",
    "7,       Julio\n",
    "8,       Agosto\n",
    "9,       Septiembre\n",
    "10,      Octubre\n",
    "11,      Noviembre\n",
    "12,      Diciembre\n",
    "99,      No especificado\n"
   ]
  },
  {
   "cell_type": "markdown",
   "metadata": {},
   "source": [
    "**anio_mat**\n",
    "\n",
    "Registra el año que se realizó el matrimonio con valores desde **1950** hasta el año de recolección de cada conjunto de datos"
   ]
  },
  {
   "cell_type": "markdown",
   "metadata": {},
   "source": [
    "**dia_reg**\n",
    "\n",
    "Guarda el día del mes en el que se ralizó el registro de la demanda de divorcio.\n",
    "\n",
    "Se asignan valores del 1 al 31 para los días y el valor 99 para describir un valor no especificado."
   ]
  },
  {
   "cell_type": "markdown",
   "metadata": {},
   "source": [
    "**mes_reg**\n",
    "\n",
    "Guarda el mes en el cual se realiza el registro de la demanda de la siguiente manera:\n",
    "\n",
    "\n",
    "clave,   descripción\n",
    "1,       Enero\n",
    "2,       Febrero\n",
    "3,       Marzo\n",
    "4,       Abril\n",
    "5,       Mayo\n",
    "6,       Junio\n",
    "7,       Julio\n",
    "8,       Agosto\n",
    "9,       Septiembre\n",
    "10,      Octubre\n",
    "11,      Noviembre\n",
    "12,      Diciembre\n",
    "99,      No especificado"
   ]
  },
  {
   "cell_type": "markdown",
   "metadata": {},
   "source": [
    "**anio_reg**\n",
    "\n",
    "Registra el año que se registro la demanda de divorcio con valores desde **1950** hasta el año de recolección de cada conjunto de datos"
   ]
  },
  {
   "cell_type": "markdown",
   "metadata": {},
   "source": [
    "**dia_sen**\n",
    "\n",
    "Guarda el día del mes en el que se emitio la sentencia de la demanda de divorcio.\n",
    "\n",
    "Se asignan valores del 1 al 31 para los días y el valor 99 para describir un valor no especificado."
   ]
  },
  {
   "cell_type": "markdown",
   "metadata": {},
   "source": [
    "**mes_sen**\n",
    "\n",
    "Guarda el mes en el cual se emitió la sentencia de la demanda de divorcio de la siguiente manera:\n",
    "\n",
    "clave, descripción 1, Enero 2, Febrero 3, Marzo 4, Abril 5, Mayo 6, Junio 7, Julio 8, Agosto 9, Septiembre 10, Octubre 11, Noviembre 12, Diciembre 99, No especificado"
   ]
  },
  {
   "cell_type": "markdown",
   "metadata": {},
   "source": [
    "**anio_sen**\n",
    "\n",
    "Contiene el año en el cuál se emitió la sentencia de la demanda de divorcio. Se asignan valores desde **1950** hasta el año de recolección de cada conjunto de datos."
   ]
  },
  {
   "cell_type": "markdown",
   "metadata": {},
   "source": [
    "**dia_eje**\n",
    "\n",
    "Contiene el día del mes en el que se realiza la ejecutoria de divorcio.\n",
    "\n",
    "Se asignan valores del 1 al 31 para los días y el valor 99 para describir un valor no especificado."
   ]
  },
  {
   "cell_type": "markdown",
   "metadata": {},
   "source": [
    "**mes_eje**\n",
    "\n",
    "Contiene el mes en el cual se efectua la ejecutoria de la demanda de divorcio de la siguiente manera:\n",
    "\n",
    "clave, descripción 1, Enero 2, Febrero 3, Marzo 4, Abril 5, Mayo 6, Junio 7, Julio 8, Agosto 9, Septiembre 10, Octubre 11, Noviembre 12, Diciembre 99, No especificado"
   ]
  },
  {
   "cell_type": "markdown",
   "metadata": {},
   "source": [
    "**anio_eje**\n",
    "\n",
    "Contiene el año en el cuál se realizó la ejecutoria de divorcio. Se asignan valores desde 1950 hasta el año de recolección de cada conjunto de datos."
   ]
  },
  {
   "cell_type": "markdown",
   "metadata": {},
   "source": [
    "**ini_juic**\n",
    "\n",
    "Indica cuál de los conyuges inicia el proceso de divorcio.\n",
    "\n",
    "clave,   descripcion\n",
    "\n",
    "1,       Divorciante 1\n",
    "\n",
    "2,       Divorciante 2\n",
    "\n",
    "3,       Ambos\n",
    "\n",
    "9,       No especificado\n"
   ]
  },
  {
   "cell_type": "markdown",
   "metadata": {},
   "source": [
    "**favor**\n",
    "\n",
    "Indica a favor de quién se resolvio la demanda:\n",
    "\n",
    "clave, descripcion\n",
    "\n",
    "1, Divorciante 1\n",
    "\n",
    "2, Divorciante 2\n",
    "\n",
    "3, Ambos\n",
    "\n",
    "9, No especificado"
   ]
  },
  {
   "cell_type": "markdown",
   "metadata": {},
   "source": [
    "**caus**\n",
    "\n",
    "Contiene las causales presentadas para iniciar la demanda de divorcio, de la siguiente forma:\n",
    "\n",
    "clave,descripcion\n",
    "\n",
    "1,Mutuo consentimiento\n",
    "\n",
    "2,Adulterio o infidelidad sexual\n",
    "\n",
    "3,Alumbramiento ilegítimo\n",
    "\n",
    "4,Propuesta de prostitución\n",
    "\n",
    "5,Incitación a la violencia\n",
    "\n",
    "6,Corrupcion y/o maltrato a los hijos\n",
    "\n",
    "7,\"Enfermedad crónica o incurable, la impotencia o esterilidad incurable\"\n",
    "\n",
    "8,Enajenación mental incurable o el estado de interdicción declarado por sentencia\n",
    "\n",
    "9,\"Separación del hogar conyugal por más de 1 año, con o sin causa justificada\"\n",
    "\n",
    "10,\"Abandono de hogar por más de 3 o 6 meses, sin causa justificada\"\n",
    "\n",
    "11,Declaración de ausencia o presunción de muerte\n",
    "\n",
    "12,\"Sevicia, amenazas o injurias o la violencia intrafamiliar\"\n",
    "\n",
    "13,Negativa a contribuir voluntariamente o por sentencia del juez familiar al sostenimiento del hogar\n",
    "\n",
    "14,Acusación calumniosa\n",
    "\n",
    "15,Haber cometido delito doloso o infamante\n",
    "\n",
    "16,\"Hábitos de juego, embriaguez o drogas\"\n",
    "\n",
    "17,Cometer acto delictivo contra el cónyuge\n",
    "\n",
    "18,Incompatibilidad de caracteres\n",
    "\n",
    "19,La separación por 2 años o más independientemente del motivo\n",
    "\n",
    "20,La bigamia\n",
    "\n",
    "21,\"No acompañar la mujer a su marido, cuando cambie de residencia dentro o fuera del país\"\n",
    "\n",
    "22,\"Si un cónyuge solicitó el divorcio por causa injustificada, el demandado puede divorciarse 3 meses después de la última sentencia\"\n",
    "\n",
    "23,Fecundación asistida sin consentimiento del cónyuge\n",
    "\n",
    "24,Impedir uno de los cónyuges a otro desempeñar una actividad lícita\n",
    "\n",
    "25,Reconocer la mujer a un hijo nacido antes del matrimonio sin consentimiento del marido\n",
    "\n",
    "26,Uso de métodos de esterilización permanente sin consentimiento del cónyuge\n",
    "\n",
    "27,\"Bisexualidad manifestada, o intención o cambio de sexo por tratamiento médico o quirúrgico\"\n",
    "\n",
    "28,Voluntario unilateral\n",
    "\n",
    "99,No especificada"
   ]
  },
  {
   "cell_type": "markdown",
   "metadata": {},
   "source": [
    "**hijos**\n",
    "\n",
    "Contiene el numero de hijos existententes en el matrimonio desde 0 hasta 25 y se designan las claves 98 para no aplica y la clave 99 para no especificado"
   ]
  },
  {
   "cell_type": "markdown",
   "metadata": {},
   "source": [
    "**hijos_men**\n",
    "\n",
    "Contiene el número de hijos existentes en el matrimonio que son menores de edad, se cuenta desde 0 hasta 25 y se designa la clave 98 para 'No aplica' y la clave '99' para 'No especificado'"
   ]
  },
  {
   "cell_type": "markdown",
   "metadata": {},
   "source": [
    "**custodia**\n",
    "\n",
    "Contiene la asignación de custodia de los menores de edad dentro del matrimonio, de las siguente forma:\n",
    "\n",
    "clave,descripción\n",
    "\n",
    "\n",
    "0,No se otorga\n",
    "\n",
    "1,Divorciante 1\n",
    "\n",
    "2,Divorciante 2\n",
    "\n",
    "3,Ambos\n",
    "\n",
    "4,Otro\n",
    "\n",
    "98,No aplica\n",
    "\n",
    "99,No especificado"
   ]
  },
  {
   "cell_type": "markdown",
   "metadata": {},
   "source": [
    "**cus_hij**\n",
    "\n",
    "Contiene los datos sobre el número de hijos en custodia dentro del matrimonio, se cuenta desde 0 hasta 25 y se asigna la clave 98 para 'No aplica' y la clave 99 para 'No especificado'"
   ]
  },
  {
   "cell_type": "markdown",
   "metadata": {},
   "source": [
    "**pat_pot**\n",
    "\n",
    "Contiene los datos sobre el otorgamiento de la patri potestad de los hijos de la siguiente forma:\n",
    "\n",
    "clave,descripción\n",
    "\n",
    "0,No se otorga\n",
    "\n",
    "1,Divorciante 1\n",
    "\n",
    "2,Divorciante 2\n",
    "\n",
    "3,Ambos\n",
    "\n",
    "4,Otro\n",
    "\n",
    "98,No aplica\n",
    "\n",
    "99,No especificado"
   ]
  },
  {
   "cell_type": "markdown",
   "metadata": {},
   "source": [
    "**pat_hij**\n",
    "\n",
    "Contiene el número de hijos que se encuentran bajo patria potestad se cuenta desde 0 hasta 25 y se asigna la clave 98 para 'No aplica' y la clave 99 para 'No especificado'"
   ]
  },
  {
   "cell_type": "markdown",
   "metadata": {},
   "source": [
    "**pension**\n",
    "\n",
    "Contiene el dato sobre a que persona se le asigna la pensión alimenticia.\n",
    "\n",
    "clave,descripción\n",
    "\n",
    "1,Hijos\n",
    "\n",
    "2,Divorciante 1\n",
    "\n",
    "3,Divorciante 2\n",
    "\n",
    "4,Ninguno\n",
    "\n",
    "12,Hijos y Divorciante 1\n",
    "\n",
    "13,Hijos y Divorciante 2\n",
    "\n",
    "98,No aplica\n",
    "\n",
    "99,No especificado"
   ]
  },
  {
   "cell_type": "markdown",
   "metadata": {},
   "source": [
    "**pen_hij**\n",
    "\n",
    "Contiene información sobre el numero de hijos a los que se les asigna pensión se cuenta desde 0 hasta 25 y se asigna la clave 98 para 'No aplica' y la clave 99 para 'No especificado'"
   ]
  },
  {
   "cell_type": "markdown",
   "metadata": {},
   "source": [
    "**naci_div1**\n",
    "\n",
    "Contiene el dato sobre la necionalidad del primer divorciante de la siguiente forma:\n",
    "\n",
    "clave,descripción\n",
    "\n",
    "1,Mexicana\n",
    "\n",
    "2,Extranjera"
   ]
  },
  {
   "cell_type": "markdown",
   "metadata": {},
   "source": [
    "**edad_div1**\n",
    "\n",
    "Contiene la edad del divorciante 1 al moemnto del divorcio. Se asignan valores numéricos del 0 al 95 para designar la edad y se asigna el valor 999 para 'No especificado'"
   ]
  },
  {
   "cell_type": "markdown",
   "metadata": {},
   "source": [
    "**nacim_div1**\n",
    "\n",
    "Contiene el año de nacimiento del primer divorciante.Asigna valores desde 1920 hasta 2005 para los años de nacimientos y el valor 999 para 'No especificado'"
   ]
  },
  {
   "cell_type": "markdown",
   "metadata": {},
   "source": [
    "**eciv_adiv1**\n",
    "\n",
    "Contiene el estado conyugal o civil del primer divorciante antes del matrimonio actual.\n",
    "\n",
    "clave,descripción\n",
    "\n",
    "1,Soltero\n",
    "\n",
    "2,Unión libre\n",
    "\n",
    "3,Divorciado\n",
    "\n",
    "4,Separado\n",
    "\n",
    "5,Viudo\n",
    "\n",
    "9,No especificado"
   ]
  },
  {
   "cell_type": "markdown",
   "metadata": {},
   "source": [
    "**ent_rhdiv1**\n",
    "\n",
    "Entidad de residanecia habitual del primer divorciante\n",
    "\n",
    "Se designan claves del '01' al '32' para identificar las entidades federativas (Estados), la clave '33' para aquellos divorcios (de matrimonios realizados en territorio mexicano) realizados en los Estados Unidos de América, la calve '34' para aquellos divorcios (de matrimonios realizados en territorio mexicano) realizados en los otros paises de Latiniamérica, la clave '35' para aquellos divorcios (de matrimonios realizados en territorio mexicano) realizados en cualquier otro país que no forme parte de las anteriores consideraciones.\n",
    "\n",
    "Recibe valores de **tipo C**, es decir categóricos"
   ]
  },
  {
   "cell_type": "markdown",
   "metadata": {},
   "source": [
    "**mun_rhdiv1**\n",
    "\n",
    "Contiene el municipo o alcaldía de residencia habitual del primer divorciante.\n",
    "\n",
    "Se designan claves del '000' al '930' para identificar las municipalidades del territorio mexicano, mientras que la clave '998' indica la categoría 'no aplica y la clave '999' indica 'municipio no indicado'\n",
    "\n",
    "Recibe valores de tipo C, es decir categóricos"
   ]
  },
  {
   "cell_type": "markdown",
   "metadata": {},
   "source": [
    "**loc_rhdiv1**\n",
    "\n",
    "Contiene la localidad de residencia habitual del primer divorciante.\n",
    "\n",
    "Se designan claves del '0000' al '3395' para identificar las localidades del territorio mexicano, mientras que la clave designa '7777' \"Cifra confidencial. Establecido en la Ley del SNIEG.\", la clave '9998' y '9999' indica 'localidad no especificada'\n",
    "\n",
    "Recibe valores de tipo C, es decir categóricos"
   ]
  },
  {
   "cell_type": "markdown",
   "metadata": {},
   "source": [
    "**tloc_div1**\n",
    "\n",
    "Contiene el tamaño de localidad donde habitualmente reside el primer divorciante.\n",
    "\n",
    "Se designan claves que van del 1 al 17 para los rangos de población, la clave '98' para no aplica y '99' para 'No especificada'\n",
    "\n",
    "clave, descripción 1, De 1 a 999 habitantes 2, De 1 000 a 1 999 habitantes 3, De 2 000 a 2 499 habitantes 4, De 2 500 a 4 999 habitantes 5, De 5 000 a 9 999 habitantes 6, De 10 000 a 14 999 habitantes 7, De 15 000 a 19 999 habitantes 8, De 20 000 a 29 999 habitantes 9, De 30 000 a 39 999 habitantes 10, De 40 000 a 49 999 habitantes 11, De 50 000 a 74 999 habitantes 12, De 75 000 a 99 999 habitantes 13, De 100 000 a 249 999 habitantes 14, De 250 000 a 499 999 habitantes 15, De 500 000 a 999 999 habitantes 16, De 1 000 000 a 1 499 999 habitantes 17, De 1 500 000 y más habitantes 98, No aplica 99, No especificado"
   ]
  },
  {
   "cell_type": "markdown",
   "metadata": {},
   "source": [
    "**escol_div1**\n",
    "\n",
    "Contiene el nivel de escolaridad del primer divorciante.\n",
    "\n",
    "clave,  descripción\n",
    "\n",
    "0,  Sin escolaridad\n",
    "\n",
    "1,  1 a 3 años de primaria\n",
    "\n",
    "2,  4 a 5 años de primaria\n",
    "\n",
    "3,  Primaria completa\n",
    "\n",
    "4,  Secundaria o equivalente\n",
    "\n",
    "5,  Preparatoria o equivalente\n",
    "\n",
    "6,  Superior\n",
    "\n",
    "7,  Carrera técnica\n",
    "\n",
    "8,  Otra\n",
    "\n",
    "9,  No especificada"
   ]
  },
  {
   "cell_type": "markdown",
   "metadata": {},
   "source": [
    "**con_acdiv1**\n",
    "\n",
    "Contiene la condición de actividad económica del primer divorciante. Asignando el valor de 1 para 'Trabaja', el valor de 2 para 'No trabaja' y el valor de 9 para 'No especificado'."
   ]
  },
  {
   "cell_type": "markdown",
   "metadata": {},
   "source": [
    "**dedic_div1**\n",
    "\n",
    "Contiene ocupación del primer divorciante en esta estructura:\n",
    "\n",
    "clave,descripción\n",
    "\n",
    "1,Trabaja\n",
    "\n",
    "2,Al hogar\n",
    "\n",
    "3,Estudiante\n",
    "\n",
    "4,Pensionado o jubilado\n",
    "\n",
    "5,Rentista\n",
    "\n",
    "6,Incapacitado permanentemente para trabajar\n",
    "\n",
    "7,Busca trabajo\n",
    "\n",
    "8,Otra (no trabaja)\n",
    "\n",
    "9,No especificada"
   ]
  },
  {
   "cell_type": "markdown",
   "metadata": {},
   "source": [
    "**postr_div1**\n",
    "\n",
    "Posición en el trbajo del primer divorciante.\n",
    "\n",
    "clave,descripción\n",
    "\n",
    "1,Empleado\n",
    "\n",
    "2,Obrero\n",
    "\n",
    "3,Jornalero o peón agrícola\n",
    "\n",
    "4,Patrón o empresario\n",
    "\n",
    "5,Miembro de cooperativa\n",
    "\n",
    "6,Trabajador no remunerado\n",
    "\n",
    "7,Trabajador por cuenta propia\n",
    "\n",
    "8,Otra\n",
    "\n",
    "9,No especificada"
   ]
  },
  {
   "cell_type": "markdown",
   "metadata": {},
   "source": [
    "**sexo_div1**\n",
    "\n",
    "Sexo del primer divorciante.\n",
    "\n",
    "clave,descripción\n",
    "\n",
    "1,Hombre\n",
    "\n",
    "2,Mujer\n"
   ]
  },
  {
   "cell_type": "markdown",
   "metadata": {},
   "source": [
    "**naci_div2**\n",
    "\n",
    "Nacionalidad del segundo divorciante.\n",
    "\n",
    "clave,descripción\n",
    "\n",
    "1,Mexicana\n",
    "\n",
    "2,Extranjera\n"
   ]
  },
  {
   "cell_type": "markdown",
   "metadata": {},
   "source": [
    "**edad_div2**\n",
    "\n",
    "Edad del segundo divorciante al momento del divorcio.\n",
    "\n",
    "Se asignan valores numéricos del 0 al 95 para designar la edad y se asigna el valor 999 para 'No especificado'"
   ]
  },
  {
   "cell_type": "markdown",
   "metadata": {},
   "source": [
    "**nacim_div2**\n",
    "\n",
    "Año de nacimiento del segundo divorciante.\n",
    "\n",
    "Contiene el año de nacimiento del primer divorciante.Asigna valores desde 1920 hasta 2005 para los años de nacimientos y el valor 999 para 'No especificado'"
   ]
  },
  {
   "cell_type": "markdown",
   "metadata": {},
   "source": [
    "**eciv_adiv2**\n",
    "\n",
    "Estado conyugal (civil) anterior del segundo divorciante.\n",
    "\n",
    "clave,descripción\n",
    "\n",
    "1,Soltero\n",
    "\n",
    "2,Unión libre\n",
    "\n",
    "3,Divorciado\n",
    "\n",
    "4,Separado\n",
    "\n",
    "5,Viudo\n",
    "\n",
    "9,No especificado"
   ]
  },
  {
   "cell_type": "markdown",
   "metadata": {},
   "source": [
    "**ent_rhdiv2**\n",
    "\n",
    "Entidad de residencia habitual del segundo divorciante.\n",
    "\n",
    "Se designan claves del '01' al '32' para identificar las entidades federativas (Estados), la clave '33' para aquellos divorcios (de matrimonios realizados en territorio mexicano) realizados en los Estados Unidos de América, la calve '34' para aquellos divorcios (de matrimonios realizados en territorio mexicano) realizados en los otros paises de Latiniamérica, la clave '35' para aquellos divorcios (de matrimonios realizados en territorio mexicano) realizados en cualquier otro país que no forme parte de las anteriores consideraciones.\n",
    "\n",
    "Recibe valores de **tipo C**, es decir categóricos"
   ]
  },
  {
   "cell_type": "markdown",
   "metadata": {},
   "source": [
    "**mun_rhdiv2**\n",
    "\n",
    "Municipio o alcaldía de residencia habitual del segundo divorciante.\n",
    "\n",
    "Se designan claves del '000' al '930' para identificar las municipalidades del territorio mexicano, mientras que la clave '998' indica la categoría 'no aplica y la clave '999' indica 'municipio no indicado'\n",
    "\n",
    "Recibe valores de tipo C, es decir categóricos"
   ]
  },
  {
   "cell_type": "markdown",
   "metadata": {},
   "source": [
    "**loc_rhdiv2**\n",
    "\n",
    "Localidad de residencia habitual del segundo divorciante.\n",
    "\n",
    "Se designan claves del '0000' al '3395' para identificar las localidades del territorio mexicano, mientras que la clave designa '7777' \"Cifra confidencial. Establecido en la Ley del SNIEG.\", la clave '9998' y '9999' indica 'localidad no especificada'\n",
    "\n",
    "Recibe valores de tipo C, es decir categóricos\n",
    "\n"
   ]
  },
  {
   "cell_type": "markdown",
   "metadata": {},
   "source": [
    "**tloc_div2**\n",
    "\n",
    "Tamaño de la localidad de residencia habitual del segundo divorciante.\n",
    "\n",
    "Se designan claves que van del 1 al 17 para los rangos de población, la clave '98' para no aplica y '99' para 'No especificada'\n",
    "\n",
    "clave, descripción 1, De 1 a 999 habitantes 2, De 1 000 a 1 999 habitantes 3, De 2 000 a 2 499 habitantes 4, De 2 500 a 4 999 habitantes 5, De 5 000 a 9 999 habitantes 6, De 10 000 a 14 999 habitantes 7, De 15 000 a 19 999 habitantes 8, De 20 000 a 29 999 habitantes 9, De 30 000 a 39 999 habitantes 10, De 40 000 a 49 999 habitantes 11, De 50 000 a 74 999 habitantes 12, De 75 000 a 99 999 habitantes 13, De 100 000 a 249 999 habitantes 14, De 250 000 a 499 999 habitantes 15, De 500 000 a 999 999 habitantes 16, De 1 000 000 a 1 499 999 habitantes 17, De 1 500 000 y más habitantes 98, No aplica 99, No especificado"
   ]
  },
  {
   "cell_type": "markdown",
   "metadata": {},
   "source": [
    "**escol_div2**\n",
    "\n",
    "Nivel de escolaridad del segundo divorciante.\n",
    "\n",
    "clave, descripción\n",
    "\n",
    "0, Sin escolaridad\n",
    "\n",
    "1, 1 a 3 años de primaria\n",
    "\n",
    "2, 4 a 5 años de primaria\n",
    "\n",
    "3, Primaria completa\n",
    "\n",
    "4, Secundaria o equivalente\n",
    "\n",
    "5, Preparatoria o equivalente\n",
    "\n",
    "6, Superior\n",
    "\n",
    "7, Carrera técnica\n",
    "\n",
    "8, Otra\n",
    "\n",
    "9, No especificada"
   ]
  },
  {
   "cell_type": "markdown",
   "metadata": {},
   "source": [
    "**con_acdiv2**\n",
    "\n",
    "Contiene la condición de actividad económica del segundo divorciante. Asignando el valor de 1 para 'Trabaja', el valor de 2 para 'No trabaja' y el valor de 9 para 'No especificado'."
   ]
  },
  {
   "cell_type": "markdown",
   "metadata": {},
   "source": [
    "**dedic_div2**\n",
    "\n",
    "Contiene ocupación del segundo divorciante en esta estructura:\n",
    "\n",
    "clave,descripción\n",
    "\n",
    "1,Trabaja\n",
    "\n",
    "2,Al hogar\n",
    "\n",
    "3,Estudiante\n",
    "\n",
    "4,Pensionado o jubilado\n",
    "\n",
    "5,Rentista\n",
    "\n",
    "6,Incapacitado permanentemente para trabajar\n",
    "\n",
    "7,Busca trabajo\n",
    "\n",
    "8,Otra (no trabaja)\n",
    "\n",
    "9,No especificada"
   ]
  },
  {
   "cell_type": "markdown",
   "metadata": {},
   "source": [
    "**postr_div2**\n",
    "\n",
    "Posición en el trbajo del segundo divorciante.\n",
    "\n",
    "clave,descripción\n",
    "\n",
    "1,Empleado\n",
    "\n",
    "2,Obrero\n",
    "\n",
    "3,Jornalero o peón agrícola\n",
    "\n",
    "4,Patrón o empresario\n",
    "\n",
    "5,Miembro de cooperativa\n",
    "\n",
    "6,Trabajador no remunerado\n",
    "\n",
    "7,Trabajador por cuenta propia\n",
    "\n",
    "8,Otra\n",
    "\n",
    "9,No especificada"
   ]
  },
  {
   "cell_type": "markdown",
   "metadata": {},
   "source": [
    "**sexo_div2**\n",
    "\n",
    "Sexo del segundo divorciante.\n",
    "\n",
    "clave,descripción\n",
    "\n",
    "1,Hombre\n",
    "\n",
    "2,Mujer"
   ]
  },
  {
   "cell_type": "markdown",
   "metadata": {},
   "source": [
    "**dura_soc**\n",
    "\n",
    "Duración social del matrimonio\n",
    "\n",
    "Se asigna valores de 1 a 91 para los años de duración del matrimonio. 92 se asigna a aquellos matrimonios que hayan durado 92 o más años, 93 para los matrimonios con duración de menos de un mes, 94 para aquellos con una duración de 1 a 2 meses,95 para aquellos con duración de 3 meses, 96 para aquellos con duración de 4 a 5 meses, 97 para aquellos con duración de 6 meses, 98 para los que tienen una duración de entre  7 a 11 meses y 99 para duración No especificada."
   ]
  },
  {
   "cell_type": "markdown",
   "metadata": {},
   "source": [
    "**dura_leg**\n",
    "\n",
    "Duración legal del matrimonio\n",
    "\n",
    "Se asigna valores de 1 a 91 para los años de duración del matrimonio. 92 se asigna a aquellos matrimonios que hayan durado 92 o más años, 93 para los matrimonios con duración de menos de un mes, 94 para aquellos con una duración de 1 a 2 meses,95 para aquellos con duración de 3 meses, 96 para aquellos con duración de 4 a 5 meses, 97 para aquellos con duración de 6 meses, 98 para los que tienen una duración de entre  7 a 11 meses y 99 para duración No especificada."
   ]
  },
  {
   "cell_type": "markdown",
   "metadata": {},
   "source": [
    "**edad_mdiv1**\n",
    "\n",
    "Edad al matrimonio del primer divorciante.\n",
    "\n",
    "Se asignan valores numéricos del 0 al 95 para designar la edad y se asigna el valor 999 para 'No especificado'"
   ]
  },
  {
   "cell_type": "markdown",
   "metadata": {},
   "source": [
    "**edad_mdiv2**\n",
    "\n",
    "Edad al matrimonio del segundo divorciante.\n",
    "\n",
    "Se asignan valores numéricos del 0 al 95 para designar la edad y se asigna el valor 999 para 'No especificado'"
   ]
  },
  {
   "cell_type": "markdown",
   "metadata": {},
   "source": [
    "**t_dvante**\n",
    "\n",
    "Tipo de divorciante.\n",
    "\n",
    "clave,descripción\n",
    "\n",
    "1,Divorciantes hombre - mujer\n",
    "\n",
    "2,Divorciantes del mismo sexo hombres\n",
    "\n",
    "3,Divorciantes del mismo sexo mujeres"
   ]
  },
  {
   "cell_type": "markdown",
   "metadata": {},
   "source": [
    "**dis_reoax**\n",
    "\n",
    "Distrito de registro de Oaxaca"
   ]
  }
 ],
 "metadata": {
  "kernelspec": {
   "display_name": "env_divorcios_mx",
   "language": "python",
   "name": "python3"
  },
  "language_info": {
   "name": "python",
   "version": "3.12.1"
  }
 },
 "nbformat": 4,
 "nbformat_minor": 2
}
