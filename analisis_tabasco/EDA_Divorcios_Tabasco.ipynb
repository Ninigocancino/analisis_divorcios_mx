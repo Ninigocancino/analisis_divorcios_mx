{
 "cells": [
  {
   "cell_type": "markdown",
   "metadata": {},
   "source": [
    "# UTILIDADES"
   ]
  },
  {
   "cell_type": "code",
   "execution_count": 1,
   "metadata": {},
   "outputs": [],
   "source": [
    "def diccionario_variables(a):\n",
    "\n",
    "    #Función que imprime información sobre las variables que se usan en el notebook\n",
    "\n",
    "    variable = {\n",
    "\n",
    "        # Variables de rutas para acceder a la data\n",
    "\n",
    "        'ruta_data' : 'Significado: Ruta al directorio de datos \\nDescripción: Guarda la ruta del directorio donde se encuentra la data',\n",
    "        'file_path_2018' : 'Significado: Ruta al archivo de datos del año 2018 \\nDescripción: Guarda la ruta especifica del archivo en formato .csv que contiene los datos de interes para el año 2018',\n",
    "        'file_path_2019' : 'Significado: Ruta al archivo de datos del año 2019 \\nDescripción: Guarda la ruta especifica del archivo en formato .csv que contiene los datos de interes para el año 2019',\n",
    "        'file_path_2020' : 'Significado: Ruta al archivo de datos del año 2020 \\nDescripción: Guarda la ruta especifica del archivo en formato .csv que contiene los datos de interes para el año 2020',\n",
    "        'file_path_2021' : 'Significado: Ruta al archivo de datos del año 2021 \\nDescripción: Guarda la ruta especifica del archivo en formato .csv que contiene los datos de interes para el año 2021',\n",
    "        'file_path_2022' : 'Significado: Ruta al archivo de datos del año 2022 \\nDescripción: Guarda la ruta especifica del archivo en formato .csv que contiene los datos de interes para el año 2022',\n",
    "\n",
    "        # Dataframes\n",
    "\n",
    "        'df_divorcios_2018' : 'Significado: Data Frame de divorcios correspondientes al 2018 \\nDescripción: Guarda la conversión del archivo conjunto_de_datos_2018.csv en un Pandas Data Frame',\n",
    "        'df_divorcios_2019' : 'Significado: Data Frame de divorcios correspondientes al 2019 \\nDescripción: Guarda la conversión del archivo conjunto_de_datos_2019.csv en un Pandas Data Frame',\n",
    "        'df_divorcios_2020' : 'Significado: Data Frame de divorcios correspondientes al 2020 \\nDescripción: Guarda la conversión del archivo conjunto_de_datos_2020.csv en un Pandas Data Frame',\n",
    "        'df_divorcios_2021' : 'Significado: Data Frame de divorcios correspondientes al 2021 \\nDescripción: Guarda la conversión del archivo conjunto_de_datos_2021.csv en un Pandas Data Frame',\n",
    "        'df_divorcios_2022' : 'Significado: Data Frame de divorcios correspondientes al 2022 \\nDescripción: Guarda la conversión del archivo conjunto_de_datos_2022.csv en un Pandas Data Frame',\n",
    "        'df_originales' : 'Significado: Data Frames originales de divorcios correspondientes al 2022 \\nDescripción: Guarda un diccionario con los Data Frame que contienen la información \\ndel conjunto de datos para los años del 2018 al 2022',\n",
    "\n",
    "\n",
    "        'forma' : 'Significado: Forma que tienen los data frames \\nDescripción: crea un nuevo diccionario llamado forma donde cada clave es el nombre de un DataFrame en el diccionario df_originales \\ny el valor asociado es una tupla que indica el número de filas y columnas de ese DataFrame.',\n",
    "        'df_forma':'Significado: Data Frame forma \\nDescripción: Convierte el valor guardado en la variable \"forma\" en un Pandas Dataframe.', \n",
    "\n",
    "        'l_columns_2018' : 'Significado: Lista de columnas de un dataframe con valores del 2018 \\nDescripción: Convierte las etiquetas o cabeceras de columnas del data frame \"df_divorcios_2018\" en una lista',\n",
    "        'l_columns_2019' : 'Significado: Lista de columnas de un dataframe con valores del 2019 \\nDescripción: Convierte las etiquetas o cabeceras de columnas del data frame \"df_divorcios_2019\" en una lista',\n",
    "        'l_columns_2020' : 'Significado: Lista de columnas de un dataframe con valores del 2020 \\nDescripción: Convierte las etiquetas o cabeceras de columnas del data frame \"df_divorcios_2020\" en una lista',\n",
    "        'l_columns_2021' : 'Significado: Lista de columnas de un dataframe con valores del 2021 \\nDescripción: Convierte las etiquetas o cabeceras de columnas del data frame \"df_divorcios_2021\" en una lista',\n",
    "        'l_columns_2022' : 'Significado: Lista de columnas de un dataframe con valores del 2022 \\nDescripción: Convierte las etiquetas o cabeceras de columnas del data frame \"df_divorcios_2022\" en una lista',\n",
    "\n",
    "        'df_columns_2018' : 'Significado: Data frame de columnas de datos del 2018 \\nDescripción: Convierte el valor de \"l_columns_2018\" en un data frame de una dimensión donde la etiqueta de la columna corresponde al año 2018',\n",
    "        'df_columns_2019' : 'Significado: Data frame de columnas de datos del 2019 \\nDescripción: Convierte el valor de \"l_columns_2019\" en un data frame de una dimensión donde la etiqueta de la columna corresponde al año 2019',\n",
    "        'df_columns_2020' : 'Significado: Data frame de columnas de datos del 2020 \\nDescripción: Convierte el valor de \"l_columns_2020\" en un data frame de una dimensión donde la etiqueta de la columna corresponde al año 2020',\n",
    "        'df_columns_2021' : 'Significado: Data frame de columnas de datos del 2021 \\nDescripción: Convierte el valor de \"l_columns_2021\" en un data frame de una dimensión donde la etiqueta de la columna corresponde al año 2021',\n",
    "        'df_columns_2021' : 'Significado: Data frame de columnas de datos del 2022 \\nDescripción: Convierte el valor de \"l_columns_2022\" en un data frame de una dimensión donde la etiqueta de la columna corresponde al año 2022',\n",
    "\n",
    "        'df_columnas' : 'Significado: Data Frame de columnas \\nDescripción: Concatena los data frame \"df_columns_2018\",\"df_columns_2019\",\"df_columns_2020\",\"df_columns_2021\" y \"df_columns_2022\"',\n",
    "\n",
    "        'df_divorcios_mx' : 'Significado: Dataframe Divorcios en México \\nDescripción: Une en un solo dataframe todos los datos del conjunto de datos que van desde el año 2018 al año 2022 y cuyo ambito corresponde al territorio nacional',\n",
    "\n",
    "        'entidad_tab' : 'Significado: Entidad Tabasco \\nDescripción: Variable que recive un valor numerico entero que corresponde al código de asignado a la entidad federativa de Tabasco',\n",
    "\n",
    "        'filtro_tabasco' : 'Significado: Filtro Tabasco \\nDescripción: Guarda el dataframe \"df_divorcios_mx\" después de aplicarle un filtro para traer las filas que en las columnas \"ent_regis\",\"ent_mat\",\"ent_rhdiv1\",\"ent_rhdiv2\" contengan el valor asociado a la varible \"entidad_tab\"',\n",
    "\n",
    "        'df_divorcios_tab ' : 'Significado: Dataframe registro divorcios de Tabasco \\nDescripción: Guarda el resultado de \"filtro_tabasco\"',\n",
    "        \n",
    "        'val_uni' : 'Significado: Valores unicos en df_divorcios_tab \\n Guarda un conteo de valores unicos aplicado a \"df_divorcios_tab\"',\n",
    "        \n",
    "    }\n",
    "\n",
    "    if a in variable:\n",
    "        print(f\"Información de la variable {a}\")\n",
    "\n",
    "        return(variable[a])\n",
    "    else: \n",
    "        print(f\"La variable {a} no se encuentra registrada\")\n",
    "    \n",
    "    diccionario_variables()"
   ]
  },
  {
   "cell_type": "code",
   "execution_count": 2,
   "metadata": {},
   "outputs": [
    {
     "name": "stdout",
     "output_type": "stream",
     "text": [
      "Lista de variables del notebook\n",
      "ruta_data ------> Significado: Ruta al directorio de datos\n",
      "file_path_2018 ------> Significado: Ruta al archivo de datos del año 2018 del archivo en formato .csv que contiene los datos de interes para el año 2018\n",
      "file_path_2019 ------> Significado: Ruta al archivo de datos del año 2019\n",
      "file_path_2020 ------> Significado: Ruta al archivo de datos del año 2020\n",
      "file_path_2021 ------> Significado: Ruta al archivo de datos del año 2021\n",
      "file_path_2022 ------> Significado: Ruta al archivo de datos del año 2022\n",
      "df_divorcios_2018 ------> Significado: Data Frame de divorcios correspondientes al 2018\n",
      "df_divorcios_2019 ------> Significado: Data Frame de divorcios correspondientes al 2019\n",
      "df_divorcios_2020 ------> Significado: Data Frame de divorcios correspondientes al 2020\n",
      "df_divorcios_2021 ------> Significado: Data Frame de divorcios correspondientes al 2021\n",
      "df_divorcios_2022 ------> Significado: Data Frame de divorcios correspondientes al 2022\n",
      "df_originales ------> Significado: Data Frames originales de divorcios correspondientes al 2022\n",
      "forma ------> Significado: Forma que tienen los data frames\n",
      "df_forma ------> Significado: Data Frame forma\n",
      "l_columns_2018 ------> Significado: Lista de columnas de un dataframe con valores del 2018\n",
      "l_columns_2019 ------> Significado: Lista de columnas de un dataframe con valores del 2019\n",
      "l_columns_2020 ------> Significado: Lista de columnas de un dataframe con valores del 2020\n",
      "l_columns_2021 ------> Significado: Lista de columnas de un dataframe con valores del 2021\n",
      "l_columns_2022 ------> Significado: Lista de columnas de un dataframe con valores del 2022\n",
      "df_columns_2018 ------> Significado: Data frame de columnas de datos del 2018\n",
      "df_columns_2019 ------> Significado: Data frame de columnas de datos del 2019\n",
      "df_columns_2020 ------> Significado: Data frame de columnas de datos del 2020\n",
      "df_columns_2021 ------> Significado: Data frame de columnas de datos del 2022\n",
      "df_columnas ------> Significado: Data Frame de columnas\n",
      "df_divorcios_mx ------> Significado: Dataframe Divorcios en México\n",
      "entidad_tab ------> Significado: Entidad Tabasco\n",
      "filtro_tabasco ------> Significado: Filtro Tabasco\n",
      "df_divorcios_tab  ------> Significado: Dataframe registro divorcios de Tabasco\n",
      "val_uni ------> Significado: Valores unicos en df_divorcios_tab\n"
     ]
    }
   ],
   "source": [
    "def lista_variables():\n",
    "\n",
    "    variable = {\n",
    "\n",
    "        # Variables de rutas para acceder a la data\n",
    "\n",
    "        'ruta_data' : 'Significado: Ruta al directorio de datos',\n",
    "        'file_path_2018' : 'Significado: Ruta al archivo de datos del año 2018 del archivo en formato .csv que contiene los datos de interes para el año 2018',\n",
    "        'file_path_2019' : 'Significado: Ruta al archivo de datos del año 2019',\n",
    "        'file_path_2020' : 'Significado: Ruta al archivo de datos del año 2020',\n",
    "        'file_path_2021' : 'Significado: Ruta al archivo de datos del año 2021',\n",
    "        'file_path_2022' : 'Significado: Ruta al archivo de datos del año 2022',\n",
    "\n",
    "        # Dataframes\n",
    "\n",
    "        'df_divorcios_2018' : 'Significado: Data Frame de divorcios correspondientes al 2018',\n",
    "        'df_divorcios_2019' : 'Significado: Data Frame de divorcios correspondientes al 2019',\n",
    "        'df_divorcios_2020' : 'Significado: Data Frame de divorcios correspondientes al 2020',\n",
    "        'df_divorcios_2021' : 'Significado: Data Frame de divorcios correspondientes al 2021',\n",
    "        'df_divorcios_2022' : 'Significado: Data Frame de divorcios correspondientes al 2022',\n",
    "        'df_originales' : 'Significado: Data Frames originales de divorcios correspondientes al 2022',\n",
    "\n",
    "\n",
    "        'forma' : 'Significado: Forma que tienen los data frames',\n",
    "        'df_forma':'Significado: Data Frame forma', \n",
    "\n",
    "        'l_columns_2018' : 'Significado: Lista de columnas de un dataframe con valores del 2018',\n",
    "        'l_columns_2019' : 'Significado: Lista de columnas de un dataframe con valores del 2019',\n",
    "        'l_columns_2020' : 'Significado: Lista de columnas de un dataframe con valores del 2020',\n",
    "        'l_columns_2021' : 'Significado: Lista de columnas de un dataframe con valores del 2021',\n",
    "        'l_columns_2022' : 'Significado: Lista de columnas de un dataframe con valores del 2022',\n",
    "\n",
    "        'df_columns_2018' : 'Significado: Data frame de columnas de datos del 2018',\n",
    "        'df_columns_2019' : 'Significado: Data frame de columnas de datos del 2019',\n",
    "        'df_columns_2020' : 'Significado: Data frame de columnas de datos del 2020',\n",
    "        'df_columns_2021' : 'Significado: Data frame de columnas de datos del 2021',\n",
    "        'df_columns_2021' : 'Significado: Data frame de columnas de datos del 2022',\n",
    "\n",
    "        'df_columnas' : 'Significado: Data Frame de columnas', \n",
    "\n",
    "        'df_divorcios_mx' : 'Significado: Dataframe Divorcios en México', \n",
    "        'entidad_tab' : 'Significado: Entidad Tabasco',\n",
    "        'filtro_tabasco' : 'Significado: Filtro Tabasco',\n",
    "        'df_divorcios_tab ' : 'Significado: Dataframe registro divorcios de Tabasco',\n",
    "        'val_uni' : 'Significado: Valores unicos en df_divorcios_tab',\n",
    "        \n",
    "    }\n",
    "    \n",
    "    print(\"Lista de variables del notebook\")\n",
    "\n",
    "    for c, v in variable.items():\n",
    "\n",
    "        print(f\"{c} ------> {v}\")\n",
    "\n",
    "lista_variables()\n"
   ]
  },
  {
   "cell_type": "markdown",
   "metadata": {},
   "source": [
    "# IMPORTACIÓN DE RECURSOS "
   ]
  },
  {
   "cell_type": "code",
   "execution_count": 3,
   "metadata": {},
   "outputs": [],
   "source": [
    "# Librerías para interactuar con el sistema operativo y el entorno en el que se ejecuta el script de Python\n",
    "\n",
    "import sys\n",
    "import os\n"
   ]
  },
  {
   "cell_type": "code",
   "execution_count": 4,
   "metadata": {},
   "outputs": [],
   "source": [
    "# Librería para la manipulación de datos, cálculos numéricos y análisis científico\n",
    "\n",
    "import pandas as pd\n",
    "import numpy as np\n",
    "import scipy"
   ]
  },
  {
   "cell_type": "code",
   "execution_count": 5,
   "metadata": {},
   "outputs": [],
   "source": [
    "# Librerías para el uso de gráficos estadísticos \n",
    "\n",
    "import seaborn as sns\n",
    "import matplotlib.pyplot as plt"
   ]
  },
  {
   "cell_type": "code",
   "execution_count": 6,
   "metadata": {},
   "outputs": [],
   "source": [
    "# Se añade el directorio utilidades a la lista de directorios o path para poder ser usado en el notebook con una instrucción 'import'\n",
    "\n",
    "sys.path.append(os.path.abspath('../utilidades'))\n"
   ]
  },
  {
   "cell_type": "code",
   "execution_count": 9,
   "metadata": {},
   "outputs": [],
   "source": [
    "# Módulo creado para consultar de forma más rápida información del proyecto como el significado de los nombres de las columnas\n",
    "import diccionario_dataset\n"
   ]
  },
  {
   "cell_type": "code",
   "execution_count": 8,
   "metadata": {},
   "outputs": [],
   "source": [
    "import glob"
   ]
  },
  {
   "cell_type": "code",
   "execution_count": 11,
   "metadata": {},
   "outputs": [
    {
     "name": "stdout",
     "output_type": "stream",
     "text": [
      "\n",
      "Duración legal del matrimonio Se asigna valores de 1 a 91 para los años de duración del matrimonio.\n",
      "\n",
      " 92 se asigna a aquellos matrimonios que hayan durado 92 o más años,\n",
      " 93 para los matrimonios con duración de menos de un mes,\n",
      " 94 para aquellos con una duración de 1 a 2 meses,\n",
      " 95 para aquellos con duración de 3 meses,\n",
      " 96 para aquellos con duración de 4 a 5 meses,\n",
      " 97 para aquellos con duración de 6 meses,\n",
      " 98 para los que tienen una duración de entre 7 a 11 meses \n",
      " y 99 para duración No especificada.\n"
     ]
    }
   ],
   "source": [
    "print(diccionario_dataset.info_features(\"dura_leg\"))"
   ]
  },
  {
   "cell_type": "markdown",
   "metadata": {},
   "source": [
    "# ADQUISICIÓN DE DATOS "
   ]
  },
  {
   "cell_type": "code",
   "execution_count": 12,
   "metadata": {},
   "outputs": [],
   "source": [
    "ruta_data = '../datasets'"
   ]
  },
  {
   "cell_type": "code",
   "execution_count": 13,
   "metadata": {},
   "outputs": [],
   "source": [
    "file_path_2018 = os.path.join(ruta_data, 'datos_2018/conjunto_de_datos/conjunto_de_datos_divorcios_2018.csv')\n",
    "file_path_2019 = os.path.join(ruta_data, 'datos_2019/conjunto_de_datos/conjunto_de_datos_divorcios_2019.csv')\n",
    "file_path_2020 = os.path.join(ruta_data, 'datos_2020/conjunto_de_datos/conjunto_de_datos_divorcios_2020.csv')\n",
    "file_path_2021 = os.path.join(ruta_data, 'datos_2021/conjunto_de_datos/conjunto_de_datos_divorcios_2021.csv')\n",
    "file_path_2022 = os.path.join(ruta_data, 'datos_2022/conjunto_de_datos/conjunto_de_datos_divorcios_2022.csv')"
   ]
  },
  {
   "cell_type": "code",
   "execution_count": 14,
   "metadata": {},
   "outputs": [],
   "source": [
    "df_divorcios_2018 = pd.read_csv(file_path_2018)\n",
    "df_divorcios_2019 = pd.read_csv(file_path_2019)\n",
    "df_divorcios_2020 = pd.read_csv(file_path_2020)\n",
    "df_divorcios_2021 = pd.read_csv(file_path_2021)\n",
    "df_divorcios_2022 = pd.read_csv(file_path_2022)"
   ]
  },
  {
   "cell_type": "markdown",
   "metadata": {},
   "source": [
    "# EDA PRELIMINAR"
   ]
  },
  {
   "cell_type": "markdown",
   "metadata": {},
   "source": [
    "## Revisión de la forma de los datasets"
   ]
  },
  {
   "cell_type": "code",
   "execution_count": 15,
   "metadata": {},
   "outputs": [
    {
     "data": {
      "text/plain": [
       "(156556, 64)"
      ]
     },
     "execution_count": 15,
     "metadata": {},
     "output_type": "execute_result"
    }
   ],
   "source": [
    "df_divorcios_2018.shape"
   ]
  },
  {
   "cell_type": "code",
   "execution_count": 16,
   "metadata": {},
   "outputs": [
    {
     "data": {
      "text/plain": [
       "(156556, 64)"
      ]
     },
     "execution_count": 16,
     "metadata": {},
     "output_type": "execute_result"
    }
   ],
   "source": [
    "df_divorcios_2018.shape"
   ]
  },
  {
   "cell_type": "code",
   "execution_count": 17,
   "metadata": {},
   "outputs": [
    {
     "data": {
      "text/plain": [
       "(160107, 64)"
      ]
     },
     "execution_count": 17,
     "metadata": {},
     "output_type": "execute_result"
    }
   ],
   "source": [
    "df_divorcios_2019.shape"
   ]
  },
  {
   "cell_type": "code",
   "execution_count": 18,
   "metadata": {},
   "outputs": [
    {
     "data": {
      "text/plain": [
       "(92739, 64)"
      ]
     },
     "execution_count": 18,
     "metadata": {},
     "output_type": "execute_result"
    }
   ],
   "source": [
    "df_divorcios_2020.shape"
   ]
  },
  {
   "cell_type": "code",
   "execution_count": 19,
   "metadata": {},
   "outputs": [
    {
     "data": {
      "text/plain": [
       "(149675, 64)"
      ]
     },
     "execution_count": 19,
     "metadata": {},
     "output_type": "execute_result"
    }
   ],
   "source": [
    "df_divorcios_2021.shape"
   ]
  },
  {
   "cell_type": "code",
   "execution_count": 20,
   "metadata": {},
   "outputs": [
    {
     "data": {
      "text/plain": [
       "(166766, 64)"
      ]
     },
     "execution_count": 20,
     "metadata": {},
     "output_type": "execute_result"
    }
   ],
   "source": [
    "df_divorcios_2022.shape"
   ]
  },
  {
   "cell_type": "code",
   "execution_count": 21,
   "metadata": {},
   "outputs": [],
   "source": [
    "df_originales = {\n",
    "\n",
    "    '2018' : df_divorcios_2018,\n",
    "    '2019' : df_divorcios_2019,\n",
    "    '2020' : df_divorcios_2020,\n",
    "    '2021' : df_divorcios_2021,\n",
    "    '2022' : df_divorcios_2022\n",
    "}"
   ]
  },
  {
   "cell_type": "code",
   "execution_count": 22,
   "metadata": {},
   "outputs": [],
   "source": [
    "forma = {elemento: df.shape for elemento, df in df_originales.items()}"
   ]
  },
  {
   "cell_type": "code",
   "execution_count": 23,
   "metadata": {},
   "outputs": [],
   "source": [
    "df_forma = pd.DataFrame.from_dict(forma, orient='index', columns=['Filas', 'Columnas'])\n"
   ]
  },
  {
   "cell_type": "code",
   "execution_count": 24,
   "metadata": {},
   "outputs": [
    {
     "name": "stdout",
     "output_type": "stream",
     "text": [
      "       Filas  Columnas\n",
      "2018  156556        64\n",
      "2019  160107        64\n",
      "2020   92739        64\n",
      "2021  149675        64\n",
      "2022  166766        64\n"
     ]
    }
   ],
   "source": [
    "print(df_forma)"
   ]
  },
  {
   "cell_type": "markdown",
   "metadata": {},
   "source": [
    "**Observaciones:**\n",
    "\n",
    "Se comprobó que los dataset cuentan con la misma cantidad de columnas "
   ]
  },
  {
   "cell_type": "markdown",
   "metadata": {},
   "source": [
    "## Verificación de existencia de columnas comunes entre data sets"
   ]
  },
  {
   "cell_type": "code",
   "execution_count": 25,
   "metadata": {},
   "outputs": [],
   "source": [
    "l_columns_2018 = df_divorcios_2018.columns.to_list()\n",
    "l_columns_2019 = df_divorcios_2019.columns.to_list()\n",
    "l_columns_2020 = df_divorcios_2020.columns.to_list()\n",
    "l_columns_2021 = df_divorcios_2021.columns.to_list()\n",
    "l_columns_2022 = df_divorcios_2022.columns.to_list()"
   ]
  },
  {
   "cell_type": "code",
   "execution_count": 26,
   "metadata": {},
   "outputs": [],
   "source": [
    "#Convierte las listas de 'Etiquetas de columnas' y las convierte DataFrames\n",
    "\n",
    "df_columns_2018 = pd.DataFrame({\"2018\" : l_columns_2018})\n",
    "df_columns_2019 = pd.DataFrame({\"2019\" : l_columns_2019})\n",
    "df_columns_2020 = pd.DataFrame({'2020': l_columns_2020}) \n",
    "df_columns_2021 = pd.DataFrame({'2021' : l_columns_2021})\n",
    "df_columns_2022 = pd.DataFrame({'2022': l_columns_2022})"
   ]
  },
  {
   "cell_type": "code",
   "execution_count": 27,
   "metadata": {},
   "outputs": [
    {
     "data": {
      "text/html": [
       "<div>\n",
       "<style scoped>\n",
       "    .dataframe tbody tr th:only-of-type {\n",
       "        vertical-align: middle;\n",
       "    }\n",
       "\n",
       "    .dataframe tbody tr th {\n",
       "        vertical-align: top;\n",
       "    }\n",
       "\n",
       "    .dataframe thead th {\n",
       "        text-align: right;\n",
       "    }\n",
       "</style>\n",
       "<table border=\"1\" class=\"dataframe\">\n",
       "  <thead>\n",
       "    <tr style=\"text-align: right;\">\n",
       "      <th></th>\n",
       "      <th>2018</th>\n",
       "      <th>2019</th>\n",
       "      <th>2020</th>\n",
       "      <th>2021</th>\n",
       "      <th>2022</th>\n",
       "    </tr>\n",
       "  </thead>\n",
       "  <tbody>\n",
       "    <tr>\n",
       "      <th>0</th>\n",
       "      <td>tipo_div</td>\n",
       "      <td>tipo_div</td>\n",
       "      <td>tipo_div</td>\n",
       "      <td>tipo_div</td>\n",
       "      <td>tipo_div</td>\n",
       "    </tr>\n",
       "    <tr>\n",
       "      <th>1</th>\n",
       "      <td>ent_regis</td>\n",
       "      <td>ent_regis</td>\n",
       "      <td>ent_regis</td>\n",
       "      <td>ent_regis</td>\n",
       "      <td>ent_regis</td>\n",
       "    </tr>\n",
       "    <tr>\n",
       "      <th>2</th>\n",
       "      <td>mun_regis</td>\n",
       "      <td>mun_regis</td>\n",
       "      <td>mun_regis</td>\n",
       "      <td>mun_regis</td>\n",
       "      <td>mun_regis</td>\n",
       "    </tr>\n",
       "    <tr>\n",
       "      <th>3</th>\n",
       "      <td>loc_regis</td>\n",
       "      <td>loc_regis</td>\n",
       "      <td>loc_regis</td>\n",
       "      <td>loc_regis</td>\n",
       "      <td>loc_regis</td>\n",
       "    </tr>\n",
       "    <tr>\n",
       "      <th>4</th>\n",
       "      <td>tloc_regis</td>\n",
       "      <td>tloc_regis</td>\n",
       "      <td>tloc_regis</td>\n",
       "      <td>tloc_regis</td>\n",
       "      <td>tloc_regis</td>\n",
       "    </tr>\n",
       "    <tr>\n",
       "      <th>...</th>\n",
       "      <td>...</td>\n",
       "      <td>...</td>\n",
       "      <td>...</td>\n",
       "      <td>...</td>\n",
       "      <td>...</td>\n",
       "    </tr>\n",
       "    <tr>\n",
       "      <th>59</th>\n",
       "      <td>dura_leg</td>\n",
       "      <td>dura_leg</td>\n",
       "      <td>dura_leg</td>\n",
       "      <td>dura_leg</td>\n",
       "      <td>dura_leg</td>\n",
       "    </tr>\n",
       "    <tr>\n",
       "      <th>60</th>\n",
       "      <td>edad_mdiv1</td>\n",
       "      <td>edad_mdiv1</td>\n",
       "      <td>edad_mdiv1</td>\n",
       "      <td>edad_mdiv1</td>\n",
       "      <td>edad_mdiv1</td>\n",
       "    </tr>\n",
       "    <tr>\n",
       "      <th>61</th>\n",
       "      <td>edad_mdiv2</td>\n",
       "      <td>edad_mdiv2</td>\n",
       "      <td>edad_mdiv2</td>\n",
       "      <td>edad_mdiv2</td>\n",
       "      <td>edad_mdiv2</td>\n",
       "    </tr>\n",
       "    <tr>\n",
       "      <th>62</th>\n",
       "      <td>t_dvante</td>\n",
       "      <td>t_dvante</td>\n",
       "      <td>t_dvante</td>\n",
       "      <td>t_dvante</td>\n",
       "      <td>t_dvante</td>\n",
       "    </tr>\n",
       "    <tr>\n",
       "      <th>63</th>\n",
       "      <td>dis_reoax</td>\n",
       "      <td>dis_reoax</td>\n",
       "      <td>dis_reoax</td>\n",
       "      <td>dis_reoax</td>\n",
       "      <td>dis_reoax</td>\n",
       "    </tr>\n",
       "  </tbody>\n",
       "</table>\n",
       "<p>64 rows × 5 columns</p>\n",
       "</div>"
      ],
      "text/plain": [
       "          2018        2019        2020        2021        2022\n",
       "0     tipo_div    tipo_div    tipo_div    tipo_div    tipo_div\n",
       "1    ent_regis   ent_regis   ent_regis   ent_regis   ent_regis\n",
       "2    mun_regis   mun_regis   mun_regis   mun_regis   mun_regis\n",
       "3    loc_regis   loc_regis   loc_regis   loc_regis   loc_regis\n",
       "4   tloc_regis  tloc_regis  tloc_regis  tloc_regis  tloc_regis\n",
       "..         ...         ...         ...         ...         ...\n",
       "59    dura_leg    dura_leg    dura_leg    dura_leg    dura_leg\n",
       "60  edad_mdiv1  edad_mdiv1  edad_mdiv1  edad_mdiv1  edad_mdiv1\n",
       "61  edad_mdiv2  edad_mdiv2  edad_mdiv2  edad_mdiv2  edad_mdiv2\n",
       "62    t_dvante    t_dvante    t_dvante    t_dvante    t_dvante\n",
       "63   dis_reoax   dis_reoax   dis_reoax   dis_reoax   dis_reoax\n",
       "\n",
       "[64 rows x 5 columns]"
      ]
     },
     "execution_count": 27,
     "metadata": {},
     "output_type": "execute_result"
    }
   ],
   "source": [
    "#Concatena o une todos los dataframes 'df_coloumns_...' creados en la celda anterior( celda 32)\n",
    "\n",
    "df_columnas = pd.concat([df_columns_2018,df_columns_2019,df_columns_2020,df_columns_2021,df_columns_2022], axis=1)\n",
    "df_columnas"
   ]
  },
  {
   "cell_type": "code",
   "execution_count": 28,
   "metadata": {},
   "outputs": [
    {
     "name": "stdout",
     "output_type": "stream",
     "text": [
      "Todas las listas tienen el mismo contenido y orden: True\n"
     ]
    }
   ],
   "source": [
    "def comparar_listas_ordenadas(*listas):\n",
    "\n",
    "    #Función que determina si las listas de 'etiquetas de columnas' de los dataframes son iguales\n",
    "\n",
    "    primera_lista = listas[0]\n",
    "    for lista in listas[1:]:\n",
    "        if lista != primera_lista:\n",
    "            return False\n",
    "    return True\n",
    "\n",
    "# Llamar a la función\n",
    "resultado = comparar_listas_ordenadas(l_columns_2018, l_columns_2019, l_columns_2020, l_columns_2021, l_columns_2022)\n",
    "print(\"Todas las listas tienen el mismo contenido y orden:\", resultado)"
   ]
  },
  {
   "cell_type": "markdown",
   "metadata": {},
   "source": [
    "**Conclusión**\n",
    "\n",
    "Se comprueba que las columnas existente en los dataframes contienen los mismos nombres de columnas"
   ]
  },
  {
   "cell_type": "markdown",
   "metadata": {},
   "source": [
    "# Verificación de existencia o falta de datos nulos en el dataset"
   ]
  },
  {
   "cell_type": "code",
   "execution_count": 29,
   "metadata": {},
   "outputs": [
    {
     "name": "stdout",
     "output_type": "stream",
     "text": [
      "No hay datos nulos en 1\n",
      "No hay datos nulos en 2\n",
      "No hay datos nulos en 3\n",
      "No hay datos nulos en 4\n",
      "No hay datos nulos en 5\n"
     ]
    }
   ],
   "source": [
    "def existen_datos_nulos(*dataframes):\n",
    "\n",
    "    # Función que verifica si existen datos nulos en alguno de los dataset analizados y envia un mensaje correspondiente a cada posible resultado\n",
    "\n",
    "    for i, df in enumerate(dataframes, start=1):\n",
    "\n",
    "        nulos = df.isnull().any().any()\n",
    "        \n",
    "        if nulos:\n",
    "            print(f\"Hay datos nulos en {i}\")\n",
    "        else: \n",
    "            print(f\"No hay datos nulos en {i}\")\n",
    "\n",
    "existen_datos_nulos(df_divorcios_2018,df_divorcios_2019,df_divorcios_2020,df_divorcios_2021,df_divorcios_2022)"
   ]
  },
  {
   "cell_type": "markdown",
   "metadata": {},
   "source": [
    "**Resultado**\n",
    "\n",
    "No existen datos nulos en ninguno de los datasets"
   ]
  },
  {
   "cell_type": "markdown",
   "metadata": {},
   "source": [
    "# Análisis del caso"
   ]
  },
  {
   "cell_type": "markdown",
   "metadata": {},
   "source": [
    "## Preparación de la data para el análisis del caso de estudio Tabasco"
   ]
  },
  {
   "cell_type": "code",
   "execution_count": 30,
   "metadata": {},
   "outputs": [],
   "source": [
    "df_divorcios_mx = pd.concat([df_divorcios_2018,df_divorcios_2019,df_divorcios_2020,df_divorcios_2021,df_divorcios_2022], ignore_index=True)"
   ]
  },
  {
   "cell_type": "code",
   "execution_count": 31,
   "metadata": {},
   "outputs": [],
   "source": [
    "entidad_tab = 27"
   ]
  },
  {
   "cell_type": "code",
   "execution_count": 32,
   "metadata": {},
   "outputs": [],
   "source": [
    "filtro_tabasco = df_divorcios_mx[(df_divorcios_mx['ent_regis']==entidad_tab) & (df_divorcios_mx[\"ent_mat\"] == entidad_tab) & (df_divorcios_mx[\"ent_rhdiv1\"])==entidad_tab &(df_divorcios_mx[\"ent_rhdiv2\"]==entidad_tab)]"
   ]
  },
  {
   "cell_type": "code",
   "execution_count": 33,
   "metadata": {},
   "outputs": [],
   "source": [
    "df_divorcios_tab = filtro_tabasco"
   ]
  },
  {
   "cell_type": "markdown",
   "metadata": {},
   "source": [
    "## Pregunta 01: ¿Cuál es el número total de divorcios en la data disponíble?"
   ]
  },
  {
   "cell_type": "markdown",
   "metadata": {},
   "source": [
    "La feature \"tipo_divorcio\" guarda los tipos de divorcios contemplados legalmente en México. Contaremos estos valores para determinar el número total de divorcios.\n",
    "\n",
    "Pero antes determinaremos los valores unicos en la feature para corroborar que los valores ingresados se corresponden con el número de divorcios contemplados por la ley. "
   ]
  },
  {
   "cell_type": "code",
   "execution_count": 34,
   "metadata": {},
   "outputs": [
    {
     "data": {
      "text/plain": [
       "array([1, 2])"
      ]
     },
     "execution_count": 34,
     "metadata": {},
     "output_type": "execute_result"
    }
   ],
   "source": [
    "val_uni = df_divorcios_tab['tipo_div'].unique()\n",
    "val_uni"
   ]
  },
  {
   "cell_type": "markdown",
   "metadata": {},
   "source": [
    "Se confirma que la feature tiene dos valores unicos.\n",
    "\n",
    "De acuerdo al diccionario de datos incluido por el INEGI en este conjunto de datos se identifican dos tipos de divorcios. El divorcio Judicial ingresado con el valor '1' en el dataset y el divorcio administrativo donde se designa el número '2' para identificarlo."
   ]
  },
  {
   "cell_type": "code",
   "execution_count": 36,
   "metadata": {},
   "outputs": [
    {
     "name": "stdout",
     "output_type": "stream",
     "text": [
      "tipo_div\n",
      "1    7506\n",
      "2    1180\n",
      "Name: count, dtype: int64\n"
     ]
    }
   ],
   "source": [
    "conteo_div_tab = df_divorcios_tab[(df_divorcios_tab['ent_regis'] == entidad_tab)]['tipo_div'].value_counts()\n",
    "\n",
    "print(conteo_div_tab)"
   ]
  },
  {
   "cell_type": "code",
   "execution_count": 37,
   "metadata": {},
   "outputs": [],
   "source": [
    "df_conteo = df_divorcios_tab[(df_divorcios_tab['ent_regis'] == entidad_tab)]"
   ]
  },
  {
   "cell_type": "code",
   "execution_count": 38,
   "metadata": {},
   "outputs": [
    {
     "name": "stdout",
     "output_type": "stream",
     "text": [
      "7506\n"
     ]
    }
   ],
   "source": [
    "divorcios_judiciales = df_conteo[(df_conteo['ent_regis']==entidad_tab)& (df_conteo['tipo_div']==1)]['tipo_div'].value_counts()\n",
    "divorcios_judiciales = divorcios_judiciales.get(1, 0)\n",
    "print(divorcios_judiciales)"
   ]
  },
  {
   "cell_type": "code",
   "execution_count": 39,
   "metadata": {},
   "outputs": [
    {
     "name": "stdout",
     "output_type": "stream",
     "text": [
      "1180\n"
     ]
    }
   ],
   "source": [
    "divorcios_administrativos = df_conteo[(df_conteo['ent_regis']==entidad_tab)& (df_conteo['tipo_div']==2)]['tipo_div'].value_counts()\n",
    "divorcios_administrativos = divorcios_administrativos.get(2, 0)\n",
    "print(divorcios_administrativos)"
   ]
  },
  {
   "cell_type": "code",
   "execution_count": 40,
   "metadata": {},
   "outputs": [
    {
     "name": "stdout",
     "output_type": "stream",
     "text": [
      "8686\n"
     ]
    }
   ],
   "source": [
    "divorcios_totales = divorcios_administrativos + divorcios_judiciales\n",
    "print(divorcios_totales)"
   ]
  },
  {
   "cell_type": "code",
   "execution_count": 41,
   "metadata": {},
   "outputs": [
    {
     "data": {
      "image/png": "[encoded data removed]",
      "text/plain": [
       "<Figure size 640x480 with 1 Axes>"
      ]
     },
     "metadata": {},
     "output_type": "display_data"
    }
   ],
   "source": [
    "# Crear el gráfico de pie\n",
    "etiqueta_personalizada = [f\"Divorcio Judicial(1): {divorcios_judiciales}\", f\"Divorcio administrativo(2): {divorcios_administrativos}\"]\n",
    "\n",
    "plt.pie(conteo_div_tab, labels=etiqueta_personalizada, autopct='%1.1f%%', startangle=140, colors=['lightblue', 'lightgreen'])\n",
    "\n",
    "# Asegurar que el gráfico sea un círculo\n",
    "plt.axis('equal')\n",
    "\n",
    "plt.title('Distribución de divorcios de acuerdo al tipo')\n",
    "\n",
    "plt.show()"
   ]
  },
  {
   "cell_type": "markdown",
   "metadata": {},
   "source": [
    "Insights número 01:\n",
    "\n",
    "De acuerdo a la data analizada que comprende de los años del 2018 al 2022.El número total de divorcios registrados en Tabasco fue de 8686, de los cuales el 86.4% (7506)corresponden a Divorcios Judiciales, mientras qué el 13.6%(1180) correponde a divorcios administrativos"
   ]
  },
  {
   "cell_type": "markdown",
   "metadata": {},
   "source": [
    "**¿Cuál es el año con mayor numero de registros de divorcios?**"
   ]
  },
  {
   "cell_type": "markdown",
   "metadata": {},
   "source": [
    "Desglosaremos el análisis de acuerdo al año de registro"
   ]
  },
  {
   "cell_type": "markdown",
   "metadata": {},
   "source": [
    "**Regirtro de demandas de divorcios durante 2022**"
   ]
  },
  {
   "cell_type": "code",
   "execution_count": 42,
   "metadata": {},
   "outputs": [
    {
     "name": "stdout",
     "output_type": "stream",
     "text": [
      "1355\n"
     ]
    }
   ],
   "source": [
    "divorcios_judiciales_2022 = df_conteo[(df_conteo['ent_regis']==entidad_tab)& (df_conteo['tipo_div']==1) &(df_conteo['anio_reg']==2022)]['tipo_div'].value_counts()\n",
    "divorcios_judiciales_2022 = divorcios_judiciales_2022.get(1, 0)\n",
    "print(divorcios_judiciales_2022)"
   ]
  },
  {
   "cell_type": "code",
   "execution_count": 43,
   "metadata": {},
   "outputs": [
    {
     "name": "stdout",
     "output_type": "stream",
     "text": [
      "2\n"
     ]
    }
   ],
   "source": [
    "divorcios_administrativos_2022 = df_conteo[(df_conteo['ent_regis']==entidad_tab)& (df_conteo['tipo_div']==2) &(df_conteo['anio_reg']==2022)]['tipo_div'].value_counts()\n",
    "divorcios_administrativos_2022 = divorcios_administrativos_2022.get(2, 0)\n",
    "print(divorcios_administrativos_2022)"
   ]
  },
  {
   "cell_type": "code",
   "execution_count": 44,
   "metadata": {},
   "outputs": [
    {
     "name": "stdout",
     "output_type": "stream",
     "text": [
      "1357\n"
     ]
    }
   ],
   "source": [
    "registros_div_2022 = divorcios_judiciales_2022 + divorcios_administrativos_2022\n",
    "print(registros_div_2022)"
   ]
  },
  {
   "cell_type": "markdown",
   "metadata": {},
   "source": [
    "**Registro de demandas de divorcios durante 2021**"
   ]
  },
  {
   "cell_type": "code",
   "execution_count": 45,
   "metadata": {},
   "outputs": [
    {
     "name": "stdout",
     "output_type": "stream",
     "text": [
      "1800\n"
     ]
    }
   ],
   "source": [
    "divorcios_judiciales_2021 = df_conteo[(df_conteo['ent_regis']==entidad_tab)& (df_conteo['tipo_div']==1) &(df_conteo['anio_reg']==2021)]['tipo_div'].value_counts()\n",
    "divorcios_judiciales_2021 = divorcios_judiciales_2021.get(1, 0)\n",
    "print(divorcios_judiciales_2021)"
   ]
  },
  {
   "cell_type": "code",
   "execution_count": 46,
   "metadata": {},
   "outputs": [
    {
     "name": "stdout",
     "output_type": "stream",
     "text": [
      "10\n"
     ]
    }
   ],
   "source": [
    "divorcios_administrativos_2021 = df_conteo[(df_conteo['ent_regis']==entidad_tab)& (df_conteo['tipo_div']==2) &(df_conteo['anio_reg']==2021)]['tipo_div'].value_counts()\n",
    "divorcios_administrativos_2021 = divorcios_administrativos_2021.get(2, 0)\n",
    "print(divorcios_administrativos_2021)"
   ]
  },
  {
   "cell_type": "code",
   "execution_count": 48,
   "metadata": {},
   "outputs": [
    {
     "name": "stdout",
     "output_type": "stream",
     "text": [
      "1810\n"
     ]
    }
   ],
   "source": [
    "registros_div_2021 = divorcios_judiciales_2021 + divorcios_administrativos_2021\n",
    "print(registros_div_2021)"
   ]
  },
  {
   "cell_type": "markdown",
   "metadata": {},
   "source": [
    "**Registro de demandas de divorcios durante 2020**"
   ]
  },
  {
   "cell_type": "code",
   "execution_count": 49,
   "metadata": {},
   "outputs": [
    {
     "name": "stdout",
     "output_type": "stream",
     "text": [
      "1800\n"
     ]
    }
   ],
   "source": [
    "divorcios_judiciales_2020 = df_conteo[(df_conteo['ent_regis']==entidad_tab)& (df_conteo['tipo_div']==1) &(df_conteo['anio_reg']==2021)]['tipo_div'].value_counts()\n",
    "divorcios_judiciales_2020 = divorcios_judiciales_2020.get(1, 0)\n",
    "print(divorcios_judiciales_2020)"
   ]
  },
  {
   "cell_type": "code",
   "execution_count": 50,
   "metadata": {},
   "outputs": [
    {
     "name": "stdout",
     "output_type": "stream",
     "text": [
      "162\n"
     ]
    }
   ],
   "source": [
    "divorcios_administrativos_2020 = df_conteo[(df_conteo['ent_regis']==entidad_tab)& (df_conteo['tipo_div']==2) &(df_conteo['anio_reg']==2020)]['tipo_div'].value_counts()\n",
    "divorcios_administrativos_2020 = divorcios_administrativos_2020.get(2, 0)\n",
    "print(divorcios_administrativos_2020)"
   ]
  },
  {
   "cell_type": "code",
   "execution_count": 51,
   "metadata": {},
   "outputs": [
    {
     "name": "stdout",
     "output_type": "stream",
     "text": [
      "1962\n"
     ]
    }
   ],
   "source": [
    "registros_div_2020 = divorcios_judiciales_2020 + divorcios_administrativos_2020\n",
    "print(registros_div_2020)"
   ]
  },
  {
   "cell_type": "markdown",
   "metadata": {},
   "source": [
    "**Registro de demandas de divorcio durante 2019**"
   ]
  },
  {
   "cell_type": "code",
   "execution_count": 52,
   "metadata": {},
   "outputs": [
    {
     "name": "stdout",
     "output_type": "stream",
     "text": [
      "1463\n"
     ]
    }
   ],
   "source": [
    "divorcios_judiciales_2019 = df_conteo[(df_conteo['ent_regis']==entidad_tab)& (df_conteo['tipo_div']==1) &(df_conteo['anio_reg']==2019)]['tipo_div'].value_counts()\n",
    "divorcios_judiciales_2019 = divorcios_judiciales_2019.get(1, 0)\n",
    "print(divorcios_judiciales_2019)"
   ]
  },
  {
   "cell_type": "code",
   "execution_count": 53,
   "metadata": {},
   "outputs": [
    {
     "name": "stdout",
     "output_type": "stream",
     "text": [
      "234\n"
     ]
    }
   ],
   "source": [
    "divorcios_administrativos_2019 = df_conteo[(df_conteo['ent_regis']==entidad_tab)& (df_conteo['tipo_div']==2) &(df_conteo['anio_reg']==2019)]['tipo_div'].value_counts()\n",
    "divorcios_administrativos_2019 = divorcios_administrativos_2019.get(2, 0)\n",
    "print(divorcios_administrativos_2019)"
   ]
  },
  {
   "cell_type": "code",
   "execution_count": 54,
   "metadata": {},
   "outputs": [
    {
     "name": "stdout",
     "output_type": "stream",
     "text": [
      "1697\n"
     ]
    }
   ],
   "source": [
    "registros_div_2019 = divorcios_judiciales_2019 + divorcios_administrativos_2019\n",
    "print(registros_div_2019)"
   ]
  },
  {
   "cell_type": "markdown",
   "metadata": {},
   "source": [
    "**Registros de demandas de divorcios durante 2018**"
   ]
  },
  {
   "cell_type": "code",
   "execution_count": 56,
   "metadata": {},
   "outputs": [
    {
     "name": "stdout",
     "output_type": "stream",
     "text": [
      "1409\n"
     ]
    }
   ],
   "source": [
    "divorcios_judiciales_2018 = df_conteo[(df_conteo['ent_regis']==entidad_tab)& (df_conteo['tipo_div']==1) &(df_conteo['anio_reg']==2018)]['tipo_div'].value_counts()\n",
    "divorcios_judiciales_2018 = divorcios_judiciales_2018.get(1, 0)\n",
    "print(divorcios_judiciales_2018)"
   ]
  },
  {
   "cell_type": "code",
   "execution_count": 57,
   "metadata": {},
   "outputs": [
    {
     "name": "stdout",
     "output_type": "stream",
     "text": [
      "244\n"
     ]
    }
   ],
   "source": [
    "divorcios_administrativos_2018 = df_conteo[(df_conteo['ent_regis']==entidad_tab)& (df_conteo['tipo_div']==2) &(df_conteo['anio_reg']==2018)]['tipo_div'].value_counts()\n",
    "divorcios_administrativos_2018 = divorcios_administrativos_2018.get(2, 0)\n",
    "print(divorcios_administrativos_2018)"
   ]
  },
  {
   "cell_type": "code",
   "execution_count": 58,
   "metadata": {},
   "outputs": [
    {
     "name": "stdout",
     "output_type": "stream",
     "text": [
      "1653\n"
     ]
    }
   ],
   "source": [
    "registros_div_2018 = divorcios_judiciales_2018 + divorcios_administrativos_2018\n",
    "print(registros_div_2018)"
   ]
  },
  {
   "cell_type": "code",
   "execution_count": 59,
   "metadata": {},
   "outputs": [],
   "source": [
    "dict_reg_div = {\n",
    "    '2022': registros_div_2022,\n",
    "    '2021': registros_div_2021,\n",
    "    '2020': registros_div_2020,\n",
    "    '2019': registros_div_2019,\n",
    "    '2018': registros_div_2018\n",
    "}"
   ]
  },
  {
   "cell_type": "code",
   "execution_count": 60,
   "metadata": {},
   "outputs": [
    {
     "data": {
      "text/html": [
       "<div>\n",
       "<style scoped>\n",
       "    .dataframe tbody tr th:only-of-type {\n",
       "        vertical-align: middle;\n",
       "    }\n",
       "\n",
       "    .dataframe tbody tr th {\n",
       "        vertical-align: top;\n",
       "    }\n",
       "\n",
       "    .dataframe thead th {\n",
       "        text-align: right;\n",
       "    }\n",
       "</style>\n",
       "<table border=\"1\" class=\"dataframe\">\n",
       "  <thead>\n",
       "    <tr style=\"text-align: right;\">\n",
       "      <th></th>\n",
       "      <th>Demandas div</th>\n",
       "    </tr>\n",
       "  </thead>\n",
       "  <tbody>\n",
       "    <tr>\n",
       "      <th>2022</th>\n",
       "      <td>1357</td>\n",
       "    </tr>\n",
       "    <tr>\n",
       "      <th>2021</th>\n",
       "      <td>1810</td>\n",
       "    </tr>\n",
       "    <tr>\n",
       "      <th>2020</th>\n",
       "      <td>1962</td>\n",
       "    </tr>\n",
       "    <tr>\n",
       "      <th>2019</th>\n",
       "      <td>1697</td>\n",
       "    </tr>\n",
       "    <tr>\n",
       "      <th>2018</th>\n",
       "      <td>1653</td>\n",
       "    </tr>\n",
       "  </tbody>\n",
       "</table>\n",
       "</div>"
      ],
      "text/plain": [
       "      Demandas div\n",
       "2022          1357\n",
       "2021          1810\n",
       "2020          1962\n",
       "2019          1697\n",
       "2018          1653"
      ]
     },
     "execution_count": 60,
     "metadata": {},
     "output_type": "execute_result"
    }
   ],
   "source": [
    "tabla_r_div = pd.DataFrame.from_dict(dict_reg_div,orient='index',columns=['Demandas div'])\n",
    "tabla_r_div"
   ]
  },
  {
   "cell_type": "markdown",
   "metadata": {},
   "source": [
    "**Insight número: 02**\n",
    "\n",
    "De acuerdo a la data existente el año con mayo número de demandas de divorcios es el año 2020 con 1962 registros de demandas de divorcios, durante los años 2020 y 2021 correspondientes a los años de la emergencia sanitaria se puede obeservar un notable incremento en el número de demanadas a pesar del paro de actividades en los tribunales. Así mismo se durante la data de 2022 se observa una reducción importante en el número de demandas registradas, es probable que esto este relacionado con una posible parcialidad en la data correpondiente a este año."
   ]
  },
  {
   "cell_type": "markdown",
   "metadata": {},
   "source": [
    "**¿Cuál fue el municipio con mayor número de divorcios durante el periodo que abarca el dataset?**"
   ]
  },
  {
   "cell_type": "code",
   "execution_count": 61,
   "metadata": {},
   "outputs": [],
   "source": [
    "#Claves municipales de Tabasco\n",
    "\n",
    "balancam = 1\n",
    "cardenas = 2\n",
    "centla = 3\n",
    "centro = 4\n",
    "comalcalco = 5\n",
    "cunduacan = 6 \n",
    "emiliano_zapata = 7\n",
    "humanguillo = 8\n",
    "jalapa = 9\n",
    "jalpa_de_mendez = 10\n",
    "jonuta = 11\n",
    "macuspana = 12\n",
    "nacajuca = 13\n",
    "paraiso = 14\n",
    "tacotalpa = 15\n",
    "teapa = 16\n",
    "tenosique = 17"
   ]
  },
  {
   "cell_type": "code",
   "execution_count": 62,
   "metadata": {},
   "outputs": [
    {
     "name": "stdout",
     "output_type": "stream",
     "text": [
      "Registros de demandas de divorcios en Balancán\n",
      "2017:\n",
      "Durante 2017 se registrarón --------> 4 divorcios judiciales\n",
      "Durante 2017 se registrarón --------> 0 divorcios administrativos\n",
      "El número total de demandas de divorcios en este municipio ascendió a: 4 registros\n",
      "\n",
      "2018:\n",
      "Durante 2018 se registrarón --------> 9 divorcios judiciales\n",
      "Durante 2018 se registrarón --------> 4 divorcios administrativos\n",
      "El número total de demandas de divorcios en este municipio ascendió a: 13 registros\n",
      "\n",
      "2019:\n",
      "Durante 2019 se registrarón --------> 29 divorcios judiciales\n",
      "Durante 2019 se registrarón --------> 5 divorcios administrativos\n",
      "El número total de demandas de divorcios en este municipio ascendió a: 34 registros\n",
      "\n",
      "2020:\n",
      "Durante 2020 se registrarón --------> 16 divorcios judiciales\n",
      "Durante 2020 se registrarón --------> 1 divorcios administrativos\n",
      "El número total de demandas de divorcios en este municipio ascendió a: 17 registros\n",
      "\n",
      "2021:\n",
      "Durante 2021 se registrarón --------> 47 divorcios judiciales\n",
      "Durante 2021 se registrarón --------> 3 divorcios administrativos\n",
      "El número total de demandas de divorcios en este municipio ascendió a: 50 registros\n",
      "\n",
      "2022:\n",
      "Durante 2022 se registrarón --------> 30 divorcios judiciales\n",
      "Durante 2022 se registrarón --------> 0 divorcios administrativos\n",
      "El número total de demandas de divorcios en este municipio ascendió a: 30 registros\n",
      "\n",
      "El número total de registros de demandas de divorcios en Balancán durante todos los años llegó a: 148 registros\n",
      "==================================================\n",
      "Registros de demandas de divorcios en Cardenas\n",
      "2017:\n",
      "Durante 2017 se registrarón --------> 68 divorcios judiciales\n",
      "Durante 2017 se registrarón --------> 0 divorcios administrativos\n",
      "El número total de demandas de divorcios en este municipio ascendió a: 68 registros\n",
      "\n",
      "2018:\n",
      "Durante 2018 se registrarón --------> 130 divorcios judiciales\n",
      "Durante 2018 se registrarón --------> 17 divorcios administrativos\n",
      "El número total de demandas de divorcios en este municipio ascendió a: 147 registros\n",
      "\n",
      "2019:\n",
      "Durante 2019 se registrarón --------> 144 divorcios judiciales\n",
      "Durante 2019 se registrarón --------> 27 divorcios administrativos\n",
      "El número total de demandas de divorcios en este municipio ascendió a: 171 registros\n",
      "\n",
      "2020:\n",
      "Durante 2020 se registrarón --------> 97 divorcios judiciales\n",
      "Durante 2020 se registrarón --------> 26 divorcios administrativos\n",
      "El número total de demandas de divorcios en este municipio ascendió a: 123 registros\n",
      "\n",
      "2021:\n",
      "Durante 2021 se registrarón --------> 253 divorcios judiciales\n",
      "Durante 2021 se registrarón --------> 0 divorcios administrativos\n",
      "El número total de demandas de divorcios en este municipio ascendió a: 253 registros\n",
      "\n",
      "2022:\n",
      "Durante 2022 se registrarón --------> 212 divorcios judiciales\n",
      "Durante 2022 se registrarón --------> 0 divorcios administrativos\n",
      "El número total de demandas de divorcios en este municipio ascendió a: 212 registros\n",
      "\n",
      "El número total de registros de demandas de divorcios en Cardenas durante todos los años llegó a: 974 registros\n",
      "==================================================\n",
      "Registros de demandas de divorcios en Centla\n",
      "2017:\n",
      "Durante 2017 se registrarón --------> 17 divorcios judiciales\n",
      "Durante 2017 se registrarón --------> 0 divorcios administrativos\n",
      "El número total de demandas de divorcios en este municipio ascendió a: 17 registros\n",
      "\n",
      "2018:\n",
      "Durante 2018 se registrarón --------> 19 divorcios judiciales\n",
      "Durante 2018 se registrarón --------> 3 divorcios administrativos\n",
      "El número total de demandas de divorcios en este municipio ascendió a: 22 registros\n",
      "\n",
      "2019:\n",
      "Durante 2019 se registrarón --------> 17 divorcios judiciales\n",
      "Durante 2019 se registrarón --------> 7 divorcios administrativos\n",
      "El número total de demandas de divorcios en este municipio ascendió a: 24 registros\n",
      "\n",
      "2020:\n",
      "Durante 2020 se registrarón --------> 6 divorcios judiciales\n",
      "Durante 2020 se registrarón --------> 1 divorcios administrativos\n",
      "El número total de demandas de divorcios en este municipio ascendió a: 7 registros\n",
      "\n",
      "2021:\n",
      "Durante 2021 se registrarón --------> 28 divorcios judiciales\n",
      "Durante 2021 se registrarón --------> 0 divorcios administrativos\n",
      "El número total de demandas de divorcios en este municipio ascendió a: 28 registros\n",
      "\n",
      "2022:\n",
      "Durante 2022 se registrarón --------> 22 divorcios judiciales\n",
      "Durante 2022 se registrarón --------> 0 divorcios administrativos\n",
      "El número total de demandas de divorcios en este municipio ascendió a: 22 registros\n",
      "\n",
      "El número total de registros de demandas de divorcios en Centla durante todos los años llegó a: 120 registros\n",
      "==================================================\n",
      "Registros de demandas de divorcios en Centro\n",
      "2017:\n",
      "Durante 2017 se registrarón --------> 227 divorcios judiciales\n",
      "Durante 2017 se registrarón --------> 0 divorcios administrativos\n",
      "El número total de demandas de divorcios en este municipio ascendió a: 227 registros\n",
      "\n",
      "2018:\n",
      "Durante 2018 se registrarón --------> 511 divorcios judiciales\n",
      "Durante 2018 se registrarón --------> 71 divorcios administrativos\n",
      "El número total de demandas de divorcios en este municipio ascendió a: 582 registros\n",
      "\n",
      "2019:\n",
      "Durante 2019 se registrarón --------> 571 divorcios judiciales\n",
      "Durante 2019 se registrarón --------> 85 divorcios administrativos\n",
      "El número total de demandas de divorcios en este municipio ascendió a: 656 registros\n",
      "\n",
      "2020:\n",
      "Durante 2020 se registrarón --------> 129 divorcios judiciales\n",
      "Durante 2020 se registrarón --------> 44 divorcios administrativos\n",
      "El número total de demandas de divorcios en este municipio ascendió a: 173 registros\n",
      "\n",
      "2021:\n",
      "Durante 2021 se registrarón --------> 406 divorcios judiciales\n",
      "Durante 2021 se registrarón --------> 0 divorcios administrativos\n",
      "El número total de demandas de divorcios en este municipio ascendió a: 406 registros\n",
      "\n",
      "2022:\n",
      "Durante 2022 se registrarón --------> 340 divorcios judiciales\n",
      "Durante 2022 se registrarón --------> 0 divorcios administrativos\n",
      "El número total de demandas de divorcios en este municipio ascendió a: 340 registros\n",
      "\n",
      "El número total de registros de demandas de divorcios en Centro durante todos los años llegó a: 2384 registros\n",
      "==================================================\n",
      "Registros de demandas de divorcios en comalcalco\n",
      "2017:\n",
      "Durante 2017 se registrarón --------> 17 divorcios judiciales\n",
      "Durante 2017 se registrarón --------> 0 divorcios administrativos\n",
      "El número total de demandas de divorcios en este municipio ascendió a: 17 registros\n",
      "\n",
      "2018:\n",
      "Durante 2018 se registrarón --------> 54 divorcios judiciales\n",
      "Durante 2018 se registrarón --------> 26 divorcios administrativos\n",
      "El número total de demandas de divorcios en este municipio ascendió a: 80 registros\n",
      "\n",
      "2019:\n",
      "Durante 2019 se registrarón --------> 77 divorcios judiciales\n",
      "Durante 2019 se registrarón --------> 15 divorcios administrativos\n",
      "El número total de demandas de divorcios en este municipio ascendió a: 92 registros\n",
      "\n",
      "2020:\n",
      "Durante 2020 se registrarón --------> 50 divorcios judiciales\n",
      "Durante 2020 se registrarón --------> 14 divorcios administrativos\n",
      "El número total de demandas de divorcios en este municipio ascendió a: 64 registros\n",
      "\n",
      "2021:\n",
      "Durante 2021 se registrarón --------> 113 divorcios judiciales\n",
      "Durante 2021 se registrarón --------> 0 divorcios administrativos\n",
      "El número total de demandas de divorcios en este municipio ascendió a: 113 registros\n",
      "\n",
      "2022:\n",
      "Durante 2022 se registrarón --------> 79 divorcios judiciales\n",
      "Durante 2022 se registrarón --------> 0 divorcios administrativos\n",
      "El número total de demandas de divorcios en este municipio ascendió a: 79 registros\n",
      "\n",
      "El número total de registros de demandas de divorcios en comalcalco durante todos los años llegó a: 445 registros\n",
      "==================================================\n",
      "Registros de demandas de divorcios en Cunduacán\n",
      "2017:\n",
      "Durante 2017 se registrarón --------> 19 divorcios judiciales\n",
      "Durante 2017 se registrarón --------> 0 divorcios administrativos\n",
      "El número total de demandas de divorcios en este municipio ascendió a: 19 registros\n",
      "\n",
      "2018:\n",
      "Durante 2018 se registrarón --------> 37 divorcios judiciales\n",
      "Durante 2018 se registrarón --------> 46 divorcios administrativos\n",
      "El número total de demandas de divorcios en este municipio ascendió a: 83 registros\n",
      "\n",
      "2019:\n",
      "Durante 2019 se registrarón --------> 39 divorcios judiciales\n",
      "Durante 2019 se registrarón --------> 37 divorcios administrativos\n",
      "El número total de demandas de divorcios en este municipio ascendió a: 76 registros\n",
      "\n",
      "2020:\n",
      "Durante 2020 se registrarón --------> 11 divorcios judiciales\n",
      "Durante 2020 se registrarón --------> 28 divorcios administrativos\n",
      "El número total de demandas de divorcios en este municipio ascendió a: 39 registros\n",
      "\n",
      "2021:\n",
      "Durante 2021 se registrarón --------> 51 divorcios judiciales\n",
      "Durante 2021 se registrarón --------> 0 divorcios administrativos\n",
      "El número total de demandas de divorcios en este municipio ascendió a: 51 registros\n",
      "\n",
      "2022:\n",
      "Durante 2022 se registrarón --------> 79 divorcios judiciales\n",
      "Durante 2022 se registrarón --------> 0 divorcios administrativos\n",
      "El número total de demandas de divorcios en este municipio ascendió a: 79 registros\n",
      "\n",
      "El número total de registros de demandas de divorcios en Cunduacán durante todos los años llegó a: 347 registros\n",
      "==================================================\n",
      "Registros de demandas de divorcios en Emiliano Zapata\n",
      "2017:\n",
      "Durante 2017 se registrarón --------> 12 divorcios judiciales\n",
      "Durante 2017 se registrarón --------> 0 divorcios administrativos\n",
      "El número total de demandas de divorcios en este municipio ascendió a: 12 registros\n",
      "\n",
      "2018:\n",
      "Durante 2018 se registrarón --------> 19 divorcios judiciales\n",
      "Durante 2018 se registrarón --------> 1 divorcios administrativos\n",
      "El número total de demandas de divorcios en este municipio ascendió a: 20 registros\n",
      "\n",
      "2019:\n",
      "Durante 2019 se registrarón --------> 21 divorcios judiciales\n",
      "Durante 2019 se registrarón --------> 1 divorcios administrativos\n",
      "El número total de demandas de divorcios en este municipio ascendió a: 22 registros\n",
      "\n",
      "2020:\n",
      "Durante 2020 se registrarón --------> 9 divorcios judiciales\n",
      "Durante 2020 se registrarón --------> 1 divorcios administrativos\n",
      "El número total de demandas de divorcios en este municipio ascendió a: 10 registros\n",
      "\n",
      "2021:\n",
      "Durante 2021 se registrarón --------> 15 divorcios judiciales\n",
      "Durante 2021 se registrarón --------> 1 divorcios administrativos\n",
      "El número total de demandas de divorcios en este municipio ascendió a: 16 registros\n",
      "\n",
      "2022:\n",
      "Durante 2022 se registrarón --------> 28 divorcios judiciales\n",
      "Durante 2022 se registrarón --------> 0 divorcios administrativos\n",
      "El número total de demandas de divorcios en este municipio ascendió a: 28 registros\n",
      "\n",
      "El número total de registros de demandas de divorcios en Emiliano Zapata durante todos los años llegó a: 108 registros\n",
      "==================================================\n",
      "Registros de demandas de divorcios en Huimanguillo\n",
      "2017:\n",
      "Durante 2017 se registrarón --------> 42 divorcios judiciales\n",
      "Durante 2017 se registrarón --------> 0 divorcios administrativos\n",
      "El número total de demandas de divorcios en este municipio ascendió a: 42 registros\n",
      "\n",
      "2018:\n",
      "Durante 2018 se registrarón --------> 156 divorcios judiciales\n",
      "Durante 2018 se registrarón --------> 33 divorcios administrativos\n",
      "El número total de demandas de divorcios en este municipio ascendió a: 189 registros\n",
      "\n",
      "2019:\n",
      "Durante 2019 se registrarón --------> 160 divorcios judiciales\n",
      "Durante 2019 se registrarón --------> 26 divorcios administrativos\n",
      "El número total de demandas de divorcios en este municipio ascendió a: 186 registros\n",
      "\n",
      "2020:\n",
      "Durante 2020 se registrarón --------> 111 divorcios judiciales\n",
      "Durante 2020 se registrarón --------> 13 divorcios administrativos\n",
      "El número total de demandas de divorcios en este municipio ascendió a: 124 registros\n",
      "\n",
      "2021:\n",
      "Durante 2021 se registrarón --------> 248 divorcios judiciales\n",
      "Durante 2021 se registrarón --------> 5 divorcios administrativos\n",
      "El número total de demandas de divorcios en este municipio ascendió a: 253 registros\n",
      "\n",
      "2022:\n",
      "Durante 2022 se registrarón --------> 157 divorcios judiciales\n",
      "Durante 2022 se registrarón --------> 2 divorcios administrativos\n",
      "El número total de demandas de divorcios en este municipio ascendió a: 159 registros\n",
      "\n",
      "El número total de registros de demandas de divorcios en Huimanguillo durante todos los años llegó a: 953 registros\n",
      "==================================================\n",
      "Registros de demandas de divorcios en Jalapa\n",
      "2017:\n",
      "Durante 2017 se registrarón --------> 5 divorcios judiciales\n",
      "Durante 2017 se registrarón --------> 0 divorcios administrativos\n",
      "El número total de demandas de divorcios en este municipio ascendió a: 5 registros\n",
      "\n",
      "2018:\n",
      "Durante 2018 se registrarón --------> 20 divorcios judiciales\n",
      "Durante 2018 se registrarón --------> 2 divorcios administrativos\n",
      "El número total de demandas de divorcios en este municipio ascendió a: 22 registros\n",
      "\n",
      "2019:\n",
      "Durante 2019 se registrarón --------> 12 divorcios judiciales\n",
      "Durante 2019 se registrarón --------> 2 divorcios administrativos\n",
      "El número total de demandas de divorcios en este municipio ascendió a: 14 registros\n",
      "\n",
      "2020:\n",
      "Durante 2020 se registrarón --------> 3 divorcios judiciales\n",
      "Durante 2020 se registrarón --------> 2 divorcios administrativos\n",
      "El número total de demandas de divorcios en este municipio ascendió a: 5 registros\n",
      "\n",
      "2021:\n",
      "Durante 2021 se registrarón --------> 18 divorcios judiciales\n",
      "Durante 2021 se registrarón --------> 0 divorcios administrativos\n",
      "El número total de demandas de divorcios en este municipio ascendió a: 18 registros\n",
      "\n",
      "2022:\n",
      "Durante 2022 se registrarón --------> 14 divorcios judiciales\n",
      "Durante 2022 se registrarón --------> 0 divorcios administrativos\n",
      "El número total de demandas de divorcios en este municipio ascendió a: 14 registros\n",
      "\n",
      "El número total de registros de demandas de divorcios en Jalapa durante todos los años llegó a: 78 registros\n",
      "==================================================\n",
      "Registros de demandas de divorcios en Jalpa de Mendez\n",
      "2017:\n",
      "Durante 2017 se registrarón --------> 22 divorcios judiciales\n",
      "Durante 2017 se registrarón --------> 0 divorcios administrativos\n",
      "El número total de demandas de divorcios en este municipio ascendió a: 22 registros\n",
      "\n",
      "2018:\n",
      "Durante 2018 se registrarón --------> 45 divorcios judiciales\n",
      "Durante 2018 se registrarón --------> 6 divorcios administrativos\n",
      "El número total de demandas de divorcios en este municipio ascendió a: 51 registros\n",
      "\n",
      "2019:\n",
      "Durante 2019 se registrarón --------> 54 divorcios judiciales\n",
      "Durante 2019 se registrarón --------> 7 divorcios administrativos\n",
      "El número total de demandas de divorcios en este municipio ascendió a: 61 registros\n",
      "\n",
      "2020:\n",
      "Durante 2020 se registrarón --------> 44 divorcios judiciales\n",
      "Durante 2020 se registrarón --------> 6 divorcios administrativos\n",
      "El número total de demandas de divorcios en este municipio ascendió a: 50 registros\n",
      "\n",
      "2021:\n",
      "Durante 2021 se registrarón --------> 68 divorcios judiciales\n",
      "Durante 2021 se registrarón --------> 0 divorcios administrativos\n",
      "El número total de demandas de divorcios en este municipio ascendió a: 68 registros\n",
      "\n",
      "2022:\n",
      "Durante 2022 se registrarón --------> 39 divorcios judiciales\n",
      "Durante 2022 se registrarón --------> 0 divorcios administrativos\n",
      "El número total de demandas de divorcios en este municipio ascendió a: 39 registros\n",
      "\n",
      "El número total de registros de demandas de divorcios en Jalpa de Mendez durante todos los años llegó a: 291 registros\n",
      "==================================================\n",
      "Registros de demandas de divorcios en Jonuta\n",
      "2017:\n",
      "Durante 2017 se registrarón --------> 6 divorcios judiciales\n",
      "Durante 2017 se registrarón --------> 0 divorcios administrativos\n",
      "El número total de demandas de divorcios en este municipio ascendió a: 6 registros\n",
      "\n",
      "2018:\n",
      "Durante 2018 se registrarón --------> 14 divorcios judiciales\n",
      "Durante 2018 se registrarón --------> 0 divorcios administrativos\n",
      "El número total de demandas de divorcios en este municipio ascendió a: 14 registros\n",
      "\n",
      "2019:\n",
      "Durante 2019 se registrarón --------> 5 divorcios judiciales\n",
      "Durante 2019 se registrarón --------> 0 divorcios administrativos\n",
      "El número total de demandas de divorcios en este municipio ascendió a: 5 registros\n",
      "\n",
      "2020:\n",
      "Durante 2020 se registrarón --------> 5 divorcios judiciales\n",
      "Durante 2020 se registrarón --------> 0 divorcios administrativos\n",
      "El número total de demandas de divorcios en este municipio ascendió a: 5 registros\n",
      "\n",
      "2021:\n",
      "Durante 2021 se registrarón --------> 21 divorcios judiciales\n",
      "Durante 2021 se registrarón --------> 0 divorcios administrativos\n",
      "El número total de demandas de divorcios en este municipio ascendió a: 21 registros\n",
      "\n",
      "2022:\n",
      "Durante 2022 se registrarón --------> 17 divorcios judiciales\n",
      "Durante 2022 se registrarón --------> 0 divorcios administrativos\n",
      "El número total de demandas de divorcios en este municipio ascendió a: 17 registros\n",
      "\n",
      "El número total de registros de demandas de divorcios en Jonuta durante todos los años llegó a: 68 registros\n",
      "==================================================\n",
      "Registros de demandas de divorcios en Macuspana\n",
      "2017:\n",
      "Durante 2017 se registrarón --------> 54 divorcios judiciales\n",
      "Durante 2017 se registrarón --------> 0 divorcios administrativos\n",
      "El número total de demandas de divorcios en este municipio ascendió a: 54 registros\n",
      "\n",
      "2018:\n",
      "Durante 2018 se registrarón --------> 149 divorcios judiciales\n",
      "Durante 2018 se registrarón --------> 10 divorcios administrativos\n",
      "El número total de demandas de divorcios en este municipio ascendió a: 159 registros\n",
      "\n",
      "2019:\n",
      "Durante 2019 se registrarón --------> 89 divorcios judiciales\n",
      "Durante 2019 se registrarón --------> 8 divorcios administrativos\n",
      "El número total de demandas de divorcios en este municipio ascendió a: 97 registros\n",
      "\n",
      "2020:\n",
      "Durante 2020 se registrarón --------> 44 divorcios judiciales\n",
      "Durante 2020 se registrarón --------> 4 divorcios administrativos\n",
      "El número total de demandas de divorcios en este municipio ascendió a: 48 registros\n",
      "\n",
      "2021:\n",
      "Durante 2021 se registrarón --------> 134 divorcios judiciales\n",
      "Durante 2021 se registrarón --------> 1 divorcios administrativos\n",
      "El número total de demandas de divorcios en este municipio ascendió a: 135 registros\n",
      "\n",
      "2022:\n",
      "Durante 2022 se registrarón --------> 108 divorcios judiciales\n",
      "Durante 2022 se registrarón --------> 0 divorcios administrativos\n",
      "El número total de demandas de divorcios en este municipio ascendió a: 108 registros\n",
      "\n",
      "El número total de registros de demandas de divorcios en Macuspana durante todos los años llegó a: 601 registros\n",
      "==================================================\n",
      "Registros de demandas de divorcios en Nacajuca\n",
      "2017:\n",
      "Durante 2017 se registrarón --------> 48 divorcios judiciales\n",
      "Durante 2017 se registrarón --------> 0 divorcios administrativos\n",
      "El número total de demandas de divorcios en este municipio ascendió a: 48 registros\n",
      "\n",
      "2018:\n",
      "Durante 2018 se registrarón --------> 93 divorcios judiciales\n",
      "Durante 2018 se registrarón --------> 15 divorcios administrativos\n",
      "El número total de demandas de divorcios en este municipio ascendió a: 108 registros\n",
      "\n",
      "2019:\n",
      "Durante 2019 se registrarón --------> 96 divorcios judiciales\n",
      "Durante 2019 se registrarón --------> 4 divorcios administrativos\n",
      "El número total de demandas de divorcios en este municipio ascendió a: 100 registros\n",
      "\n",
      "2020:\n",
      "Durante 2020 se registrarón --------> 63 divorcios judiciales\n",
      "Durante 2020 se registrarón --------> 7 divorcios administrativos\n",
      "El número total de demandas de divorcios en este municipio ascendió a: 70 registros\n",
      "\n",
      "2021:\n",
      "Durante 2021 se registrarón --------> 157 divorcios judiciales\n",
      "Durante 2021 se registrarón --------> 0 divorcios administrativos\n",
      "El número total de demandas de divorcios en este municipio ascendió a: 157 registros\n",
      "\n",
      "2022:\n",
      "Durante 2022 se registrarón --------> 79 divorcios judiciales\n",
      "Durante 2022 se registrarón --------> 0 divorcios administrativos\n",
      "El número total de demandas de divorcios en este municipio ascendió a: 79 registros\n",
      "\n",
      "El número total de registros de demandas de divorcios en Nacajuca durante todos los años llegó a: 562 registros\n",
      "==================================================\n",
      "Registros de demandas de divorcios en Paraíso\n",
      "2017:\n",
      "Durante 2017 se registrarón --------> 16 divorcios judiciales\n",
      "Durante 2017 se registrarón --------> 0 divorcios administrativos\n",
      "El número total de demandas de divorcios en este municipio ascendió a: 16 registros\n",
      "\n",
      "2018:\n",
      "Durante 2018 se registrarón --------> 40 divorcios judiciales\n",
      "Durante 2018 se registrarón --------> 3 divorcios administrativos\n",
      "El número total de demandas de divorcios en este municipio ascendió a: 43 registros\n",
      "\n",
      "2019:\n",
      "Durante 2019 se registrarón --------> 35 divorcios judiciales\n",
      "Durante 2019 se registrarón --------> 6 divorcios administrativos\n",
      "El número total de demandas de divorcios en este municipio ascendió a: 41 registros\n",
      "\n",
      "2020:\n",
      "Durante 2020 se registrarón --------> 36 divorcios judiciales\n",
      "Durante 2020 se registrarón --------> 10 divorcios administrativos\n",
      "El número total de demandas de divorcios en este municipio ascendió a: 46 registros\n",
      "\n",
      "2021:\n",
      "Durante 2021 se registrarón --------> 75 divorcios judiciales\n",
      "Durante 2021 se registrarón --------> 0 divorcios administrativos\n",
      "El número total de demandas de divorcios en este municipio ascendió a: 75 registros\n",
      "\n",
      "2022:\n",
      "Durante 2022 se registrarón --------> 59 divorcios judiciales\n",
      "Durante 2022 se registrarón --------> 0 divorcios administrativos\n",
      "El número total de demandas de divorcios en este municipio ascendió a: 59 registros\n",
      "\n",
      "El número total de registros de demandas de divorcios en Paraíso durante todos los años llegó a: 280 registros\n",
      "==================================================\n",
      "Registros de demandas de divorcios en Tacotalpa\n",
      "2017:\n",
      "Durante 2017 se registrarón --------> 13 divorcios judiciales\n",
      "Durante 2017 se registrarón --------> 0 divorcios administrativos\n",
      "El número total de demandas de divorcios en este municipio ascendió a: 13 registros\n",
      "\n",
      "2018:\n",
      "Durante 2018 se registrarón --------> 26 divorcios judiciales\n",
      "Durante 2018 se registrarón --------> 2 divorcios administrativos\n",
      "El número total de demandas de divorcios en este municipio ascendió a: 28 registros\n",
      "\n",
      "2019:\n",
      "Durante 2019 se registrarón --------> 22 divorcios judiciales\n",
      "Durante 2019 se registrarón --------> 0 divorcios administrativos\n",
      "El número total de demandas de divorcios en este municipio ascendió a: 22 registros\n",
      "\n",
      "2020:\n",
      "Durante 2020 se registrarón --------> 8 divorcios judiciales\n",
      "Durante 2020 se registrarón --------> 0 divorcios administrativos\n",
      "El número total de demandas de divorcios en este municipio ascendió a: 8 registros\n",
      "\n",
      "2021:\n",
      "Durante 2021 se registrarón --------> 28 divorcios judiciales\n",
      "Durante 2021 se registrarón --------> 0 divorcios administrativos\n",
      "El número total de demandas de divorcios en este municipio ascendió a: 28 registros\n",
      "\n",
      "2022:\n",
      "Durante 2022 se registrarón --------> 22 divorcios judiciales\n",
      "Durante 2022 se registrarón --------> 0 divorcios administrativos\n",
      "El número total de demandas de divorcios en este municipio ascendió a: 22 registros\n",
      "\n",
      "El número total de registros de demandas de divorcios en Tacotalpa durante todos los años llegó a: 121 registros\n",
      "==================================================\n",
      "Registros de demandas de divorcios en Teapa\n",
      "2017:\n",
      "Durante 2017 se registrarón --------> 18 divorcios judiciales\n",
      "Durante 2017 se registrarón --------> 0 divorcios administrativos\n",
      "El número total de demandas de divorcios en este municipio ascendió a: 18 registros\n",
      "\n",
      "2018:\n",
      "Durante 2018 se registrarón --------> 54 divorcios judiciales\n",
      "Durante 2018 se registrarón --------> 1 divorcios administrativos\n",
      "El número total de demandas de divorcios en este municipio ascendió a: 55 registros\n",
      "\n",
      "2019:\n",
      "Durante 2019 se registrarón --------> 64 divorcios judiciales\n",
      "Durante 2019 se registrarón --------> 2 divorcios administrativos\n",
      "El número total de demandas de divorcios en este municipio ascendió a: 66 registros\n",
      "\n",
      "2020:\n",
      "Durante 2020 se registrarón --------> 53 divorcios judiciales\n",
      "Durante 2020 se registrarón --------> 2 divorcios administrativos\n",
      "El número total de demandas de divorcios en este municipio ascendió a: 55 registros\n",
      "\n",
      "2021:\n",
      "Durante 2021 se registrarón --------> 119 divorcios judiciales\n",
      "Durante 2021 se registrarón --------> 0 divorcios administrativos\n",
      "El número total de demandas de divorcios en este municipio ascendió a: 119 registros\n",
      "\n",
      "2022:\n",
      "Durante 2022 se registrarón --------> 47 divorcios judiciales\n",
      "Durante 2022 se registrarón --------> 0 divorcios administrativos\n",
      "El número total de demandas de divorcios en este municipio ascendió a: 47 registros\n",
      "\n",
      "El número total de registros de demandas de divorcios en Teapa durante todos los años llegó a: 360 registros\n",
      "==================================================\n",
      "Registros de demandas de divorcios en tenosique\n",
      "2017:\n",
      "Durante 2017 se registrarón --------> 7 divorcios judiciales\n",
      "Durante 2017 se registrarón --------> 0 divorcios administrativos\n",
      "El número total de demandas de divorcios en este municipio ascendió a: 7 registros\n",
      "\n",
      "2018:\n",
      "Durante 2018 se registrarón --------> 33 divorcios judiciales\n",
      "Durante 2018 se registrarón --------> 4 divorcios administrativos\n",
      "El número total de demandas de divorcios en este municipio ascendió a: 37 registros\n",
      "\n",
      "2019:\n",
      "Durante 2019 se registrarón --------> 28 divorcios judiciales\n",
      "Durante 2019 se registrarón --------> 2 divorcios administrativos\n",
      "El número total de demandas de divorcios en este municipio ascendió a: 30 registros\n",
      "\n",
      "2020:\n",
      "Durante 2020 se registrarón --------> 8 divorcios judiciales\n",
      "Durante 2020 se registrarón --------> 3 divorcios administrativos\n",
      "El número total de demandas de divorcios en este municipio ascendió a: 11 registros\n",
      "\n",
      "2021:\n",
      "Durante 2021 se registrarón --------> 19 divorcios judiciales\n",
      "Durante 2021 se registrarón --------> 0 divorcios administrativos\n",
      "El número total de demandas de divorcios en este municipio ascendió a: 19 registros\n",
      "\n",
      "2022:\n",
      "Durante 2022 se registrarón --------> 23 divorcios judiciales\n",
      "Durante 2022 se registrarón --------> 0 divorcios administrativos\n",
      "El número total de demandas de divorcios en este municipio ascendió a: 23 registros\n",
      "\n",
      "El número total de registros de demandas de divorcios en tenosique durante todos los años llegó a: 127 registros\n",
      "==================================================\n"
     ]
    }
   ],
   "source": [
    "#Función que cuenta el número de registros de demandas de divorcios por municipio y lo desglosa por año de data existente (en el set) \n",
    "\n",
    "def contar_divorcios(df, municipios, anios):\n",
    "    for municipio, nombre_municipio in municipios:\n",
    "        print(f\"Registros de demandas de divorcios en {nombre_municipio}\")\n",
    "        \n",
    "        total_divorcios_municipio = 0  # contador total de registro por municipio \n",
    "        \n",
    "        for anio in anios:\n",
    "            # Filtrar y contar los divorcios judiciales\n",
    "            div_jud = df[(df['mun_regis'] == municipio) & (df['tipo_div'] == 1) & (df['anio_reg'] == anio)]['tipo_div'].value_counts().get(1, 0)\n",
    "            \n",
    "            # Filtrar y contar los divorcios administrativos\n",
    "            div_admin = df[(df['mun_regis'] == municipio) & (df['tipo_div'] == 2) & (df['anio_reg'] == anio)]['tipo_div'].value_counts().get(2, 0)\n",
    "        \n",
    "            # Sumar los divorcios judiciales y administrativos\n",
    "            suma_div = div_jud + div_admin\n",
    "        \n",
    "            # Acumular el total de divorcios para el municipio\n",
    "            total_divorcios_municipio += suma_div\n",
    "        \n",
    "            # Mostrar los resultados para el año actual\n",
    "            print(f\"{anio}:\")\n",
    "            print(f\"Durante {anio} se registrarón --------> {div_jud} divorcios judiciales\")\n",
    "            print(f\"Durante {anio} se registrarón --------> {div_admin} divorcios administrativos\")\n",
    "            print(f\"El número total de demandas de divorcios en este municipio ascendió a: {suma_div} registros\")\n",
    "            print(\"\")\n",
    "    \n",
    "        # Mostrar el total acumulado de divorcios para el municipio\n",
    "        print(f\"El número total de registros de demandas de divorcios en {nombre_municipio} durante todos los años llegó a: {total_divorcios_municipio} registros\")\n",
    "        print(\"=\"*50) \n",
    "\n",
    "municipios = [(balancam, \"Balancán\"),(cardenas, \"Cardenas\"), (centla, \"Centla\"),(centro,\"Centro\"),(comalcalco,\"comalcalco\"),(cunduacan,\"Cunduacán\"),(emiliano_zapata,\"Emiliano Zapata\"),(humanguillo,\"Huimanguillo\"),(jalapa, \"Jalapa\"),(jalpa_de_mendez,\"Jalpa de Mendez\"),(jonuta,\"Jonuta\"), (macuspana,\"Macuspana\"),(nacajuca,\"Nacajuca\"),(paraiso,\"Paraíso\"),(tacotalpa,\"Tacotalpa\"),(teapa,\"Teapa\"),(tenosique,\"tenosique\")] \n",
    "anios = [2017, 2018, 2019, 2020, 2021, 2022] \n",
    "contar_divorcios(df_conteo, municipios, anios)"
   ]
  },
  {
   "cell_type": "markdown",
   "metadata": {},
   "source": [
    "# Número de demandas de divorcios por tipo de divorciante en Tabasco"
   ]
  },
  {
   "cell_type": "markdown",
   "metadata": {},
   "source": [
    "# En Tabasco, en los años que comprende nuestro conjunto de datos ¿Quién presenta el mayor número de demandas de divorcios, los hombres o las mujeres?"
   ]
  },
  {
   "cell_type": "code",
   "execution_count": 75,
   "metadata": {},
   "outputs": [
    {
     "data": {
      "text/plain": [
       "array([1, 2])"
      ]
     },
     "execution_count": 75,
     "metadata": {},
     "output_type": "execute_result"
    }
   ],
   "source": [
    "df_divorcios_tab['sexo_div1'].unique()"
   ]
  },
  {
   "cell_type": "code",
   "execution_count": 97,
   "metadata": {},
   "outputs": [],
   "source": [
    "df_sex_div = df_divorcios_tab[(df_divorcios_tab[\"ent_regis\"]==entidad_tab)&(df_divorcios_tab[\"tipo_div\"]==1)]"
   ]
  },
  {
   "cell_type": "code",
   "execution_count": 105,
   "metadata": {},
   "outputs": [
    {
     "data": {
      "text/plain": [
       "sexo_div1\n",
       "1    4489\n",
       "Name: count, dtype: int64"
      ]
     },
     "execution_count": 105,
     "metadata": {},
     "output_type": "execute_result"
    }
   ],
   "source": [
    "div_conteo_h = df_sex_div[df_sex_div[\"sexo_div1\"]==1][\"sexo_div1\"].value_counts()\n",
    "div_conteo_h"
   ]
  },
  {
   "cell_type": "code",
   "execution_count": 106,
   "metadata": {},
   "outputs": [
    {
     "data": {
      "text/plain": [
       "sexo_div1\n",
       "2    3017\n",
       "Name: count, dtype: int64"
      ]
     },
     "execution_count": 106,
     "metadata": {},
     "output_type": "execute_result"
    }
   ],
   "source": [
    "div_conteo_m = df_sex_div[df_sex_div[\"sexo_div1\"]==2][\"sexo_div1\"].value_counts()\n",
    "div_conteo_m"
   ]
  },
  {
   "cell_type": "code",
   "execution_count": 92,
   "metadata": {},
   "outputs": [
    {
     "data": {
      "text/plain": [
       "7506"
      ]
     },
     "execution_count": 92,
     "metadata": {},
     "output_type": "execute_result"
    }
   ],
   "source": [
    "4489 + 3017"
   ]
  },
  {
   "cell_type": "code",
   "execution_count": 98,
   "metadata": {},
   "outputs": [
    {
     "data": {
      "text/plain": [
       "139110    1\n",
       "139111    2\n",
       "139113    2\n",
       "139114    1\n",
       "139116    1\n",
       "         ..\n",
       "706853    1\n",
       "706854    2\n",
       "706855    2\n",
       "706856    2\n",
       "725842    2\n",
       "Name: sexo_div1, Length: 7506, dtype: int64"
      ]
     },
     "execution_count": 98,
     "metadata": {},
     "output_type": "execute_result"
    }
   ],
   "source": [
    "df_sex_div[\"sexo_div1\"]"
   ]
  },
  {
   "cell_type": "markdown",
   "metadata": {},
   "source": [
    "Insigth:\n",
    "\n",
    "De acuerdo a la data con la que se cuenta, para el caso del Estado de Tabasco en el numero de registros de divorcios que van de 2017 a 2022, son los hombres quienes mayor número de demandas de divorcios interponen "
   ]
  },
  {
   "cell_type": "code",
   "execution_count": 63,
   "metadata": {},
   "outputs": [
    {
     "name": "stdout",
     "output_type": "stream",
     "text": [
      "1 2 3 4 5 6 7 8 9 10 11 12 13 14 15 16 17\n"
     ]
    }
   ],
   "source": [
    "print(balancam, cardenas, centla,centro,comalcalco,cunduacan,emiliano_zapata,humanguillo,jalapa,jalpa_de_mendez,jonuta,macuspana,nacajuca,paraiso,tacotalpa,teapa,tenosique)"
   ]
  },
  {
   "cell_type": "code",
   "execution_count": 64,
   "metadata": {},
   "outputs": [
    {
     "data": {
      "text/html": [
       "<div>\n",
       "<style scoped>\n",
       "    .dataframe tbody tr th:only-of-type {\n",
       "        vertical-align: middle;\n",
       "    }\n",
       "\n",
       "    .dataframe tbody tr th {\n",
       "        vertical-align: top;\n",
       "    }\n",
       "\n",
       "    .dataframe thead th {\n",
       "        text-align: right;\n",
       "    }\n",
       "</style>\n",
       "<table border=\"1\" class=\"dataframe\">\n",
       "  <thead>\n",
       "    <tr style=\"text-align: right;\">\n",
       "      <th></th>\n",
       "      <th>tipo_div</th>\n",
       "      <th>ent_regis</th>\n",
       "      <th>mun_regis</th>\n",
       "      <th>loc_regis</th>\n",
       "      <th>tloc_regis</th>\n",
       "      <th>ent_mat</th>\n",
       "      <th>mun_mat</th>\n",
       "      <th>local_mat</th>\n",
       "      <th>tloc_mat</th>\n",
       "      <th>dia_mat</th>\n",
       "      <th>...</th>\n",
       "      <th>con_acdiv2</th>\n",
       "      <th>dedic_div2</th>\n",
       "      <th>postr_div2</th>\n",
       "      <th>sexo_div2</th>\n",
       "      <th>dura_soc</th>\n",
       "      <th>dura_leg</th>\n",
       "      <th>edad_mdiv1</th>\n",
       "      <th>edad_mdiv2</th>\n",
       "      <th>t_dvante</th>\n",
       "      <th>dis_reoax</th>\n",
       "    </tr>\n",
       "  </thead>\n",
       "  <tbody>\n",
       "    <tr>\n",
       "      <th>0</th>\n",
       "      <td>1</td>\n",
       "      <td>1</td>\n",
       "      <td>1</td>\n",
       "      <td>1</td>\n",
       "      <td>15</td>\n",
       "      <td>1</td>\n",
       "      <td>1</td>\n",
       "      <td>1</td>\n",
       "      <td>15</td>\n",
       "      <td>13</td>\n",
       "      <td>...</td>\n",
       "      <td>9</td>\n",
       "      <td>9</td>\n",
       "      <td>9</td>\n",
       "      <td>2</td>\n",
       "      <td>62</td>\n",
       "      <td>63</td>\n",
       "      <td>18</td>\n",
       "      <td>99</td>\n",
       "      <td>1</td>\n",
       "      <td>998</td>\n",
       "    </tr>\n",
       "    <tr>\n",
       "      <th>1</th>\n",
       "      <td>1</td>\n",
       "      <td>1</td>\n",
       "      <td>1</td>\n",
       "      <td>1</td>\n",
       "      <td>15</td>\n",
       "      <td>15</td>\n",
       "      <td>24</td>\n",
       "      <td>7777</td>\n",
       "      <td>5</td>\n",
       "      <td>4</td>\n",
       "      <td>...</td>\n",
       "      <td>2</td>\n",
       "      <td>2</td>\n",
       "      <td>9</td>\n",
       "      <td>2</td>\n",
       "      <td>55</td>\n",
       "      <td>55</td>\n",
       "      <td>13</td>\n",
       "      <td>99</td>\n",
       "      <td>1</td>\n",
       "      <td>998</td>\n",
       "    </tr>\n",
       "    <tr>\n",
       "      <th>2</th>\n",
       "      <td>1</td>\n",
       "      <td>1</td>\n",
       "      <td>1</td>\n",
       "      <td>1</td>\n",
       "      <td>15</td>\n",
       "      <td>1</td>\n",
       "      <td>1</td>\n",
       "      <td>239</td>\n",
       "      <td>4</td>\n",
       "      <td>12</td>\n",
       "      <td>...</td>\n",
       "      <td>1</td>\n",
       "      <td>1</td>\n",
       "      <td>1</td>\n",
       "      <td>2</td>\n",
       "      <td>55</td>\n",
       "      <td>55</td>\n",
       "      <td>20</td>\n",
       "      <td>21</td>\n",
       "      <td>1</td>\n",
       "      <td>998</td>\n",
       "    </tr>\n",
       "    <tr>\n",
       "      <th>3</th>\n",
       "      <td>1</td>\n",
       "      <td>1</td>\n",
       "      <td>1</td>\n",
       "      <td>1</td>\n",
       "      <td>15</td>\n",
       "      <td>1</td>\n",
       "      <td>1</td>\n",
       "      <td>1</td>\n",
       "      <td>15</td>\n",
       "      <td>10</td>\n",
       "      <td>...</td>\n",
       "      <td>9</td>\n",
       "      <td>9</td>\n",
       "      <td>9</td>\n",
       "      <td>1</td>\n",
       "      <td>54</td>\n",
       "      <td>54</td>\n",
       "      <td>21</td>\n",
       "      <td>99</td>\n",
       "      <td>1</td>\n",
       "      <td>998</td>\n",
       "    </tr>\n",
       "    <tr>\n",
       "      <th>4</th>\n",
       "      <td>1</td>\n",
       "      <td>1</td>\n",
       "      <td>1</td>\n",
       "      <td>1</td>\n",
       "      <td>15</td>\n",
       "      <td>32</td>\n",
       "      <td>52</td>\n",
       "      <td>102</td>\n",
       "      <td>2</td>\n",
       "      <td>1</td>\n",
       "      <td>...</td>\n",
       "      <td>2</td>\n",
       "      <td>2</td>\n",
       "      <td>9</td>\n",
       "      <td>2</td>\n",
       "      <td>54</td>\n",
       "      <td>54</td>\n",
       "      <td>19</td>\n",
       "      <td>16</td>\n",
       "      <td>1</td>\n",
       "      <td>998</td>\n",
       "    </tr>\n",
       "    <tr>\n",
       "      <th>...</th>\n",
       "      <td>...</td>\n",
       "      <td>...</td>\n",
       "      <td>...</td>\n",
       "      <td>...</td>\n",
       "      <td>...</td>\n",
       "      <td>...</td>\n",
       "      <td>...</td>\n",
       "      <td>...</td>\n",
       "      <td>...</td>\n",
       "      <td>...</td>\n",
       "      <td>...</td>\n",
       "      <td>...</td>\n",
       "      <td>...</td>\n",
       "      <td>...</td>\n",
       "      <td>...</td>\n",
       "      <td>...</td>\n",
       "      <td>...</td>\n",
       "      <td>...</td>\n",
       "      <td>...</td>\n",
       "      <td>...</td>\n",
       "      <td>...</td>\n",
       "    </tr>\n",
       "    <tr>\n",
       "      <th>725838</th>\n",
       "      <td>2</td>\n",
       "      <td>32</td>\n",
       "      <td>17</td>\n",
       "      <td>1</td>\n",
       "      <td>13</td>\n",
       "      <td>32</td>\n",
       "      <td>17</td>\n",
       "      <td>1</td>\n",
       "      <td>13</td>\n",
       "      <td>15</td>\n",
       "      <td>...</td>\n",
       "      <td>1</td>\n",
       "      <td>1</td>\n",
       "      <td>1</td>\n",
       "      <td>2</td>\n",
       "      <td>99</td>\n",
       "      <td>54</td>\n",
       "      <td>19</td>\n",
       "      <td>16</td>\n",
       "      <td>1</td>\n",
       "      <td>998</td>\n",
       "    </tr>\n",
       "    <tr>\n",
       "      <th>725839</th>\n",
       "      <td>2</td>\n",
       "      <td>32</td>\n",
       "      <td>10</td>\n",
       "      <td>1</td>\n",
       "      <td>13</td>\n",
       "      <td>32</td>\n",
       "      <td>10</td>\n",
       "      <td>1</td>\n",
       "      <td>13</td>\n",
       "      <td>27</td>\n",
       "      <td>...</td>\n",
       "      <td>1</td>\n",
       "      <td>1</td>\n",
       "      <td>1</td>\n",
       "      <td>2</td>\n",
       "      <td>99</td>\n",
       "      <td>3</td>\n",
       "      <td>26</td>\n",
       "      <td>26</td>\n",
       "      <td>1</td>\n",
       "      <td>998</td>\n",
       "    </tr>\n",
       "    <tr>\n",
       "      <th>725840</th>\n",
       "      <td>2</td>\n",
       "      <td>32</td>\n",
       "      <td>17</td>\n",
       "      <td>1</td>\n",
       "      <td>13</td>\n",
       "      <td>32</td>\n",
       "      <td>17</td>\n",
       "      <td>1</td>\n",
       "      <td>13</td>\n",
       "      <td>19</td>\n",
       "      <td>...</td>\n",
       "      <td>1</td>\n",
       "      <td>1</td>\n",
       "      <td>1</td>\n",
       "      <td>2</td>\n",
       "      <td>99</td>\n",
       "      <td>3</td>\n",
       "      <td>24</td>\n",
       "      <td>24</td>\n",
       "      <td>1</td>\n",
       "      <td>998</td>\n",
       "    </tr>\n",
       "    <tr>\n",
       "      <th>725841</th>\n",
       "      <td>2</td>\n",
       "      <td>32</td>\n",
       "      <td>17</td>\n",
       "      <td>1</td>\n",
       "      <td>13</td>\n",
       "      <td>32</td>\n",
       "      <td>17</td>\n",
       "      <td>1</td>\n",
       "      <td>13</td>\n",
       "      <td>21</td>\n",
       "      <td>...</td>\n",
       "      <td>1</td>\n",
       "      <td>1</td>\n",
       "      <td>7</td>\n",
       "      <td>2</td>\n",
       "      <td>99</td>\n",
       "      <td>10</td>\n",
       "      <td>45</td>\n",
       "      <td>32</td>\n",
       "      <td>1</td>\n",
       "      <td>998</td>\n",
       "    </tr>\n",
       "    <tr>\n",
       "      <th>725842</th>\n",
       "      <td>1</td>\n",
       "      <td>27</td>\n",
       "      <td>4</td>\n",
       "      <td>1</td>\n",
       "      <td>14</td>\n",
       "      <td>27</td>\n",
       "      <td>4</td>\n",
       "      <td>1</td>\n",
       "      <td>14</td>\n",
       "      <td>15</td>\n",
       "      <td>...</td>\n",
       "      <td>1</td>\n",
       "      <td>1</td>\n",
       "      <td>1</td>\n",
       "      <td>1</td>\n",
       "      <td>6</td>\n",
       "      <td>6</td>\n",
       "      <td>20</td>\n",
       "      <td>21</td>\n",
       "      <td>1</td>\n",
       "      <td>998</td>\n",
       "    </tr>\n",
       "  </tbody>\n",
       "</table>\n",
       "<p>724464 rows × 64 columns</p>\n",
       "</div>"
      ],
      "text/plain": [
       "        tipo_div  ent_regis  mun_regis  loc_regis  tloc_regis  ent_mat  \\\n",
       "0              1          1          1          1          15        1   \n",
       "1              1          1          1          1          15       15   \n",
       "2              1          1          1          1          15        1   \n",
       "3              1          1          1          1          15        1   \n",
       "4              1          1          1          1          15       32   \n",
       "...          ...        ...        ...        ...         ...      ...   \n",
       "725838         2         32         17          1          13       32   \n",
       "725839         2         32         10          1          13       32   \n",
       "725840         2         32         17          1          13       32   \n",
       "725841         2         32         17          1          13       32   \n",
       "725842         1         27          4          1          14       27   \n",
       "\n",
       "        mun_mat  local_mat  tloc_mat  dia_mat  ...  con_acdiv2  dedic_div2  \\\n",
       "0             1          1        15       13  ...           9           9   \n",
       "1            24       7777         5        4  ...           2           2   \n",
       "2             1        239         4       12  ...           1           1   \n",
       "3             1          1        15       10  ...           9           9   \n",
       "4            52        102         2        1  ...           2           2   \n",
       "...         ...        ...       ...      ...  ...         ...         ...   \n",
       "725838       17          1        13       15  ...           1           1   \n",
       "725839       10          1        13       27  ...           1           1   \n",
       "725840       17          1        13       19  ...           1           1   \n",
       "725841       17          1        13       21  ...           1           1   \n",
       "725842        4          1        14       15  ...           1           1   \n",
       "\n",
       "        postr_div2  sexo_div2  dura_soc  dura_leg  edad_mdiv1  edad_mdiv2  \\\n",
       "0                9          2        62        63          18          99   \n",
       "1                9          2        55        55          13          99   \n",
       "2                1          2        55        55          20          21   \n",
       "3                9          1        54        54          21          99   \n",
       "4                9          2        54        54          19          16   \n",
       "...            ...        ...       ...       ...         ...         ...   \n",
       "725838           1          2        99        54          19          16   \n",
       "725839           1          2        99         3          26          26   \n",
       "725840           1          2        99         3          24          24   \n",
       "725841           7          2        99        10          45          32   \n",
       "725842           1          1         6         6          20          21   \n",
       "\n",
       "        t_dvante  dis_reoax  \n",
       "0              1        998  \n",
       "1              1        998  \n",
       "2              1        998  \n",
       "3              1        998  \n",
       "4              1        998  \n",
       "...          ...        ...  \n",
       "725838         1        998  \n",
       "725839         1        998  \n",
       "725840         1        998  \n",
       "725841         1        998  \n",
       "725842         1        998  \n",
       "\n",
       "[724464 rows x 64 columns]"
      ]
     },
     "execution_count": 64,
     "metadata": {},
     "output_type": "execute_result"
    }
   ],
   "source": [
    "df_divorcios_tab"
   ]
  },
  {
   "cell_type": "code",
   "execution_count": 69,
   "metadata": {},
   "outputs": [
    {
     "name": "stdout",
     "output_type": "stream",
     "text": [
      "\n",
      "Indica cuál de los conyuges inicia el proceso de divorcio. \n",
      " \n",
      "clave,   descripcion\n",
      " 1, Divorciante 1\n",
      " 2, Divorciante 2\n",
      " 3, Ambos\n",
      " 9, No especificado\n"
     ]
    }
   ],
   "source": [
    "print(diccionario_dataset.info_features(\"ini_juic\"))"
   ]
  },
  {
   "cell_type": "code",
   "execution_count": 70,
   "metadata": {},
   "outputs": [
    {
     "name": "stdout",
     "output_type": "stream",
     "text": [
      "\n",
      "Sexo del primer divorciante.\n",
      "\n",
      " clave,descripción \n",
      " 1,Hombre \n",
      " 2,Mujer\n"
     ]
    }
   ],
   "source": [
    "print(diccionario_dataset.info_features(\"sexo_div1\"))"
   ]
  },
  {
   "cell_type": "code",
   "execution_count": 66,
   "metadata": {},
   "outputs": [
    {
     "name": "stdout",
     "output_type": "stream",
     "text": [
      "Estos son los términos usados en el dataset\n",
      "\"tipo_divorcio\" ---> \"Tipo de divorcios comtemplados en México\"\n",
      "\"ent_regis\" ---> \"Entidad donde se inició el trámite de divorcio\"\n",
      "\"mun_regist\" ---> \"Municipio o alcaldía de registro\"\n",
      "\"loc_regis\" ---> \"Localidad de registro\"\n",
      "\"tloc_regis\" ---> \"Tamaño de localidad de registro\"\n",
      "\"ent_mat\" ---> \"Entidad de registro del matrimonio\"\n",
      "\"mun_mat\" ---> \"Municipio o alcaldía de registro del matrimonio\"\n",
      "\"local_mat\" ---> \"Localidad de registro del matrimonio\"\n",
      "\"tloc_mat\" ---> \"Tamaño de localidad de registro del matrimonio\"\n",
      "\"dia_mat\" ---> \"Día de registro del matrimonio\"\n",
      "\"mes_mat\" ---> \"Mes de registro del matrimonio\"\n",
      "\"anio_mat\" ---> \"Año de registro del matrimonio\"\n",
      "\"dia_reg\" ---> \"Día de registro de la demanda\"\n",
      "\"mes_reg\" ---> \"Mes de registro de la demanda\"\n",
      "\"anio_reg\" ---> \"Año de registro de la demanda\"\n",
      "\"dia_sen\" ---> \"Día de la sentencia\"\n",
      "\"mes_sen\" ---> \"Mes de la sentencia\"\n",
      "\"anio_sen\" ---> \"Año de la sentencia\"\n",
      "\"dia_eje\" ---> \"Día de ejecutoria del divorcio\"\n",
      "\"mes_eje\" ---> \"Mes de ejecutoria del divorcio\"\n",
      "\"anio_eje\" ---> \"Año de ejecutoria del divorcio\"\n",
      "\"ini_juic\" ---> \"Persona que inició el juicio\"\n",
      "\"favor\" ---> \"A favor de quien se resolvió el juicio\"\n",
      "\"caus\" ---> \"Causas de divorcio\"\n",
      "\"hijos\" ---> \"Número de hijos en el matrimonio\"\n",
      "\"hijos_men\" ---> \"Número de hijos menores de edad\"\n",
      "\"custodia\" ---> \"Persona a quien se otorga la custodia\"\n",
      "\"cus_hij\" ---> \"Número de hijos en custodia\"\n",
      "\"pat_pot\" ---> \"Persona a quien se le asigna la patria potestad\"\n",
      "\"pat_hij\" ---> \"Número de hijos en patria potestad\"\n",
      "\"pension\" ---> \"Personas a quien se le asigna la pensión alimenticia\"\n",
      "\"pen_hij\" ---> \"Número de hijos a quienes se les asigna la pensión alimenticia\"\n",
      "\"naci_div1\" ---> \"Nacionalidad del primer divorciante\"\n",
      "\"edad_div1\" ---> \"Edad al divorcio del primer divorciante\"\n",
      "\"nacim_div1\" ---> \"Año de nacimiento del primer divorciante\"\n",
      "\"eciv_adiv1\" ---> \"Estado conyugal (civil) anterior del primer divorciante\"\n",
      "\"ent_rhdiv1\" ---> \"Entidad de residencia habitual del primer divorciante\"\n",
      "\"mun_rhdiv1\" ---> \"Municipio o alcaldía de residencia habitual del primer divorciante\"\n",
      "\"loc_rhdiv1\" ---> \"Localidad de residencia habitual del primer divorciante\"\n",
      "\"tloc_div1\" ---> \"Tamaño de localidad de residencia habitual del primer divorciante\"\n",
      "\"escol_div1\" ---> \"Nivel de escolaridad del primer divorciante (escolaridad)\"\n",
      "\"con_acdiv1\" ---> \"Condición de actividad económica del primer divorciante\"\n",
      "\"dedic_div1\" ---> \"A qué se dedica el primer divorciante\"\n",
      "\"postr_div1\" ---> \"Posición en el trabajo del primer divorciante\"\n",
      "\"sexo_div1\" ---> \"Sexo del primer divorciante\"\n",
      "\"naci_div2\" ---> \"Nacionalidad del segundo divorciante\"\n",
      "\"edad_div2\" ---> \"Edad al divorcio del segundo divorciante\"\n",
      "\"nacim_div2\" ---> \"Año de nacimiento del segundo divorciante\"\n",
      "\"eciv_adiv2\" ---> \"Estado conyugal (civil) anterior del segundo divorciante\"\n",
      "\"ent_rhdiv2\" ---> \"Entidad de residencia habitual del segundo divorciante\"\n",
      "\"mun_rhdiv2\" ---> \"Municipio o alcaldía de residencia habitual del segundo divorciante\"\n",
      "\"loc_rhdiv2\" ---> \"Localidad de residencia habitual del segundo divorciante\"\n",
      "\"tloc_div2\" ---> \"Tamaño de localidad de residencia habitual del segundo divorciante\"\n",
      "\"escol_div2\" ---> \"Nivel de escolaridad del segundo divorciante (escolaridad)\"\n",
      "\"con_acdiv2\" ---> \"Condición de actividad económica del segundo divorciante\"\n",
      "\"dedic_div2\" ---> \"A qué se dedica el segundo divorciante\"\n",
      "\"postr_div2\" ---> \"Posición en el trabajo del segundo divorciante\"\n",
      "\"sexo_div2\" ---> \"Sexo del segundo divorciante\"\n",
      "\"dura_soc\" ---> \"Duración social del matrimonio\"\n",
      "\"dura_leg\" ---> \"Duración legal del matrimonio\"\n",
      "\"edad_mdiv1\" ---> \"Edad al matrimonio del primer divorciante\"\n",
      "\"edad_mdiv2\" ---> \"Edad al matrimonio del segundo divorciante\"\n",
      "\"t_dvante\" ---> \"Tipo de divorciante\"\n",
      "\"dis_reoax\" ---> \"Distritos de registro de Oaxaca\"\n",
      "None\n"
     ]
    }
   ],
   "source": [
    "print(diccionario_dataset.atajos(\"ver\"))"
   ]
  },
  {
   "cell_type": "code",
   "execution_count": 67,
   "metadata": {},
   "outputs": [
    {
     "name": "stdout",
     "output_type": "stream",
     "text": [
      "27\n"
     ]
    }
   ],
   "source": [
    "print(entidad_tab)"
   ]
  }
 ],
 "metadata": {
  "kernelspec": {
   "display_name": "env_divorcios_mx",
   "language": "python",
   "name": "python3"
  },
  "language_info": {
   "codemirror_mode": {
    "name": "ipython",
    "version": 3
   },
   "file_extension": ".py",
   "mimetype": "text/x-python",
   "name": "python",
   "nbconvert_exporter": "python",
   "pygments_lexer": "ipython3",
   "version": "3.12.1"
  }
 },
 "nbformat": 4,
 "nbformat_minor": 2
}
