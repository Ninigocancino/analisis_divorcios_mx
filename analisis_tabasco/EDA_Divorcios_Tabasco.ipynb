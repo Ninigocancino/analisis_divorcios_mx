{
 "cells": [
  {
   "cell_type": "markdown",
   "metadata": {},
   "source": [
    "# OBJETIVO DEL ANÁLISIS "
   ]
  },
  {
   "cell_type": "markdown",
   "metadata": {},
   "source": [
    "Este análisis tiene como principal objetivo proporcionar un primer acercamiento al fenomeno social de los divorcios en el Estado de Tabasco (México) a traves de la información estadistica proporcionada por las fuentes oficiales, en este caso el Instituto Nacional de EstadÍstica y Geografía (INEGI). Desde este enfoque este primer acercamiento al fenomeno servira para:\n",
    "\n",
    "1.- Conocer la data historica existente acerca del fenomeno de divorcios en esta Entidad.\n",
    "2.- Evitar la duplicidad de esfurzos para capturar la captura de los mismos datos.\n",
    "3.- Favorecer, en la medida de lo posible, la homologación de terminos, metricas y metodologías entre el ejercicio de recopilación de datos de las fuentes oficales con nuestra propia investigación.\n",
    "4.- Identificar dinamicas cuyo analisis más exhaustivo puedan aportar valor para el mejor entendimiento del fenomeno de divorcios.\n",
    "5.- Obtener datos de referencias que sirvan como antecedentes confiables para nuestra investigación."
   ]
  },
  {
   "cell_type": "markdown",
   "metadata": {},
   "source": [
    "# CONTEXTO"
   ]
  },
  {
   "cell_type": "markdown",
   "metadata": {},
   "source": [
    "En la mayoría de las culturas o sociedades la familia es considerada como una institución social fundamental y la base misma de la sociedad bajo el entendido que dicha estructura social cumple con diferentes funciones de vital importancia como lo son ; la reproducción y crianzas de individuos, el brindar apoyo emocional, físico y económico a los individuos, así como promover y faciltar la sociabilización y transmitir la cultura.\n",
    "\n",
    "Tradicionalmente al centro de está estructura se encuentra el matrimonio, otra institución social, pero tambien legal, que establece una unión formal y reconocida entre dos individuos generalmente con el propósito de establecer una familia.\n",
    "\n",
    "Por otra parte el divorcio es la acción que disuelve eL vínculo del matrimonio y deja a los cónyuges en aptitud de contraer otro.\n",
    "\n",
    "En las útimas decadas, los profundos cambios en las dinámicas sociales han dado como resultado un cambio importante en la configuración de las familias y en la durabilidad de la convivencia de las parejas legalmente establecidas, desarrollandose así la percepción de que el matrimonio no solo es menos frecuente sino que su duración es mucho menor de lo que solia ser y que las familias con más de un progenitor son mucho menos frecuentes que en antaño.\n",
    "\n",
    "Es un hecho aceptado que la diferencia entre la dinamica actual y la de hace algunas decadas, en cuanto a matrimonio y divorcio respecta, son considerablemente distintas y que a ojos de la opinión pública en general los matrimonios son menos frecuentes y los casos de divorcios más comunes, sin embargo, es necesario contar con una perspectiva más amplia sobre el tema que permita identificar si la relación entre matrimonios y divorcios es un fenomeno que puede llegar a tener impacto negativo en la sociedad o si bien dicha relación esta siendo sobreestimada y no representa un \"foco de alerta\" para el tejido social y las instituciones que deben velar por la sanidad de este. Surgen entoces cuestionamientos legitimos que bien valen la pena analizar como por ejemplo: \n",
    "\n",
    "* ¿Puede una tendencia de mayor numero de divorcios contribuir a una drastica caida de natalidad que comprometa o impacte negativamente en la taza poblacional futura? \n",
    "* ¿Puede impactar un mayor número de divorcios en la salud del tejido social? \n",
    "* A nivel individual ¿Representa un divorcio una situación de alto impacto para la salud emeocional o fisica de los ciudadanos?"
   ]
  },
  {
   "cell_type": "markdown",
   "metadata": {},
   "source": [
    "# PROBLEMATICA"
   ]
  },
  {
   "cell_type": "markdown",
   "metadata": {},
   "source": [
    "La mayoría de las personas es capaz de darse cuenta que se existe la posibilidad que se este sucitando un aumento en el número de divorcios en la sociedad del estado de Tabasco, esto en comparación a decadas anteriores, sin embrago este fenomeno, a ojos de esta mayoría, no pasa de ser un mero dato curioso que al final de cuentas tiene poca importania para ellos o que piensan que tiene poco o nulo impacto en sus vidas.\n",
    "\n",
    "Sin embargo, la realidad que se escapa en esta persepción generalizada, es que la disolución del matrimonio es un evento dificil y muchas veces traumaticos para cada integrante de la familia, y que a su vez puede convertirse en un disparador de acciones que impactan ya no solo en el bienestar familiar sino en el mismo bienestar de la sociedad, siendo una posibilidad, que los comportamiento individuales relacionados con la sanidad del matrimonio pueda contribuir a desencadenar dinamicas extremas que pueden tener grandes consecuencias para la comunidad.\n",
    "\n",
    "Tomando en cuenta lo anterior se desarrollará un Analisis exploratorio de datos que permita tener data limpia y fiable sobre el fenomeno de divorcios en México y que pueda servir de referencia y base para un estudio o analisis más especifico."
   ]
  },
  {
   "cell_type": "markdown",
   "metadata": {},
   "source": [
    "# ALCANCE DEL PROYECTO"
   ]
  },
  {
   "cell_type": "markdown",
   "metadata": {},
   "source": [
    "Territorialidad: El analisis se limitará a recopilar y preparar la data aplicable al territorio del Estado de Tabasco.\n",
    "\n",
    "Recopilación de datos: Para este EDA se usará la data en formato .CSV obtenida del la plataforma de datos del INEGI.\n",
    "\n",
    "No se contempla recopilación de datos in situs, ni raspado web para este proyecto.\n",
    "\n",
    "Entregables: El resultado final será una o más tablas que almacenen los datos relevantes para cada pregunta planteada en el proyecto, un informe general de los hallazgos para el caso de Tabasco (que deberá incluir los graficos necesarios), así como un apartado de observaciones como aspectos que escapan de la capacidad del analisis por razones como la falta de data necesaria.\n",
    "\n",
    "Otros: Los entregables de este proyecto deben poder ser usados como base en proyectos de data desing y en analisis más amplios o especificos en lo territorial o conceptual (como análisis del fenomeno de divorcios por municipio, comparativas con indicadores de otros Estados del país o en análisis de las causas y consecuencias relacionadas con dicho fenomeno )"
   ]
  },
  {
   "cell_type": "markdown",
   "metadata": {},
   "source": [
    "# HIPOTESIS Y PREGUNTAS A RESOLVER"
   ]
  },
  {
   "cell_type": "markdown",
   "metadata": {},
   "source": [
    "**Hipotesís:** Creemos que en México el número de divorcios se ha incrementado drastciamente en los últimos años y que esta es un fenomeno generalizado en el territorio nacional, por lo que indicadores a nivel Tabasco y sus municipios siguen una tendencia similar"
   ]
  },
  {
   "cell_type": "markdown",
   "metadata": {},
   "source": [
    "### Los datos del dataset deben ser utiles para resolver las siguientes preguntas:\n",
    "\n",
    "\n",
    "En Tabasco ¿Cuántos divorcios se registraron durante el último año de registro?\n",
    "\n",
    "En  Tabasco de los datos disponibles ¿cuál fue el año con mayor numero de divorcios? y de esa entidad ¿Cuál fue la municipalidad con mayor número de divorcios?\n",
    "\n",
    "¿Cuál es el número de divorcios en Tabasco en los años que comprenden nuestros datasets?\n",
    "\n",
    "Según los datos disponibles ¿En que año se registrarón más demandas de divorcios?\n",
    "\n",
    "¿Quién registra el mayor número de demandas de divorcios, los hombres o las mujeres?\n",
    "\n",
    "¿Qué población (condición biológica) obtiene el mayor número de sentencias favorables?\n",
    "\n",
    "¿Cuál es el universo de personas menores de edad que son impactadas por los divorcios?\n",
    "\n",
    "En Tabasco ¿Cuál es el promedio de hijos en los matrimonios que se separan?\n",
    "\n",
    "Dentro de los matrimonios hetero parentales ¿Cuál es la condición biológica que agrupa el mayor número de asignación de patria potestad tras el divorcio?\n",
    "\n",
    "Dentro de los matrimonios hetero parentales ¿Cuál es la condición biológica que agrupa el mayor número de asignaciones de pensiones alimenticia (donde el divorciante es el beneficiario)tras el divorcio?\n",
    "\n",
    "¿Cuántos años duran los matrimonios en Tabasco?\n",
    "\n",
    "¿Qué escolaridad tiene los divorciantes en Tabasco(hombres y mujeres)?\n",
    "\n",
    "¿A qué se dedican las personas que se divorcian?\n",
    "\n",
    "¿Cuáles son las principales causas de divorcios?"
   ]
  },
  {
   "cell_type": "markdown",
   "metadata": {},
   "source": [
    "# UTILIDADES"
   ]
  },
  {
   "cell_type": "markdown",
   "metadata": {},
   "source": [
    "# IMPORTACIÓN DE RECURSOS "
   ]
  },
  {
   "cell_type": "code",
   "execution_count": 4,
   "metadata": {},
   "outputs": [],
   "source": [
    "# Librerías para interactuar con el sistema operativo y el entorno en el que se ejecuta el script de Python\n",
    "\n",
    "import sys\n",
    "import os\n"
   ]
  },
  {
   "cell_type": "code",
   "execution_count": 6,
   "metadata": {},
   "outputs": [
    {
     "ename": "ModuleNotFoundError",
     "evalue": "No module named 'scipy'",
     "output_type": "error",
     "traceback": [
      "\u001b[1;31m---------------------------------------------------------------------------\u001b[0m",
      "\u001b[1;31mModuleNotFoundError\u001b[0m                       Traceback (most recent call last)",
      "Cell \u001b[1;32mIn[6], line 3\u001b[0m\n\u001b[0;32m      1\u001b[0m \u001b[38;5;28;01mimport\u001b[39;00m \u001b[38;5;21;01mpandas\u001b[39;00m \u001b[38;5;28;01mas\u001b[39;00m \u001b[38;5;21;01mpd\u001b[39;00m\n\u001b[0;32m      2\u001b[0m \u001b[38;5;28;01mimport\u001b[39;00m \u001b[38;5;21;01mnumpy\u001b[39;00m \u001b[38;5;28;01mas\u001b[39;00m \u001b[38;5;21;01mnp\u001b[39;00m\n\u001b[1;32m----> 3\u001b[0m \u001b[38;5;28;01mimport\u001b[39;00m \u001b[38;5;21;01mscipy\u001b[39;00m\n",
      "\u001b[1;31mModuleNotFoundError\u001b[0m: No module named 'scipy'"
     ]
    }
   ],
   "source": [
    "# Librería para la manipulación de datos, cálculos numéricos y análisis científico\n",
    "\n",
    "import pandas as pd\n",
    "import numpy as np\n",
    "import scipy"
   ]
  },
  {
   "cell_type": "code",
   "execution_count": null,
   "metadata": {},
   "outputs": [],
   "source": [
    "# Librerías para el uso de gráficos estadísticos \n",
    "\n",
    "import seaborn as sns\n",
    "import matplotlib.pyplot as plt"
   ]
  },
  {
   "cell_type": "code",
   "execution_count": 13,
   "metadata": {},
   "outputs": [],
   "source": [
    "# Se añade el directorio utilidades a la lista de directorios o path para poder ser usado en el notebook con una instrucción 'import'\n",
    "\n",
    "sys.path.append(os.path.abspath('../utilidades'))\n"
   ]
  },
  {
   "cell_type": "code",
   "execution_count": 21,
   "metadata": {},
   "outputs": [],
   "source": [
    "# Módulo creado para consultar de forma más répida información del proyecto como el significado de los nombres de las columnas\n",
    "import diccionario_dataset\n"
   ]
  },
  {
   "cell_type": "markdown",
   "metadata": {},
   "source": [
    "# ADQUISICIÓN DE DATOS "
   ]
  },
  {
   "cell_type": "code",
   "execution_count": 22,
   "metadata": {},
   "outputs": [
    {
     "name": "stdout",
     "output_type": "stream",
     "text": [
      "Estos son los terminos usandos en el data set\n",
      "\"tipo_divorcio\" ---> \"Tipo de divorcios comtemplados en México\"\n",
      "\"ent_regis\" ---> \"Entidad donde se inicio el tramite de divorcioMunicipio o alacaldía de registro\"\n",
      "\"mun_regist\" ---> \"Localidad de registro\"\n",
      "\"loc_regis\" ---> \"Tamaño de localidad de registro\"\n",
      "\"tloc_regis\" ---> \"Entidad de registro del matrimonio\"\n",
      "\"ent_mat\" ---> \"Municipio o alcaldía de registro del matrimonio\"\n",
      "\"mun_mat\" ---> \"Localidad de registro del matrimonio\"\n",
      "\"local_mat\" ---> \"Tamaño de localidad de registro del matrimonio\"\n",
      "\"tloc_mat\" ---> \"Día de registro del matrimonio\"\n",
      "\"dia_mat\" ---> \"Mes de registro del matrimonio\"\n",
      "\"mes_mat\" ---> \"Año de registro del matrimonio\"\n",
      "\"anio_mat\" ---> \"Día de registro de la demanda\"\n",
      "\"dia_reg\" ---> \"Mes de registro de la demanda\"\n",
      "\"mes_reg\" ---> \"Año de registro de la demanda\"\n",
      "\"anio_reg\" ---> \"Día de la sentencia\"\n",
      "\"dia_sen\" ---> \"Mes de la sentencia\"\n",
      "\"mes_sen\" ---> \"Año de la sentencia\"\n",
      "\"anio_sen\" ---> \"Día de ejecutoria del divorcio\"\n",
      "\"dia_eje\" ---> \"Mes de ejecutoria del divorcio\"\n",
      "\"mes_eje\" ---> \"Año de ejecutoria del divorcio\"\n",
      "\"anio_eje\" ---> \"Persona que inicio el juicio\"\n",
      "\"ini_juic\" ---> \"A favor de quien se resolvió el juicio\"\n",
      "\"favor\" ---> \"Causas de divorcio\"\n",
      "\"caus\" ---> \"Número de hijos en el matrimonio\"\n",
      "\"hijos\" ---> \"Número de hijos menores de edad\"\n",
      "\"hijos_men\" ---> \"Persona a quien se otorga la custodia\"\n",
      "\"custodia\" ---> \"Número de hijos en custodia\"\n",
      "\"cus_hij\" ---> \"Persona a quien se le asigna la patria potestad\"\n",
      "\"pat_pot\" ---> \"Número de hijos en patria potestad\"\n",
      "\"pat_hij\" ---> \"Personas a quien se le asigna la pensión alimenticia\"\n",
      "\"pension\" ---> \"Número de hijos a quienes se les asigna la pensión alimenticia\"\n",
      "\"pen_hij\" ---> \"Nacionalidad del primer divorciante\"\n",
      "\"naci_div1\" ---> \"Edad al divorcio del primer divorciante\"\n",
      "\"edad_div1\" ---> \"Año de nacimiento del primer divorciante\"\n",
      "\"nacim_div1\" ---> \"Estado conyugal (civil) anterior del primer divorciante\"\n",
      "\"eciv_adiv1\" ---> \"Entidad de residencia habitual del primer divorciante\"\n",
      "\"ent_rhdiv1\" ---> \"Municipio o alcaldía de residencia habitual del primer divorciante\"\n",
      "\"mun_rhdiv1\" ---> \"Localidad de residencia habitual del primer divorciante\"\n",
      "\"loc_rhdiv1\" ---> \"Tamaño de localidad de residencia habitual del primer divorciante\"\n",
      "\"tloc_div1\" ---> \"Nivel de escolaridad del primer divorciante (escolaridad)\"\n",
      "\"escol_div1\" ---> \"Condición de actividad económica del primer divorciante\"\n",
      "\"con_acdiv1\" ---> \"A qué se dedica el primer divorciante\"\n",
      "\"dedic_div1\" ---> \"Posición en el trabajo del primer divorciante\"\n",
      "\"postr_div1\" ---> \"Sexo del primer divorciante\"\n",
      "\"sexo_div1\" ---> \"Nacionalidad del segundo divorciante\"\n",
      "\"naci_div2\" ---> \"Edad al divorcio del segundo divorciante\"\n",
      "\"edad_div2\" ---> \"Año de nacimiento del segundo divorciante\"\n",
      "\"nacim_div2\" ---> \"Estado conyugal (civil) anterior del segundo divorciante\"\n",
      "\"eciv_adiv2\" ---> \"Entidad de residencia habitual del segundo divorciante\"\n",
      "\"ent_rhdiv2\" ---> \"Municipio o alcaldía de residencia habitual del segundo divorciante\"\n",
      "\"mun_rhdiv2\" ---> \"Localidad de residencia habitual del segundo divorciante\"\n",
      "\"loc_rhdiv2\" ---> \"Tamaño de localidad de residencia habitual del segundo divorciante\"\n",
      "\"tloc_div2\" ---> \"Nivel de escolaridad del segundo divorciante (escolaridad)\"\n",
      "\"escol_div2\" ---> \"Condición de actividad económica del segundo divorciante\"\n",
      "\"con_acdiv2\" ---> \"A qué se dedica el segundo divorciante\"\n",
      "\"dedic_div2\" ---> \"Posición en el trabajo del segundo divorciante\"\n",
      "\"postr_div2\" ---> \"Sexo del segundo divorciante\"\n",
      "\"sexo_div2\" ---> \"Duración social del matrimonio\"\n",
      "\"dura_soc\" ---> \"Duración legal del matrimonio\"\n",
      "\"dura_leg\" ---> \"Edad al matrimonio del primer divorciante\"\n",
      "\"edad_mdiv1\" ---> \"Edad al matrimonio del segundo divorciante\"\n",
      "\"edad_mdiv2\" ---> \"Tipo de divorciante\"\n",
      "\"t_dvante\" ---> \"Distritos de registro de Oaxaca\"\n"
     ]
    }
   ],
   "source": [
    "diccionario_dataset.atajos(\"ver\")"
   ]
  },
  {
   "cell_type": "code",
   "execution_count": 20,
   "metadata": {},
   "outputs": [
    {
     "name": "stdout",
     "output_type": "stream",
     "text": [
      "\n",
      "Guarda la entidad donde se realizó el regirto del metrimonio. \n",
      " \n",
      " Se designan claves del '01' al '32' para identificar las entidades federativas (Estados),\n",
      " la clave '33' para aquellos divorcios (de matrimonios realizados en territorio mexicano)\n",
      " realizados en los Estados Unidos de América, \n",
      " la calve '34' para aquellos divorcios (de matrimonios realizados en territorio mexicano)\n",
      " realizados en los otros paises de Latiniamérica, la clave '35' para aquellos divorcios \n",
      " (de matrimonios realizados en territorio mexicano) realizados en cualquier \n",
      " otro país que no forme parte de las anteriores consideraciones.\n",
      " \n",
      " Recibe valores de **tipo C**, es decir categóricos\n"
     ]
    }
   ],
   "source": [
    "print(diccionario_dataset.info_features(\"ent_mat\"))"
   ]
  }
 ],
 "metadata": {
  "kernelspec": {
   "display_name": "env_divorcios_mx",
   "language": "python",
   "name": "python3"
  },
  "language_info": {
   "codemirror_mode": {
    "name": "ipython",
    "version": 3
   },
   "file_extension": ".py",
   "mimetype": "text/x-python",
   "name": "python",
   "nbconvert_exporter": "python",
   "pygments_lexer": "ipython3",
   "version": "3.12.1"
  }
 },
 "nbformat": 4,
 "nbformat_minor": 2
}
