{
 "cells": [
  {
   "cell_type": "markdown",
   "metadata": {},
   "source": [
    "# OBJETIVO DEL ANÁLISIS "
   ]
  },
  {
   "cell_type": "markdown",
   "metadata": {},
   "source": [
    "Este análisis tiene como principal objetivo proporcionar un primer acercamiento al fenomeno social de los divorcios en el Estado de Tabasco (México) a traves de la información estadistica proporcionada por las fuentes oficiales, en este caso el Instituto Nacional de EstadÍstica y Geografía (INEGI). Desde este enfoque este primer acercamiento al fenomeno servira para:\n",
    "\n",
    "1.- Conocer la data historica existente acerca del fenomeno de divorcios en esta Entidad.\n",
    "2.- Evitar la duplicidad de esfurzos para capturar la captura de los mismos datos.\n",
    "3.- Favorecer, en la medida de lo posible, la homologación de terminos, metricas y metodologías entre el ejercicio de recopilación de datos de las fuentes oficales con nuestra propia investigación.\n",
    "4.- Identificar dinamicas cuyo analisis más exhaustivo puedan aportar valor para el mejor entendimiento del fenomeno de divorcios.\n",
    "5.- Obtener datos de referencias que sirvan como antecedentes confiables para nuestra investigación."
   ]
  },
  {
   "cell_type": "markdown",
   "metadata": {},
   "source": [
    "# CONTEXTO"
   ]
  },
  {
   "cell_type": "markdown",
   "metadata": {},
   "source": [
    "En la mayoría de las culturas o sociedades la familia es considerada como una institución social fundamental y la base misma de la sociedad bajo el entendido que dicha estructura social cumple con diferentes funciones de vital importancia como lo son ; la reproducción y crianzas de individuos, el brindar apoyo emocional, físico y económico a los individuos, así como promover y faciltar la sociabilización y transmitir la cultura.\n",
    "\n",
    "Tradicionalmente al centro de está estructura se encuentra el matrimonio, otra institución social, pero tambien legal, que establece una unión formal y reconocida entre dos individuos generalmente con el propósito de establecer una familia.\n",
    "\n",
    "Por otra parte el divorcio es la acción que disuelve eL vínculo del matrimonio y deja a los cónyuges en aptitud de contraer otro.\n",
    "\n",
    "En las útimas decadas, los profundos cambios en las dinámicas sociales han dado como resultado un cambio importante en la configuración de las familias y en la durabilidad de la convivencia de las parejas legalmente establecidas, desarrollandose así la percepción de que el matrimonio no solo es menos frecuente sino que su duración es mucho menor de lo que solia ser y que las familias con más de un progenitor son mucho menos frecuentes que en antaño.\n",
    "\n",
    "Es un hecho aceptado que la diferencia entre la dinamica actual y la de hace algunas decadas, en cuanto a matrimonio y divorcio respecta, son considerablemente distintas y que a ojos de la opinión pública en general los matrimonios son menos frecuentes y los casos de divorcios más comunes, sin embargo, es necesario contar con una perspectiva más amplia sobre el tema que permita identificar si la relación entre matrimonios y divorcios es un fenomeno que puede llegar a tener impacto negativo en la sociedad o si bien dicha relación esta siendo sobreestimada y no representa un \"foco de alerta\" para el tejido social y las instituciones que deben velar por la sanidad de este. Surgen entoces cuestionamientos legitimos que bien valen la pena analizar como por ejemplo: \n",
    "\n",
    "* ¿Puede una tendencia de mayor numero de divorcios contribuir a una drastica caida de natalidad que comprometa o impacte negativamente en la taza poblacional futura? \n",
    "* ¿Puede impactar un mayor número de divorcios en la salud del tejido social? \n",
    "* A nivel individual ¿Representa un divorcio una situación de alto impacto para la salud emeocional o fisica de los ciudadanos?"
   ]
  },
  {
   "cell_type": "markdown",
   "metadata": {},
   "source": [
    "# LIBRERIAS"
   ]
  },
  {
   "cell_type": "code",
   "execution_count": 12,
   "metadata": {},
   "outputs": [],
   "source": [
    "import sys\n",
    "import os"
   ]
  },
  {
   "cell_type": "code",
   "execution_count": 13,
   "metadata": {},
   "outputs": [],
   "source": [
    "sys.path.append(os.path.abspath('../utilidades'))\n"
   ]
  },
  {
   "cell_type": "code",
   "execution_count": 21,
   "metadata": {},
   "outputs": [],
   "source": [
    "import diccionario_dataset\n"
   ]
  },
  {
   "cell_type": "code",
   "execution_count": 22,
   "metadata": {},
   "outputs": [
    {
     "name": "stdout",
     "output_type": "stream",
     "text": [
      "Estos son los terminos usandos en el data set\n",
      "\"tipo_divorcio\" ---> \"Tipo de divorcios comtemplados en México\"\n",
      "\"ent_regis\" ---> \"Entidad donde se inicio el tramite de divorcioMunicipio o alacaldía de registro\"\n",
      "\"mun_regist\" ---> \"Localidad de registro\"\n",
      "\"loc_regis\" ---> \"Tamaño de localidad de registro\"\n",
      "\"tloc_regis\" ---> \"Entidad de registro del matrimonio\"\n",
      "\"ent_mat\" ---> \"Municipio o alcaldía de registro del matrimonio\"\n",
      "\"mun_mat\" ---> \"Localidad de registro del matrimonio\"\n",
      "\"local_mat\" ---> \"Tamaño de localidad de registro del matrimonio\"\n",
      "\"tloc_mat\" ---> \"Día de registro del matrimonio\"\n",
      "\"dia_mat\" ---> \"Mes de registro del matrimonio\"\n",
      "\"mes_mat\" ---> \"Año de registro del matrimonio\"\n",
      "\"anio_mat\" ---> \"Día de registro de la demanda\"\n",
      "\"dia_reg\" ---> \"Mes de registro de la demanda\"\n",
      "\"mes_reg\" ---> \"Año de registro de la demanda\"\n",
      "\"anio_reg\" ---> \"Día de la sentencia\"\n",
      "\"dia_sen\" ---> \"Mes de la sentencia\"\n",
      "\"mes_sen\" ---> \"Año de la sentencia\"\n",
      "\"anio_sen\" ---> \"Día de ejecutoria del divorcio\"\n",
      "\"dia_eje\" ---> \"Mes de ejecutoria del divorcio\"\n",
      "\"mes_eje\" ---> \"Año de ejecutoria del divorcio\"\n",
      "\"anio_eje\" ---> \"Persona que inicio el juicio\"\n",
      "\"ini_juic\" ---> \"A favor de quien se resolvió el juicio\"\n",
      "\"favor\" ---> \"Causas de divorcio\"\n",
      "\"caus\" ---> \"Número de hijos en el matrimonio\"\n",
      "\"hijos\" ---> \"Número de hijos menores de edad\"\n",
      "\"hijos_men\" ---> \"Persona a quien se otorga la custodia\"\n",
      "\"custodia\" ---> \"Número de hijos en custodia\"\n",
      "\"cus_hij\" ---> \"Persona a quien se le asigna la patria potestad\"\n",
      "\"pat_pot\" ---> \"Número de hijos en patria potestad\"\n",
      "\"pat_hij\" ---> \"Personas a quien se le asigna la pensión alimenticia\"\n",
      "\"pension\" ---> \"Número de hijos a quienes se les asigna la pensión alimenticia\"\n",
      "\"pen_hij\" ---> \"Nacionalidad del primer divorciante\"\n",
      "\"naci_div1\" ---> \"Edad al divorcio del primer divorciante\"\n",
      "\"edad_div1\" ---> \"Año de nacimiento del primer divorciante\"\n",
      "\"nacim_div1\" ---> \"Estado conyugal (civil) anterior del primer divorciante\"\n",
      "\"eciv_adiv1\" ---> \"Entidad de residencia habitual del primer divorciante\"\n",
      "\"ent_rhdiv1\" ---> \"Municipio o alcaldía de residencia habitual del primer divorciante\"\n",
      "\"mun_rhdiv1\" ---> \"Localidad de residencia habitual del primer divorciante\"\n",
      "\"loc_rhdiv1\" ---> \"Tamaño de localidad de residencia habitual del primer divorciante\"\n",
      "\"tloc_div1\" ---> \"Nivel de escolaridad del primer divorciante (escolaridad)\"\n",
      "\"escol_div1\" ---> \"Condición de actividad económica del primer divorciante\"\n",
      "\"con_acdiv1\" ---> \"A qué se dedica el primer divorciante\"\n",
      "\"dedic_div1\" ---> \"Posición en el trabajo del primer divorciante\"\n",
      "\"postr_div1\" ---> \"Sexo del primer divorciante\"\n",
      "\"sexo_div1\" ---> \"Nacionalidad del segundo divorciante\"\n",
      "\"naci_div2\" ---> \"Edad al divorcio del segundo divorciante\"\n",
      "\"edad_div2\" ---> \"Año de nacimiento del segundo divorciante\"\n",
      "\"nacim_div2\" ---> \"Estado conyugal (civil) anterior del segundo divorciante\"\n",
      "\"eciv_adiv2\" ---> \"Entidad de residencia habitual del segundo divorciante\"\n",
      "\"ent_rhdiv2\" ---> \"Municipio o alcaldía de residencia habitual del segundo divorciante\"\n",
      "\"mun_rhdiv2\" ---> \"Localidad de residencia habitual del segundo divorciante\"\n",
      "\"loc_rhdiv2\" ---> \"Tamaño de localidad de residencia habitual del segundo divorciante\"\n",
      "\"tloc_div2\" ---> \"Nivel de escolaridad del segundo divorciante (escolaridad)\"\n",
      "\"escol_div2\" ---> \"Condición de actividad económica del segundo divorciante\"\n",
      "\"con_acdiv2\" ---> \"A qué se dedica el segundo divorciante\"\n",
      "\"dedic_div2\" ---> \"Posición en el trabajo del segundo divorciante\"\n",
      "\"postr_div2\" ---> \"Sexo del segundo divorciante\"\n",
      "\"sexo_div2\" ---> \"Duración social del matrimonio\"\n",
      "\"dura_soc\" ---> \"Duración legal del matrimonio\"\n",
      "\"dura_leg\" ---> \"Edad al matrimonio del primer divorciante\"\n",
      "\"edad_mdiv1\" ---> \"Edad al matrimonio del segundo divorciante\"\n",
      "\"edad_mdiv2\" ---> \"Tipo de divorciante\"\n",
      "\"t_dvante\" ---> \"Distritos de registro de Oaxaca\"\n"
     ]
    }
   ],
   "source": [
    "diccionario_dataset.atajos(\"ver\")"
   ]
  },
  {
   "cell_type": "code",
   "execution_count": 20,
   "metadata": {},
   "outputs": [
    {
     "name": "stdout",
     "output_type": "stream",
     "text": [
      "\n",
      "Guarda la entidad donde se realizó el regirto del metrimonio. \n",
      " \n",
      " Se designan claves del '01' al '32' para identificar las entidades federativas (Estados),\n",
      " la clave '33' para aquellos divorcios (de matrimonios realizados en territorio mexicano)\n",
      " realizados en los Estados Unidos de América, \n",
      " la calve '34' para aquellos divorcios (de matrimonios realizados en territorio mexicano)\n",
      " realizados en los otros paises de Latiniamérica, la clave '35' para aquellos divorcios \n",
      " (de matrimonios realizados en territorio mexicano) realizados en cualquier \n",
      " otro país que no forme parte de las anteriores consideraciones.\n",
      " \n",
      " Recibe valores de **tipo C**, es decir categóricos\n"
     ]
    }
   ],
   "source": [
    "print(diccionario_dataset.info_features(\"ent_mat\"))"
   ]
  },
  {
   "cell_type": "markdown",
   "metadata": {},
   "source": [
    "**UTILIDADES**"
   ]
  },
  {
   "cell_type": "markdown",
   "metadata": {},
   "source": []
  }
 ],
 "metadata": {
  "kernelspec": {
   "display_name": "env_divorcios_mx",
   "language": "python",
   "name": "python3"
  },
  "language_info": {
   "codemirror_mode": {
    "name": "ipython",
    "version": 3
   },
   "file_extension": ".py",
   "mimetype": "text/x-python",
   "name": "python",
   "nbconvert_exporter": "python",
   "pygments_lexer": "ipython3",
   "version": "3.12.1"
  }
 },
 "nbformat": 4,
 "nbformat_minor": 2
}
