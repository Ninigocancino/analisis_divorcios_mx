{
 "cells": [
  {
   "cell_type": "code",
   "execution_count": 20,
   "metadata": {},
   "outputs": [],
   "source": [
    "import sys\n",
    "import os"
   ]
  },
  {
   "cell_type": "code",
   "execution_count": 21,
   "metadata": {},
   "outputs": [],
   "source": [
    "sys.path.append(os.path.abspath('../utilidades'))\n"
   ]
  },
  {
   "cell_type": "code",
   "execution_count": 22,
   "metadata": {},
   "outputs": [],
   "source": [
    "import lista_atajos"
   ]
  },
  {
   "cell_type": "code",
   "execution_count": 24,
   "metadata": {},
   "outputs": [
    {
     "name": "stdout",
     "output_type": "stream",
     "text": [
      "tipo_divorcio ent_regis mun_regist loc_regis tloc_regis ent_mat mun_mat local_mat tloc_mat dia_mat mes_mat anio_mat dia_reg mes_reg anio_reg dia_sen mes_sen anio_sen dia_eje mes_eje anio_eje ini_juic favor caus hijos hijos_men custodia cus_hij pat_pot pat_hij pension pen_hij naci_div1 edad_div1 nacim_div1 eciv_adiv1 ent_rhdiv1 mun_rhdiv1 loc_rhdiv1 tloc_div1 escol_div1 con_acdiv1 dedic_div1 postr_div1 sexo_div1 naci_div2 edad_div2 nacim_div2 eciv_adiv2 ent_rhdiv2 mun_rhdiv2 loc_rhdiv2 tloc_div2 escol_div2 con_acdiv2 dedic_div2 postr_div2 sexo_div2 dura_soc dura_leg edad_mdiv1 edad_mdiv2 t_dvante dis_reoax\n"
     ]
    }
   ],
   "source": [
    "import atajos"
   ]
  },
  {
   "cell_type": "code",
   "execution_count": 26,
   "metadata": {},
   "outputs": [],
   "source": [
    "import diccionario_dataset"
   ]
  },
  {
   "cell_type": "code",
   "execution_count": 27,
   "metadata": {},
   "outputs": [
    {
     "name": "stdout",
     "output_type": "stream",
     "text": [
      "Estos son los terminos usandos en el data set\n",
      "tipo_divorcio\n",
      "ent_regis\n",
      "mun_regist\n",
      "loc_regis\n",
      "tloc_regis\n",
      "ent_mat\n",
      "mun_mat\n",
      "local_mat\n",
      "tloc_mat\n",
      "dia_mat\n",
      "mes_mat\n",
      "anio_mat\n",
      "dia_reg\n",
      "mes_reg\n",
      "anio_reg\n",
      "dia_sen\n",
      "mes_sen\n",
      "anio_sen\n",
      "dia_eje\n",
      "mes_eje\n",
      "anio_eje\n",
      "ini_juic\n",
      "favor\n",
      "caus\n",
      "hijos\n",
      "hijos_men\n",
      "custodia\n",
      "cus_hij\n",
      "pat_pot\n",
      "pat_hij\n",
      "pension\n",
      "pen_hij\n",
      "naci_div1\n",
      "edad_div1\n",
      "nacim_div1\n",
      "eciv_adiv1\n",
      "ent_rhdiv1\n",
      "mun_rhdiv1\n",
      "loc_rhdiv1\n",
      "tloc_div1\n",
      "escol_div1\n",
      "con_acdiv1\n",
      "dedic_div1\n",
      "postr_div1\n",
      "sexo_div1\n",
      "naci_div2\n",
      "edad_div2\n",
      "nacim_div2\n",
      "eciv_adiv2\n",
      "ent_rhdiv2\n",
      "mun_rhdiv2\n",
      "loc_rhdiv2\n",
      "tloc_div2\n",
      "escol_div2\n",
      "con_acdiv2\n",
      "dedic_div2\n",
      "postr_div2\n",
      "sexo_div2\n",
      "dura_soc\n",
      "dura_leg\n",
      "edad_mdiv1\n",
      "edad_mdiv2\n",
      "t_dvante\n",
      "dis_reoax\n"
     ]
    }
   ],
   "source": [
    "diccionario_dataset.atajos(\"ver\")"
   ]
  },
  {
   "cell_type": "code",
   "execution_count": 23,
   "metadata": {},
   "outputs": [
    {
     "name": "stdout",
     "output_type": "stream",
     "text": [
      "['Hola', 'mundo']\n"
     ]
    }
   ],
   "source": [
    "lista_atajos.hola_mundo(\"imprimir\")"
   ]
  }
 ],
 "metadata": {
  "kernelspec": {
   "display_name": "env_divorcios_mx",
   "language": "python",
   "name": "python3"
  },
  "language_info": {
   "codemirror_mode": {
    "name": "ipython",
    "version": 3
   },
   "file_extension": ".py",
   "mimetype": "text/x-python",
   "name": "python",
   "nbconvert_exporter": "python",
   "pygments_lexer": "ipython3",
   "version": "3.12.1"
  }
 },
 "nbformat": 4,
 "nbformat_minor": 2
}
