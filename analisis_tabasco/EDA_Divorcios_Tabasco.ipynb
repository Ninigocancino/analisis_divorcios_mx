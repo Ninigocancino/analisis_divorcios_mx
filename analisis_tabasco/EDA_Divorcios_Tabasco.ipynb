{
 "cells": [
  {
   "cell_type": "markdown",
   "metadata": {},
   "source": [
    "# DOCUMENTACIÓN"
   ]
  },
  {
   "cell_type": "markdown",
   "metadata": {},
   "source": [
    "\n",
    "Aquí encontrarás las definiciones e información sobre el uso de funciones, modúlo u otras herramientas creadas para faciltar el trabajo de análisis en el proyecto"
   ]
  },
  {
   "cell_type": "markdown",
   "metadata": {},
   "source": [
    "**diccionario_dataset**\n",
    "\n",
    "Es un módulo creado dentro del área global del repositorio con la finalidad de guardar funciones que pueden ser usadas en los notebooks para consultar información de soporte"
   ]
  },
  {
   "cell_type": "markdown",
   "metadata": {},
   "source": [
    "*diccionario_dataset.atajos(\"ver\")*\n",
    "\n",
    "Esta sentencia imprime la abreviación que se usa en los datasets 'datos...'  y muestra el nombre completo de las columnas al que hacen referencia las abreviaturas de las columnas de los datasets.\n",
    "\n",
    "Se recomeinda usarla cuando se necesite conocer cuál es el significado de las cabeceras de las columnas "
   ]
  },
  {
   "cell_type": "markdown",
   "metadata": {},
   "source": [
    "*print(diccionario_dataset.info_features(\"  \"))*\n",
    "\n",
    "Esta sentencia imprime la información necesaria para enteder cada feature de los datset 'datos...' desde a que hace referencia, como a los valores asignados por el INEGI y su significado.\n",
    "\n",
    "Esta sentencia usa como parametro los nombres de las columnas del dataset. Para que la sentencia llame la información asociada a cada nombre de columna o feature se debe ingresar el nombre de dicha columna en los parentesis 'internos' y entre comillas simples o dobles.\n",
    "\n",
    "Se envuelve la sentencia en la función \"print()\" para facilitar la visualizzación de la información y que esta sea presentada en formato parrafo. La sentencia funciona aún si esta no se envuelve en la función 'print'."
   ]
  },
  {
   "cell_type": "markdown",
   "metadata": {},
   "source": [
    "**diccionario_variables**\n",
    "\n",
    "Es una utilidad creada para proporcionar información de las variables creadas en el notebook "
   ]
  },
  {
   "cell_type": "markdown",
   "metadata": {},
   "source": [
    "*print(diccionario_variables(\" \"))*\n",
    "\n",
    "Esta sentencia imprime la información necesaria sobre las variables usadas en el notebook\n",
    "\n",
    "La sentencia usa como parametros los nombres de las variables que se registran en la función 'diccionario_variables' y que corresponden a las usadas en el notebook. Para que la sentencia llame la información asociada a cada variable del notebook la variable debe existir en el diccionario de la función y se debe ingresar el nombre de dicha variable en los parentesis 'internos' de la sentencia y entre comillas simples o dobles.\n",
    "\n",
    "Se envuelve la sentencia en la función \"print()\" para facilitar la visualizzación de la información y que esta sea presentada en formato parrafo. La sentencia funciona aún si esta no se envuelve en la función 'print', por ejemplo:\n",
    "\n",
    "print(diccionario_variables(\"ruta_data\"))"
   ]
  },
  {
   "cell_type": "markdown",
   "metadata": {},
   "source": [
    "# UTILIDADES"
   ]
  },
  {
   "cell_type": "code",
   "execution_count": 4,
   "metadata": {},
   "outputs": [],
   "source": [
    "def diccionario_variables(a):\n",
    "\n",
    "    #Función que imprime información sobre las variables que se usan en el notebook\n",
    "\n",
    "    variable = {\n",
    "\n",
    "        # Variables de rutas para acceder a la data\n",
    "\n",
    "        'ruta_data' : 'Significado: Ruta al directorio de datos \\nDescripción: Guarda la ruta del directorio donde se encuentra la data',\n",
    "        'file_path_2018' : 'Significado: Ruta al archivo de datos del año 2018 \\nDescripción: Guarda la ruta especifica del archivo en formato .csv que contiene los datos de interes para el año 2018',\n",
    "        'file_path_2019' : 'Significado: Ruta al archivo de datos del año 2019 \\nDescripción: Guarda la ruta especifica del archivo en formato .csv que contiene los datos de interes para el año 2019',\n",
    "        'file_path_2020' : 'Significado: Ruta al archivo de datos del año 2020 \\nDescripción: Guarda la ruta especifica del archivo en formato .csv que contiene los datos de interes para el año 2020',\n",
    "        'file_path_2021' : 'Significado: Ruta al archivo de datos del año 2021 \\nDescripción: Guarda la ruta especifica del archivo en formato .csv que contiene los datos de interes para el año 2021',\n",
    "        'file_path_2022' : 'Significado: Ruta al archivo de datos del año 2022 \\nDescripción: Guarda la ruta especifica del archivo en formato .csv que contiene los datos de interes para el año 2022',\n",
    "\n",
    "        # Dataframes\n",
    "\n",
    "        'df_divorcios_2018' : 'Significado: Data Frame de divorcios correspondientes al 2018 \\nDescripción: Guarda la conversión del archivo conjunto_de_datos_2018.csv en un Pandas Data Frame',\n",
    "        'df_divorcios_2019' : 'Significado: Data Frame de divorcios correspondientes al 2019 \\nDescripción: Guarda la conversión del archivo conjunto_de_datos_2019.csv en un Pandas Data Frame',\n",
    "        'df_divorcios_2020' : 'Significado: Data Frame de divorcios correspondientes al 2020 \\nDescripción: Guarda la conversión del archivo conjunto_de_datos_2020.csv en un Pandas Data Frame',\n",
    "        'df_divorcios_2021' : 'Significado: Data Frame de divorcios correspondientes al 2021 \\nDescripción: Guarda la conversión del archivo conjunto_de_datos_2021.csv en un Pandas Data Frame',\n",
    "        'df_divorcios_2022' : 'Significado: Data Frame de divorcios correspondientes al 2022 \\nDescripción: Guarda la conversión del archivo conjunto_de_datos_2022.csv en un Pandas Data Frame',\n",
    "    }\n",
    "\n",
    "    if a in variable:\n",
    "        print(f\"Información de la variable {a}\")\n",
    "\n",
    "        return(variable[a])\n",
    "    else: \n",
    "        print(f\"La variable {a} no se encuentra registrada\")\n",
    "    \n",
    "    diccionario_variables(\"ruta_data\")"
   ]
  },
  {
   "cell_type": "markdown",
   "metadata": {},
   "source": [
    "# IMPORTACIÓN DE RECURSOS "
   ]
  },
  {
   "cell_type": "code",
   "execution_count": 5,
   "metadata": {},
   "outputs": [],
   "source": [
    "# Librerías para interactuar con el sistema operativo y el entorno en el que se ejecuta el script de Python\n",
    "\n",
    "import sys\n",
    "import os\n"
   ]
  },
  {
   "cell_type": "code",
   "execution_count": 6,
   "metadata": {},
   "outputs": [],
   "source": [
    "# Librería para la manipulación de datos, cálculos numéricos y análisis científico\n",
    "\n",
    "import pandas as pd\n",
    "import numpy as np\n",
    "import scipy"
   ]
  },
  {
   "cell_type": "code",
   "execution_count": 7,
   "metadata": {},
   "outputs": [],
   "source": [
    "# Librerías para el uso de gráficos estadísticos \n",
    "\n",
    "import seaborn as sns\n",
    "import matplotlib.pyplot as plt"
   ]
  },
  {
   "cell_type": "code",
   "execution_count": 8,
   "metadata": {},
   "outputs": [],
   "source": [
    "# Se añade el directorio utilidades a la lista de directorios o path para poder ser usado en el notebook con una instrucción 'import'\n",
    "\n",
    "sys.path.append(os.path.abspath('../utilidades'))\n"
   ]
  },
  {
   "cell_type": "code",
   "execution_count": 44,
   "metadata": {},
   "outputs": [],
   "source": [
    "# Módulo creado para consultar de forma más répida información del proyecto como el significado de los nombres de las columnas\n",
    "import diccionario_dataset\n"
   ]
  },
  {
   "cell_type": "code",
   "execution_count": 10,
   "metadata": {},
   "outputs": [],
   "source": [
    "import glob"
   ]
  },
  {
   "cell_type": "markdown",
   "metadata": {},
   "source": [
    "# ADQUISICIÓN DE DATOS "
   ]
  },
  {
   "cell_type": "code",
   "execution_count": 11,
   "metadata": {},
   "outputs": [],
   "source": [
    "ruta_data = '../datasets'"
   ]
  },
  {
   "cell_type": "code",
   "execution_count": 12,
   "metadata": {},
   "outputs": [],
   "source": [
    "file_path_2018 = os.path.join(ruta_data, 'datos_2018/conjunto_de_datos/conjunto_de_datos_divorcios_2018.csv')\n",
    "file_path_2019 = os.path.join(ruta_data, 'datos_2019/conjunto_de_datos/conjunto_de_datos_divorcios_2019.csv')\n",
    "file_path_2020 = os.path.join(ruta_data, 'datos_2020/conjunto_de_datos/conjunto_de_datos_divorcios_2020.csv')\n",
    "file_path_2021 = os.path.join(ruta_data, 'datos_2021/conjunto_de_datos/conjunto_de_datos_divorcios_2021.csv')\n",
    "file_path_2022 = os.path.join(ruta_data, 'datos_2022/conjunto_de_datos/conjunto_de_datos_divorcios_2022.csv')"
   ]
  },
  {
   "cell_type": "code",
   "execution_count": 13,
   "metadata": {},
   "outputs": [],
   "source": [
    "df_divorcios_2018 = pd.read_csv(file_path_2018)\n",
    "df_divorcios_2019 = pd.read_csv(file_path_2019)\n",
    "df_divorcios_2020 = pd.read_csv(file_path_2020)\n",
    "df_divorcios_2021 = pd.read_csv(file_path_2021)\n",
    "df_divorcios_2022 = pd.read_csv(file_path_2022)"
   ]
  },
  {
   "cell_type": "markdown",
   "metadata": {},
   "source": [
    "# EDA PRELIMINAR"
   ]
  },
  {
   "cell_type": "markdown",
   "metadata": {},
   "source": [
    "## Revisión de la forma de los datasets"
   ]
  },
  {
   "cell_type": "code",
   "execution_count": 14,
   "metadata": {},
   "outputs": [
    {
     "data": {
      "text/plain": [
       "(156556, 64)"
      ]
     },
     "execution_count": 14,
     "metadata": {},
     "output_type": "execute_result"
    }
   ],
   "source": [
    "df_divorcios_2018.shape"
   ]
  },
  {
   "cell_type": "code",
   "execution_count": 15,
   "metadata": {},
   "outputs": [
    {
     "data": {
      "text/plain": [
       "(156556, 64)"
      ]
     },
     "execution_count": 15,
     "metadata": {},
     "output_type": "execute_result"
    }
   ],
   "source": [
    "df_divorcios_2018.shape"
   ]
  },
  {
   "cell_type": "code",
   "execution_count": 16,
   "metadata": {},
   "outputs": [
    {
     "data": {
      "text/plain": [
       "(160107, 64)"
      ]
     },
     "execution_count": 16,
     "metadata": {},
     "output_type": "execute_result"
    }
   ],
   "source": [
    "df_divorcios_2019.shape"
   ]
  },
  {
   "cell_type": "code",
   "execution_count": 17,
   "metadata": {},
   "outputs": [
    {
     "data": {
      "text/plain": [
       "(92739, 64)"
      ]
     },
     "execution_count": 17,
     "metadata": {},
     "output_type": "execute_result"
    }
   ],
   "source": [
    "df_divorcios_2020.shape"
   ]
  },
  {
   "cell_type": "code",
   "execution_count": 18,
   "metadata": {},
   "outputs": [
    {
     "data": {
      "text/plain": [
       "(149675, 64)"
      ]
     },
     "execution_count": 18,
     "metadata": {},
     "output_type": "execute_result"
    }
   ],
   "source": [
    "df_divorcios_2021.shape"
   ]
  },
  {
   "cell_type": "code",
   "execution_count": 19,
   "metadata": {},
   "outputs": [
    {
     "data": {
      "text/plain": [
       "(166766, 64)"
      ]
     },
     "execution_count": 19,
     "metadata": {},
     "output_type": "execute_result"
    }
   ],
   "source": [
    "df_divorcios_2022.shape"
   ]
  },
  {
   "cell_type": "code",
   "execution_count": 20,
   "metadata": {},
   "outputs": [],
   "source": [
    "df_originales = {\n",
    "\n",
    "    '2018' : df_divorcios_2018,\n",
    "    '2019' : df_divorcios_2019,\n",
    "    '2020' : df_divorcios_2020,\n",
    "    '2021' : df_divorcios_2021,\n",
    "    '2022' : df_divorcios_2022\n",
    "}"
   ]
  },
  {
   "cell_type": "code",
   "execution_count": 21,
   "metadata": {},
   "outputs": [],
   "source": [
    "forma = {elemento: df.shape for elemento, df in df_originales.items()}"
   ]
  },
  {
   "cell_type": "code",
   "execution_count": 22,
   "metadata": {},
   "outputs": [],
   "source": [
    "df_forma = pd.DataFrame.from_dict(forma, orient='index', columns=['Filas', 'Columnas'])\n"
   ]
  },
  {
   "cell_type": "code",
   "execution_count": 23,
   "metadata": {},
   "outputs": [
    {
     "name": "stdout",
     "output_type": "stream",
     "text": [
      "       Filas  Columnas\n",
      "2018  156556        64\n",
      "2019  160107        64\n",
      "2020   92739        64\n",
      "2021  149675        64\n",
      "2022  166766        64\n"
     ]
    }
   ],
   "source": [
    "print(df_forma)"
   ]
  },
  {
   "cell_type": "markdown",
   "metadata": {},
   "source": [
    "**Observaciones:**\n",
    "\n",
    "Se comprobó que los dataset cuentan con la misma cantidad de columnas "
   ]
  },
  {
   "cell_type": "markdown",
   "metadata": {},
   "source": [
    "## Verificación de existencia de columnas comunes entre data sets"
   ]
  },
  {
   "cell_type": "code",
   "execution_count": 30,
   "metadata": {},
   "outputs": [],
   "source": [
    "l_columns_2018 = df_divorcios_2018.columns.to_list()\n",
    "l_columns_2019 = df_divorcios_2019.columns.to_list()\n",
    "l_columns_2020 = df_divorcios_2020.columns.to_list()\n",
    "l_columns_2021 = df_divorcios_2021.columns.to_list()\n",
    "l_columns_2022 = df_divorcios_2022.columns.to_list()"
   ]
  },
  {
   "cell_type": "code",
   "execution_count": 32,
   "metadata": {},
   "outputs": [],
   "source": [
    "#Convierte las listas de 'Etiquetas de columnas' y las convierte DataFrames\n",
    "\n",
    "df_columns_2018 = pd.DataFrame({\"2018\" : l_columns_2018})\n",
    "df_columns_2019 = pd.DataFrame({\"2019\" : l_columns_2019})\n",
    "df_columns_2020 = pd.DataFrame({'2020': l_columns_2020}) \n",
    "df_columns_2021 = pd.DataFrame({'2021' : l_columns_2021})\n",
    "df_columns_2022 = pd.DataFrame({'2022': l_columns_2022})"
   ]
  },
  {
   "cell_type": "code",
   "execution_count": 41,
   "metadata": {},
   "outputs": [
    {
     "data": {
      "text/html": [
       "<div>\n",
       "<style scoped>\n",
       "    .dataframe tbody tr th:only-of-type {\n",
       "        vertical-align: middle;\n",
       "    }\n",
       "\n",
       "    .dataframe tbody tr th {\n",
       "        vertical-align: top;\n",
       "    }\n",
       "\n",
       "    .dataframe thead th {\n",
       "        text-align: right;\n",
       "    }\n",
       "</style>\n",
       "<table border=\"1\" class=\"dataframe\">\n",
       "  <thead>\n",
       "    <tr style=\"text-align: right;\">\n",
       "      <th></th>\n",
       "      <th>2018</th>\n",
       "      <th>2019</th>\n",
       "      <th>2020</th>\n",
       "      <th>2021</th>\n",
       "      <th>2022</th>\n",
       "    </tr>\n",
       "  </thead>\n",
       "  <tbody>\n",
       "    <tr>\n",
       "      <th>0</th>\n",
       "      <td>tipo_div</td>\n",
       "      <td>tipo_div</td>\n",
       "      <td>tipo_div</td>\n",
       "      <td>tipo_div</td>\n",
       "      <td>tipo_div</td>\n",
       "    </tr>\n",
       "    <tr>\n",
       "      <th>1</th>\n",
       "      <td>ent_regis</td>\n",
       "      <td>ent_regis</td>\n",
       "      <td>ent_regis</td>\n",
       "      <td>ent_regis</td>\n",
       "      <td>ent_regis</td>\n",
       "    </tr>\n",
       "    <tr>\n",
       "      <th>2</th>\n",
       "      <td>mun_regis</td>\n",
       "      <td>mun_regis</td>\n",
       "      <td>mun_regis</td>\n",
       "      <td>mun_regis</td>\n",
       "      <td>mun_regis</td>\n",
       "    </tr>\n",
       "    <tr>\n",
       "      <th>3</th>\n",
       "      <td>loc_regis</td>\n",
       "      <td>loc_regis</td>\n",
       "      <td>loc_regis</td>\n",
       "      <td>loc_regis</td>\n",
       "      <td>loc_regis</td>\n",
       "    </tr>\n",
       "    <tr>\n",
       "      <th>4</th>\n",
       "      <td>tloc_regis</td>\n",
       "      <td>tloc_regis</td>\n",
       "      <td>tloc_regis</td>\n",
       "      <td>tloc_regis</td>\n",
       "      <td>tloc_regis</td>\n",
       "    </tr>\n",
       "    <tr>\n",
       "      <th>...</th>\n",
       "      <td>...</td>\n",
       "      <td>...</td>\n",
       "      <td>...</td>\n",
       "      <td>...</td>\n",
       "      <td>...</td>\n",
       "    </tr>\n",
       "    <tr>\n",
       "      <th>59</th>\n",
       "      <td>dura_leg</td>\n",
       "      <td>dura_leg</td>\n",
       "      <td>dura_leg</td>\n",
       "      <td>dura_leg</td>\n",
       "      <td>dura_leg</td>\n",
       "    </tr>\n",
       "    <tr>\n",
       "      <th>60</th>\n",
       "      <td>edad_mdiv1</td>\n",
       "      <td>edad_mdiv1</td>\n",
       "      <td>edad_mdiv1</td>\n",
       "      <td>edad_mdiv1</td>\n",
       "      <td>edad_mdiv1</td>\n",
       "    </tr>\n",
       "    <tr>\n",
       "      <th>61</th>\n",
       "      <td>edad_mdiv2</td>\n",
       "      <td>edad_mdiv2</td>\n",
       "      <td>edad_mdiv2</td>\n",
       "      <td>edad_mdiv2</td>\n",
       "      <td>edad_mdiv2</td>\n",
       "    </tr>\n",
       "    <tr>\n",
       "      <th>62</th>\n",
       "      <td>t_dvante</td>\n",
       "      <td>t_dvante</td>\n",
       "      <td>t_dvante</td>\n",
       "      <td>t_dvante</td>\n",
       "      <td>t_dvante</td>\n",
       "    </tr>\n",
       "    <tr>\n",
       "      <th>63</th>\n",
       "      <td>dis_reoax</td>\n",
       "      <td>dis_reoax</td>\n",
       "      <td>dis_reoax</td>\n",
       "      <td>dis_reoax</td>\n",
       "      <td>dis_reoax</td>\n",
       "    </tr>\n",
       "  </tbody>\n",
       "</table>\n",
       "<p>64 rows × 5 columns</p>\n",
       "</div>"
      ],
      "text/plain": [
       "          2018        2019        2020        2021        2022\n",
       "0     tipo_div    tipo_div    tipo_div    tipo_div    tipo_div\n",
       "1    ent_regis   ent_regis   ent_regis   ent_regis   ent_regis\n",
       "2    mun_regis   mun_regis   mun_regis   mun_regis   mun_regis\n",
       "3    loc_regis   loc_regis   loc_regis   loc_regis   loc_regis\n",
       "4   tloc_regis  tloc_regis  tloc_regis  tloc_regis  tloc_regis\n",
       "..         ...         ...         ...         ...         ...\n",
       "59    dura_leg    dura_leg    dura_leg    dura_leg    dura_leg\n",
       "60  edad_mdiv1  edad_mdiv1  edad_mdiv1  edad_mdiv1  edad_mdiv1\n",
       "61  edad_mdiv2  edad_mdiv2  edad_mdiv2  edad_mdiv2  edad_mdiv2\n",
       "62    t_dvante    t_dvante    t_dvante    t_dvante    t_dvante\n",
       "63   dis_reoax   dis_reoax   dis_reoax   dis_reoax   dis_reoax\n",
       "\n",
       "[64 rows x 5 columns]"
      ]
     },
     "execution_count": 41,
     "metadata": {},
     "output_type": "execute_result"
    }
   ],
   "source": [
    "#Concatena o une todos los dataframes 'df_coloumns_...' creados en la celda anterior( celda 32)\n",
    "\n",
    "df_columnas = pd.concat([df_columns_2018,df_columns_2019,df_columns_2020,df_columns_2021,df_columns_2022], axis=1)\n",
    "df_columnas"
   ]
  },
  {
   "cell_type": "code",
   "execution_count": 43,
   "metadata": {},
   "outputs": [
    {
     "name": "stdout",
     "output_type": "stream",
     "text": [
      "Todas las listas tienen el mismo contenido y orden: True\n"
     ]
    }
   ],
   "source": [
    "def comparar_listas_ordenadas(*listas):\n",
    "\n",
    "    #Función que determina si las listas de 'etiquetas de columnas' de los dataframes son iguales\n",
    "\n",
    "    primera_lista = listas[0]\n",
    "    for lista in listas[1:]:\n",
    "        if lista != primera_lista:\n",
    "            return False\n",
    "    return True\n",
    "\n",
    "# Llamar a la función\n",
    "resultado = comparar_listas_ordenadas(l_columns_2018, l_columns_2019, l_columns_2020, l_columns_2021, l_columns_2022)\n",
    "print(\"Todas las listas tienen el mismo contenido y orden:\", resultado)"
   ]
  },
  {
   "cell_type": "markdown",
   "metadata": {},
   "source": [
    "**Conclusión**\n",
    "\n",
    "Se comprueba que las columnas existente en los dataframes contienen los mismos nombres de columnas"
   ]
  }
 ],
 "metadata": {
  "kernelspec": {
   "display_name": "env_divorcios_mx",
   "language": "python",
   "name": "python3"
  },
  "language_info": {
   "codemirror_mode": {
    "name": "ipython",
    "version": 3
   },
   "file_extension": ".py",
   "mimetype": "text/x-python",
   "name": "python",
   "nbconvert_exporter": "python",
   "pygments_lexer": "ipython3",
   "version": "3.12.1"
  }
 },
 "nbformat": 4,
 "nbformat_minor": 2
}
