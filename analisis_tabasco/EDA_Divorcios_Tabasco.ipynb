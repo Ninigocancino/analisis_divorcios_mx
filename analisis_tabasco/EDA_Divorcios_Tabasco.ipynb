{
 "cells": [
  {
   "cell_type": "code",
   "execution_count": 41,
   "metadata": {},
   "outputs": [],
   "source": [
    "import sys\n",
    "import os"
   ]
  },
  {
   "cell_type": "code",
   "execution_count": 42,
   "metadata": {},
   "outputs": [],
   "source": [
    "sys.path.append(os.path.abspath('../utilidades'))\n"
   ]
  },
  {
   "cell_type": "code",
   "execution_count": 43,
   "metadata": {},
   "outputs": [],
   "source": [
    "import diccionario_dataset\n"
   ]
  },
  {
   "cell_type": "code",
   "execution_count": 44,
   "metadata": {},
   "outputs": [
    {
     "name": "stdout",
     "output_type": "stream",
     "text": [
      "Estos son los terminos usandos en el data set\n",
      "\"tipo_divorcio\" ---> \"Tipo de divorcios comtemplados en México\"\n",
      "\"ent_regis\" ---> \"Entidad donde se inicio el tramite de divorcioMunicipio o alacaldía de registro\"\n",
      "\"mun_regist\" ---> \"Localidad de registro\"\n",
      "\"loc_regis\" ---> \"Tamaño de localidad de registro\"\n",
      "\"tloc_regis\" ---> \"Entidad de registro del matrimonio\"\n",
      "\"ent_mat\" ---> \"Municipio o alcaldía de registro del matrimonio\"\n",
      "\"mun_mat\" ---> \"Localidad de registro del matrimonio\"\n",
      "\"local_mat\" ---> \"Tamaño de localidad de registro del matrimonio\"\n",
      "\"tloc_mat\" ---> \"Día de registro del matrimonio\"\n",
      "\"dia_mat\" ---> \"Mes de registro del matrimonio\"\n",
      "\"mes_mat\" ---> \"Año de registro del matrimonio\"\n",
      "\"anio_mat\" ---> \"Día de registro de la demanda\"\n",
      "\"dia_reg\" ---> \"Mes de registro de la demanda\"\n",
      "\"mes_reg\" ---> \"Año de registro de la demanda\"\n",
      "\"anio_reg\" ---> \"Día de la sentencia\"\n",
      "\"dia_sen\" ---> \"Mes de la sentencia\"\n",
      "\"mes_sen\" ---> \"Año de la sentencia\"\n",
      "\"anio_sen\" ---> \"Día de ejecutoria del divorcio\"\n",
      "\"dia_eje\" ---> \"Mes de ejecutoria del divorcio\"\n",
      "\"mes_eje\" ---> \"Año de ejecutoria del divorcio\"\n",
      "\"anio_eje\" ---> \"Persona que inicio el juicio\"\n",
      "\"ini_juic\" ---> \"A favor de quien se resolvió el juicio\"\n",
      "\"favor\" ---> \"Causas de divorcio\"\n",
      "\"caus\" ---> \"Número de hijos en el matrimonio\"\n",
      "\"hijos\" ---> \"Número de hijos menores de edad\"\n",
      "\"hijos_men\" ---> \"Persona a quien se otorga la custodia\"\n",
      "\"custodia\" ---> \"Número de hijos en custodia\"\n",
      "\"cus_hij\" ---> \"Persona a quien se le asigna la patria potestad\"\n",
      "\"pat_pot\" ---> \"Número de hijos en patria potestad\"\n",
      "\"pat_hij\" ---> \"Personas a quien se le asigna la pensión alimenticia\"\n",
      "\"pension\" ---> \"Número de hijos a quienes se les asigna la pensión alimenticia\"\n",
      "\"pen_hij\" ---> \"Nacionalidad del primer divorciante\"\n",
      "\"naci_div1\" ---> \"Edad al divorcio del primer divorciante\"\n",
      "\"edad_div1\" ---> \"Año de nacimiento del primer divorciante\"\n",
      "\"nacim_div1\" ---> \"Estado conyugal (civil) anterior del primer divorciante\"\n",
      "\"eciv_adiv1\" ---> \"Entidad de residencia habitual del primer divorciante\"\n",
      "\"ent_rhdiv1\" ---> \"Municipio o alcaldía de residencia habitual del primer divorciante\"\n",
      "\"mun_rhdiv1\" ---> \"Localidad de residencia habitual del primer divorciante\"\n",
      "\"loc_rhdiv1\" ---> \"Tamaño de localidad de residencia habitual del primer divorciante\"\n",
      "\"tloc_div1\" ---> \"Nivel de escolaridad del primer divorciante (escolaridad)\"\n",
      "\"escol_div1\" ---> \"Condición de actividad económica del primer divorciante\"\n",
      "\"con_acdiv1\" ---> \"A qué se dedica el primer divorciante\"\n",
      "\"dedic_div1\" ---> \"Posición en el trabajo del primer divorciante\"\n",
      "\"postr_div1\" ---> \"Sexo del primer divorciante\"\n",
      "\"sexo_div1\" ---> \"Nacionalidad del segundo divorciante\"\n",
      "\"naci_div2\" ---> \"Edad al divorcio del segundo divorciante\"\n",
      "\"edad_div2\" ---> \"Año de nacimiento del segundo divorciante\"\n",
      "\"nacim_div2\" ---> \"Estado conyugal (civil) anterior del segundo divorciante\"\n",
      "\"eciv_adiv2\" ---> \"Entidad de residencia habitual del segundo divorciante\"\n",
      "\"ent_rhdiv2\" ---> \"Municipio o alcaldía de residencia habitual del segundo divorciante\"\n",
      "\"mun_rhdiv2\" ---> \"Localidad de residencia habitual del segundo divorciante\"\n",
      "\"loc_rhdiv2\" ---> \"Tamaño de localidad de residencia habitual del segundo divorciante\"\n",
      "\"tloc_div2\" ---> \"Nivel de escolaridad del segundo divorciante (escolaridad)\"\n",
      "\"escol_div2\" ---> \"Condición de actividad económica del segundo divorciante\"\n",
      "\"con_acdiv2\" ---> \"A qué se dedica el segundo divorciante\"\n",
      "\"dedic_div2\" ---> \"Posición en el trabajo del segundo divorciante\"\n",
      "\"postr_div2\" ---> \"Sexo del segundo divorciante\"\n",
      "\"sexo_div2\" ---> \"Duración social del matrimonio\"\n",
      "\"dura_soc\" ---> \"Duración legal del matrimonio\"\n",
      "\"dura_leg\" ---> \"Edad al matrimonio del primer divorciante\"\n",
      "\"edad_mdiv1\" ---> \"Edad al matrimonio del segundo divorciante\"\n",
      "\"edad_mdiv2\" ---> \"Tipo de divorciante\"\n",
      "\"t_dvante\" ---> \"Distritos de registro de Oaxaca\"\n"
     ]
    }
   ],
   "source": [
    "diccionario_dataset.atajos(\"ver\")"
   ]
  },
  {
   "cell_type": "markdown",
   "metadata": {},
   "source": [
    "**UTILIDADES**"
   ]
  },
  {
   "cell_type": "code",
   "execution_count": null,
   "metadata": {},
   "outputs": [],
   "source": [
    "def info_features(a):\n",
    "\n",
    "    atajo = {\n",
    "\n",
    "        'tipo_divorcio' : \"Guarda el tipo de tramite del cuál se recoge información en el conjunto de datos.\\n Se designa la **clave '1'** para divorcio Judicial y la **clave '2'** para divorcio Administrativo.\\n Recibe valores de **tipo N**, es decir numéricos.\",\n",
    "\n",
    "        'ent_regis' : \"Guarda la entidad donde se realiza el tramite de divorcio.\\n Se designan claves del '01' al '32' para identificar las entidades federativas (Estados), la clave '33' para aquellos divorcios\\n (de matrimonios realizados en territorio mexicano) realizados en los Estados Unidos de América,\\n la calve '34' para aquellos divorcios (de matrimonios realizados en territorio mexicano) realizados en los otros paises de Latiniamérica, la clave '35' para aquellos divorcios (de matrimonios realizados en territorio mexicano) realizados en cualquier otro país que no forme parte de las anteriores consideraciones.\\n Recibe valores de **tipo C**, es decir categóricos\"\n",
    "\n",
    "\n",
    "    }\n",
    "\n",
    "    if a in atajo:\n",
    "           print(\"\")\n",
    "           return(atajo[a])\n",
    "    else:\n",
    "        print(f\"La clave '{a}' no se encuentra registrada\")\n",
    "\n",
    "\n",
    "print(info_features(\"tipo_divorcio\"))\n",
    "print(info_features(\"ent_regis\"))"
   ]
  },
  {
   "cell_type": "code",
   "execution_count": 52,
   "metadata": {},
   "outputs": [
    {
     "name": "stdout",
     "output_type": "stream",
     "text": [
      "\n",
      "Guarda la entidad donde se realiza el tramite de divorcio.\n",
      " Se designan claves del '01' al '32' para identificar las entidades federativas (Estados), la clave '33' para aquellos divorcios\n",
      " (de matrimonios realizados en territorio mexicano) realizados en los Estados Unidos de América,\n",
      " la calve '34' para aquellos divorcios (de matrimonios realizados en territorio mexicano) realizados en los otros paises de Latiniamérica, la clave '35' para aquellos divorcios (de matrimonios realizados en territorio mexicano) realizados en cualquier otro país que no forme parte de las anteriores consideraciones.\n",
      " Recibe valores de **tipo C**, es decir categóricos\n"
     ]
    }
   ],
   "source": [
    "print(info_features(\"ent_regis\"))"
   ]
  }
 ],
 "metadata": {
  "kernelspec": {
   "display_name": "env_divorcios_mx",
   "language": "python",
   "name": "python3"
  },
  "language_info": {
   "codemirror_mode": {
    "name": "ipython",
    "version": 3
   },
   "file_extension": ".py",
   "mimetype": "text/x-python",
   "name": "python",
   "nbconvert_exporter": "python",
   "pygments_lexer": "ipython3",
   "version": "3.12.1"
  }
 },
 "nbformat": 4,
 "nbformat_minor": 2
}
