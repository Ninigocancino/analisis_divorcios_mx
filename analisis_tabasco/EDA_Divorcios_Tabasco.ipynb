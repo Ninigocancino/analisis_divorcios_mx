{
 "cells": [
  {
   "cell_type": "markdown",
   "metadata": {},
   "source": [
    "# OBJETIVO DEL ANÁLISIS "
   ]
  },
  {
   "cell_type": "markdown",
   "metadata": {},
   "source": [
    "Este análisis tiene como principal objetivo proporcionar un primer acercamiento al fenomeno social de los divorcios en el Estado de Tabasco (México) a traves de la información estadistica proporcionada por las fuentes oficiales, en este caso el Instituto Nacional de EstadÍstica y Geografía (INEGI). Desde este enfoque este primer acercamiento al fenomeno servira para:\n",
    "\n",
    "1.- Conocer la data historica existente acerca del fenomeno de divorcios en esta Entidad.\n",
    "2.- Evitar la duplicidad de esfurzos para capturar la captura de los mismos datos.\n",
    "3.- Favorecer, en la medida de lo posible, la homologación de terminos, metricas y metodologías entre el ejercicio de recopilación de datos de las fuentes oficales con nuestra propia investigación.\n",
    "4.- Identificar dinamicas cuyo analisis más exhaustivo puedan aportar valor para el mejor entendimiento del fenomeno de divorcios.\n",
    "5.- Obtener datos de referencias que sirvan como antecedentes confiables para nuestra investigación."
   ]
  },
  {
   "cell_type": "markdown",
   "metadata": {},
   "source": [
    "# CONTEXTO"
   ]
  },
  {
   "cell_type": "markdown",
   "metadata": {},
   "source": [
    "En la mayoría de las culturas o sociedades la familia es considerada como una institución social fundamental y la base misma de la sociedad bajo el entendido que dicha estructura social cumple con diferentes funciones de vital importancia como lo son ; la reproducción y crianzas de individuos, el brindar apoyo emocional, físico y económico a los individuos, así como promover y faciltar la sociabilización y transmitir la cultura.\n",
    "\n",
    "Tradicionalmente al centro de está estructura se encuentra el matrimonio, otra institución social, pero tambien legal, que establece una unión formal y reconocida entre dos individuos generalmente con el propósito de establecer una familia.\n",
    "\n",
    "Por otra parte el divorcio es la acción que disuelve eL vínculo del matrimonio y deja a los cónyuges en aptitud de contraer otro.\n",
    "\n",
    "En las útimas decadas, los profundos cambios en las dinámicas sociales han dado como resultado un cambio importante en la configuración de las familias y en la durabilidad de la convivencia de las parejas legalmente establecidas, desarrollandose así la percepción de que el matrimonio no solo es menos frecuente sino que su duración es mucho menor de lo que solia ser y que las familias con más de un progenitor son mucho menos frecuentes que en antaño.\n",
    "\n",
    "Es un hecho aceptado que la diferencia entre la dinamica actual y la de hace algunas decadas, en cuanto a matrimonio y divorcio respecta, son considerablemente distintas y que a ojos de la opinión pública en general los matrimonios son menos frecuentes y los casos de divorcios más comunes, sin embargo, es necesario contar con una perspectiva más amplia sobre el tema que permita identificar si la relación entre matrimonios y divorcios es un fenomeno que puede llegar a tener impacto negativo en la sociedad o si bien dicha relación esta siendo sobreestimada y no representa un \"foco de alerta\" para el tejido social y las instituciones que deben velar por la sanidad de este. Surgen entoces cuestionamientos legitimos que bien valen la pena analizar como por ejemplo: \n",
    "\n",
    "* ¿Puede una tendencia de mayor numero de divorcios contribuir a una drastica caida de natalidad que comprometa o impacte negativamente en la taza poblacional futura? \n",
    "* ¿Puede impactar un mayor número de divorcios en la salud del tejido social? \n",
    "* A nivel individual ¿Representa un divorcio una situación de alto impacto para la salud emeocional o fisica de los ciudadanos?"
   ]
  },
  {
   "cell_type": "markdown",
   "metadata": {},
   "source": [
    "# PROBLEMATICA"
   ]
  },
  {
   "cell_type": "markdown",
   "metadata": {},
   "source": [
    "La mayoría de las personas es capaz de darse cuenta que se existe la posibilidad que se este sucitando un aumento en el número de divorcios en la sociedad del estado de Tabasco, esto en comparación a decadas anteriores, sin embrago este fenomeno, a ojos de esta mayoría, no pasa de ser un mero dato curioso que al final de cuentas tiene poca importania para ellos o que piensan que tiene poco o nulo impacto en sus vidas.\n",
    "\n",
    "Sin embargo, la realidad que se escapa en esta persepción generalizada, es que la disolución del matrimonio es un evento dificil y muchas veces traumaticos para cada integrante de la familia, y que a su vez puede convertirse en un disparador de acciones que impactan ya no solo en el bienestar familiar sino en el mismo bienestar de la sociedad, siendo una posibilidad, que los comportamiento individuales relacionados con la sanidad del matrimonio pueda contribuir a desencadenar dinamicas extremas que pueden tener grandes consecuencias para la comunidad.\n",
    "\n",
    "Tomando en cuenta lo anterior se desarrollará un Analisis exploratorio de datos que permita tener data limpia y fiable sobre el fenomeno de divorcios en México y que pueda servir de referencia y base para un estudio o analisis más especifico."
   ]
  },
  {
   "cell_type": "markdown",
   "metadata": {},
   "source": [
    "# ALCANCE DEL PROYECTO"
   ]
  },
  {
   "cell_type": "markdown",
   "metadata": {},
   "source": [
    "Territorialidad: El analisis se limitará a recopilar y preparar la data aplicable al territorio del Estado de Tabasco.\n",
    "\n",
    "Recopilación de datos: Para este EDA se usará la data en formato .CSV obtenida del la plataforma de datos del INEGI.\n",
    "\n",
    "No se contempla recopilación de datos in situs, ni raspado web para este proyecto.\n",
    "\n",
    "Entregables: El resultado final será una o más tablas que almacenen los datos relevantes para cada pregunta planteada en el proyecto, un informe general de los hallazgos para el caso de Tabasco (que deberá incluir los graficos necesarios), así como un apartado de observaciones como aspectos que escapan de la capacidad del analisis por razones como la falta de data necesaria.\n",
    "\n",
    "Otros: Los entregables de este proyecto deben poder ser usados como base en proyectos de data desing y en analisis más amplios o especificos en lo territorial o conceptual (como análisis del fenomeno de divorcios por municipio, comparativas con indicadores de otros Estados del país o en análisis de las causas y consecuencias relacionadas con dicho fenomeno )"
   ]
  },
  {
   "cell_type": "markdown",
   "metadata": {},
   "source": [
    "# HIPOTESIS Y PREGUNTAS A RESOLVER"
   ]
  },
  {
   "cell_type": "markdown",
   "metadata": {},
   "source": [
    "**Hipotesís:** Creemos que en México el número de divorcios se ha incrementado drastciamente en los últimos años y que esta es un fenomeno generalizado en el territorio nacional, por lo que indicadores a nivel Tabasco y sus municipios siguen una tendencia similar"
   ]
  },
  {
   "cell_type": "markdown",
   "metadata": {},
   "source": [
    "### Los datos del dataset deben ser utiles para resolver las siguientes preguntas:\n",
    "\n",
    "\n",
    "En Tabasco ¿Cuántos divorcios se registraron durante el último año de registro?\n",
    "\n",
    "En  Tabasco de los datos disponibles ¿cuál fue el año con mayor numero de divorcios? y de esa entidad ¿Cuál fue la municipalidad con mayor número de divorcios?\n",
    "\n",
    "¿Cuál es el número de divorcios en Tabasco en los años que comprenden nuestros datasets?\n",
    "\n",
    "Según los datos disponibles ¿En que año se registrarón más demandas de divorcios?\n",
    "\n",
    "¿Quién registra el mayor número de demandas de divorcios, los hombres o las mujeres?\n",
    "\n",
    "¿Qué población (condición biológica) obtiene el mayor número de sentencias favorables?\n",
    "\n",
    "¿Cuál es el universo de personas menores de edad que son impactadas por los divorcios?\n",
    "\n",
    "En Tabasco ¿Cuál es el promedio de hijos en los matrimonios que se separan?\n",
    "\n",
    "Dentro de los matrimonios hetero parentales ¿Cuál es la condición biológica que agrupa el mayor número de asignación de patria potestad tras el divorcio?\n",
    "\n",
    "Dentro de los matrimonios hetero parentales ¿Cuál es la condición biológica que agrupa el mayor número de asignaciones de pensiones alimenticia (donde el divorciante es el beneficiario)tras el divorcio?\n",
    "\n",
    "¿Cuántos años duran los matrimonios en Tabasco?\n",
    "\n",
    "¿Qué escolaridad tiene los divorciantes en Tabasco(hombres y mujeres)?\n",
    "\n",
    "¿A qué se dedican las personas que se divorcian?\n",
    "\n",
    "¿Cuáles son las principales causas de divorcios?"
   ]
  },
  {
   "cell_type": "markdown",
   "metadata": {},
   "source": [
    "# DOCUMENTACIÓN"
   ]
  },
  {
   "cell_type": "markdown",
   "metadata": {},
   "source": [
    "\n",
    "Aquí encontrarás las definiciones e información sobre el uso de funciones, modúlo u otras herramientas creadas para faciltar el trabajo de análisis en el proyecto"
   ]
  },
  {
   "cell_type": "markdown",
   "metadata": {},
   "source": [
    "**diccionario_dataset**\n",
    "\n",
    "Es un módulo creado dentro del área global del repositorio con la finalidad de guardar funciones que pueden ser usadas en los notebooks para consultar información de soporte"
   ]
  },
  {
   "cell_type": "markdown",
   "metadata": {},
   "source": [
    "*diccionario_dataset.atajos(\"ver\")*\n",
    "\n",
    "Esta sentencia imprime la abreviación que se usa en los datasets 'datos...'  y muestra el nombre completo de las columnas al que hacen referencia las abreviaturas de las columnas de los datasets.\n",
    "\n",
    "Se recomeinda usarla cuando se necesite conocer cuál es el significado de las cabeceras de las columnas "
   ]
  },
  {
   "cell_type": "markdown",
   "metadata": {},
   "source": [
    "*print(diccionario_dataset.info_features(\"ent_mat\"))*\n",
    "\n",
    "Esta sentencia imprime la información necesaria para enteder cada feature de los datset 'datos...' desde a que hace referencia, como a los valores asignados por el INEGI y su significado.\n",
    "\n",
    "Esta sentencia usa como parametro los nombres de las columnas del dataset. Para que la sentencia llame la información asociada a cada nombre de columna o feature se debe ingresar el nombre de dicha columna en los parentesis 'internos' y entre comillas simples o dobles.\n",
    "\n",
    "Se envuelve la sentencia en la función \"print()\" para facilitar la visualizzación de la información y que esta sea presentada en formato parrafo. La sentencia funciona aún si esta no se envuelve en la función 'print'."
   ]
  },
  {
   "cell_type": "markdown",
   "metadata": {},
   "source": [
    "# UTILIDADES"
   ]
  },
  {
   "cell_type": "markdown",
   "metadata": {},
   "source": [
    "# IMPORTACIÓN DE RECURSOS "
   ]
  },
  {
   "cell_type": "code",
   "execution_count": 38,
   "metadata": {},
   "outputs": [],
   "source": [
    "# Librerías para interactuar con el sistema operativo y el entorno en el que se ejecuta el script de Python\n",
    "\n",
    "import sys\n",
    "import os\n"
   ]
  },
  {
   "cell_type": "code",
   "execution_count": 41,
   "metadata": {},
   "outputs": [],
   "source": [
    "# Librería para la manipulación de datos, cálculos numéricos y análisis científico\n",
    "\n",
    "import pandas as pd\n",
    "import numpy as np\n",
    "import scipy"
   ]
  },
  {
   "cell_type": "code",
   "execution_count": 45,
   "metadata": {},
   "outputs": [],
   "source": [
    "# Librerías para el uso de gráficos estadísticos \n",
    "\n",
    "import seaborn as sns\n",
    "import matplotlib.pyplot as plt"
   ]
  },
  {
   "cell_type": "code",
   "execution_count": 4,
   "metadata": {},
   "outputs": [],
   "source": [
    "# Se añade el directorio utilidades a la lista de directorios o path para poder ser usado en el notebook con una instrucción 'import'\n",
    "\n",
    "sys.path.append(os.path.abspath('../utilidades'))\n"
   ]
  },
  {
   "cell_type": "code",
   "execution_count": 46,
   "metadata": {},
   "outputs": [],
   "source": [
    "# Módulo creado para consultar de forma más répida información del proyecto como el significado de los nombres de las columnas\n",
    "import diccionario_dataset\n"
   ]
  },
  {
   "cell_type": "code",
   "execution_count": 47,
   "metadata": {},
   "outputs": [],
   "source": [
    "import glob"
   ]
  },
  {
   "cell_type": "markdown",
   "metadata": {},
   "source": [
    "# ADQUISICIÓN DE DATOS "
   ]
  },
  {
   "cell_type": "code",
   "execution_count": 54,
   "metadata": {},
   "outputs": [],
   "source": [
    "ruta_data = '../datasets'"
   ]
  },
  {
   "cell_type": "code",
   "execution_count": 60,
   "metadata": {},
   "outputs": [],
   "source": [
    "file_path_2018 = os.path.join(ruta_data, 'datos_2018/conjunto_de_datos/conjunto_de_datos_divorcios_2018.csv')\n",
    "file_path_2019 = os.path.join(ruta_data, 'datos_2019/conjunto_de_datos/conjunto_de_datos_divorcios_2019.csv')\n",
    "file_path_2020 = os.path.join(ruta_data, 'datos_2020/conjunto_de_datos/conjunto_de_datos_divorcios_2020.csv')\n",
    "file_path_2021 = os.path.join(ruta_data, 'datos_2021/conjunto_de_datos/conjunto_de_datos_divorcios_2021.csv')\n",
    "file_path_2022 = os.path.join(ruta_data, 'datos_2022/conjunto_de_datos/conjunto_de_datos_divorcios_2022.csv')"
   ]
  },
  {
   "cell_type": "code",
   "execution_count": 61,
   "metadata": {},
   "outputs": [],
   "source": [
    "df_divorcios_2018 = pd.read_csv(file_path_2018)\n",
    "df_divorcios_2019 = pd.read_csv(file_path_2019)\n",
    "df_divorcios_2020 = pd.read_csv(file_path_2020)\n",
    "df_divorcios_2021 = pd.read_csv(file_path_2021)\n",
    "df_divorcios_2022 = pd.read_csv(file_path_2022)"
   ]
  }
 ],
 "metadata": {
  "kernelspec": {
   "display_name": "env_divorcios_mx",
   "language": "python",
   "name": "python3"
  },
  "language_info": {
   "codemirror_mode": {
    "name": "ipython",
    "version": 3
   },
   "file_extension": ".py",
   "mimetype": "text/x-python",
   "name": "python",
   "nbconvert_exporter": "python",
   "pygments_lexer": "ipython3",
   "version": "3.12.1"
  }
 },
 "nbformat": 4,
 "nbformat_minor": 2
}
