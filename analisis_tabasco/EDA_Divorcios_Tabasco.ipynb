{
 "cells": [
  {
   "cell_type": "code",
   "execution_count": 9,
   "metadata": {},
   "outputs": [],
   "source": [
    "import sys\n",
    "import os"
   ]
  },
  {
   "cell_type": "code",
   "execution_count": 10,
   "metadata": {},
   "outputs": [],
   "source": [
    "sys.path.append(os.path.abspath('../utilidades'))\n"
   ]
  },
  {
   "cell_type": "code",
   "execution_count": 16,
   "metadata": {},
   "outputs": [],
   "source": [
    "import diccionario_dataset\n"
   ]
  },
  {
   "cell_type": "code",
   "execution_count": 17,
   "metadata": {},
   "outputs": [
    {
     "name": "stdout",
     "output_type": "stream",
     "text": [
      "Estos son los terminos usandos en el data set\n",
      "tipo_divorcio\n",
      "ent_regis\n",
      "mun_regist\n",
      "loc_regis\n",
      "tloc_regis\n",
      "ent_mat\n",
      "mun_mat\n",
      "local_mat\n",
      "tloc_mat\n",
      "dia_mat\n",
      "mes_mat\n",
      "anio_mat\n",
      "dia_reg\n",
      "mes_reg\n",
      "anio_reg\n",
      "dia_sen\n",
      "mes_sen\n",
      "anio_sen\n",
      "dia_eje\n",
      "mes_eje\n",
      "anio_eje\n",
      "ini_juic\n",
      "favor\n",
      "caus\n",
      "hijos\n",
      "hijos_men\n",
      "custodia\n",
      "cus_hij\n",
      "pat_pot\n",
      "pat_hij\n",
      "pension\n",
      "pen_hij\n",
      "naci_div1\n",
      "edad_div1\n",
      "nacim_div1\n",
      "eciv_adiv1\n",
      "ent_rhdiv1\n",
      "mun_rhdiv1\n",
      "loc_rhdiv1\n",
      "tloc_div1\n",
      "escol_div1\n",
      "con_acdiv1\n",
      "dedic_div1\n",
      "postr_div1\n",
      "sexo_div1\n",
      "naci_div2\n",
      "edad_div2\n",
      "nacim_div2\n",
      "eciv_adiv2\n",
      "ent_rhdiv2\n",
      "mun_rhdiv2\n",
      "loc_rhdiv2\n",
      "tloc_div2\n",
      "escol_div2\n",
      "con_acdiv2\n",
      "dedic_div2\n",
      "postr_div2\n",
      "sexo_div2\n",
      "dura_soc\n",
      "dura_leg\n",
      "edad_mdiv1\n",
      "edad_mdiv2\n",
      "t_dvante\n",
      "dis_reoax\n"
     ]
    }
   ],
   "source": [
    "diccionario_dataset.atajos(\"ver\")"
   ]
  },
  {
   "cell_type": "code",
   "execution_count": 15,
   "metadata": {},
   "outputs": [
    {
     "name": "stdout",
     "output_type": "stream",
     "text": [
      "['Hola', 'mundo']\n"
     ]
    }
   ],
   "source": [
    "lista_atajos.hola_mundo(\"imprimir\")"
   ]
  }
 ],
 "metadata": {
  "kernelspec": {
   "display_name": "env_divorcios_mx",
   "language": "python",
   "name": "python3"
  },
  "language_info": {
   "codemirror_mode": {
    "name": "ipython",
    "version": 3
   },
   "file_extension": ".py",
   "mimetype": "text/x-python",
   "name": "python",
   "nbconvert_exporter": "python",
   "pygments_lexer": "ipython3",
   "version": "3.12.1"
  }
 },
 "nbformat": 4,
 "nbformat_minor": 2
}
