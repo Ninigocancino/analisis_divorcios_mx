{
 "cells": [
  {
   "cell_type": "markdown",
   "metadata": {},
   "source": [
    "# OBJETIVO DEL ANÁLISIS "
   ]
  },
  {
   "cell_type": "markdown",
   "metadata": {},
   "source": [
    "Este análisis tiene como principal objetivo proporcionar un primer acercamiento al fenomeno social de los divorcios en el Estado de Tabasco (México) a traves de la información estadistica proporcionada por las fuentes oficiales, en este caso el Instituto Nacional de EstadÍstica y Geografía (INEGI). Desde este enfoque este primer acercamiento al fenomeno servira para:\n",
    "\n",
    "1.- Conocer la data historica existente acerca del fenomeno de divorcios en esta Entidad.\n",
    "2.- Evitar la duplicidad de esfurzos para capturar la captura de los mismos datos.\n",
    "3.- Favorecer, en la medida de lo posible, la homologación de terminos, metricas y metodologías entre el ejercicio de recopilación de datos de las fuentes oficales con nuestra propia investigación.\n",
    "4.- Identificar dinamicas cuyo analisis más exhaustivo puedan aportar valor para el mejor entendimiento del fenomeno de divorcios.\n",
    "5.- Obtener datos de referencias que sirvan como antecedentes confiables para nuestra investigación."
   ]
  },
  {
   "cell_type": "markdown",
   "metadata": {},
   "source": [
    "# CONTEXTO"
   ]
  },
  {
   "cell_type": "markdown",
   "metadata": {},
   "source": [
    "En la mayoría de las culturas o sociedades la familia es considerada como una institución social fundamental y la base misma de la sociedad bajo el entendido que dicha estructura social cumple con diferentes funciones de vital importancia como lo son ; la reproducción y crianzas de individuos, el brindar apoyo emocional, físico y económico a los individuos, así como promover y faciltar la sociabilización y transmitir la cultura.\n",
    "\n",
    "Tradicionalmente al centro de está estructura se encuentra el matrimonio, otra institución social, pero tambien legal, que establece una unión formal y reconocida entre dos individuos generalmente con el propósito de establecer una familia.\n",
    "\n",
    "Por otra parte el divorcio es la acción que disuelve eL vínculo del matrimonio y deja a los cónyuges en aptitud de contraer otro.\n",
    "\n",
    "En las útimas decadas, los profundos cambios en las dinámicas sociales han dado como resultado un cambio importante en la configuración de las familias y en la durabilidad de la convivencia de las parejas legalmente establecidas, desarrollandose así la percepción de que el matrimonio no solo es menos frecuente sino que su duración es mucho menor de lo que solia ser y que las familias con más de un progenitor son mucho menos frecuentes que en antaño.\n",
    "\n",
    "Es un hecho aceptado que la diferencia entre la dinamica actual y la de hace algunas decadas, en cuanto a matrimonio y divorcio respecta, son considerablemente distintas y que a ojos de la opinión pública en general los matrimonios son menos frecuentes y los casos de divorcios más comunes, sin embargo, es necesario contar con una perspectiva más amplia sobre el tema que permita identificar si la relación entre matrimonios y divorcios es un fenomeno que puede llegar a tener impacto negativo en la sociedad o si bien dicha relación esta siendo sobreestimada y no representa un \"foco de alerta\" para el tejido social y las instituciones que deben velar por la sanidad de este. Surgen entoces cuestionamientos legitimos que bien valen la pena analizar como por ejemplo: \n",
    "\n",
    "* ¿Puede una tendencia de mayor numero de divorcios contribuir a una drastica caida de natalidad que comprometa o impacte negativamente en la taza poblacional futura? \n",
    "* ¿Puede impactar un mayor número de divorcios en la salud del tejido social? \n",
    "* A nivel individual ¿Representa un divorcio una situación de alto impacto para la salud emeocional o fisica de los ciudadanos?"
   ]
  },
  {
   "cell_type": "markdown",
   "metadata": {},
   "source": [
    "# PROBLEMATICA"
   ]
  },
  {
   "cell_type": "markdown",
   "metadata": {},
   "source": [
    "La mayoría de las personas es capaz de darse cuenta que se existe la posibilidad que se este sucitando un aumento en el número de divorcios en la sociedad del estado de Tabasco, esto en comparación a decadas anteriores, sin embrago este fenomeno, a ojos de esta mayoría, no pasa de ser un mero dato curioso que al final de cuentas tiene poca importania para ellos o que piensan que tiene poco o nulo impacto en sus vidas.\n",
    "\n",
    "Sin embargo, la realidad que se escapa en esta persepción generalizada, es que la disolución del matrimonio es un evento dificil y muchas veces traumaticos para cada integrante de la familia, y que a su vez puede convertirse en un disparador de acciones que impactan ya no solo en el bienestar familiar sino en el mismo bienestar de la sociedad, siendo una posibilidad, que los comportamiento individuales relacionados con la sanidad del matrimonio pueda contribuir a desencadenar dinamicas extremas que pueden tener grandes consecuencias para la comunidad.\n",
    "\n",
    "Tomando en cuenta lo anterior se desarrollará un Analisis exploratorio de datos que permita tener data limpia y fiable sobre el fenomeno de divorcios en México y que pueda servir de referencia y base para un estudio o analisis más especifico."
   ]
  },
  {
   "cell_type": "markdown",
   "metadata": {},
   "source": [
    "# ALCANCE DEL PROYECTO"
   ]
  },
  {
   "cell_type": "markdown",
   "metadata": {},
   "source": [
    "Territorialidad: El analisis se limitará a recopilar y preparar la data aplicable al territorio del Estado de Tabasco.\n",
    "\n",
    "Recopilación de datos: Para este EDA se usará la data en formato .CSV obtenida del la plataforma de datos del INEGI.\n",
    "\n",
    "No se contempla recopilación de datos in situs, ni raspado web para este proyecto.\n",
    "\n",
    "Entregables: El resultado final será una o más tablas que almacenen los datos relevantes para cada pregunta planteada en el proyecto, un informe general de los hallazgos para el caso de Tabasco (que deberá incluir los graficos necesarios), así como un apartado de observaciones como aspectos que escapan de la capacidad del analisis por razones como la falta de data necesaria.\n",
    "\n",
    "Otros: Los entregables de este proyecto deben poder ser usados como base en proyectos de data desing y en analisis más amplios o especificos en lo territorial o conceptual (como análisis del fenomeno de divorcios por municipio, comparativas con indicadores de otros Estados del país o en análisis de las causas y consecuencias relacionadas con dicho fenomeno )"
   ]
  },
  {
   "cell_type": "markdown",
   "metadata": {},
   "source": [
    "# HIPOTESIS Y PREGUNTAS A RESOLVER"
   ]
  },
  {
   "cell_type": "markdown",
   "metadata": {},
   "source": [
    "**Hipotesís:** Creemos que en México el número de divorcios se ha incrementado drastciamente en los últimos años y que esta es un fenomeno generalizado en el territorio nacional, por lo que indicadores a nivel Tabasco y sus municipios siguen una tendencia similar"
   ]
  },
  {
   "cell_type": "markdown",
   "metadata": {},
   "source": [
    "### Los datos del dataset deben ser utiles para resolver las siguientes preguntas:\n",
    "\n",
    "\n",
    "En Tabasco ¿Cuántos divorcios se registraron durante el último año de registro?\n",
    "\n",
    "En  Tabasco de los datos disponibles ¿cuál fue el año con mayor numero de divorcios? y de esa entidad ¿Cuál fue la municipalidad con mayor número de divorcios?\n",
    "\n",
    "¿Cuál es el número de divorcios en Tabasco en los años que comprenden nuestros datasets?\n",
    "\n",
    "Según los datos disponibles ¿En que año se registrarón más demandas de divorcios?\n",
    "\n",
    "¿Quién registra el mayor número de demandas de divorcios, los hombres o las mujeres?\n",
    "\n",
    "¿Qué población (condición biológica) obtiene el mayor número de sentencias favorables?\n",
    "\n",
    "¿Cuál es el universo de personas menores de edad que son impactadas por los divorcios?\n",
    "\n",
    "En Tabasco ¿Cuál es el promedio de hijos en los matrimonios que se separan?\n",
    "\n",
    "Dentro de los matrimonios hetero parentales ¿Cuál es la condición biológica que agrupa el mayor número de asignación de patria potestad tras el divorcio?\n",
    "\n",
    "Dentro de los matrimonios hetero parentales ¿Cuál es la condición biológica que agrupa el mayor número de asignaciones de pensiones alimenticia (donde el divorciante es el beneficiario)tras el divorcio?\n",
    "\n",
    "¿Cuántos años duran los matrimonios en Tabasco?\n",
    "\n",
    "¿Qué escolaridad tiene los divorciantes en Tabasco(hombres y mujeres)?\n",
    "\n",
    "¿A qué se dedican las personas que se divorcian?\n",
    "\n",
    "¿Cuáles son las principales causas de divorcios?"
   ]
  },
  {
   "cell_type": "markdown",
   "metadata": {},
   "source": [
    "# DOCUMENTACIÓN"
   ]
  },
  {
   "cell_type": "markdown",
   "metadata": {},
   "source": [
    "\n",
    "Aquí encontrarás las definiciones e información sobre el uso de funciones, modúlo u otras herramientas creadas para faciltar el trabajo de análisis en el proyecto"
   ]
  },
  {
   "cell_type": "markdown",
   "metadata": {},
   "source": [
    "**diccionario_dataset**\n",
    "\n",
    "Es un módulo creado dentro del área global del repositorio con la finalidad de guardar funciones que pueden ser usadas en los notebooks para consultar información de soporte"
   ]
  },
  {
   "cell_type": "markdown",
   "metadata": {},
   "source": [
    "*diccionario_dataset.atajos(\"ver\")*\n",
    "\n",
    "Esta sentencia imprime la abreviación que se usa en los datasets 'datos...'  y muestra el nombre completo de las columnas al que hacen referencia las abreviaturas de las columnas de los datasets.\n",
    "\n",
    "Se recomeinda usarla cuando se necesite conocer cuál es el significado de las cabeceras de las columnas "
   ]
  },
  {
   "cell_type": "markdown",
   "metadata": {},
   "source": [
    "*print(diccionario_dataset.info_features(\"  \"))*\n",
    "\n",
    "Esta sentencia imprime la información necesaria para enteder cada feature de los datset 'datos...' desde a que hace referencia, como a los valores asignados por el INEGI y su significado.\n",
    "\n",
    "Esta sentencia usa como parametro los nombres de las columnas del dataset. Para que la sentencia llame la información asociada a cada nombre de columna o feature se debe ingresar el nombre de dicha columna en los parentesis 'internos' y entre comillas simples o dobles.\n",
    "\n",
    "Se envuelve la sentencia en la función \"print()\" para facilitar la visualizzación de la información y que esta sea presentada en formato parrafo. La sentencia funciona aún si esta no se envuelve en la función 'print'."
   ]
  },
  {
   "cell_type": "markdown",
   "metadata": {},
   "source": [
    "**diccionario_variables**\n",
    "\n",
    "Es una utilidad creada para proporcionar información de las variables creadas en el notebook "
   ]
  },
  {
   "cell_type": "markdown",
   "metadata": {},
   "source": [
    "*print(diccionario_variables(\" \"))*\n",
    "\n",
    "Esta sentencia imprime la información necesaria sobre las variables usadas en el notebook\n",
    "\n",
    "La sentencia usa como parametros los nombres de las variables que se registran en la función 'diccionario_variables' y que corresponden a las usadas en el notebook. Para que la sentencia llame la información asociada a cada variable del notebook la variable debe existir en el diccionario de la función y se debe ingresar el nombre de dicha variable en los parentesis 'internos' de la sentencia y entre comillas simples o dobles.\n",
    "\n",
    "Se envuelve la sentencia en la función \"print()\" para facilitar la visualizzación de la información y que esta sea presentada en formato parrafo. La sentencia funciona aún si esta no se envuelve en la función 'print', por ejemplo:\n",
    "\n",
    "print(diccionario_variables(\"ruta_data\"))"
   ]
  },
  {
   "cell_type": "markdown",
   "metadata": {},
   "source": [
    "# UTILIDADES"
   ]
  },
  {
   "cell_type": "code",
   "execution_count": 4,
   "metadata": {},
   "outputs": [],
   "source": [
    "def diccionario_variables(a):\n",
    "\n",
    "    #Función que imprime información sobre las variables que se usan en el notebook\n",
    "\n",
    "    variable = {\n",
    "\n",
    "        # Variables de rutas para acceder a la data\n",
    "\n",
    "        'ruta_data' : 'Significado: Ruta al directorio de datos \\nDescripción: Guarda la ruta del directorio donde se encuentra la data',\n",
    "        'file_path_2018' : 'Significado: Ruta al archivo de datos del año 2018 \\nDescripción: Guarda la ruta especifica del archivo en formato .csv que contiene los datos de interes para el año 2018',\n",
    "        'file_path_2019' : 'Significado: Ruta al archivo de datos del año 2019 \\nDescripción: Guarda la ruta especifica del archivo en formato .csv que contiene los datos de interes para el año 2019',\n",
    "        'file_path_2020' : 'Significado: Ruta al archivo de datos del año 2020 \\nDescripción: Guarda la ruta especifica del archivo en formato .csv que contiene los datos de interes para el año 2020',\n",
    "        'file_path_2021' : 'Significado: Ruta al archivo de datos del año 2021 \\nDescripción: Guarda la ruta especifica del archivo en formato .csv que contiene los datos de interes para el año 2021',\n",
    "        'file_path_2022' : 'Significado: Ruta al archivo de datos del año 2022 \\nDescripción: Guarda la ruta especifica del archivo en formato .csv que contiene los datos de interes para el año 2022',\n",
    "\n",
    "        # Dataframes\n",
    "\n",
    "        'df_divorcios_2018' : 'Significado: Data Frame de divorcios correspondientes al 2018 \\nDescripción: Guarda la conversión del archivo conjunto_de_datos_2018.csv en un Pandas Data Frame',\n",
    "        'df_divorcios_2019' : 'Significado: Data Frame de divorcios correspondientes al 2019 \\nDescripción: Guarda la conversión del archivo conjunto_de_datos_2019.csv en un Pandas Data Frame',\n",
    "        'df_divorcios_2020' : 'Significado: Data Frame de divorcios correspondientes al 2020 \\nDescripción: Guarda la conversión del archivo conjunto_de_datos_2020.csv en un Pandas Data Frame',\n",
    "        'df_divorcios_2021' : 'Significado: Data Frame de divorcios correspondientes al 2021 \\nDescripción: Guarda la conversión del archivo conjunto_de_datos_2021.csv en un Pandas Data Frame',\n",
    "        'df_divorcios_2022' : 'Significado: Data Frame de divorcios correspondientes al 2022 \\nDescripción: Guarda la conversión del archivo conjunto_de_datos_2022.csv en un Pandas Data Frame',\n",
    "    }\n",
    "\n",
    "    if a in variable:\n",
    "        print(f\"Información de la variable {a}\")\n",
    "\n",
    "        return(variable[a])\n",
    "    else: \n",
    "        print(f\"La variable {a} no se encuentra registrada\")\n",
    "    \n",
    "    diccionario_variables(\"ruta_data\")"
   ]
  },
  {
   "cell_type": "markdown",
   "metadata": {},
   "source": [
    "# IMPORTACIÓN DE RECURSOS "
   ]
  },
  {
   "cell_type": "code",
   "execution_count": 5,
   "metadata": {},
   "outputs": [],
   "source": [
    "# Librerías para interactuar con el sistema operativo y el entorno en el que se ejecuta el script de Python\n",
    "\n",
    "import sys\n",
    "import os\n"
   ]
  },
  {
   "cell_type": "code",
   "execution_count": 6,
   "metadata": {},
   "outputs": [],
   "source": [
    "# Librería para la manipulación de datos, cálculos numéricos y análisis científico\n",
    "\n",
    "import pandas as pd\n",
    "import numpy as np\n",
    "import scipy"
   ]
  },
  {
   "cell_type": "code",
   "execution_count": 7,
   "metadata": {},
   "outputs": [],
   "source": [
    "# Librerías para el uso de gráficos estadísticos \n",
    "\n",
    "import seaborn as sns\n",
    "import matplotlib.pyplot as plt"
   ]
  },
  {
   "cell_type": "code",
   "execution_count": 8,
   "metadata": {},
   "outputs": [],
   "source": [
    "# Se añade el directorio utilidades a la lista de directorios o path para poder ser usado en el notebook con una instrucción 'import'\n",
    "\n",
    "sys.path.append(os.path.abspath('../utilidades'))\n"
   ]
  },
  {
   "cell_type": "code",
   "execution_count": 9,
   "metadata": {},
   "outputs": [
    {
     "name": "stdout",
     "output_type": "stream",
     "text": [
      "\n",
      "Guarda el tipo de tramite del cuál se recoge información en el conjunto de datos.\n",
      " Se designa la **clave '1'** para divorcio Judicial y la **clave '2'** para divorcio Administrativo.\n",
      " Recibe valores de **tipo N**, es decir numéricos.\n",
      "\n",
      "Guarda la entidad donde se realiza el tramite de divorcio.\n",
      " Se designan claves del '01' al '32' para identificar las entidades federativas (Estados),\n",
      " la clave '33' para aquellos divorcios (de matrimonios realizados en territorio mexicano)\n",
      " realizados en los Estados Unidos de América,\n",
      " la calve '34' para aquellos divorcios (de matrimonios realizados \n",
      " en territorio mexicano) realizados en los otros paises de Latiniamérica,\n",
      " la clave '35' para aquellos divorcios (de matrimonios realizados en territorio mexicano) \n",
      " realizados en cualquier otro país que no forme parte de las anteriores consideraciones.\n",
      " Recibe valores de **tipo C**, es decir categóricos\n",
      "\n",
      "Guarda la entidad donde se realiza el tramite de divorcio. \n",
      " \n",
      " Se designan claves del '01' al '32' para identificar las entidades federativas (Estados),\n",
      " la clave '33' para aquellos divorcios (de matrimonios realizados en territorio mexicano)\n",
      " realizados en los Estados Unidos de América,\n",
      " la calve '34' para aquellos divorcios (de matrimonios realizados en \n",
      " territorio mexicano) realizados en los otros paises de Latiniamérica,\n",
      " la clave '35' para aquellos divorcios (de matrimonios realizados en territorio mexicano) \n",
      " realizados en cualquier otro país que no forme parte de las anteriores consideraciones. \n",
      " Recibe valores de **tipo C**, es decir categóricos\n",
      "\n",
      "Guarda la localidad donde se realiza el tramite. \n",
      " \n",
      " Se designan claves del '0000' al '3395' para identificar las localidades del territorio mexicano, \n",
      " mientras que la clave designa '7777' 'Cifra confidencial. Establecido en la Ley del SNIEG.',\n",
      " la clave '9998' y '9999' indica 'localidad no especificada'\n",
      " \n",
      " Recibe valores de tipo C, es decir categóricos\n",
      "\n",
      "Guarda el rango poblacional de la  donde se realizó l tramite de divorcio, \n",
      " designando claves que van del 1 al 17 para los rangos de población, la clave '98' para no aplica y '99' para 'No especificada' \n",
      " \n",
      " clave, descripción  \n",
      " \n",
      "1,  De 1 a 999 habitantes\n",
      " 2,  De 1 000 a 1 999 habitantes\n",
      " 3,  De 2 000 a 2 499 habitantes\n",
      " 4,  De 2 500 a 4 999 habitantes\n",
      " 5,  De 5 000 a 9 999 habitantes\n",
      " 6,  De 10 000 a 14 999 habitantes\n",
      " 7,  De 15 000 a 19 999 habitantes\n",
      " 8,  De 20 000 a 29 999 habitantes\n",
      " 9,  De 30 000 a 39 999 habitantes\n",
      " 10, De 40 000 a 49 999 habitantes\n",
      " 11, De 50 000 a 74 999 habitantes\n",
      " 12, De 75 000 a 99 999 habitantes\n",
      " 13, De 100 000 a 249 999 habitantes\n",
      " 14, De 250 000 a 499 999 habitantes\n",
      "15, De 500 000 a 999 999 habitantes\n",
      " 16, De 1 000 000 a 1 499 999 habitantes\n",
      " 17, De 1 500 000 y más habitantes\n",
      " 98, No aplica\n",
      " 99, No especificado\n",
      "\n",
      "Guarda la entidad donde se realizó el regirto del metrimonio. \n",
      " \n",
      " Se designan claves del '01' al '32' para identificar las entidades federativas (Estados),\n",
      " la clave '33' para aquellos divorcios (de matrimonios realizados en territorio mexicano)\n",
      " realizados en los Estados Unidos de América, \n",
      " la calve '34' para aquellos divorcios (de matrimonios realizados en territorio mexicano)\n",
      " realizados en los otros paises de Latiniamérica, la clave '35' para aquellos divorcios \n",
      " (de matrimonios realizados en territorio mexicano) realizados en cualquier \n",
      " otro país que no forme parte de las anteriores consideraciones.\n",
      " \n",
      " Recibe valores de **tipo C**, es decir categóricos\n",
      "\n",
      "Guarda la municipalidad donde se realizó el registro de matrimonio. \n",
      " \n",
      " Se designan claves del '000' al '930' para identificar las municipalidades del territorio mexicano, \n",
      "  mientras que la clave '998' indica la categoría 'no aplica y la clave '999'\n",
      "  indica 'municipio no indicado' \n",
      " \n",
      " Recibe valores de tipo C, es decir categóricos\n",
      "\n",
      "Guarda la localidad donde se realizó el registro del metrimonio. \n",
      " \n",
      " Se designan claves del '0000' al '3395' para identificar las localidades del territorio mexicano,\n",
      "  mientras que la clave designa '7777' 'Cifra confidencial. Establecido en la Ley del SNIEG.' \n",
      ", la clave '9998' y '9999' indica 'localidad no especificada' \n",
      "\n",
      "Recibe valores de tipo C, es decir categóricos\n",
      "\n",
      "Guarda el rango poblacional de la localidad donde se realizó el regirtro del matrimonio, \n",
      " designando claves que van del 1 al 17 para los rangos de población, la clave '98' para no aplica y '99' para 'No especificada' \n",
      "\n",
      " clave, descripción \n",
      " \n",
      " 1,  De 1 a 999 habitantes \n",
      " 2,  De 1 000 a 1 999 habitantes \n",
      " 3,  De 2 000 a 2 499 habitantes \n",
      " 4,  De 2 500 a 4 999 habitantes \n",
      " 5,  De 5 000 a 9 999 habitantes \n",
      " 6,  De 10 000 a 14 999 habitantes \n",
      " 7,  De 15 000 a 19 999 habitantes \n",
      " 8,  De 20 000 a 29 999 habitantes\n",
      " 9,  De 30 000 a 39 999 habitantes \n",
      " 10, De 40 000 a 49 999 habitantes \n",
      " 11, De 50 000 a 74 999 habitantes \n",
      " 12, De 75 000 a 99 999 habitantes \n",
      " 13, De 100 000 a 249 999 habitantes \n",
      " 14, De 250 000 a 499 999 habitantes \n",
      " 15, De 500 000 a 999 999 habitantes \n",
      " 16, De 1 000 000 a 1 499 999 habitantes \n",
      " 17, De 1 500 000 y más habitantes \n",
      " 98, No aplica\n",
      "\n",
      "Guarda el día del mes en el que se ralizó el registro del matrimonio. \n",
      " \n",
      " Se asignan valores del 1 al 31 para los días y el valor 99 para describir un valor no especificado.\n",
      "\n",
      "Guarda el mes en el cual se realiza el registro del matrimonio de la siguiente manera: \n",
      " \n",
      " clave,   descripción \n",
      " \n",
      " 1,       Enero \n",
      " 2,       Febrero \n",
      " 3,       Marzo\n",
      " 4,       Abril \n",
      " 5,       Mayo \n",
      " 6,       Junio \n",
      " 7,       Julio \n",
      " 8,       Agosto \n",
      " 9,       Septiembre \n",
      " 10,      Octubre \n",
      " 11,      Noviembre \n",
      " 12,      Diciembre \n",
      " 99,      No especificado\n",
      "\n",
      "Registra el año que se realizó el matrimonio con valores desde **1950** hasta el año de recolección de cada conjunto de datos\n",
      "\n",
      "Guarda el día del mes en el que se ralizó el registro de la demanda de divorcio. \n",
      " \n",
      " Se asignan valores del 1 al 31 para los días y el valor 99 para describir un valor no especificado.\n",
      "\n",
      "Guarda el mes en el cual se realiza el registro de la demanda de la siguiente manera: \n",
      " \n",
      " clave,   descripción \n",
      " 1,       Enero \n",
      " 2,       Febrero \n",
      " 3,       Marzo \n",
      " 4,       Abril \n",
      " 5,       Mayo \n",
      " 6,       Junio \n",
      " 7,       Julio \n",
      " 8,       Agosto \n",
      " 9,       Septiembre \n",
      " 10,      Octubre \n",
      " 11,      Noviembre \n",
      " 12,      Diciembre \n",
      " 99,      No especificado\n",
      "\n",
      "Registra el año que se registro la demanda de divorcio con valores desde **1950** hasta el año de recolección de cada conjunto de datos\n",
      "\n",
      "Guarda el día del mes en el que se emitio la sentencia de la demanda de divorcio.\n",
      "\n",
      " Se asignan valores del 1 al 31 para los días y el valor 99 para describir un valor no especificado.\n",
      "\n",
      "Guarda el mes en el cual se emitió la sentencia de la demanda de divorcio de la siguiente manera: \n",
      " \n",
      "clave, descripción 1, Enero 2, Febrero 3, Marzo 4, Abril 5, Mayo 6, Junio 7, Julio 8, Agosto 9, Septiembre 10, Octubre 11, Noviembre 12, Diciembre 99, No especificado\n",
      "La clave 'dia-eje' no se encuentra registrada\n",
      "None\n",
      "La clave 'mes-eje' no se encuentra registrada\n",
      "None\n",
      "La clave 'anio-eje' no se encuentra registrada\n",
      "None\n",
      "\n",
      "Indica cuál de los conyuges inicia el proceso de divorcio. clave,   descripcion 1,       Divorciante 1 2,       Divorciante 2 3,       Ambos 9,       No especificado\n",
      "\n",
      "Indica a favor de quién se resolvio la demanda: clave, descripcion 1, Divorciante 1 2, Divorciante 2 3, Ambos 9, No especificado\n",
      "\n",
      "Contiene las causales presentadas para iniciar la demanda de divorcio, de la siguiente forma: clave,descripcion 1,Mutuo consentimiento 2,Adulterio o infidelidad sexual 3,Alumbramiento ilegítimo 4,Propuesta de prostitución 5,Incitación a la violencia 6,Corrupcion y/o maltrato a los hijos 7,'Enfermedad crónica o incurable, la impotencia o esterilidad incurable' 8,Enajenación mental incurable o el estado de interdicción declarado por sentencia 9,'Separación del hogar conyugal por más de 1 año, con o sin causa justificada' 10,'Abandono de hogar por más de 3 o 6 meses, sin causa justificada' 11,Declaración de ausencia o presunción de muerte 12,'Sevicia, amenazas o injurias o la violencia intrafamiliar' 13,Negativa a contribuir voluntariamente o por sentencia del juez familiar al sostenimiento del hogar 14,Acusación calumniosa 15,Haber cometido delito doloso o infamante 16,'Hábitos de juego, embriaguez o drogas' 17,Cometer acto delictivo contra el cónyuge 18,Incompatibilidad de caracteres 19,La separación por 2 años o más independientemente del motivo 20,La bigamia 21,'No acompañar la mujer a su marido, cuando cambie de residencia dentro o fuera del país' 22,'Si un cónyuge solicitó el divorcio por causa injustificada, el demandado puede divorciarse 3 meses después de la última sentencia' 23,Fecundación asistida sin consentimiento del cónyuge 24,Impedir uno de los cónyuges a otro desempeñar una actividad lícita 25,Reconocer la mujer a un hijo nacido antes del matrimonio sin consentimiento del marido 26,Uso de métodos de esterilización permanente sin consentimiento del cónyuge 27,'Bisexualidad manifestada, o intención o cambio de sexo por tratamiento médico o quirúrgico' 28,Voluntario unilateral 99,No especificada\n",
      "\n",
      "Contiene el numero de hijos existententes en el matrimonio desde 0 hasta 25 y se designan las claves 98 para no aplica y la clave 99 para no especificado\n"
     ]
    }
   ],
   "source": [
    "# Módulo creado para consultar de forma más répida información del proyecto como el significado de los nombres de las columnas\n",
    "import diccionario_dataset\n"
   ]
  },
  {
   "cell_type": "code",
   "execution_count": 10,
   "metadata": {},
   "outputs": [],
   "source": [
    "import glob"
   ]
  },
  {
   "cell_type": "markdown",
   "metadata": {},
   "source": [
    "# ADQUISICIÓN DE DATOS "
   ]
  },
  {
   "cell_type": "code",
   "execution_count": 11,
   "metadata": {},
   "outputs": [],
   "source": [
    "ruta_data = '../datasets'"
   ]
  },
  {
   "cell_type": "code",
   "execution_count": 12,
   "metadata": {},
   "outputs": [],
   "source": [
    "file_path_2018 = os.path.join(ruta_data, 'datos_2018/conjunto_de_datos/conjunto_de_datos_divorcios_2018.csv')\n",
    "file_path_2019 = os.path.join(ruta_data, 'datos_2019/conjunto_de_datos/conjunto_de_datos_divorcios_2019.csv')\n",
    "file_path_2020 = os.path.join(ruta_data, 'datos_2020/conjunto_de_datos/conjunto_de_datos_divorcios_2020.csv')\n",
    "file_path_2021 = os.path.join(ruta_data, 'datos_2021/conjunto_de_datos/conjunto_de_datos_divorcios_2021.csv')\n",
    "file_path_2022 = os.path.join(ruta_data, 'datos_2022/conjunto_de_datos/conjunto_de_datos_divorcios_2022.csv')"
   ]
  },
  {
   "cell_type": "code",
   "execution_count": 13,
   "metadata": {},
   "outputs": [],
   "source": [
    "df_divorcios_2018 = pd.read_csv(file_path_2018)\n",
    "df_divorcios_2019 = pd.read_csv(file_path_2019)\n",
    "df_divorcios_2020 = pd.read_csv(file_path_2020)\n",
    "df_divorcios_2021 = pd.read_csv(file_path_2021)\n",
    "df_divorcios_2022 = pd.read_csv(file_path_2022)"
   ]
  },
  {
   "cell_type": "markdown",
   "metadata": {},
   "source": [
    "# EDA PRELIMINAR"
   ]
  },
  {
   "cell_type": "markdown",
   "metadata": {},
   "source": [
    "## Revisión de la forma de los datasets"
   ]
  },
  {
   "cell_type": "code",
   "execution_count": 14,
   "metadata": {},
   "outputs": [
    {
     "data": {
      "text/plain": [
       "(156556, 64)"
      ]
     },
     "execution_count": 14,
     "metadata": {},
     "output_type": "execute_result"
    }
   ],
   "source": [
    "df_divorcios_2018.shape"
   ]
  },
  {
   "cell_type": "code",
   "execution_count": 15,
   "metadata": {},
   "outputs": [
    {
     "data": {
      "text/plain": [
       "(156556, 64)"
      ]
     },
     "execution_count": 15,
     "metadata": {},
     "output_type": "execute_result"
    }
   ],
   "source": [
    "df_divorcios_2018.shape"
   ]
  },
  {
   "cell_type": "code",
   "execution_count": 16,
   "metadata": {},
   "outputs": [
    {
     "data": {
      "text/plain": [
       "(160107, 64)"
      ]
     },
     "execution_count": 16,
     "metadata": {},
     "output_type": "execute_result"
    }
   ],
   "source": [
    "df_divorcios_2019.shape"
   ]
  },
  {
   "cell_type": "code",
   "execution_count": 17,
   "metadata": {},
   "outputs": [
    {
     "data": {
      "text/plain": [
       "(92739, 64)"
      ]
     },
     "execution_count": 17,
     "metadata": {},
     "output_type": "execute_result"
    }
   ],
   "source": [
    "df_divorcios_2020.shape"
   ]
  },
  {
   "cell_type": "code",
   "execution_count": 18,
   "metadata": {},
   "outputs": [
    {
     "data": {
      "text/plain": [
       "(149675, 64)"
      ]
     },
     "execution_count": 18,
     "metadata": {},
     "output_type": "execute_result"
    }
   ],
   "source": [
    "df_divorcios_2021.shape"
   ]
  },
  {
   "cell_type": "code",
   "execution_count": 19,
   "metadata": {},
   "outputs": [
    {
     "data": {
      "text/plain": [
       "(166766, 64)"
      ]
     },
     "execution_count": 19,
     "metadata": {},
     "output_type": "execute_result"
    }
   ],
   "source": [
    "df_divorcios_2022.shape"
   ]
  },
  {
   "cell_type": "code",
   "execution_count": 20,
   "metadata": {},
   "outputs": [],
   "source": [
    "df_originales = {\n",
    "\n",
    "    '2018' : df_divorcios_2018,\n",
    "    '2019' : df_divorcios_2019,\n",
    "    '2020' : df_divorcios_2020,\n",
    "    '2021' : df_divorcios_2021,\n",
    "    '2022' : df_divorcios_2022\n",
    "}"
   ]
  },
  {
   "cell_type": "code",
   "execution_count": 21,
   "metadata": {},
   "outputs": [],
   "source": [
    "forma = {elemento: df.shape for elemento, df in df_originales.items()}"
   ]
  },
  {
   "cell_type": "code",
   "execution_count": 22,
   "metadata": {},
   "outputs": [],
   "source": [
    "df_forma = pd.DataFrame.from_dict(forma, orient='index', columns=['Filas', 'Columnas'])\n"
   ]
  },
  {
   "cell_type": "code",
   "execution_count": 23,
   "metadata": {},
   "outputs": [
    {
     "name": "stdout",
     "output_type": "stream",
     "text": [
      "       Filas  Columnas\n",
      "2018  156556        64\n",
      "2019  160107        64\n",
      "2020   92739        64\n",
      "2021  149675        64\n",
      "2022  166766        64\n"
     ]
    }
   ],
   "source": [
    "print(df_forma)"
   ]
  },
  {
   "cell_type": "markdown",
   "metadata": {},
   "source": [
    "**Observaciones:**\n",
    "\n",
    "Se comprobó que los dataset cuentan con la misma cantidad de columnas "
   ]
  },
  {
   "cell_type": "markdown",
   "metadata": {},
   "source": [
    "## Verificación de existencia de columnas comunes entre data sets"
   ]
  },
  {
   "cell_type": "code",
   "execution_count": 30,
   "metadata": {},
   "outputs": [],
   "source": [
    "l_columns_2018 = df_divorcios_2018.columns.to_list()\n",
    "l_columns_2019 = df_divorcios_2019.columns.to_list()\n",
    "l_columns_2020 = df_divorcios_2020.columns.to_list()\n",
    "l_columns_2021 = df_divorcios_2021.columns.to_list()\n",
    "l_columns_2022 = df_divorcios_2022.columns.to_list()"
   ]
  },
  {
   "cell_type": "code",
   "execution_count": 32,
   "metadata": {},
   "outputs": [],
   "source": [
    "df_columns_2018 = pd.DataFrame({\"2018\" : l_columns_2018})\n",
    "df_columns_2019 = pd.DataFrame({\"2019\" : l_columns_2019})\n",
    "df_columns_2020 = pd.DataFrame({'2020': l_columns_2020}) \n",
    "df_columns_2021 = pd.DataFrame({'2021' : l_columns_2021})\n",
    "df_columns_2022 = pd.DataFrame({'2022': l_columns_2022})"
   ]
  }
 ],
 "metadata": {
  "kernelspec": {
   "display_name": "env_divorcios_mx",
   "language": "python",
   "name": "python3"
  },
  "language_info": {
   "codemirror_mode": {
    "name": "ipython",
    "version": 3
   },
   "file_extension": ".py",
   "mimetype": "text/x-python",
   "name": "python",
   "nbconvert_exporter": "python",
   "pygments_lexer": "ipython3",
   "version": "3.12.1"
  }
 },
 "nbformat": 4,
 "nbformat_minor": 2
}
