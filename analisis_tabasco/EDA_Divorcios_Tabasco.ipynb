{
 "cells": [
  {
   "cell_type": "markdown",
   "metadata": {},
   "source": [
    "# UTILIDADES"
   ]
  },
  {
   "cell_type": "code",
   "execution_count": 1,
   "metadata": {},
   "outputs": [],
   "source": [
    "def diccionario_variables(a):\n",
    "\n",
    "    #Función que imprime información sobre las variables que se usan en el notebook\n",
    "\n",
    "    variable = {\n",
    "\n",
    "        # Variables de rutas para acceder a la data\n",
    "\n",
    "        'ruta_data' : 'Significado: Ruta al directorio de datos \\nDescripción: Guarda la ruta del directorio donde se encuentra la data',\n",
    "        'file_path_2018' : 'Significado: Ruta al archivo de datos del año 2018 \\nDescripción: Guarda la ruta especifica del archivo en formato .csv que contiene los datos de interes para el año 2018',\n",
    "        'file_path_2019' : 'Significado: Ruta al archivo de datos del año 2019 \\nDescripción: Guarda la ruta especifica del archivo en formato .csv que contiene los datos de interes para el año 2019',\n",
    "        'file_path_2020' : 'Significado: Ruta al archivo de datos del año 2020 \\nDescripción: Guarda la ruta especifica del archivo en formato .csv que contiene los datos de interes para el año 2020',\n",
    "        'file_path_2021' : 'Significado: Ruta al archivo de datos del año 2021 \\nDescripción: Guarda la ruta especifica del archivo en formato .csv que contiene los datos de interes para el año 2021',\n",
    "        'file_path_2022' : 'Significado: Ruta al archivo de datos del año 2022 \\nDescripción: Guarda la ruta especifica del archivo en formato .csv que contiene los datos de interes para el año 2022',\n",
    "\n",
    "        # Dataframes\n",
    "\n",
    "        'df_divorcios_2018' : 'Significado: Data Frame de divorcios correspondientes al 2018 \\nDescripción: Guarda la conversión del archivo conjunto_de_datos_2018.csv en un Pandas Data Frame',\n",
    "        'df_divorcios_2019' : 'Significado: Data Frame de divorcios correspondientes al 2019 \\nDescripción: Guarda la conversión del archivo conjunto_de_datos_2019.csv en un Pandas Data Frame',\n",
    "        'df_divorcios_2020' : 'Significado: Data Frame de divorcios correspondientes al 2020 \\nDescripción: Guarda la conversión del archivo conjunto_de_datos_2020.csv en un Pandas Data Frame',\n",
    "        'df_divorcios_2021' : 'Significado: Data Frame de divorcios correspondientes al 2021 \\nDescripción: Guarda la conversión del archivo conjunto_de_datos_2021.csv en un Pandas Data Frame',\n",
    "        'df_divorcios_2022' : 'Significado: Data Frame de divorcios correspondientes al 2022 \\nDescripción: Guarda la conversión del archivo conjunto_de_datos_2022.csv en un Pandas Data Frame',\n",
    "        'df_originales' : 'Significado: Data Frames originales de divorcios correspondientes al 2022 \\nDescripción: Guarda un diccionario con los Data Frame que contienen la información \\ndel conjunto de datos para los años del 2018 al 2022',\n",
    "\n",
    "\n",
    "        'forma' : 'Significado: Forma que tienen los data frames \\nDescripción: crea un nuevo diccionario llamado forma donde cada clave es el nombre de un DataFrame en el diccionario df_originales \\ny el valor asociado es una tupla que indica el número de filas y columnas de ese DataFrame.',\n",
    "        'df_forma':'Significado: Data Frame forma \\nDescripción: Convierte el valor guardado en la variable \"forma\" en un Pandas Dataframe.', \n",
    "\n",
    "        'l_columns_2018' : 'Significado: Lista de columnas de un dataframe con valores del 2018 \\nDescripción: Convierte las etiquetas o cabeceras de columnas del data frame \"df_divorcios_2018\" en una lista',\n",
    "        'l_columns_2019' : 'Significado: Lista de columnas de un dataframe con valores del 2019 \\nDescripción: Convierte las etiquetas o cabeceras de columnas del data frame \"df_divorcios_2019\" en una lista',\n",
    "        'l_columns_2020' : 'Significado: Lista de columnas de un dataframe con valores del 2020 \\nDescripción: Convierte las etiquetas o cabeceras de columnas del data frame \"df_divorcios_2020\" en una lista',\n",
    "        'l_columns_2021' : 'Significado: Lista de columnas de un dataframe con valores del 2021 \\nDescripción: Convierte las etiquetas o cabeceras de columnas del data frame \"df_divorcios_2021\" en una lista',\n",
    "        'l_columns_2022' : 'Significado: Lista de columnas de un dataframe con valores del 2022 \\nDescripción: Convierte las etiquetas o cabeceras de columnas del data frame \"df_divorcios_2022\" en una lista',\n",
    "\n",
    "        'df_columns_2018' : 'Significado: Data frame de columnas de datos del 2018 \\nDescripción: Convierte el valor de \"l_columns_2018\" en un data frame de una dimensión donde la etiqueta de la columna corresponde al año 2018',\n",
    "        'df_columns_2019' : 'Significado: Data frame de columnas de datos del 2019 \\nDescripción: Convierte el valor de \"l_columns_2019\" en un data frame de una dimensión donde la etiqueta de la columna corresponde al año 2019',\n",
    "        'df_columns_2020' : 'Significado: Data frame de columnas de datos del 2020 \\nDescripción: Convierte el valor de \"l_columns_2020\" en un data frame de una dimensión donde la etiqueta de la columna corresponde al año 2020',\n",
    "        'df_columns_2021' : 'Significado: Data frame de columnas de datos del 2021 \\nDescripción: Convierte el valor de \"l_columns_2021\" en un data frame de una dimensión donde la etiqueta de la columna corresponde al año 2021',\n",
    "        'df_columns_2021' : 'Significado: Data frame de columnas de datos del 2022 \\nDescripción: Convierte el valor de \"l_columns_2022\" en un data frame de una dimensión donde la etiqueta de la columna corresponde al año 2022',\n",
    "\n",
    "        'df_columnas' : 'Significado: Data Frame de columnas \\nDescripción: Concatena los data frame \"df_columns_2018\",\"df_columns_2019\",\"df_columns_2020\",\"df_columns_2021\" y \"df_columns_2022\"' \n",
    "        \n",
    "    }\n",
    "\n",
    "    if a in variable:\n",
    "        print(f\"Información de la variable {a}\")\n",
    "\n",
    "        return(variable[a])\n",
    "    else: \n",
    "        print(f\"La variable {a} no se encuentra registrada\")\n",
    "    \n",
    "    diccionario_variables()"
   ]
  },
  {
   "cell_type": "code",
   "execution_count": null,
   "metadata": {},
   "outputs": [],
   "source": [
    "def lista_variables():\n",
    "\n",
    "    variable = {\n",
    "\n",
    "        # Variables de rutas para acceder a la data\n",
    "\n",
    "        'ruta_data' : 'Significado: Ruta al directorio de datos',\n",
    "        'file_path_2018' : 'Significado: Ruta al archivo de datos del año 2018 del archivo en formato .csv que contiene los datos de interes para el año 2018',\n",
    "        'file_path_2019' : 'Significado: Ruta al archivo de datos del año 2019',\n",
    "        'file_path_2020' : 'Significado: Ruta al archivo de datos del año 2020',\n",
    "        'file_path_2021' : 'Significado: Ruta al archivo de datos del año 2021',\n",
    "        'file_path_2022' : 'Significado: Ruta al archivo de datos del año 2022',\n",
    "\n",
    "        # Dataframes\n",
    "\n",
    "        'df_divorcios_2018' : 'Significado: Data Frame de divorcios correspondientes al 2018',\n",
    "        'df_divorcios_2019' : 'Significado: Data Frame de divorcios correspondientes al 2019',\n",
    "        'df_divorcios_2020' : 'Significado: Data Frame de divorcios correspondientes al 2020',\n",
    "        'df_divorcios_2021' : 'Significado: Data Frame de divorcios correspondientes al 2021',\n",
    "        'df_divorcios_2022' : 'Significado: Data Frame de divorcios correspondientes al 2022',\n",
    "        'df_originales' : 'Significado: Data Frames originales de divorcios correspondientes al 2022',\n",
    "\n",
    "\n",
    "        'forma' : 'Significado: Forma que tienen los data frames',\n",
    "        'df_forma':'Significado: Data Frame forma', \n",
    "\n",
    "        'l_columns_2018' : 'Significado: Lista de columnas de un dataframe con valores del 2018',\n",
    "        'l_columns_2019' : 'Significado: Lista de columnas de un dataframe con valores del 2019',\n",
    "        'l_columns_2020' : 'Significado: Lista de columnas de un dataframe con valores del 2020',\n",
    "        'l_columns_2021' : 'Significado: Lista de columnas de un dataframe con valores del 2021',\n",
    "        'l_columns_2022' : 'Significado: Lista de columnas de un dataframe con valores del 2022',\n",
    "\n",
    "        'df_columns_2018' : 'Significado: Data frame de columnas de datos del 2018',\n",
    "        'df_columns_2019' : 'Significado: Data frame de columnas de datos del 2019',\n",
    "        'df_columns_2020' : 'Significado: Data frame de columnas de datos del 2020',\n",
    "        'df_columns_2021' : 'Significado: Data frame de columnas de datos del 2021',\n",
    "        'df_columns_2021' : 'Significado: Data frame de columnas de datos del 2022',\n",
    "\n",
    "        'df_columnas' : 'Significado: Data Frame de columnas' \n",
    "        \n",
    "    }\n",
    "    \n",
    "    print(\"Lista de variables del notebook\")\n",
    "\n",
    "    for c, v in variable.items():\n",
    "\n",
    "        print(f\"{c} ------> {v}\")\n",
    "\n",
    "lista_variables()\n"
   ]
  },
  {
   "cell_type": "markdown",
   "metadata": {},
   "source": [
    "# IMPORTACIÓN DE RECURSOS "
   ]
  },
  {
   "cell_type": "code",
   "execution_count": 4,
   "metadata": {},
   "outputs": [],
   "source": [
    "# Librerías para interactuar con el sistema operativo y el entorno en el que se ejecuta el script de Python\n",
    "\n",
    "import sys\n",
    "import os\n"
   ]
  },
  {
   "cell_type": "code",
   "execution_count": 5,
   "metadata": {},
   "outputs": [],
   "source": [
    "# Librería para la manipulación de datos, cálculos numéricos y análisis científico\n",
    "\n",
    "import pandas as pd\n",
    "import numpy as np\n",
    "import scipy"
   ]
  },
  {
   "cell_type": "code",
   "execution_count": 6,
   "metadata": {},
   "outputs": [],
   "source": [
    "# Librerías para el uso de gráficos estadísticos \n",
    "\n",
    "import seaborn as sns\n",
    "import matplotlib.pyplot as plt"
   ]
  },
  {
   "cell_type": "code",
   "execution_count": 7,
   "metadata": {},
   "outputs": [],
   "source": [
    "# Se añade el directorio utilidades a la lista de directorios o path para poder ser usado en el notebook con una instrucción 'import'\n",
    "\n",
    "sys.path.append(os.path.abspath('../utilidades'))\n"
   ]
  },
  {
   "cell_type": "code",
   "execution_count": 9,
   "metadata": {},
   "outputs": [],
   "source": [
    "# Módulo creado para consultar de forma más rápida información del proyecto como el significado de los nombres de las columnas\n",
    "import diccionario_dataset\n"
   ]
  },
  {
   "cell_type": "code",
   "execution_count": 10,
   "metadata": {},
   "outputs": [],
   "source": [
    "import glob"
   ]
  },
  {
   "cell_type": "code",
   "execution_count": 14,
   "metadata": {},
   "outputs": [
    {
     "name": "stdout",
     "output_type": "stream",
     "text": [
      "\n",
      "Duración legal del matrimonio Se asigna valores de 1 a 91 para los años de duración del matrimonio.\n",
      "\n",
      " 92 se asigna a aquellos matrimonios que hayan durado 92 o más años,\n",
      " 93 para los matrimonios con duración de menos de un mes,\n",
      " 94 para aquellos con una duración de 1 a 2 meses,\n",
      " 95 para aquellos con duración de 3 meses,\n",
      " 96 para aquellos con duración de 4 a 5 meses,\n",
      " 97 para aquellos con duración de 6 meses,\n",
      " 98 para los que tienen una duración de entre 7 a 11 meses \n",
      " y 99 para duración No especificada.\n"
     ]
    }
   ],
   "source": [
    "print(diccionario_dataset.info_features(\"dura_leg\"))"
   ]
  },
  {
   "cell_type": "markdown",
   "metadata": {},
   "source": [
    "# ADQUISICIÓN DE DATOS "
   ]
  },
  {
   "cell_type": "code",
   "execution_count": 15,
   "metadata": {},
   "outputs": [],
   "source": [
    "ruta_data = '../datasets'"
   ]
  },
  {
   "cell_type": "code",
   "execution_count": 17,
   "metadata": {},
   "outputs": [],
   "source": [
    "file_path_2018 = os.path.join(ruta_data, 'datos_2018/conjunto_de_datos/conjunto_de_datos_divorcios_2018.csv')\n",
    "file_path_2019 = os.path.join(ruta_data, 'datos_2019/conjunto_de_datos/conjunto_de_datos_divorcios_2019.csv')\n",
    "file_path_2020 = os.path.join(ruta_data, 'datos_2020/conjunto_de_datos/conjunto_de_datos_divorcios_2020.csv')\n",
    "file_path_2021 = os.path.join(ruta_data, 'datos_2021/conjunto_de_datos/conjunto_de_datos_divorcios_2021.csv')\n",
    "file_path_2022 = os.path.join(ruta_data, 'datos_2022/conjunto_de_datos/conjunto_de_datos_divorcios_2022.csv')"
   ]
  },
  {
   "cell_type": "code",
   "execution_count": 18,
   "metadata": {},
   "outputs": [],
   "source": [
    "df_divorcios_2018 = pd.read_csv(file_path_2018)\n",
    "df_divorcios_2019 = pd.read_csv(file_path_2019)\n",
    "df_divorcios_2020 = pd.read_csv(file_path_2020)\n",
    "df_divorcios_2021 = pd.read_csv(file_path_2021)\n",
    "df_divorcios_2022 = pd.read_csv(file_path_2022)"
   ]
  },
  {
   "cell_type": "markdown",
   "metadata": {},
   "source": [
    "# EDA PRELIMINAR"
   ]
  },
  {
   "cell_type": "markdown",
   "metadata": {},
   "source": [
    "## Revisión de la forma de los datasets"
   ]
  },
  {
   "cell_type": "code",
   "execution_count": 19,
   "metadata": {},
   "outputs": [
    {
     "data": {
      "text/plain": [
       "(156556, 64)"
      ]
     },
     "execution_count": 19,
     "metadata": {},
     "output_type": "execute_result"
    }
   ],
   "source": [
    "df_divorcios_2018.shape"
   ]
  },
  {
   "cell_type": "code",
   "execution_count": 20,
   "metadata": {},
   "outputs": [
    {
     "data": {
      "text/plain": [
       "(156556, 64)"
      ]
     },
     "execution_count": 20,
     "metadata": {},
     "output_type": "execute_result"
    }
   ],
   "source": [
    "df_divorcios_2018.shape"
   ]
  },
  {
   "cell_type": "code",
   "execution_count": 21,
   "metadata": {},
   "outputs": [
    {
     "data": {
      "text/plain": [
       "(160107, 64)"
      ]
     },
     "execution_count": 21,
     "metadata": {},
     "output_type": "execute_result"
    }
   ],
   "source": [
    "df_divorcios_2019.shape"
   ]
  },
  {
   "cell_type": "code",
   "execution_count": 22,
   "metadata": {},
   "outputs": [
    {
     "data": {
      "text/plain": [
       "(92739, 64)"
      ]
     },
     "execution_count": 22,
     "metadata": {},
     "output_type": "execute_result"
    }
   ],
   "source": [
    "df_divorcios_2020.shape"
   ]
  },
  {
   "cell_type": "code",
   "execution_count": 23,
   "metadata": {},
   "outputs": [
    {
     "data": {
      "text/plain": [
       "(149675, 64)"
      ]
     },
     "execution_count": 23,
     "metadata": {},
     "output_type": "execute_result"
    }
   ],
   "source": [
    "df_divorcios_2021.shape"
   ]
  },
  {
   "cell_type": "code",
   "execution_count": 24,
   "metadata": {},
   "outputs": [
    {
     "data": {
      "text/plain": [
       "(166766, 64)"
      ]
     },
     "execution_count": 24,
     "metadata": {},
     "output_type": "execute_result"
    }
   ],
   "source": [
    "df_divorcios_2022.shape"
   ]
  },
  {
   "cell_type": "code",
   "execution_count": 25,
   "metadata": {},
   "outputs": [],
   "source": [
    "df_originales = {\n",
    "\n",
    "    '2018' : df_divorcios_2018,\n",
    "    '2019' : df_divorcios_2019,\n",
    "    '2020' : df_divorcios_2020,\n",
    "    '2021' : df_divorcios_2021,\n",
    "    '2022' : df_divorcios_2022\n",
    "}"
   ]
  },
  {
   "cell_type": "code",
   "execution_count": 26,
   "metadata": {},
   "outputs": [],
   "source": [
    "forma = {elemento: df.shape for elemento, df in df_originales.items()}"
   ]
  },
  {
   "cell_type": "code",
   "execution_count": 27,
   "metadata": {},
   "outputs": [],
   "source": [
    "df_forma = pd.DataFrame.from_dict(forma, orient='index', columns=['Filas', 'Columnas'])\n"
   ]
  },
  {
   "cell_type": "code",
   "execution_count": 28,
   "metadata": {},
   "outputs": [
    {
     "name": "stdout",
     "output_type": "stream",
     "text": [
      "       Filas  Columnas\n",
      "2018  156556        64\n",
      "2019  160107        64\n",
      "2020   92739        64\n",
      "2021  149675        64\n",
      "2022  166766        64\n"
     ]
    }
   ],
   "source": [
    "print(df_forma)"
   ]
  },
  {
   "cell_type": "markdown",
   "metadata": {},
   "source": [
    "**Observaciones:**\n",
    "\n",
    "Se comprobó que los dataset cuentan con la misma cantidad de columnas "
   ]
  },
  {
   "cell_type": "markdown",
   "metadata": {},
   "source": [
    "## Verificación de existencia de columnas comunes entre data sets"
   ]
  },
  {
   "cell_type": "code",
   "execution_count": 29,
   "metadata": {},
   "outputs": [],
   "source": [
    "l_columns_2018 = df_divorcios_2018.columns.to_list()\n",
    "l_columns_2019 = df_divorcios_2019.columns.to_list()\n",
    "l_columns_2020 = df_divorcios_2020.columns.to_list()\n",
    "l_columns_2021 = df_divorcios_2021.columns.to_list()\n",
    "l_columns_2022 = df_divorcios_2022.columns.to_list()"
   ]
  },
  {
   "cell_type": "code",
   "execution_count": 30,
   "metadata": {},
   "outputs": [],
   "source": [
    "#Convierte las listas de 'Etiquetas de columnas' y las convierte DataFrames\n",
    "\n",
    "df_columns_2018 = pd.DataFrame({\"2018\" : l_columns_2018})\n",
    "df_columns_2019 = pd.DataFrame({\"2019\" : l_columns_2019})\n",
    "df_columns_2020 = pd.DataFrame({'2020': l_columns_2020}) \n",
    "df_columns_2021 = pd.DataFrame({'2021' : l_columns_2021})\n",
    "df_columns_2022 = pd.DataFrame({'2022': l_columns_2022})"
   ]
  },
  {
   "cell_type": "code",
   "execution_count": 31,
   "metadata": {},
   "outputs": [
    {
     "data": {
      "text/html": [
       "<div>\n",
       "<style scoped>\n",
       "    .dataframe tbody tr th:only-of-type {\n",
       "        vertical-align: middle;\n",
       "    }\n",
       "\n",
       "    .dataframe tbody tr th {\n",
       "        vertical-align: top;\n",
       "    }\n",
       "\n",
       "    .dataframe thead th {\n",
       "        text-align: right;\n",
       "    }\n",
       "</style>\n",
       "<table border=\"1\" class=\"dataframe\">\n",
       "  <thead>\n",
       "    <tr style=\"text-align: right;\">\n",
       "      <th></th>\n",
       "      <th>2018</th>\n",
       "      <th>2019</th>\n",
       "      <th>2020</th>\n",
       "      <th>2021</th>\n",
       "      <th>2022</th>\n",
       "    </tr>\n",
       "  </thead>\n",
       "  <tbody>\n",
       "    <tr>\n",
       "      <th>0</th>\n",
       "      <td>tipo_div</td>\n",
       "      <td>tipo_div</td>\n",
       "      <td>tipo_div</td>\n",
       "      <td>tipo_div</td>\n",
       "      <td>tipo_div</td>\n",
       "    </tr>\n",
       "    <tr>\n",
       "      <th>1</th>\n",
       "      <td>ent_regis</td>\n",
       "      <td>ent_regis</td>\n",
       "      <td>ent_regis</td>\n",
       "      <td>ent_regis</td>\n",
       "      <td>ent_regis</td>\n",
       "    </tr>\n",
       "    <tr>\n",
       "      <th>2</th>\n",
       "      <td>mun_regis</td>\n",
       "      <td>mun_regis</td>\n",
       "      <td>mun_regis</td>\n",
       "      <td>mun_regis</td>\n",
       "      <td>mun_regis</td>\n",
       "    </tr>\n",
       "    <tr>\n",
       "      <th>3</th>\n",
       "      <td>loc_regis</td>\n",
       "      <td>loc_regis</td>\n",
       "      <td>loc_regis</td>\n",
       "      <td>loc_regis</td>\n",
       "      <td>loc_regis</td>\n",
       "    </tr>\n",
       "    <tr>\n",
       "      <th>4</th>\n",
       "      <td>tloc_regis</td>\n",
       "      <td>tloc_regis</td>\n",
       "      <td>tloc_regis</td>\n",
       "      <td>tloc_regis</td>\n",
       "      <td>tloc_regis</td>\n",
       "    </tr>\n",
       "    <tr>\n",
       "      <th>...</th>\n",
       "      <td>...</td>\n",
       "      <td>...</td>\n",
       "      <td>...</td>\n",
       "      <td>...</td>\n",
       "      <td>...</td>\n",
       "    </tr>\n",
       "    <tr>\n",
       "      <th>59</th>\n",
       "      <td>dura_leg</td>\n",
       "      <td>dura_leg</td>\n",
       "      <td>dura_leg</td>\n",
       "      <td>dura_leg</td>\n",
       "      <td>dura_leg</td>\n",
       "    </tr>\n",
       "    <tr>\n",
       "      <th>60</th>\n",
       "      <td>edad_mdiv1</td>\n",
       "      <td>edad_mdiv1</td>\n",
       "      <td>edad_mdiv1</td>\n",
       "      <td>edad_mdiv1</td>\n",
       "      <td>edad_mdiv1</td>\n",
       "    </tr>\n",
       "    <tr>\n",
       "      <th>61</th>\n",
       "      <td>edad_mdiv2</td>\n",
       "      <td>edad_mdiv2</td>\n",
       "      <td>edad_mdiv2</td>\n",
       "      <td>edad_mdiv2</td>\n",
       "      <td>edad_mdiv2</td>\n",
       "    </tr>\n",
       "    <tr>\n",
       "      <th>62</th>\n",
       "      <td>t_dvante</td>\n",
       "      <td>t_dvante</td>\n",
       "      <td>t_dvante</td>\n",
       "      <td>t_dvante</td>\n",
       "      <td>t_dvante</td>\n",
       "    </tr>\n",
       "    <tr>\n",
       "      <th>63</th>\n",
       "      <td>dis_reoax</td>\n",
       "      <td>dis_reoax</td>\n",
       "      <td>dis_reoax</td>\n",
       "      <td>dis_reoax</td>\n",
       "      <td>dis_reoax</td>\n",
       "    </tr>\n",
       "  </tbody>\n",
       "</table>\n",
       "<p>64 rows × 5 columns</p>\n",
       "</div>"
      ],
      "text/plain": [
       "          2018        2019        2020        2021        2022\n",
       "0     tipo_div    tipo_div    tipo_div    tipo_div    tipo_div\n",
       "1    ent_regis   ent_regis   ent_regis   ent_regis   ent_regis\n",
       "2    mun_regis   mun_regis   mun_regis   mun_regis   mun_regis\n",
       "3    loc_regis   loc_regis   loc_regis   loc_regis   loc_regis\n",
       "4   tloc_regis  tloc_regis  tloc_regis  tloc_regis  tloc_regis\n",
       "..         ...         ...         ...         ...         ...\n",
       "59    dura_leg    dura_leg    dura_leg    dura_leg    dura_leg\n",
       "60  edad_mdiv1  edad_mdiv1  edad_mdiv1  edad_mdiv1  edad_mdiv1\n",
       "61  edad_mdiv2  edad_mdiv2  edad_mdiv2  edad_mdiv2  edad_mdiv2\n",
       "62    t_dvante    t_dvante    t_dvante    t_dvante    t_dvante\n",
       "63   dis_reoax   dis_reoax   dis_reoax   dis_reoax   dis_reoax\n",
       "\n",
       "[64 rows x 5 columns]"
      ]
     },
     "execution_count": 31,
     "metadata": {},
     "output_type": "execute_result"
    }
   ],
   "source": [
    "#Concatena o une todos los dataframes 'df_coloumns_...' creados en la celda anterior( celda 32)\n",
    "\n",
    "df_columnas = pd.concat([df_columns_2018,df_columns_2019,df_columns_2020,df_columns_2021,df_columns_2022], axis=1)\n",
    "df_columnas"
   ]
  },
  {
   "cell_type": "code",
   "execution_count": 32,
   "metadata": {},
   "outputs": [
    {
     "name": "stdout",
     "output_type": "stream",
     "text": [
      "Todas las listas tienen el mismo contenido y orden: True\n"
     ]
    }
   ],
   "source": [
    "def comparar_listas_ordenadas(*listas):\n",
    "\n",
    "    #Función que determina si las listas de 'etiquetas de columnas' de los dataframes son iguales\n",
    "\n",
    "    primera_lista = listas[0]\n",
    "    for lista in listas[1:]:\n",
    "        if lista != primera_lista:\n",
    "            return False\n",
    "    return True\n",
    "\n",
    "# Llamar a la función\n",
    "resultado = comparar_listas_ordenadas(l_columns_2018, l_columns_2019, l_columns_2020, l_columns_2021, l_columns_2022)\n",
    "print(\"Todas las listas tienen el mismo contenido y orden:\", resultado)"
   ]
  },
  {
   "cell_type": "markdown",
   "metadata": {},
   "source": [
    "**Conclusión**\n",
    "\n",
    "Se comprueba que las columnas existente en los dataframes contienen los mismos nombres de columnas"
   ]
  },
  {
   "cell_type": "markdown",
   "metadata": {},
   "source": [
    "# Verificación de existencia o falta de datos nulos en el dataset"
   ]
  },
  {
   "cell_type": "code",
   "execution_count": 33,
   "metadata": {},
   "outputs": [
    {
     "name": "stdout",
     "output_type": "stream",
     "text": [
      "No hay datos nulos en 1\n",
      "No hay datos nulos en 2\n",
      "No hay datos nulos en 3\n",
      "No hay datos nulos en 4\n",
      "No hay datos nulos en 5\n"
     ]
    }
   ],
   "source": [
    "def existen_datos_nulos(*dataframes):\n",
    "\n",
    "    # Función que verifica si existen datos nulos en alguno de los dataset analizados y envia un mensaje correspondiente a cada posible resultado\n",
    "\n",
    "    for i, df in enumerate(dataframes, start=1):\n",
    "\n",
    "        nulos = df.isnull().any().any()\n",
    "        \n",
    "        if nulos:\n",
    "            print(f\"Hay datos nulos en {i}\")\n",
    "        else: \n",
    "            print(f\"No hay datos nulos en {i}\")\n",
    "\n",
    "existen_datos_nulos(df_divorcios_2018,df_divorcios_2019,df_divorcios_2020,df_divorcios_2021,df_divorcios_2022)"
   ]
  },
  {
   "cell_type": "markdown",
   "metadata": {},
   "source": [
    "**Resultado**\n",
    "\n",
    "No existen datos nulos en ninguno de los datasets"
   ]
  },
  {
   "cell_type": "markdown",
   "metadata": {},
   "source": [
    "# Análisis del caso"
   ]
  },
  {
   "cell_type": "markdown",
   "metadata": {},
   "source": [
    "## Preparación de la data para el análisis del caso de estudio Tabasco"
   ]
  },
  {
   "cell_type": "code",
   "execution_count": 34,
   "metadata": {},
   "outputs": [],
   "source": [
    "df_divorcios_mx = pd.concat([df_divorcios_2018,df_divorcios_2019,df_divorcios_2020,df_divorcios_2021,df_divorcios_2022], ignore_index=True)"
   ]
  },
  {
   "cell_type": "code",
   "execution_count": 35,
   "metadata": {},
   "outputs": [],
   "source": [
    "entidad_tab = 27"
   ]
  },
  {
   "cell_type": "code",
   "execution_count": 36,
   "metadata": {},
   "outputs": [],
   "source": [
    "filtro_tabasco = df_divorcios_mx[(df_divorcios_mx['ent_regis']==entidad_tab) & (df_divorcios_mx[\"ent_mat\"] == entidad_tab) & (df_divorcios_mx[\"ent_rhdiv1\"])==entidad_tab &(df_divorcios_mx[\"ent_rhdiv2\"]==entidad_tab)]"
   ]
  },
  {
   "cell_type": "code",
   "execution_count": 37,
   "metadata": {},
   "outputs": [],
   "source": [
    "df_divorcios_tab = filtro_tabasco"
   ]
  },
  {
   "cell_type": "markdown",
   "metadata": {},
   "source": [
    "## Pregunta 01: ¿Cuál es el número total de divorcios en la data disponíble?"
   ]
  },
  {
   "cell_type": "markdown",
   "metadata": {},
   "source": [
    "La feature \"tipo_divorcio\" guarda los tipos de divorcios contemplados legalmente en México. Contaremos estos valores para determinar el número total de divorcios.\n",
    "\n",
    "Pero antes determiinaremos los valores unicos en la feature para corroborar que los valores ingresados se corresponden con el número de divorcios contemplados por la ley. "
   ]
  },
  {
   "cell_type": "code",
   "execution_count": 38,
   "metadata": {},
   "outputs": [
    {
     "data": {
      "text/plain": [
       "array([1, 2])"
      ]
     },
     "execution_count": 38,
     "metadata": {},
     "output_type": "execute_result"
    }
   ],
   "source": [
    "val_uni = df_divorcios_tab['tipo_div'].unique()\n",
    "val_uni"
   ]
  },
  {
   "cell_type": "markdown",
   "metadata": {},
   "source": [
    "Se confirma que la feature tiene dos valores unicos.\n",
    "\n",
    "De acuerdo al diccionario de datos incluido por el INEGI en este conjunto de datos se identifican dos tipos de divorcios. El divorcio Judicial ingresado con el valor '1' en el dataset y el divorcio administrativo donde se designa el número '2' para identificarlo."
   ]
  },
  {
   "cell_type": "code",
   "execution_count": 39,
   "metadata": {},
   "outputs": [
    {
     "name": "stdout",
     "output_type": "stream",
     "text": [
      "tipo_div\n",
      "1    7506\n",
      "2    1180\n",
      "Name: count, dtype: int64\n"
     ]
    }
   ],
   "source": [
    "conteo_div_tab = df_divorcios_tab[(df_divorcios_tab['ent_regis'] == entidad_tab)]['tipo_div'].value_counts()\n",
    "\n",
    "print(conteo_div_tab)"
   ]
  },
  {
   "cell_type": "code",
   "execution_count": 40,
   "metadata": {},
   "outputs": [],
   "source": [
    "df_conteo = df_divorcios_tab[(df_divorcios_tab['ent_regis'] == entidad_tab)]"
   ]
  },
  {
   "cell_type": "code",
   "execution_count": 41,
   "metadata": {},
   "outputs": [
    {
     "name": "stdout",
     "output_type": "stream",
     "text": [
      "7506\n"
     ]
    }
   ],
   "source": [
    "divorcios_judiciales = df_conteo[(df_conteo['ent_regis']==entidad_tab)& (df_conteo['tipo_div']==1)]['tipo_div'].value_counts()\n",
    "divorcios_judiciales = divorcios_judiciales.get(1, 0)\n",
    "print(divorcios_judiciales)"
   ]
  },
  {
   "cell_type": "code",
   "execution_count": 42,
   "metadata": {},
   "outputs": [
    {
     "name": "stdout",
     "output_type": "stream",
     "text": [
      "1180\n"
     ]
    }
   ],
   "source": [
    "divorcios_administrativos = df_conteo[(df_conteo['ent_regis']==entidad_tab)& (df_conteo['tipo_div']==2)]['tipo_div'].value_counts()\n",
    "divorcios_administrativos = divorcios_administrativos.get(2, 0)\n",
    "print(divorcios_administrativos)"
   ]
  },
  {
   "cell_type": "code",
   "execution_count": 43,
   "metadata": {},
   "outputs": [
    {
     "name": "stdout",
     "output_type": "stream",
     "text": [
      "8686\n"
     ]
    }
   ],
   "source": [
    "divorcios_totales = divorcios_administrativos + divorcios_judiciales\n",
    "print(divorcios_totales)"
   ]
  },
  {
   "cell_type": "code",
   "execution_count": 44,
   "metadata": {},
   "outputs": [
    {
     "data": {
      "image/png": "[encoded data removed]",
      "text/plain": [
       "<Figure size 640x480 with 1 Axes>"
      ]
     },
     "metadata": {},
     "output_type": "display_data"
    }
   ],
   "source": [
    "conteo_div_tab\n",
    "\n",
    "plt.bar(conteo_div_tab.index, conteo_div_tab.values, color=['lightblue', 'lightgreen'])\n",
    "\n",
    "# Añadir etiquetas y título\n",
    "plt.xlabel('Categoría')\n",
    "plt.ylabel('Frecuencia')\n",
    "plt.title('Distribución de Categorías')\n",
    "\n",
    "# Mostrar el gráfico\n",
    "plt.show()"
   ]
  },
  {
   "cell_type": "code",
   "execution_count": 32,
   "metadata": {},
   "outputs": [
    {
     "name": "stdout",
     "output_type": "stream",
     "text": [
      "\n",
      "Guarda la entidad donde se realiza el tramite de divorcio.\n",
      " Se designan claves del '01' al '32' para identificar las entidades federativas (Estados),\n",
      " la clave '33' para aquellos divorcios (de matrimonios realizados en territorio mexicano)\n",
      " realizados en los Estados Unidos de América,\n",
      " la calve '34' para aquellos divorcios (de matrimonios realizados \n",
      " en territorio mexicano) realizados en los otros paises de Latiniamérica,\n",
      " la clave '35' para aquellos divorcios (de matrimonios realizados en territorio mexicano) \n",
      " realizados en cualquier otro país que no forme parte de las anteriores consideraciones.\n",
      " Recibe valores de **tipo C**, es decir categóricos\n"
     ]
    }
   ],
   "source": [
    "print(diccionario_dataset.info_features(\"ent_regis\"))"
   ]
  },
  {
   "cell_type": "code",
   "execution_count": 31,
   "metadata": {},
   "outputs": [
    {
     "name": "stdout",
     "output_type": "stream",
     "text": [
      "Estos son los términos usados en el dataset\n",
      "\"tipo_divorcio\" ---> \"Tipo de divorcios comtemplados en México\"\n",
      "\"ent_regis\" ---> \"Entidad donde se inició el trámite de divorcio\"\n",
      "\"mun_regist\" ---> \"Municipio o alcaldía de registro\"\n",
      "\"loc_regis\" ---> \"Localidad de registro\"\n",
      "\"tloc_regis\" ---> \"Tamaño de localidad de registro\"\n",
      "\"ent_mat\" ---> \"Entidad de registro del matrimonio\"\n",
      "\"mun_mat\" ---> \"Municipio o alcaldía de registro del matrimonio\"\n",
      "\"local_mat\" ---> \"Localidad de registro del matrimonio\"\n",
      "\"tloc_mat\" ---> \"Tamaño de localidad de registro del matrimonio\"\n",
      "\"dia_mat\" ---> \"Día de registro del matrimonio\"\n",
      "\"mes_mat\" ---> \"Mes de registro del matrimonio\"\n",
      "\"anio_mat\" ---> \"Año de registro del matrimonio\"\n",
      "\"dia_reg\" ---> \"Día de registro de la demanda\"\n",
      "\"mes_reg\" ---> \"Mes de registro de la demanda\"\n",
      "\"anio_reg\" ---> \"Año de registro de la demanda\"\n",
      "\"dia_sen\" ---> \"Día de la sentencia\"\n",
      "\"mes_sen\" ---> \"Mes de la sentencia\"\n",
      "\"anio_sen\" ---> \"Año de la sentencia\"\n",
      "\"dia_eje\" ---> \"Día de ejecutoria del divorcio\"\n",
      "\"mes_eje\" ---> \"Mes de ejecutoria del divorcio\"\n",
      "\"anio_eje\" ---> \"Año de ejecutoria del divorcio\"\n",
      "\"ini_juic\" ---> \"Persona que inició el juicio\"\n",
      "\"favor\" ---> \"A favor de quien se resolvió el juicio\"\n",
      "\"caus\" ---> \"Causas de divorcio\"\n",
      "\"hijos\" ---> \"Número de hijos en el matrimonio\"\n",
      "\"hijos_men\" ---> \"Número de hijos menores de edad\"\n",
      "\"custodia\" ---> \"Persona a quien se otorga la custodia\"\n",
      "\"cus_hij\" ---> \"Número de hijos en custodia\"\n",
      "\"pat_pot\" ---> \"Persona a quien se le asigna la patria potestad\"\n",
      "\"pat_hij\" ---> \"Número de hijos en patria potestad\"\n",
      "\"pension\" ---> \"Personas a quien se le asigna la pensión alimenticia\"\n",
      "\"pen_hij\" ---> \"Número de hijos a quienes se les asigna la pensión alimenticia\"\n",
      "\"naci_div1\" ---> \"Nacionalidad del primer divorciante\"\n",
      "\"edad_div1\" ---> \"Edad al divorcio del primer divorciante\"\n",
      "\"nacim_div1\" ---> \"Año de nacimiento del primer divorciante\"\n",
      "\"eciv_adiv1\" ---> \"Estado conyugal (civil) anterior del primer divorciante\"\n",
      "\"ent_rhdiv1\" ---> \"Entidad de residencia habitual del primer divorciante\"\n",
      "\"mun_rhdiv1\" ---> \"Municipio o alcaldía de residencia habitual del primer divorciante\"\n",
      "\"loc_rhdiv1\" ---> \"Localidad de residencia habitual del primer divorciante\"\n",
      "\"tloc_div1\" ---> \"Tamaño de localidad de residencia habitual del primer divorciante\"\n",
      "\"escol_div1\" ---> \"Nivel de escolaridad del primer divorciante (escolaridad)\"\n",
      "\"con_acdiv1\" ---> \"Condición de actividad económica del primer divorciante\"\n",
      "\"dedic_div1\" ---> \"A qué se dedica el primer divorciante\"\n",
      "\"postr_div1\" ---> \"Posición en el trabajo del primer divorciante\"\n",
      "\"sexo_div1\" ---> \"Sexo del primer divorciante\"\n",
      "\"naci_div2\" ---> \"Nacionalidad del segundo divorciante\"\n",
      "\"edad_div2\" ---> \"Edad al divorcio del segundo divorciante\"\n",
      "\"nacim_div2\" ---> \"Año de nacimiento del segundo divorciante\"\n",
      "\"eciv_adiv2\" ---> \"Estado conyugal (civil) anterior del segundo divorciante\"\n",
      "\"ent_rhdiv2\" ---> \"Entidad de residencia habitual del segundo divorciante\"\n",
      "\"mun_rhdiv2\" ---> \"Municipio o alcaldía de residencia habitual del segundo divorciante\"\n",
      "\"loc_rhdiv2\" ---> \"Localidad de residencia habitual del segundo divorciante\"\n",
      "\"tloc_div2\" ---> \"Tamaño de localidad de residencia habitual del segundo divorciante\"\n",
      "\"escol_div2\" ---> \"Nivel de escolaridad del segundo divorciante (escolaridad)\"\n",
      "\"con_acdiv2\" ---> \"Condición de actividad económica del segundo divorciante\"\n",
      "\"dedic_div2\" ---> \"A qué se dedica el segundo divorciante\"\n",
      "\"postr_div2\" ---> \"Posición en el trabajo del segundo divorciante\"\n",
      "\"sexo_div2\" ---> \"Sexo del segundo divorciante\"\n",
      "\"dura_soc\" ---> \"Duración social del matrimonio\"\n",
      "\"dura_leg\" ---> \"Duración legal del matrimonio\"\n",
      "\"edad_mdiv1\" ---> \"Edad al matrimonio del primer divorciante\"\n",
      "\"edad_mdiv2\" ---> \"Edad al matrimonio del segundo divorciante\"\n",
      "\"t_dvante\" ---> \"Tipo de divorciante\"\n",
      "\"dis_reoax\" ---> \"Distritos de registro de Oaxaca\"\n",
      "None\n"
     ]
    }
   ],
   "source": [
    "print(diccionario_dataset.atajos(\"ver\"))"
   ]
  }
 ],
 "metadata": {
  "kernelspec": {
   "display_name": "env_divorcios_mx",
   "language": "python",
   "name": "python3"
  },
  "language_info": {
   "codemirror_mode": {
    "name": "ipython",
    "version": 3
   },
   "file_extension": ".py",
   "mimetype": "text/x-python",
   "name": "python",
   "nbconvert_exporter": "python",
   "pygments_lexer": "ipython3",
   "version": "3.12.1"
  }
 },
 "nbformat": 4,
 "nbformat_minor": 2
}
