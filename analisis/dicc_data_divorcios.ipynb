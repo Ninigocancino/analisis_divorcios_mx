{
  "nbformat": 4,
  "nbformat_minor": 0,
  "metadata": {
    "colab": {
      "provenance": []
    },
    "kernelspec": {
      "name": "python3",
      "display_name": "Python 3"
    },
    "language_info": {
      "name": "python"
    }
  },
  "cells": [
    {
      "cell_type": "code",
      "source": [
        "import pandas as pd"
      ],
      "metadata": {
        "id": "lgJG26_79A2F"
      },
      "execution_count": null,
      "outputs": []
    },
    {
      "cell_type": "code",
      "source": [
        "df_divorcios = pd.read_csv(\"/content/conjunto_de_datos_divorcios_2021.csv\")"
      ],
      "metadata": {
        "id": "0Rn03g81_AAj"
      },
      "execution_count": null,
      "outputs": []
    },
    {
      "cell_type": "code",
      "source": [
        "df_div_territorio = pd.read_csv(\"/content/entidad_municipio_localidad_2021.csv\",encoding='latin-1')"
      ],
      "metadata": {
        "id": "999jiMzlDzaX"
      },
      "execution_count": null,
      "outputs": []
    },
    {
      "cell_type": "code",
      "source": [
        "info_datos = pd.read_csv(\"/content/diccionario_de_datos_divorcios_2021.csv\")\n"
      ],
      "metadata": {
        "id": "HEC-vHj7HNFv"
      },
      "execution_count": null,
      "outputs": []
    },
    {
      "cell_type": "markdown",
      "source": [
        "**tipo_divorcio**\n",
        "\n",
        "Guarda el tipo de tramite del cuál se recoge información en el conjunto de datos.\n",
        "\n",
        "Se designa la **clave '1'** para divorcio Judicial y la **clave '2'** para divorcio Administrativo.\n",
        "\n",
        "Recibe valores de **tipo N**, es decir numéricos."
      ],
      "metadata": {
        "id": "tT0oha0cUNH0"
      }
    },
    {
      "cell_type": "markdown",
      "source": [
        "**ent_regis**\n",
        "\n",
        "Guarda la entidad donde se realiza el tramite de divorcio.\n",
        "\n",
        "Se designan claves del '01' al '32' para identificar las entidades federativas (Estados), la clave '33' para aquellos divorcios (de matrimonios realizados en territorio mexicano) realizados en los Estados Unidos de América, la calve '34' para aquellos divorcios (de matrimonios realizados en territorio mexicano) realizados en los otros paises de Latiniamérica, la clave '35' para aquellos divorcios (de matrimonios realizados en territorio mexicano) realizados en cualquier otro país que no forme parte de las anteriores consideraciones.\n",
        "\n",
        "Recibe valores de **tipo C**, es decir categóricos"
      ],
      "metadata": {
        "id": "ifv2eEvWYC3P"
      }
    },
    {
      "cell_type": "markdown",
      "source": [
        "**mun_regist**\n",
        "\n",
        "Guarda la municipalidad donde se realiza el tramite de divorcio.\n",
        "\n",
        "Se designan claves del '000' al '930' para identificar las municipalidades del territorio mexicano, mientras que la clave '998' indica la categoría 'no aplica y la clave '999' indica 'municipio no indicado'\n",
        "\n",
        "Recibe valores de **tipo C**, es decir categóricos"
      ],
      "metadata": {
        "id": "kARlfi4ne5yk"
      }
    },
    {
      "cell_type": "markdown",
      "source": [
        "**loc_regis**\n",
        "\n",
        "\n",
        "Guarda la localidad donde se realiza el tramite.\n",
        "\n",
        "Se designan claves del '0000' al '3395' para identificar las localidades del territorio mexicano, mientras que la clave designa '7777' \"Cifra confidencial. Establecido en la Ley del SNIEG.\", la clave '9998' y '9999' indica 'localidad no especificada'\n",
        "\n",
        "Recibe valores de tipo C, es decir categóricos"
      ],
      "metadata": {
        "id": "9jvDjGwlG1k0"
      }
    },
    {
      "cell_type": "markdown",
      "source": [
        "**tloc_regis**\n",
        "\n",
        "Guarda el rango poblacional de la  donde se realizó l tramite de divorcio, designando claves que van del 1 al 17 para los rangos de población, la clave '98' para no aplica y '99' para 'No especificada'\n",
        "\n",
        "clave, descripción\n",
        "1,  De 1 a 999 habitantes\n",
        "2,  De 1 000 a 1 999 habitantes\n",
        "3,  De 2 000 a 2 499 habitantes\n",
        "4,  De 2 500 a 4 999 habitantes\n",
        "5,  De 5 000 a 9 999 habitantes\n",
        "6,  De 10 000 a 14 999 habitantes\n",
        "7,  De 15 000 a 19 999 habitantes\n",
        "8,  De 20 000 a 29 999 habitantes\n",
        "9,  De 30 000 a 39 999 habitantes\n",
        "10, De 40 000 a 49 999 habitantes\n",
        "11, De 50 000 a 74 999 habitantes\n",
        "12, De 75 000 a 99 999 habitantes\n",
        "13, De 100 000 a 249 999 habitantes\n",
        "14, De 250 000 a 499 999 habitantes\n",
        "15, De 500 000 a 999 999 habitantes\n",
        "16, De 1 000 000 a 1 499 999 habitantes\n",
        "17, De 1 500 000 y más habitantes\n",
        "98, No aplica\n",
        "99, No especificado"
      ],
      "metadata": {
        "id": "potKx8noLYFk"
      }
    },
    {
      "cell_type": "markdown",
      "source": [
        "**ent_mat**\n",
        "\n",
        "Guarda la entidad donde se realizó el regirto del metrimonio.\n",
        "\n",
        "Se designan claves del '01' al '32' para identificar las entidades federativas (Estados), la clave '33' para aquellos divorcios (de matrimonios realizados en territorio mexicano) realizados en los Estados Unidos de América, la calve '34' para aquellos divorcios (de matrimonios realizados en territorio mexicano) realizados en los otros paises de Latiniamérica, la clave '35' para aquellos divorcios (de matrimonios realizados en territorio mexicano) realizados en cualquier otro país que no forme parte de las anteriores consideraciones.\n",
        "\n",
        "Recibe valores de **tipo C**, es decir categóricos\n"
      ],
      "metadata": {
        "id": "Y_oQTSEPOMgm"
      }
    },
    {
      "cell_type": "markdown",
      "source": [
        "**mun_mat**\n",
        "\n",
        "Guarda la municipalidad donde se realizó el registro de matrimonio.\n",
        "\n",
        "Se designan claves del '000' al '930' para identificar las municipalidades del territorio mexicano, mientras que la clave '998' indica la categoría 'no aplica y la clave '999' indica 'municipio no indicado'\n",
        "\n",
        "Recibe valores de tipo C, es decir categóricos\n"
      ],
      "metadata": {
        "id": "u2G6wQeyPIFD"
      }
    },
    {
      "cell_type": "markdown",
      "source": [
        "**local_mat**\n",
        "\n",
        "Guarda la localidad donde se realizó el registro del metrimonio.\n",
        "\n",
        "Se designan claves del '0000' al '3395' para identificar las localidades del territorio mexicano, mientras que la clave designa '7777' \"Cifra confidencial. Establecido en la Ley del SNIEG.\", la clave '9998' y '9999' indica 'localidad no especificada'\n",
        "\n",
        "Recibe valores de tipo C, es decir categóricos"
      ],
      "metadata": {
        "id": "Y2N8PUFhPcYr"
      }
    },
    {
      "cell_type": "markdown",
      "source": [
        "**tloc_mat**\n",
        "\n",
        "Guarda el rango poblacional de la localidad donde se realizó el regirtro del matrimonio, designando claves que van del 1 al 17 para los rangos de población, la clave '98' para no aplica y '99' para 'No especificada'\n",
        "\n",
        "clave, descripción\n",
        "\n",
        "1,  De 1 a 999 habitantes\n",
        "\n",
        "2,  De 1 000 a 1 999 habitantes\n",
        "\n",
        "3,  De 2 000 a 2 499 habitantes\n",
        "\n",
        "4,  De 2 500 a 4 999 habitantes\n",
        "\n",
        "5,  De 5 000 a 9 999 habitantes\n",
        "\n",
        "6,  De 10 000 a 14 999 habitantes\n",
        "\n",
        "7,  De 15 000 a 19 999 habitantes\n",
        "\n",
        "8,  De 20 000 a 29 999 habitantes\n",
        "\n",
        "9,  De 30 000 a 39 999 habitantes\n",
        "\n",
        "10, De 40 000 a 49 999 habitantes\n",
        "\n",
        "11, De 50 000 a 74 999 habitantes\n",
        "\n",
        "12, De 75 000 a 99 999 habitantes\n",
        "\n",
        "13, De 100 000 a 249 999 habitantes\n",
        "\n",
        "14, De 250 000 a 499 999 habitantes\n",
        "\n",
        "15, De 500 000 a 999 999 habitantes\n",
        "\n",
        "16, De 1 000 000 a 1 499 999 habitantes\n",
        "\n",
        "17, De 1 500 000 y más habitantes\n",
        "\n",
        "98, No aplica\n",
        "\n",
        "99, No especificado"
      ],
      "metadata": {
        "id": "PcHJxVYLPxGj"
      }
    },
    {
      "cell_type": "markdown",
      "source": [
        "**dia_mat**\n",
        "\n",
        "Guarda el día del mes en el que se ralizó el registro del matrimonio.\n",
        "\n",
        "Se asignan valores del 1 al 31 para los días y el valor 99 para describir un valor no especificado."
      ],
      "metadata": {
        "id": "MJ-5I3KwQT1L"
      }
    },
    {
      "cell_type": "markdown",
      "source": [
        "**mes_mat**\n",
        "\n",
        "Guarda el mes en el cual se realiza el registro del matrimonio de la siguiente manera:\n",
        "\n",
        "\n",
        "clave,   descripción\n",
        "1,       Enero\n",
        "2,       Febrero\n",
        "3,       Marzo\n",
        "4,       Abril\n",
        "5,       Mayo\n",
        "6,       Junio\n",
        "7,       Julio\n",
        "8,       Agosto\n",
        "9,       Septiembre\n",
        "10,      Octubre\n",
        "11,      Noviembre\n",
        "12,      Diciembre\n",
        "99,      No especificado\n"
      ],
      "metadata": {
        "id": "d_dfAl4zRskE"
      }
    },
    {
      "cell_type": "markdown",
      "source": [
        "**anio_mat**\n",
        "\n",
        "Registra el año que se realizó el matrimonio con valores desde **1950** hasta el año de recolección de cada conjunto de datos"
      ],
      "metadata": {
        "id": "lk_n-dFXNUtb"
      }
    },
    {
      "cell_type": "markdown",
      "source": [
        "**dia_reg**\n",
        "\n",
        "Guarda el día del mes en el que se ralizó el registro de la demanda de divorcio.\n",
        "\n",
        "Se asignan valores del 1 al 31 para los días y el valor 99 para describir un valor no especificado."
      ],
      "metadata": {
        "id": "7vVRgoUJO_yl"
      }
    },
    {
      "cell_type": "markdown",
      "source": [
        "**mes_reg**\n",
        "\n",
        "Guarda el mes en el cual se realiza el registro de la demanda de la siguiente manera:\n",
        "\n",
        "\n",
        "clave,   descripción\n",
        "1,       Enero\n",
        "2,       Febrero\n",
        "3,       Marzo\n",
        "4,       Abril\n",
        "5,       Mayo\n",
        "6,       Junio\n",
        "7,       Julio\n",
        "8,       Agosto\n",
        "9,       Septiembre\n",
        "10,      Octubre\n",
        "11,      Noviembre\n",
        "12,      Diciembre\n",
        "99,      No especificado"
      ],
      "metadata": {
        "id": "It65NaZhP7jn"
      }
    },
    {
      "cell_type": "markdown",
      "source": [
        "**anio_reg**\n",
        "\n",
        "Registra el año que se registro la demanda de divorcio con valores desde **1950** hasta el año de recolección de cada conjunto de datos"
      ],
      "metadata": {
        "id": "hG2IkAXdQ-2U"
      }
    },
    {
      "cell_type": "markdown",
      "source": [
        "**dia_sen**\n",
        "\n",
        "Guarda el día del mes en el que se emitio la sentencia de la demanda de divorcio.\n",
        "\n",
        "Se asignan valores del 1 al 31 para los días y el valor 99 para describir un valor no especificado."
      ],
      "metadata": {
        "id": "_ByzK0foRoMc"
      }
    },
    {
      "cell_type": "markdown",
      "source": [
        "**mes_sen**\n",
        "\n",
        "Guarda el mes en el cual se emitió la sentencia de la demanda de divorcio de la siguiente manera:\n",
        "\n",
        "clave, descripción 1, Enero 2, Febrero 3, Marzo 4, Abril 5, Mayo 6, Junio 7, Julio 8, Agosto 9, Septiembre 10, Octubre 11, Noviembre 12, Diciembre 99, No especificado"
      ],
      "metadata": {
        "id": "IVXzpJHbSYHT"
      }
    },
    {
      "cell_type": "markdown",
      "source": [
        "**anio_sen**\n",
        "\n",
        "Contiene el año en el cuál se emitió la sentencia de la demanda de divorcio. Se asignan valores desde **1950** hasta el año de recolección de cada conjunto de datos."
      ],
      "metadata": {
        "id": "EFGGpCcTSq3O"
      }
    },
    {
      "cell_type": "markdown",
      "source": [
        "**dia_eje**\n",
        "\n",
        "Contiene el día del mes en el que se realiza la ejecutoria de divorcio.\n",
        "\n",
        "Se asignan valores del 1 al 31 para los días y el valor 99 para describir un valor no especificado."
      ],
      "metadata": {
        "id": "wA7obxPaYl42"
      }
    },
    {
      "cell_type": "markdown",
      "source": [
        "**mes_eje**\n",
        "\n",
        "Contiene el mes en el cual se efectua la ejecutoria de la demanda de divorcio de la siguiente manera:\n",
        "\n",
        "clave, descripción 1, Enero 2, Febrero 3, Marzo 4, Abril 5, Mayo 6, Junio 7, Julio 8, Agosto 9, Septiembre 10, Octubre 11, Noviembre 12, Diciembre 99, No especificado"
      ],
      "metadata": {
        "id": "j2HBQwlrZH6E"
      }
    },
    {
      "cell_type": "markdown",
      "source": [
        "**anio_eje**\n",
        "\n",
        "Contiene el año en el cuál se realizó la ejecutoria de divorcio. Se asignan valores desde 1950 hasta el año de recolección de cada conjunto de datos."
      ],
      "metadata": {
        "id": "YoBkwkBCZctA"
      }
    },
    {
      "cell_type": "markdown",
      "source": [
        "**ini_juic**\n",
        "\n",
        "Indica cuál de los conyuges inicia el proceso de divorcio.\n",
        "\n",
        "clave,   descripcion\n",
        "\n",
        "1,       Divorciante 1\n",
        "\n",
        "2,       Divorciante 2\n",
        "\n",
        "3,       Ambos\n",
        "\n",
        "9,       No especificado\n"
      ],
      "metadata": {
        "id": "ABXegqhAo5H_"
      }
    },
    {
      "cell_type": "markdown",
      "source": [
        "**favor**\n",
        "\n",
        "Indica a favor de quién se resolvio la demanda:\n",
        "\n",
        "clave, descripcion\n",
        "\n",
        "1, Divorciante 1\n",
        "\n",
        "2, Divorciante 2\n",
        "\n",
        "3, Ambos\n",
        "\n",
        "9, No especificado"
      ],
      "metadata": {
        "id": "_PDf1WOLp0Ne"
      }
    },
    {
      "cell_type": "markdown",
      "source": [
        "**caus**\n",
        "\n",
        "Contiene las causales presentadas para iniciar la demanda de divorcio, de la siguiente forma:\n",
        "\n",
        "clave,descripcion\n",
        "\n",
        "1,Mutuo consentimiento\n",
        "\n",
        "2,Adulterio o infidelidad sexual\n",
        "\n",
        "3,Alumbramiento ilegítimo\n",
        "\n",
        "4,Propuesta de prostitución\n",
        "\n",
        "5,Incitación a la violencia\n",
        "\n",
        "6,Corrupcion y/o maltrato a los hijos\n",
        "\n",
        "7,\"Enfermedad crónica o incurable, la impotencia o esterilidad incurable\"\n",
        "\n",
        "8,Enajenación mental incurable o el estado de interdicción declarado por sentencia\n",
        "\n",
        "9,\"Separación del hogar conyugal por más de 1 año, con o sin causa justificada\"\n",
        "\n",
        "10,\"Abandono de hogar por más de 3 o 6 meses, sin causa justificada\"\n",
        "\n",
        "11,Declaración de ausencia o presunción de muerte\n",
        "\n",
        "12,\"Sevicia, amenazas o injurias o la violencia intrafamiliar\"\n",
        "\n",
        "13,Negativa a contribuir voluntariamente o por sentencia del juez familiar al sostenimiento del hogar\n",
        "\n",
        "14,Acusación calumniosa\n",
        "\n",
        "15,Haber cometido delito doloso o infamante\n",
        "\n",
        "16,\"Hábitos de juego, embriaguez o drogas\"\n",
        "\n",
        "17,Cometer acto delictivo contra el cónyuge\n",
        "\n",
        "18,Incompatibilidad de caracteres\n",
        "\n",
        "19,La separación por 2 años o más independientemente del motivo\n",
        "\n",
        "20,La bigamia\n",
        "\n",
        "21,\"No acompañar la mujer a su marido, cuando cambie de residencia dentro o fuera del país\"\n",
        "\n",
        "22,\"Si un cónyuge solicitó el divorcio por causa injustificada, el demandado puede divorciarse 3 meses después de la última sentencia\"\n",
        "\n",
        "23,Fecundación asistida sin consentimiento del cónyuge\n",
        "\n",
        "24,Impedir uno de los cónyuges a otro desempeñar una actividad lícita\n",
        "\n",
        "25,Reconocer la mujer a un hijo nacido antes del matrimonio sin consentimiento del marido\n",
        "\n",
        "26,Uso de métodos de esterilización permanente sin consentimiento del cónyuge\n",
        "\n",
        "27,\"Bisexualidad manifestada, o intención o cambio de sexo por tratamiento médico o quirúrgico\"\n",
        "\n",
        "28,Voluntario unilateral\n",
        "\n",
        "99,No especificada"
      ],
      "metadata": {
        "id": "jcTtB9_hqSB2"
      }
    },
    {
      "cell_type": "markdown",
      "source": [
        "**hijos**\n",
        "\n",
        "Contiene el numero de hijos existententes en el matrimonio desde 0 hasta 25 y se designan las claves 98 para no aplica y la clave 99 para no especificado"
      ],
      "metadata": {
        "id": "9OB6I1Wkr2Nm"
      }
    },
    {
      "cell_type": "markdown",
      "source": [
        "**hijos_men**\n",
        "\n",
        "Contiene el número de hijos existentes en el matrimonio que son menores de edad, se cuenta desde 0 hasta 25 y se designa la clave 98 para 'No aplica' y la clave '99' para 'No especificado'"
      ],
      "metadata": {
        "id": "MhFcwL-YscL5"
      }
    },
    {
      "cell_type": "markdown",
      "source": [
        "**custodia**\n",
        "\n",
        "Contiene la asignación de custodia de los menores de edad dentro del matrimonio, de las siguente forma:\n",
        "\n",
        "clave,descripción\n",
        "\n",
        "\n",
        "0,No se otorga\n",
        "\n",
        "1,Divorciante 1\n",
        "\n",
        "2,Divorciante 2\n",
        "\n",
        "3,Ambos\n",
        "\n",
        "4,Otro\n",
        "\n",
        "98,No aplica\n",
        "\n",
        "99,No especificado"
      ],
      "metadata": {
        "id": "qMhokx_xvRf9"
      }
    },
    {
      "cell_type": "markdown",
      "source": [
        "**cus_hij**\n",
        "\n",
        "Contiene los datos sobre el número de hijos en custodia dentro del matrimonio, se cuenta desde 0 hasta 25 y se asigna la clave 98 para 'No aplica' y la clave 99 para 'No especificado'"
      ],
      "metadata": {
        "id": "mLYiey_Wyrt2"
      }
    },
    {
      "cell_type": "markdown",
      "source": [
        "**pat_pot**\n",
        "\n",
        "Contiene los datos sobre el otorgamiento de la patri potestad de los hijos de la siguiente forma:\n",
        "\n",
        "clave,descripción\n",
        "\n",
        "0,No se otorga\n",
        "\n",
        "1,Divorciante 1\n",
        "\n",
        "2,Divorciante 2\n",
        "\n",
        "3,Ambos\n",
        "\n",
        "4,Otro\n",
        "\n",
        "98,No aplica\n",
        "\n",
        "99,No especificado"
      ],
      "metadata": {
        "id": "RktFyEdZ0dQV"
      }
    },
    {
      "cell_type": "markdown",
      "source": [
        "**pat_hij**\n",
        "\n",
        "Contiene el número de hijos que se encuentran bajo patria potestad se cuenta desde 0 hasta 25 y se asigna la clave 98 para 'No aplica' y la clave 99 para 'No especificado'"
      ],
      "metadata": {
        "id": "bLIS7k_z15_g"
      }
    },
    {
      "cell_type": "markdown",
      "source": [
        "**pension**\n",
        "\n",
        "Contiene el dato sobre a que persona se le asigna la pensión alimenticia.\n",
        "\n",
        "clave,descripción\n",
        "\n",
        "1,Hijos\n",
        "\n",
        "2,Divorciante 1\n",
        "\n",
        "3,Divorciante 2\n",
        "\n",
        "4,Ninguno\n",
        "\n",
        "12,Hijos y Divorciante 1\n",
        "\n",
        "13,Hijos y Divorciante 2\n",
        "\n",
        "98,No aplica\n",
        "\n",
        "99,No especificado"
      ],
      "metadata": {
        "id": "6HDC5uvL2RMs"
      }
    },
    {
      "cell_type": "markdown",
      "source": [
        "**pen_hij**\n",
        "\n",
        "Contiene información sobre el numero de hijos a los que se les asigna pensión se cuenta desde 0 hasta 25 y se asigna la clave 98 para 'No aplica' y la clave 99 para 'No especificado'"
      ],
      "metadata": {
        "id": "fTfFjJsS4F92"
      }
    },
    {
      "cell_type": "markdown",
      "source": [
        "**naci_div1**\n",
        "\n",
        "Contiene el dato sobre la necionalidad del primer divorciante de la siguiente forma:\n",
        "\n",
        "clave,descripción\n",
        "\n",
        "1,Mexicana\n",
        "\n",
        "2,Extranjera"
      ],
      "metadata": {
        "id": "OMHbXFXp423_"
      }
    },
    {
      "cell_type": "markdown",
      "source": [
        "**edad_div1**\n",
        "\n",
        "Contiene la edad del divorciante 1 al moemnto del divorcio. Se asignan valores numéricos del 0 al 95 para designar la edad y se asigna el valor 999 para 'No especificado'"
      ],
      "metadata": {
        "id": "JE96nXOj5XGE"
      }
    },
    {
      "cell_type": "markdown",
      "source": [
        "**nacim_div1**\n",
        "\n",
        "Contiene el año de nacimiento del primer divorciante.Asigna valores desde 1920 hasta 2005 para los años de nacimientos y el valor 999 para 'No especificado'"
      ],
      "metadata": {
        "id": "ahlHSmmJ-PGm"
      }
    },
    {
      "cell_type": "markdown",
      "source": [
        "**eciv_adiv1**\n",
        "\n",
        "Contiene el estado conyugal o civil del primer divorciante antes del matrimonio actual.\n",
        "\n",
        "clave,descripción\n",
        "\n",
        "1,Soltero\n",
        "\n",
        "2,Unión libre\n",
        "\n",
        "3,Divorciado\n",
        "\n",
        "4,Separado\n",
        "\n",
        "5,Viudo\n",
        "\n",
        "9,No especificado"
      ],
      "metadata": {
        "id": "8RfkWWtw-2Yn"
      }
    },
    {
      "cell_type": "markdown",
      "source": [
        "**ent_rhdiv1**\n",
        "\n",
        "Entidad de residanecia habitual del primer divorciante\n",
        "\n",
        "Se designan claves del '01' al '32' para identificar las entidades federativas (Estados), la clave '33' para aquellos divorcios (de matrimonios realizados en territorio mexicano) realizados en los Estados Unidos de América, la calve '34' para aquellos divorcios (de matrimonios realizados en territorio mexicano) realizados en los otros paises de Latiniamérica, la clave '35' para aquellos divorcios (de matrimonios realizados en territorio mexicano) realizados en cualquier otro país que no forme parte de las anteriores consideraciones.\n",
        "\n",
        "Recibe valores de **tipo C**, es decir categóricos"
      ],
      "metadata": {
        "id": "jJf0f6nAWoCF"
      }
    },
    {
      "cell_type": "markdown",
      "source": [
        "**mun_rhdiv1**\n",
        "\n",
        "Contiene el municipo o alcaldía de residencia habitual del primer divorciante.\n",
        "\n",
        "Se designan claves del '000' al '930' para identificar las municipalidades del territorio mexicano, mientras que la clave '998' indica la categoría 'no aplica y la clave '999' indica 'municipio no indicado'\n",
        "\n",
        "Recibe valores de tipo C, es decir categóricos"
      ],
      "metadata": {
        "id": "C6jjI2LoXoSM"
      }
    },
    {
      "cell_type": "markdown",
      "source": [
        "**loc_rhdiv1**\n",
        "\n",
        "Contiene la localidad de residencia habitual del primer divorciante.\n",
        "\n",
        "Se designan claves del '0000' al '3395' para identificar las localidades del territorio mexicano, mientras que la clave designa '7777' \"Cifra confidencial. Establecido en la Ley del SNIEG.\", la clave '9998' y '9999' indica 'localidad no especificada'\n",
        "\n",
        "Recibe valores de tipo C, es decir categóricos"
      ],
      "metadata": {
        "id": "XLqyHQ7ech97"
      }
    },
    {
      "cell_type": "markdown",
      "source": [
        "**tloc_div1**\n",
        "\n",
        "Contiene el tamaño de localidad donde habitualmente reside el primer divorciante.\n",
        "\n",
        "Se designan claves que van del 1 al 17 para los rangos de población, la clave '98' para no aplica y '99' para 'No especificada'\n",
        "\n",
        "clave, descripción 1, De 1 a 999 habitantes 2, De 1 000 a 1 999 habitantes 3, De 2 000 a 2 499 habitantes 4, De 2 500 a 4 999 habitantes 5, De 5 000 a 9 999 habitantes 6, De 10 000 a 14 999 habitantes 7, De 15 000 a 19 999 habitantes 8, De 20 000 a 29 999 habitantes 9, De 30 000 a 39 999 habitantes 10, De 40 000 a 49 999 habitantes 11, De 50 000 a 74 999 habitantes 12, De 75 000 a 99 999 habitantes 13, De 100 000 a 249 999 habitantes 14, De 250 000 a 499 999 habitantes 15, De 500 000 a 999 999 habitantes 16, De 1 000 000 a 1 499 999 habitantes 17, De 1 500 000 y más habitantes 98, No aplica 99, No especificado"
      ],
      "metadata": {
        "id": "dtCGq4hmdBKk"
      }
    },
    {
      "cell_type": "markdown",
      "source": [
        "**escol_div1**\n",
        "\n",
        "Contiene el nivel de escolaridad del primer divorciante.\n",
        "\n",
        "clave,  descripción\n",
        "\n",
        "0,  Sin escolaridad\n",
        "\n",
        "1,  1 a 3 años de primaria\n",
        "\n",
        "2,  4 a 5 años de primaria\n",
        "\n",
        "3,  Primaria completa\n",
        "\n",
        "4,  Secundaria o equivalente\n",
        "\n",
        "5,  Preparatoria o equivalente\n",
        "\n",
        "6,  Superior\n",
        "\n",
        "7,  Carrera técnica\n",
        "\n",
        "8,  Otra\n",
        "\n",
        "9,  No especificada"
      ],
      "metadata": {
        "id": "vZdQvFmBdnjW"
      }
    },
    {
      "cell_type": "markdown",
      "source": [
        "**con_acdiv1**\n",
        "\n",
        "Contiene la condición de actividad económica del primer divorciante. Asignando el valor de 1 para 'Trabaja', el valor de 2 para 'No trabaja' y el valor de 9 para 'No especificado'."
      ],
      "metadata": {
        "id": "BpkQicxHgOac"
      }
    },
    {
      "cell_type": "markdown",
      "source": [
        "**dedic_div1**\n",
        "\n",
        "Contiene ocupación del primer divorciante en esta estructura:\n",
        "\n",
        "clave,descripción\n",
        "\n",
        "1,Trabaja\n",
        "\n",
        "2,Al hogar\n",
        "\n",
        "3,Estudiante\n",
        "\n",
        "4,Pensionado o jubilado\n",
        "\n",
        "5,Rentista\n",
        "\n",
        "6,Incapacitado permanentemente para trabajar\n",
        "\n",
        "7,Busca trabajo\n",
        "\n",
        "8,Otra (no trabaja)\n",
        "\n",
        "9,No especificada"
      ],
      "metadata": {
        "id": "tGu7MIgkhGMc"
      }
    },
    {
      "cell_type": "markdown",
      "source": [
        "**postr_div1**\n",
        "\n",
        "Posición en el trbajo del primer divorciante.\n",
        "\n",
        "clave,descripción\n",
        "\n",
        "1,Empleado\n",
        "\n",
        "2,Obrero\n",
        "\n",
        "3,Jornalero o peón agrícola\n",
        "\n",
        "4,Patrón o empresario\n",
        "\n",
        "5,Miembro de cooperativa\n",
        "\n",
        "6,Trabajador no remunerado\n",
        "\n",
        "7,Trabajador por cuenta propia\n",
        "\n",
        "8,Otra\n",
        "\n",
        "9,No especificada"
      ],
      "metadata": {
        "id": "GtEZ1Xuoh0KN"
      }
    },
    {
      "cell_type": "markdown",
      "source": [
        "**sexo_div1**\n",
        "\n",
        "Sexo del primer divorciante.\n",
        "\n",
        "clave,descripción\n",
        "\n",
        "1,Hombre\n",
        "\n",
        "2,Mujer\n"
      ],
      "metadata": {
        "id": "qNMgtV_ukAEs"
      }
    },
    {
      "cell_type": "markdown",
      "source": [
        "**naci_div2**\n",
        "\n",
        "Nacionalidad del segundo divorciante.\n",
        "\n",
        "clave,descripción\n",
        "\n",
        "1,Mexicana\n",
        "\n",
        "2,Extranjera\n"
      ],
      "metadata": {
        "id": "SpDHRAwsl6xg"
      }
    },
    {
      "cell_type": "markdown",
      "source": [
        "**edad_div2**\n",
        "\n",
        "Edad del segundo divorciante al momento del divorcio.\n",
        "\n",
        "Se asignan valores numéricos del 0 al 95 para designar la edad y se asigna el valor 999 para 'No especificado'"
      ],
      "metadata": {
        "id": "S1wKZLaQoU5_"
      }
    },
    {
      "cell_type": "markdown",
      "source": [
        "**nacim_div2**\n",
        "\n",
        "Año de nacimiento del segundo divorciante.\n",
        "\n",
        "Contiene el año de nacimiento del primer divorciante.Asigna valores desde 1920 hasta 2005 para los años de nacimientos y el valor 999 para 'No especificado'"
      ],
      "metadata": {
        "id": "tJOhBzsZo7Gh"
      }
    },
    {
      "cell_type": "markdown",
      "source": [
        "**eciv_adiv2**\n",
        "\n",
        "Estado conyugal (civil) anterior del segundo divorciante.\n",
        "\n",
        "clave,descripción\n",
        "\n",
        "1,Soltero\n",
        "\n",
        "2,Unión libre\n",
        "\n",
        "3,Divorciado\n",
        "\n",
        "4,Separado\n",
        "\n",
        "5,Viudo\n",
        "\n",
        "9,No especificado"
      ],
      "metadata": {
        "id": "QzCG0c1xpUEM"
      }
    },
    {
      "cell_type": "markdown",
      "source": [
        "**ent_rhdiv2**\n",
        "\n",
        "Entidad de residencia habitual del segundo divorciante.\n",
        "\n",
        "Se designan claves del '01' al '32' para identificar las entidades federativas (Estados), la clave '33' para aquellos divorcios (de matrimonios realizados en territorio mexicano) realizados en los Estados Unidos de América, la calve '34' para aquellos divorcios (de matrimonios realizados en territorio mexicano) realizados en los otros paises de Latiniamérica, la clave '35' para aquellos divorcios (de matrimonios realizados en territorio mexicano) realizados en cualquier otro país que no forme parte de las anteriores consideraciones.\n",
        "\n",
        "Recibe valores de **tipo C**, es decir categóricos"
      ],
      "metadata": {
        "id": "UX8WEZ25pxoQ"
      }
    },
    {
      "cell_type": "markdown",
      "source": [
        "**mun_rhdiv2**\n",
        "\n",
        "Municipio o alcaldía de residencia habitual del segundo divorciante.\n",
        "\n",
        "Se designan claves del '000' al '930' para identificar las municipalidades del territorio mexicano, mientras que la clave '998' indica la categoría 'no aplica y la clave '999' indica 'municipio no indicado'\n",
        "\n",
        "Recibe valores de tipo C, es decir categóricos"
      ],
      "metadata": {
        "id": "Qy9N94i3qIFu"
      }
    },
    {
      "cell_type": "markdown",
      "source": [
        "**loc_rhdiv2**\n",
        "\n",
        "Localidad de residencia habitual del segundo divorciante.\n",
        "\n",
        "Se designan claves del '0000' al '3395' para identificar las localidades del territorio mexicano, mientras que la clave designa '7777' \"Cifra confidencial. Establecido en la Ley del SNIEG.\", la clave '9998' y '9999' indica 'localidad no especificada'\n",
        "\n",
        "Recibe valores de tipo C, es decir categóricos\n",
        "\n"
      ],
      "metadata": {
        "id": "qaQI2J4ctHYW"
      }
    },
    {
      "cell_type": "markdown",
      "source": [
        "**tloc_div2**\n",
        "\n",
        "Tamaño de la localidad de residencia habitual del segundo divorciante.\n",
        "\n",
        "Se designan claves que van del 1 al 17 para los rangos de población, la clave '98' para no aplica y '99' para 'No especificada'\n",
        "\n",
        "clave, descripción 1, De 1 a 999 habitantes 2, De 1 000 a 1 999 habitantes 3, De 2 000 a 2 499 habitantes 4, De 2 500 a 4 999 habitantes 5, De 5 000 a 9 999 habitantes 6, De 10 000 a 14 999 habitantes 7, De 15 000 a 19 999 habitantes 8, De 20 000 a 29 999 habitantes 9, De 30 000 a 39 999 habitantes 10, De 40 000 a 49 999 habitantes 11, De 50 000 a 74 999 habitantes 12, De 75 000 a 99 999 habitantes 13, De 100 000 a 249 999 habitantes 14, De 250 000 a 499 999 habitantes 15, De 500 000 a 999 999 habitantes 16, De 1 000 000 a 1 499 999 habitantes 17, De 1 500 000 y más habitantes 98, No aplica 99, No especificado"
      ],
      "metadata": {
        "id": "RaBJtzK5tHUN"
      }
    },
    {
      "cell_type": "markdown",
      "source": [
        "**escol_div2**\n",
        "\n",
        "Nivel de escolaridad del segundo divorciante.\n",
        "\n",
        "clave, descripción\n",
        "\n",
        "0, Sin escolaridad\n",
        "\n",
        "1, 1 a 3 años de primaria\n",
        "\n",
        "2, 4 a 5 años de primaria\n",
        "\n",
        "3, Primaria completa\n",
        "\n",
        "4, Secundaria o equivalente\n",
        "\n",
        "5, Preparatoria o equivalente\n",
        "\n",
        "6, Superior\n",
        "\n",
        "7, Carrera técnica\n",
        "\n",
        "8, Otra\n",
        "\n",
        "9, No especificada"
      ],
      "metadata": {
        "id": "m7m7YwZ7uEhG"
      }
    },
    {
      "cell_type": "markdown",
      "source": [
        "**con_acdiv2**\n",
        "\n",
        "Contiene la condición de actividad económica del segundo divorciante. Asignando el valor de 1 para 'Trabaja', el valor de 2 para 'No trabaja' y el valor de 9 para 'No especificado'."
      ],
      "metadata": {
        "id": "u-rpw0I1ut_Q"
      }
    },
    {
      "cell_type": "markdown",
      "source": [
        "**dedic_div2**\n",
        "\n",
        "Contiene ocupación del segundo divorciante en esta estructura:\n",
        "\n",
        "clave,descripción\n",
        "\n",
        "1,Trabaja\n",
        "\n",
        "2,Al hogar\n",
        "\n",
        "3,Estudiante\n",
        "\n",
        "4,Pensionado o jubilado\n",
        "\n",
        "5,Rentista\n",
        "\n",
        "6,Incapacitado permanentemente para trabajar\n",
        "\n",
        "7,Busca trabajo\n",
        "\n",
        "8,Otra (no trabaja)\n",
        "\n",
        "9,No especificada"
      ],
      "metadata": {
        "id": "Eq1Hk8-vvW__"
      }
    },
    {
      "cell_type": "markdown",
      "source": [
        "**postr_div2**\n",
        "\n",
        "Posición en el trbajo del segundo divorciante.\n",
        "\n",
        "clave,descripción\n",
        "\n",
        "1,Empleado\n",
        "\n",
        "2,Obrero\n",
        "\n",
        "3,Jornalero o peón agrícola\n",
        "\n",
        "4,Patrón o empresario\n",
        "\n",
        "5,Miembro de cooperativa\n",
        "\n",
        "6,Trabajador no remunerado\n",
        "\n",
        "7,Trabajador por cuenta propia\n",
        "\n",
        "8,Otra\n",
        "\n",
        "9,No especificada"
      ],
      "metadata": {
        "id": "OkHn_1owvzu0"
      }
    },
    {
      "cell_type": "markdown",
      "source": [
        "**sexo_div2**\n",
        "\n",
        "Sexo del segundo divorciante.\n",
        "\n",
        "clave,descripción\n",
        "\n",
        "1,Hombre\n",
        "\n",
        "2,Mujer"
      ],
      "metadata": {
        "id": "OR1v_rsF2EV_"
      }
    },
    {
      "cell_type": "markdown",
      "source": [
        "**dura_soc**\n",
        "\n",
        "Duración social del matrimonio\n",
        "\n",
        "Se asigna valores de 1 a 91 para los años de duración del matrimonio. 92 se asigna a aquellos matrimonios que hayan durado 92 o más años, 93 para los matrimonios con duración de menos de un mes, 94 para aquellos con una duración de 1 a 2 meses,95 para aquellos con duración de 3 meses, 96 para aquellos con duración de 4 a 5 meses, 97 para aquellos con duración de 6 meses, 98 para los que tienen una duración de entre  7 a 11 meses y 99 para duración No especificada."
      ],
      "metadata": {
        "id": "0kU0JxHt2Z8W"
      }
    },
    {
      "cell_type": "markdown",
      "source": [
        "**dura_leg**\n",
        "\n",
        "Duración legal del matrimonio\n",
        "\n",
        "Se asigna valores de 1 a 91 para los años de duración del matrimonio. 92 se asigna a aquellos matrimonios que hayan durado 92 o más años, 93 para los matrimonios con duración de menos de un mes, 94 para aquellos con una duración de 1 a 2 meses,95 para aquellos con duración de 3 meses, 96 para aquellos con duración de 4 a 5 meses, 97 para aquellos con duración de 6 meses, 98 para los que tienen una duración de entre  7 a 11 meses y 99 para duración No especificada."
      ],
      "metadata": {
        "id": "oqfS_mmI37sF"
      }
    },
    {
      "cell_type": "markdown",
      "source": [
        "**edad_mdiv1**\n",
        "\n",
        "Edad al matrimonio del primer divorciante.\n",
        "\n",
        "Se asignan valores numéricos del 0 al 95 para designar la edad y se asigna el valor 999 para 'No especificado'"
      ],
      "metadata": {
        "id": "9vfPjKuC4E2s"
      }
    },
    {
      "cell_type": "markdown",
      "source": [
        "**edad_mdiv2**\n",
        "\n",
        "Edad al matrimonio del segundo divorciante.\n",
        "\n",
        "Se asignan valores numéricos del 0 al 95 para designar la edad y se asigna el valor 999 para 'No especificado'"
      ],
      "metadata": {
        "id": "K63iT7pF6KYT"
      }
    },
    {
      "cell_type": "markdown",
      "source": [
        "**t_dvante**\n",
        "\n",
        "Tipo de divorciante.\n",
        "\n",
        "clave,descripción\n",
        "\n",
        "1,Divorciantes hombre - mujer\n",
        "\n",
        "2,Divorciantes del mismo sexo hombres\n",
        "\n",
        "3,Divorciantes del mismo sexo mujeres"
      ],
      "metadata": {
        "id": "uPdJnScw6YWw"
      }
    },
    {
      "cell_type": "markdown",
      "source": [
        "**dis_reoax**\n",
        "\n",
        "Distrito de registro de Oaxaca"
      ],
      "metadata": {
        "id": "XGwDcRhB6xuL"
      }
    },
    {
      "cell_type": "code",
      "source": [
        "filas_dicionario = info_datos.iloc[56:64]\n",
        "\n",
        "filas_dicionario"
      ],
      "metadata": {
        "colab": {
          "base_uri": "https://localhost:8080/",
          "height": 300
        },
        "id": "XzkWNFLrUB6Q",
        "outputId": "86272fe7-f06d-432f-dc4a-a8aa714756f8"
      },
      "execution_count": null,
      "outputs": [
        {
          "output_type": "execute_result",
          "data": {
            "text/plain": [
              "     0                                     nombre_campo  longitud tipo  \\\n",
              "56  57  Posici�n en el trabajo del segundo divorciante.         1   N    \n",
              "57  58                    Sexo del segundo divorciante.         1   N    \n",
              "58  59                  Duraci�n social del matrimonio.         2   N    \n",
              "59  60                   Duraci�n legal del matrimonio.         2   N    \n",
              "60  61       Edad al matrimonio del primer divorciante.         2   N    \n",
              "61  62      Edad al matrimonio del segundo divorciante.         2   N    \n",
              "62  63                             Tipo de divorciante.         1   N    \n",
              "63  64                 Distritos de registro de Oaxaca.         3   N    \n",
              "\n",
              "      nemonico                          catalogo      rango_claves  \n",
              "56  postr_div2                  posicion_trabajo              1..9  \n",
              "57   sexo_div2               condicion_biologica               1,2  \n",
              "58    dura_soc               duracion_matrimonio             1..99  \n",
              "59    dura_leg               duracion_matrimonio             1..99  \n",
              "60  edad_mdiv1                              edad            12..99  \n",
              "61  edad_mdiv2                              edad            12..99  \n",
              "62    t_dvante                 tipo_divorciantes             1,2,3  \n",
              "63   dis_reoax  entidad_municipio_localidad_2021  901..930,998,999  "
            ],
            "text/html": [
              "\n",
              "  <div id=\"df-b1d470a8-5192-475b-8a9f-5607ccd59b7a\" class=\"colab-df-container\">\n",
              "    <div>\n",
              "<style scoped>\n",
              "    .dataframe tbody tr th:only-of-type {\n",
              "        vertical-align: middle;\n",
              "    }\n",
              "\n",
              "    .dataframe tbody tr th {\n",
              "        vertical-align: top;\n",
              "    }\n",
              "\n",
              "    .dataframe thead th {\n",
              "        text-align: right;\n",
              "    }\n",
              "</style>\n",
              "<table border=\"1\" class=\"dataframe\">\n",
              "  <thead>\n",
              "    <tr style=\"text-align: right;\">\n",
              "      <th></th>\n",
              "      <th>0</th>\n",
              "      <th>nombre_campo</th>\n",
              "      <th>longitud</th>\n",
              "      <th>tipo</th>\n",
              "      <th>nemonico</th>\n",
              "      <th>catalogo</th>\n",
              "      <th>rango_claves</th>\n",
              "    </tr>\n",
              "  </thead>\n",
              "  <tbody>\n",
              "    <tr>\n",
              "      <th>56</th>\n",
              "      <td>57</td>\n",
              "      <td>Posici�n en el trabajo del segundo divorciante.</td>\n",
              "      <td>1</td>\n",
              "      <td>N</td>\n",
              "      <td>postr_div2</td>\n",
              "      <td>posicion_trabajo</td>\n",
              "      <td>1..9</td>\n",
              "    </tr>\n",
              "    <tr>\n",
              "      <th>57</th>\n",
              "      <td>58</td>\n",
              "      <td>Sexo del segundo divorciante.</td>\n",
              "      <td>1</td>\n",
              "      <td>N</td>\n",
              "      <td>sexo_div2</td>\n",
              "      <td>condicion_biologica</td>\n",
              "      <td>1,2</td>\n",
              "    </tr>\n",
              "    <tr>\n",
              "      <th>58</th>\n",
              "      <td>59</td>\n",
              "      <td>Duraci�n social del matrimonio.</td>\n",
              "      <td>2</td>\n",
              "      <td>N</td>\n",
              "      <td>dura_soc</td>\n",
              "      <td>duracion_matrimonio</td>\n",
              "      <td>1..99</td>\n",
              "    </tr>\n",
              "    <tr>\n",
              "      <th>59</th>\n",
              "      <td>60</td>\n",
              "      <td>Duraci�n legal del matrimonio.</td>\n",
              "      <td>2</td>\n",
              "      <td>N</td>\n",
              "      <td>dura_leg</td>\n",
              "      <td>duracion_matrimonio</td>\n",
              "      <td>1..99</td>\n",
              "    </tr>\n",
              "    <tr>\n",
              "      <th>60</th>\n",
              "      <td>61</td>\n",
              "      <td>Edad al matrimonio del primer divorciante.</td>\n",
              "      <td>2</td>\n",
              "      <td>N</td>\n",
              "      <td>edad_mdiv1</td>\n",
              "      <td>edad</td>\n",
              "      <td>12..99</td>\n",
              "    </tr>\n",
              "    <tr>\n",
              "      <th>61</th>\n",
              "      <td>62</td>\n",
              "      <td>Edad al matrimonio del segundo divorciante.</td>\n",
              "      <td>2</td>\n",
              "      <td>N</td>\n",
              "      <td>edad_mdiv2</td>\n",
              "      <td>edad</td>\n",
              "      <td>12..99</td>\n",
              "    </tr>\n",
              "    <tr>\n",
              "      <th>62</th>\n",
              "      <td>63</td>\n",
              "      <td>Tipo de divorciante.</td>\n",
              "      <td>1</td>\n",
              "      <td>N</td>\n",
              "      <td>t_dvante</td>\n",
              "      <td>tipo_divorciantes</td>\n",
              "      <td>1,2,3</td>\n",
              "    </tr>\n",
              "    <tr>\n",
              "      <th>63</th>\n",
              "      <td>64</td>\n",
              "      <td>Distritos de registro de Oaxaca.</td>\n",
              "      <td>3</td>\n",
              "      <td>N</td>\n",
              "      <td>dis_reoax</td>\n",
              "      <td>entidad_municipio_localidad_2021</td>\n",
              "      <td>901..930,998,999</td>\n",
              "    </tr>\n",
              "  </tbody>\n",
              "</table>\n",
              "</div>\n",
              "    <div class=\"colab-df-buttons\">\n",
              "\n",
              "  <div class=\"colab-df-container\">\n",
              "    <button class=\"colab-df-convert\" onclick=\"convertToInteractive('df-b1d470a8-5192-475b-8a9f-5607ccd59b7a')\"\n",
              "            title=\"Convert this dataframe to an interactive table.\"\n",
              "            style=\"display:none;\">\n",
              "\n",
              "  <svg xmlns=\"http://www.w3.org/2000/svg\" height=\"24px\" viewBox=\"0 -960 960 960\">\n",
              "    <path d=\"M120-120v-720h720v720H120Zm60-500h600v-160H180v160Zm220 220h160v-160H400v160Zm0 220h160v-160H400v160ZM180-400h160v-160H180v160Zm440 0h160v-160H620v160ZM180-180h160v-160H180v160Zm440 0h160v-160H620v160Z\"/>\n",
              "  </svg>\n",
              "    </button>\n",
              "\n",
              "  <style>\n",
              "    .colab-df-container {\n",
              "      display:flex;\n",
              "      gap: 12px;\n",
              "    }\n",
              "\n",
              "    .colab-df-convert {\n",
              "      background-color: #E8F0FE;\n",
              "      border: none;\n",
              "      border-radius: 50%;\n",
              "      cursor: pointer;\n",
              "      display: none;\n",
              "      fill: #1967D2;\n",
              "      height: 32px;\n",
              "      padding: 0 0 0 0;\n",
              "      width: 32px;\n",
              "    }\n",
              "\n",
              "    .colab-df-convert:hover {\n",
              "      background-color: #E2EBFA;\n",
              "      box-shadow: 0px 1px 2px rgba(60, 64, 67, 0.3), 0px 1px 3px 1px rgba(60, 64, 67, 0.15);\n",
              "      fill: #174EA6;\n",
              "    }\n",
              "\n",
              "    .colab-df-buttons div {\n",
              "      margin-bottom: 4px;\n",
              "    }\n",
              "\n",
              "    [theme=dark] .colab-df-convert {\n",
              "      background-color: #3B4455;\n",
              "      fill: #D2E3FC;\n",
              "    }\n",
              "\n",
              "    [theme=dark] .colab-df-convert:hover {\n",
              "      background-color: #434B5C;\n",
              "      box-shadow: 0px 1px 3px 1px rgba(0, 0, 0, 0.15);\n",
              "      filter: drop-shadow(0px 1px 2px rgba(0, 0, 0, 0.3));\n",
              "      fill: #FFFFFF;\n",
              "    }\n",
              "  </style>\n",
              "\n",
              "    <script>\n",
              "      const buttonEl =\n",
              "        document.querySelector('#df-b1d470a8-5192-475b-8a9f-5607ccd59b7a button.colab-df-convert');\n",
              "      buttonEl.style.display =\n",
              "        google.colab.kernel.accessAllowed ? 'block' : 'none';\n",
              "\n",
              "      async function convertToInteractive(key) {\n",
              "        const element = document.querySelector('#df-b1d470a8-5192-475b-8a9f-5607ccd59b7a');\n",
              "        const dataTable =\n",
              "          await google.colab.kernel.invokeFunction('convertToInteractive',\n",
              "                                                    [key], {});\n",
              "        if (!dataTable) return;\n",
              "\n",
              "        const docLinkHtml = 'Like what you see? Visit the ' +\n",
              "          '<a target=\"_blank\" href=https://colab.research.google.com/notebooks/data_table.ipynb>data table notebook</a>'\n",
              "          + ' to learn more about interactive tables.';\n",
              "        element.innerHTML = '';\n",
              "        dataTable['output_type'] = 'display_data';\n",
              "        await google.colab.output.renderOutput(dataTable, element);\n",
              "        const docLink = document.createElement('div');\n",
              "        docLink.innerHTML = docLinkHtml;\n",
              "        element.appendChild(docLink);\n",
              "      }\n",
              "    </script>\n",
              "  </div>\n",
              "\n",
              "\n",
              "<div id=\"df-d678fe17-6afe-4145-bc2d-f29ecca417ee\">\n",
              "  <button class=\"colab-df-quickchart\" onclick=\"quickchart('df-d678fe17-6afe-4145-bc2d-f29ecca417ee')\"\n",
              "            title=\"Suggest charts\"\n",
              "            style=\"display:none;\">\n",
              "\n",
              "<svg xmlns=\"http://www.w3.org/2000/svg\" height=\"24px\"viewBox=\"0 0 24 24\"\n",
              "     width=\"24px\">\n",
              "    <g>\n",
              "        <path d=\"M19 3H5c-1.1 0-2 .9-2 2v14c0 1.1.9 2 2 2h14c1.1 0 2-.9 2-2V5c0-1.1-.9-2-2-2zM9 17H7v-7h2v7zm4 0h-2V7h2v10zm4 0h-2v-4h2v4z\"/>\n",
              "    </g>\n",
              "</svg>\n",
              "  </button>\n",
              "\n",
              "<style>\n",
              "  .colab-df-quickchart {\n",
              "      --bg-color: #E8F0FE;\n",
              "      --fill-color: #1967D2;\n",
              "      --hover-bg-color: #E2EBFA;\n",
              "      --hover-fill-color: #174EA6;\n",
              "      --disabled-fill-color: #AAA;\n",
              "      --disabled-bg-color: #DDD;\n",
              "  }\n",
              "\n",
              "  [theme=dark] .colab-df-quickchart {\n",
              "      --bg-color: #3B4455;\n",
              "      --fill-color: #D2E3FC;\n",
              "      --hover-bg-color: #434B5C;\n",
              "      --hover-fill-color: #FFFFFF;\n",
              "      --disabled-bg-color: #3B4455;\n",
              "      --disabled-fill-color: #666;\n",
              "  }\n",
              "\n",
              "  .colab-df-quickchart {\n",
              "    background-color: var(--bg-color);\n",
              "    border: none;\n",
              "    border-radius: 50%;\n",
              "    cursor: pointer;\n",
              "    display: none;\n",
              "    fill: var(--fill-color);\n",
              "    height: 32px;\n",
              "    padding: 0;\n",
              "    width: 32px;\n",
              "  }\n",
              "\n",
              "  .colab-df-quickchart:hover {\n",
              "    background-color: var(--hover-bg-color);\n",
              "    box-shadow: 0 1px 2px rgba(60, 64, 67, 0.3), 0 1px 3px 1px rgba(60, 64, 67, 0.15);\n",
              "    fill: var(--button-hover-fill-color);\n",
              "  }\n",
              "\n",
              "  .colab-df-quickchart-complete:disabled,\n",
              "  .colab-df-quickchart-complete:disabled:hover {\n",
              "    background-color: var(--disabled-bg-color);\n",
              "    fill: var(--disabled-fill-color);\n",
              "    box-shadow: none;\n",
              "  }\n",
              "\n",
              "  .colab-df-spinner {\n",
              "    border: 2px solid var(--fill-color);\n",
              "    border-color: transparent;\n",
              "    border-bottom-color: var(--fill-color);\n",
              "    animation:\n",
              "      spin 1s steps(1) infinite;\n",
              "  }\n",
              "\n",
              "  @keyframes spin {\n",
              "    0% {\n",
              "      border-color: transparent;\n",
              "      border-bottom-color: var(--fill-color);\n",
              "      border-left-color: var(--fill-color);\n",
              "    }\n",
              "    20% {\n",
              "      border-color: transparent;\n",
              "      border-left-color: var(--fill-color);\n",
              "      border-top-color: var(--fill-color);\n",
              "    }\n",
              "    30% {\n",
              "      border-color: transparent;\n",
              "      border-left-color: var(--fill-color);\n",
              "      border-top-color: var(--fill-color);\n",
              "      border-right-color: var(--fill-color);\n",
              "    }\n",
              "    40% {\n",
              "      border-color: transparent;\n",
              "      border-right-color: var(--fill-color);\n",
              "      border-top-color: var(--fill-color);\n",
              "    }\n",
              "    60% {\n",
              "      border-color: transparent;\n",
              "      border-right-color: var(--fill-color);\n",
              "    }\n",
              "    80% {\n",
              "      border-color: transparent;\n",
              "      border-right-color: var(--fill-color);\n",
              "      border-bottom-color: var(--fill-color);\n",
              "    }\n",
              "    90% {\n",
              "      border-color: transparent;\n",
              "      border-bottom-color: var(--fill-color);\n",
              "    }\n",
              "  }\n",
              "</style>\n",
              "\n",
              "  <script>\n",
              "    async function quickchart(key) {\n",
              "      const quickchartButtonEl =\n",
              "        document.querySelector('#' + key + ' button');\n",
              "      quickchartButtonEl.disabled = true;  // To prevent multiple clicks.\n",
              "      quickchartButtonEl.classList.add('colab-df-spinner');\n",
              "      try {\n",
              "        const charts = await google.colab.kernel.invokeFunction(\n",
              "            'suggestCharts', [key], {});\n",
              "      } catch (error) {\n",
              "        console.error('Error during call to suggestCharts:', error);\n",
              "      }\n",
              "      quickchartButtonEl.classList.remove('colab-df-spinner');\n",
              "      quickchartButtonEl.classList.add('colab-df-quickchart-complete');\n",
              "    }\n",
              "    (() => {\n",
              "      let quickchartButtonEl =\n",
              "        document.querySelector('#df-d678fe17-6afe-4145-bc2d-f29ecca417ee button');\n",
              "      quickchartButtonEl.style.display =\n",
              "        google.colab.kernel.accessAllowed ? 'block' : 'none';\n",
              "    })();\n",
              "  </script>\n",
              "</div>\n",
              "\n",
              "  <div id=\"id_5e68bfa9-123f-47fc-b839-816b17cb1f30\">\n",
              "    <style>\n",
              "      .colab-df-generate {\n",
              "        background-color: #E8F0FE;\n",
              "        border: none;\n",
              "        border-radius: 50%;\n",
              "        cursor: pointer;\n",
              "        display: none;\n",
              "        fill: #1967D2;\n",
              "        height: 32px;\n",
              "        padding: 0 0 0 0;\n",
              "        width: 32px;\n",
              "      }\n",
              "\n",
              "      .colab-df-generate:hover {\n",
              "        background-color: #E2EBFA;\n",
              "        box-shadow: 0px 1px 2px rgba(60, 64, 67, 0.3), 0px 1px 3px 1px rgba(60, 64, 67, 0.15);\n",
              "        fill: #174EA6;\n",
              "      }\n",
              "\n",
              "      [theme=dark] .colab-df-generate {\n",
              "        background-color: #3B4455;\n",
              "        fill: #D2E3FC;\n",
              "      }\n",
              "\n",
              "      [theme=dark] .colab-df-generate:hover {\n",
              "        background-color: #434B5C;\n",
              "        box-shadow: 0px 1px 3px 1px rgba(0, 0, 0, 0.15);\n",
              "        filter: drop-shadow(0px 1px 2px rgba(0, 0, 0, 0.3));\n",
              "        fill: #FFFFFF;\n",
              "      }\n",
              "    </style>\n",
              "    <button class=\"colab-df-generate\" onclick=\"generateWithVariable('filas_dicionario')\"\n",
              "            title=\"Generate code using this dataframe.\"\n",
              "            style=\"display:none;\">\n",
              "\n",
              "  <svg xmlns=\"http://www.w3.org/2000/svg\" height=\"24px\"viewBox=\"0 0 24 24\"\n",
              "       width=\"24px\">\n",
              "    <path d=\"M7,19H8.4L18.45,9,17,7.55,7,17.6ZM5,21V16.75L18.45,3.32a2,2,0,0,1,2.83,0l1.4,1.43a1.91,1.91,0,0,1,.58,1.4,1.91,1.91,0,0,1-.58,1.4L9.25,21ZM18.45,9,17,7.55Zm-12,3A5.31,5.31,0,0,0,4.9,8.1,5.31,5.31,0,0,0,1,6.5,5.31,5.31,0,0,0,4.9,4.9,5.31,5.31,0,0,0,6.5,1,5.31,5.31,0,0,0,8.1,4.9,5.31,5.31,0,0,0,12,6.5,5.46,5.46,0,0,0,6.5,12Z\"/>\n",
              "  </svg>\n",
              "    </button>\n",
              "    <script>\n",
              "      (() => {\n",
              "      const buttonEl =\n",
              "        document.querySelector('#id_5e68bfa9-123f-47fc-b839-816b17cb1f30 button.colab-df-generate');\n",
              "      buttonEl.style.display =\n",
              "        google.colab.kernel.accessAllowed ? 'block' : 'none';\n",
              "\n",
              "      buttonEl.onclick = () => {\n",
              "        google.colab.notebook.generateWithVariable('filas_dicionario');\n",
              "      }\n",
              "      })();\n",
              "    </script>\n",
              "  </div>\n",
              "\n",
              "    </div>\n",
              "  </div>\n"
            ]
          },
          "metadata": {},
          "execution_count": 23
        }
      ]
    },
    {
      "cell_type": "code",
      "source": [
        "df_divorcios.columns"
      ],
      "metadata": {
        "colab": {
          "base_uri": "https://localhost:8080/"
        },
        "id": "9HXAzJ6__Y13",
        "outputId": "e2b914bb-eb73-41ee-e9f5-70cd5e8a1d4e"
      },
      "execution_count": null,
      "outputs": [
        {
          "output_type": "execute_result",
          "data": {
            "text/plain": [
              "Index(['tipo_div', 'ent_regis', 'mun_regis', 'loc_regis', 'tloc_regis',\n",
              "       'ent_mat', 'mun_mat', 'local_mat', 'tloc_mat', 'dia_mat', 'mes_mat',\n",
              "       'anio_mat', 'dia_reg', 'mes_reg', 'anio_reg', 'dia_sen', 'mes_sen',\n",
              "       'anio_sen', 'dia_eje', 'mes_eje', 'anio_eje', 'ini_juic', 'favor',\n",
              "       'causa', 'hijos', 'hij_men', 'custodia', 'cus_hij', 'pat_pot',\n",
              "       'pat_hij', 'pension', 'pen_hij', 'naci_div1', 'edad_div1', 'nacim_div1',\n",
              "       'eciv_adiv1', 'ent_rhdiv1', 'mun_rhdiv1', 'loc_rhdiv1', 'tloc_div1',\n",
              "       'escol_div1', 'con_acdiv1', 'dedic_div1', 'postr_div1', 'sexo_div1',\n",
              "       'naci_div2', 'edad_div2', 'nacim_div2', 'eciv_adiv2', 'ent_rhdiv2',\n",
              "       'mun_rhdiv2', 'loc_rhdiv2', 'tloc_div2', 'escol_div2', 'con_acdiv2',\n",
              "       'dedic_div2', 'postr_div2', 'sexo_div2', 'dura_soc', 'dura_leg',\n",
              "       'edad_mdiv1', 'edad_mdiv2', 't_dvante', 'dis_reoax'],\n",
              "      dtype='object')"
            ]
          },
          "metadata": {},
          "execution_count": 11
        }
      ]
    },
    {
      "cell_type": "code",
      "source": [
        "df_div_territorio.columns"
      ],
      "metadata": {
        "colab": {
          "base_uri": "https://localhost:8080/"
        },
        "id": "r92jp0AfFHbm",
        "outputId": "08642069-149f-4e68-b525-ddf984fcb39a"
      },
      "execution_count": null,
      "outputs": [
        {
          "output_type": "execute_result",
          "data": {
            "text/plain": [
              "Index(['cve_ent', 'cve_mun', 'cve_loc', 'nom_loc'], dtype='object')"
            ]
          },
          "metadata": {},
          "execution_count": 23
        }
      ]
    },
    {
      "cell_type": "code",
      "source": [
        "valor_buscado = 9998\n",
        "fila_buscada = df_div_territorio.loc[df_div_territorio['cve_loc'] == valor_buscado]\n",
        "fila_buscada"
      ],
      "metadata": {
        "colab": {
          "base_uri": "https://localhost:8080/",
          "height": 143
        },
        "id": "7DGECvl0KQb4",
        "outputId": "2c5de9e6-eedb-4309-e670-555a6106802f"
      },
      "execution_count": null,
      "outputs": [
        {
          "output_type": "execute_result",
          "data": {
            "text/plain": [
              "      cve_ent  cve_mun  cve_loc                    nom_loc\n",
              "8728       33      998     9998  Localidad no especificada\n",
              "8732       34      998     9998  Localidad no especificada\n",
              "8736       35      998     9998  Localidad no especificada"
            ],
            "text/html": [
              "\n",
              "  <div id=\"df-b428948a-4fed-49f4-9fb7-dcc061521ec5\" class=\"colab-df-container\">\n",
              "    <div>\n",
              "<style scoped>\n",
              "    .dataframe tbody tr th:only-of-type {\n",
              "        vertical-align: middle;\n",
              "    }\n",
              "\n",
              "    .dataframe tbody tr th {\n",
              "        vertical-align: top;\n",
              "    }\n",
              "\n",
              "    .dataframe thead th {\n",
              "        text-align: right;\n",
              "    }\n",
              "</style>\n",
              "<table border=\"1\" class=\"dataframe\">\n",
              "  <thead>\n",
              "    <tr style=\"text-align: right;\">\n",
              "      <th></th>\n",
              "      <th>cve_ent</th>\n",
              "      <th>cve_mun</th>\n",
              "      <th>cve_loc</th>\n",
              "      <th>nom_loc</th>\n",
              "    </tr>\n",
              "  </thead>\n",
              "  <tbody>\n",
              "    <tr>\n",
              "      <th>8728</th>\n",
              "      <td>33</td>\n",
              "      <td>998</td>\n",
              "      <td>9998</td>\n",
              "      <td>Localidad no especificada</td>\n",
              "    </tr>\n",
              "    <tr>\n",
              "      <th>8732</th>\n",
              "      <td>34</td>\n",
              "      <td>998</td>\n",
              "      <td>9998</td>\n",
              "      <td>Localidad no especificada</td>\n",
              "    </tr>\n",
              "    <tr>\n",
              "      <th>8736</th>\n",
              "      <td>35</td>\n",
              "      <td>998</td>\n",
              "      <td>9998</td>\n",
              "      <td>Localidad no especificada</td>\n",
              "    </tr>\n",
              "  </tbody>\n",
              "</table>\n",
              "</div>\n",
              "    <div class=\"colab-df-buttons\">\n",
              "\n",
              "  <div class=\"colab-df-container\">\n",
              "    <button class=\"colab-df-convert\" onclick=\"convertToInteractive('df-b428948a-4fed-49f4-9fb7-dcc061521ec5')\"\n",
              "            title=\"Convert this dataframe to an interactive table.\"\n",
              "            style=\"display:none;\">\n",
              "\n",
              "  <svg xmlns=\"http://www.w3.org/2000/svg\" height=\"24px\" viewBox=\"0 -960 960 960\">\n",
              "    <path d=\"M120-120v-720h720v720H120Zm60-500h600v-160H180v160Zm220 220h160v-160H400v160Zm0 220h160v-160H400v160ZM180-400h160v-160H180v160Zm440 0h160v-160H620v160ZM180-180h160v-160H180v160Zm440 0h160v-160H620v160Z\"/>\n",
              "  </svg>\n",
              "    </button>\n",
              "\n",
              "  <style>\n",
              "    .colab-df-container {\n",
              "      display:flex;\n",
              "      gap: 12px;\n",
              "    }\n",
              "\n",
              "    .colab-df-convert {\n",
              "      background-color: #E8F0FE;\n",
              "      border: none;\n",
              "      border-radius: 50%;\n",
              "      cursor: pointer;\n",
              "      display: none;\n",
              "      fill: #1967D2;\n",
              "      height: 32px;\n",
              "      padding: 0 0 0 0;\n",
              "      width: 32px;\n",
              "    }\n",
              "\n",
              "    .colab-df-convert:hover {\n",
              "      background-color: #E2EBFA;\n",
              "      box-shadow: 0px 1px 2px rgba(60, 64, 67, 0.3), 0px 1px 3px 1px rgba(60, 64, 67, 0.15);\n",
              "      fill: #174EA6;\n",
              "    }\n",
              "\n",
              "    .colab-df-buttons div {\n",
              "      margin-bottom: 4px;\n",
              "    }\n",
              "\n",
              "    [theme=dark] .colab-df-convert {\n",
              "      background-color: #3B4455;\n",
              "      fill: #D2E3FC;\n",
              "    }\n",
              "\n",
              "    [theme=dark] .colab-df-convert:hover {\n",
              "      background-color: #434B5C;\n",
              "      box-shadow: 0px 1px 3px 1px rgba(0, 0, 0, 0.15);\n",
              "      filter: drop-shadow(0px 1px 2px rgba(0, 0, 0, 0.3));\n",
              "      fill: #FFFFFF;\n",
              "    }\n",
              "  </style>\n",
              "\n",
              "    <script>\n",
              "      const buttonEl =\n",
              "        document.querySelector('#df-b428948a-4fed-49f4-9fb7-dcc061521ec5 button.colab-df-convert');\n",
              "      buttonEl.style.display =\n",
              "        google.colab.kernel.accessAllowed ? 'block' : 'none';\n",
              "\n",
              "      async function convertToInteractive(key) {\n",
              "        const element = document.querySelector('#df-b428948a-4fed-49f4-9fb7-dcc061521ec5');\n",
              "        const dataTable =\n",
              "          await google.colab.kernel.invokeFunction('convertToInteractive',\n",
              "                                                    [key], {});\n",
              "        if (!dataTable) return;\n",
              "\n",
              "        const docLinkHtml = 'Like what you see? Visit the ' +\n",
              "          '<a target=\"_blank\" href=https://colab.research.google.com/notebooks/data_table.ipynb>data table notebook</a>'\n",
              "          + ' to learn more about interactive tables.';\n",
              "        element.innerHTML = '';\n",
              "        dataTable['output_type'] = 'display_data';\n",
              "        await google.colab.output.renderOutput(dataTable, element);\n",
              "        const docLink = document.createElement('div');\n",
              "        docLink.innerHTML = docLinkHtml;\n",
              "        element.appendChild(docLink);\n",
              "      }\n",
              "    </script>\n",
              "  </div>\n",
              "\n",
              "\n",
              "<div id=\"df-958a9b72-2dfc-4474-a29d-b0afd0cf3c6b\">\n",
              "  <button class=\"colab-df-quickchart\" onclick=\"quickchart('df-958a9b72-2dfc-4474-a29d-b0afd0cf3c6b')\"\n",
              "            title=\"Suggest charts\"\n",
              "            style=\"display:none;\">\n",
              "\n",
              "<svg xmlns=\"http://www.w3.org/2000/svg\" height=\"24px\"viewBox=\"0 0 24 24\"\n",
              "     width=\"24px\">\n",
              "    <g>\n",
              "        <path d=\"M19 3H5c-1.1 0-2 .9-2 2v14c0 1.1.9 2 2 2h14c1.1 0 2-.9 2-2V5c0-1.1-.9-2-2-2zM9 17H7v-7h2v7zm4 0h-2V7h2v10zm4 0h-2v-4h2v4z\"/>\n",
              "    </g>\n",
              "</svg>\n",
              "  </button>\n",
              "\n",
              "<style>\n",
              "  .colab-df-quickchart {\n",
              "      --bg-color: #E8F0FE;\n",
              "      --fill-color: #1967D2;\n",
              "      --hover-bg-color: #E2EBFA;\n",
              "      --hover-fill-color: #174EA6;\n",
              "      --disabled-fill-color: #AAA;\n",
              "      --disabled-bg-color: #DDD;\n",
              "  }\n",
              "\n",
              "  [theme=dark] .colab-df-quickchart {\n",
              "      --bg-color: #3B4455;\n",
              "      --fill-color: #D2E3FC;\n",
              "      --hover-bg-color: #434B5C;\n",
              "      --hover-fill-color: #FFFFFF;\n",
              "      --disabled-bg-color: #3B4455;\n",
              "      --disabled-fill-color: #666;\n",
              "  }\n",
              "\n",
              "  .colab-df-quickchart {\n",
              "    background-color: var(--bg-color);\n",
              "    border: none;\n",
              "    border-radius: 50%;\n",
              "    cursor: pointer;\n",
              "    display: none;\n",
              "    fill: var(--fill-color);\n",
              "    height: 32px;\n",
              "    padding: 0;\n",
              "    width: 32px;\n",
              "  }\n",
              "\n",
              "  .colab-df-quickchart:hover {\n",
              "    background-color: var(--hover-bg-color);\n",
              "    box-shadow: 0 1px 2px rgba(60, 64, 67, 0.3), 0 1px 3px 1px rgba(60, 64, 67, 0.15);\n",
              "    fill: var(--button-hover-fill-color);\n",
              "  }\n",
              "\n",
              "  .colab-df-quickchart-complete:disabled,\n",
              "  .colab-df-quickchart-complete:disabled:hover {\n",
              "    background-color: var(--disabled-bg-color);\n",
              "    fill: var(--disabled-fill-color);\n",
              "    box-shadow: none;\n",
              "  }\n",
              "\n",
              "  .colab-df-spinner {\n",
              "    border: 2px solid var(--fill-color);\n",
              "    border-color: transparent;\n",
              "    border-bottom-color: var(--fill-color);\n",
              "    animation:\n",
              "      spin 1s steps(1) infinite;\n",
              "  }\n",
              "\n",
              "  @keyframes spin {\n",
              "    0% {\n",
              "      border-color: transparent;\n",
              "      border-bottom-color: var(--fill-color);\n",
              "      border-left-color: var(--fill-color);\n",
              "    }\n",
              "    20% {\n",
              "      border-color: transparent;\n",
              "      border-left-color: var(--fill-color);\n",
              "      border-top-color: var(--fill-color);\n",
              "    }\n",
              "    30% {\n",
              "      border-color: transparent;\n",
              "      border-left-color: var(--fill-color);\n",
              "      border-top-color: var(--fill-color);\n",
              "      border-right-color: var(--fill-color);\n",
              "    }\n",
              "    40% {\n",
              "      border-color: transparent;\n",
              "      border-right-color: var(--fill-color);\n",
              "      border-top-color: var(--fill-color);\n",
              "    }\n",
              "    60% {\n",
              "      border-color: transparent;\n",
              "      border-right-color: var(--fill-color);\n",
              "    }\n",
              "    80% {\n",
              "      border-color: transparent;\n",
              "      border-right-color: var(--fill-color);\n",
              "      border-bottom-color: var(--fill-color);\n",
              "    }\n",
              "    90% {\n",
              "      border-color: transparent;\n",
              "      border-bottom-color: var(--fill-color);\n",
              "    }\n",
              "  }\n",
              "</style>\n",
              "\n",
              "  <script>\n",
              "    async function quickchart(key) {\n",
              "      const quickchartButtonEl =\n",
              "        document.querySelector('#' + key + ' button');\n",
              "      quickchartButtonEl.disabled = true;  // To prevent multiple clicks.\n",
              "      quickchartButtonEl.classList.add('colab-df-spinner');\n",
              "      try {\n",
              "        const charts = await google.colab.kernel.invokeFunction(\n",
              "            'suggestCharts', [key], {});\n",
              "      } catch (error) {\n",
              "        console.error('Error during call to suggestCharts:', error);\n",
              "      }\n",
              "      quickchartButtonEl.classList.remove('colab-df-spinner');\n",
              "      quickchartButtonEl.classList.add('colab-df-quickchart-complete');\n",
              "    }\n",
              "    (() => {\n",
              "      let quickchartButtonEl =\n",
              "        document.querySelector('#df-958a9b72-2dfc-4474-a29d-b0afd0cf3c6b button');\n",
              "      quickchartButtonEl.style.display =\n",
              "        google.colab.kernel.accessAllowed ? 'block' : 'none';\n",
              "    })();\n",
              "  </script>\n",
              "</div>\n",
              "\n",
              "  <div id=\"id_975b282f-d9d6-4a97-abcf-7ef0758dfc93\">\n",
              "    <style>\n",
              "      .colab-df-generate {\n",
              "        background-color: #E8F0FE;\n",
              "        border: none;\n",
              "        border-radius: 50%;\n",
              "        cursor: pointer;\n",
              "        display: none;\n",
              "        fill: #1967D2;\n",
              "        height: 32px;\n",
              "        padding: 0 0 0 0;\n",
              "        width: 32px;\n",
              "      }\n",
              "\n",
              "      .colab-df-generate:hover {\n",
              "        background-color: #E2EBFA;\n",
              "        box-shadow: 0px 1px 2px rgba(60, 64, 67, 0.3), 0px 1px 3px 1px rgba(60, 64, 67, 0.15);\n",
              "        fill: #174EA6;\n",
              "      }\n",
              "\n",
              "      [theme=dark] .colab-df-generate {\n",
              "        background-color: #3B4455;\n",
              "        fill: #D2E3FC;\n",
              "      }\n",
              "\n",
              "      [theme=dark] .colab-df-generate:hover {\n",
              "        background-color: #434B5C;\n",
              "        box-shadow: 0px 1px 3px 1px rgba(0, 0, 0, 0.15);\n",
              "        filter: drop-shadow(0px 1px 2px rgba(0, 0, 0, 0.3));\n",
              "        fill: #FFFFFF;\n",
              "      }\n",
              "    </style>\n",
              "    <button class=\"colab-df-generate\" onclick=\"generateWithVariable('fila_buscada')\"\n",
              "            title=\"Generate code using this dataframe.\"\n",
              "            style=\"display:none;\">\n",
              "\n",
              "  <svg xmlns=\"http://www.w3.org/2000/svg\" height=\"24px\"viewBox=\"0 0 24 24\"\n",
              "       width=\"24px\">\n",
              "    <path d=\"M7,19H8.4L18.45,9,17,7.55,7,17.6ZM5,21V16.75L18.45,3.32a2,2,0,0,1,2.83,0l1.4,1.43a1.91,1.91,0,0,1,.58,1.4,1.91,1.91,0,0,1-.58,1.4L9.25,21ZM18.45,9,17,7.55Zm-12,3A5.31,5.31,0,0,0,4.9,8.1,5.31,5.31,0,0,0,1,6.5,5.31,5.31,0,0,0,4.9,4.9,5.31,5.31,0,0,0,6.5,1,5.31,5.31,0,0,0,8.1,4.9,5.31,5.31,0,0,0,12,6.5,5.46,5.46,0,0,0,6.5,12Z\"/>\n",
              "  </svg>\n",
              "    </button>\n",
              "    <script>\n",
              "      (() => {\n",
              "      const buttonEl =\n",
              "        document.querySelector('#id_975b282f-d9d6-4a97-abcf-7ef0758dfc93 button.colab-df-generate');\n",
              "      buttonEl.style.display =\n",
              "        google.colab.kernel.accessAllowed ? 'block' : 'none';\n",
              "\n",
              "      buttonEl.onclick = () => {\n",
              "        google.colab.notebook.generateWithVariable('fila_buscada');\n",
              "      }\n",
              "      })();\n",
              "    </script>\n",
              "  </div>\n",
              "\n",
              "    </div>\n",
              "  </div>\n"
            ]
          },
          "metadata": {},
          "execution_count": 30
        }
      ]
    },
    {
      "cell_type": "code",
      "source": [
        "valor_unico = df_div_territorio['cve_loc'].unique()\n",
        "\n",
        "valor_unico = sorted(valor_unico)\n",
        "\n",
        "valor_unico"
      ],
      "metadata": {
        "id": "XafT6EZL_2dE"
      },
      "execution_count": null,
      "outputs": []
    }
  ]
}