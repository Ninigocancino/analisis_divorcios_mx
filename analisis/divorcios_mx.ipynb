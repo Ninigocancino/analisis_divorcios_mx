{
 "cells": [
  {
   "cell_type": "markdown",
   "metadata": {},
   "source": [
    "# Objetivo del análisis "
   ]
  },
  {
   "cell_type": "markdown",
   "metadata": {},
   "source": [
    "Este análisis busca dimensionar el fenomeno de divorcios en México a traves de aspectos como; el número total de divorcios por año, los diferentes grupos poblacionales a los que afecta el fenomeno  o que se ven relacionados con él, las principales entidades federativas donde se sucita, la tendencia a la baja o alta en terminos globales y particulares. "
   ]
  },
  {
   "cell_type": "markdown",
   "metadata": {},
   "source": [
    "# Contexto comercial"
   ]
  },
  {
   "cell_type": "markdown",
   "metadata": {},
   "source": [
    "* En la mayoría de las culturas o sociedades la familia es considerada como una institución social fundamental y la base misma de la sociedad bajo el entendido que dicha estructura social cumple con diferentes funciones de vital importancia como lo son ; la reproducción y crianzas de individuos, brindar apoyo emocional, físico y económico a los individuos, promover y faciltar la sociabilización y transmitir la cultura. Tradicionalmente al centro de está estructura se encuentra el matrimonio, otra institución social, pero tambien legal que establece una unión formal y reconocida entre dos individuos generalmente con el propósito de establecer una familia. \n",
    "\n",
    "* Por otra parte el divorcio es la acción que disuelve en vínculo del matrimonio y deja a los cónyuges en aptitud de contraer otro. \n",
    "\n",
    "* En las útimas decadas, los profundos cambios en las dinámicas sociales han dado como resultado un cambio importante en la configuración de las familias y en la durabilidad de la convivencia de las parejas legalmente establecidas. \n",
    "\n",
    "* Si bien la diferencia entre la dinamica actual y la de hace algunas decadas en cuanto a matrimonio y divorcio respecta es algo de lo que la mayoría de las personas percibe a simple vista, es necesario contar con una mejor perspectiva que permita definir si este es un fenomeno que puede tener mayor impacto negativo a la sociedad o si es un aspecto de mera percepción. "
   ]
  },
  {
   "cell_type": "markdown",
   "metadata": {},
   "source": [
    "# Problema comercial"
   ]
  },
  {
   "cell_type": "markdown",
   "metadata": {},
   "source": [
    "* Para la mayoría de las personas ahondar en la dinamica de este fenomeno no es pasa de ser algo meramente anecdotico que tiene poca relevancia o impacto en la vida de las personas. Sin embargo la realidad que se escapa en este fenomeno, es que la disolución del matrimonio es un evento dificil y muchas veces traumaticos para cada integrante de la familia y que puede convertirse en un disparador de acciones que impactan ya no en el bienestar familiar sino en el mismo bienestar de la sociedad, llegando a desencadenar en eventos extremos crimenes graves.\n",
    "* Con base en lo anterior se desarrollará un Analisis exploratorio de datos que permita tener data limpia y fiable sobre el fenomeno de divrcios en México que pueda ser consumida en estudios o analiss de mayor calado."
   ]
  },
  {
   "cell_type": "markdown",
   "metadata": {},
   "source": [
    "# Alcance del proyecto"
   ]
  },
  {
   "cell_type": "markdown",
   "metadata": {},
   "source": [
    "**Territorialidad:** El proyecto se limitará a recopilar y preparar la data aplicable al territorio mexicano y sus entidades federativas (tambén llamadas Estados).\n",
    "\n",
    "**Recopilación de datos:** Buscaremos datos capturados en fuentes de datos diponibles en las webs de organizaciones o instituciones confiables y que sean suceptibles de ser trabajados con las librerias que python nos proporciona.\n",
    "\n",
    "No se contempla recopilación de datos in situs, ni raspado web para este proyecto.\n",
    "\n",
    "**Entregables:** El resultado final será una tabla o más tablas que almacenen los datos relevantes para cada pregunta planteada en el proyecto, un informe general de los hallazgos para el caso de México (que deberá incluir los graficos necesarios), así como un apartado de observaciones como aspectos que escapan de la capacidad del analisis por razones como la falta de data necesaria.\n",
    "\n",
    "**Otros:** Los entregables de este proyecto deben poder ser usados como base en proyectos de data desing y en analisis más amplios en lo territorial o conceptual (como análisis del fenomeno de divorcios en el mundo,  america latina entre otros o en análisis de las causas y consecuencias relacionadas con dicho fenomeno )\n"
   ]
  },
  {
   "cell_type": "markdown",
   "metadata": {},
   "source": [
    "# Hipotesís y preguntas"
   ]
  },
  {
   "cell_type": "markdown",
   "metadata": {},
   "source": [
    "**Hipotesís:** En México el número de divorcios se ha incrementado drastciamente en los ultimos años "
   ]
  },
  {
   "cell_type": "markdown",
   "metadata": {},
   "source": [
    "# Adquisición de datos"
   ]
  },
  {
   "cell_type": "code",
   "execution_count": 1,
   "metadata": {},
   "outputs": [],
   "source": [
    "import pandas as pd\n",
    "import numpy as np\n",
    "import seaborn as sns\n",
    "import matplotlib.pyplot as plt\n",
    "import scipy"
   ]
  },
  {
   "cell_type": "markdown",
   "metadata": {},
   "source": [
    "Datos proporcionados por el dataset:\n",
    "\n"
   ]
  },
  {
   "cell_type": "code",
   "execution_count": 19,
   "metadata": {},
   "outputs": [],
   "source": [
    "datos = pd.read_csv('diccionario_de_datos_divorcios_2021.csv', encoding='utf-8')\n"
   ]
  },
  {
   "cell_type": "markdown",
   "metadata": {},
   "source": [
    "**Diccionario de datos**"
   ]
  },
  {
   "cell_type": "markdown",
   "metadata": {},
   "source": [
    "**Tipo de tramite**\n",
    "\n",
    "Describe el tipo de tramite "
   ]
  },
  {
   "cell_type": "code",
   "execution_count": 21,
   "metadata": {},
   "outputs": [
    {
     "data": {
      "text/html": [
       "<div>\n",
       "<style scoped>\n",
       "    .dataframe tbody tr th:only-of-type {\n",
       "        vertical-align: middle;\n",
       "    }\n",
       "\n",
       "    .dataframe tbody tr th {\n",
       "        vertical-align: top;\n",
       "    }\n",
       "\n",
       "    .dataframe thead th {\n",
       "        text-align: right;\n",
       "    }\n",
       "</style>\n",
       "<table border=\"1\" class=\"dataframe\">\n",
       "  <thead>\n",
       "    <tr style=\"text-align: right;\">\n",
       "      <th></th>\n",
       "      <th>0</th>\n",
       "      <th>nombre_campo</th>\n",
       "      <th>longitud</th>\n",
       "      <th>tipo</th>\n",
       "      <th>nemonico</th>\n",
       "      <th>catalogo</th>\n",
       "      <th>rango_claves</th>\n",
       "    </tr>\n",
       "  </thead>\n",
       "  <tbody>\n",
       "    <tr>\n",
       "      <th>0</th>\n",
       "      <td>1</td>\n",
       "      <td>Tipo de tr�mite.</td>\n",
       "      <td>1</td>\n",
       "      <td>N</td>\n",
       "      <td>tipo_div</td>\n",
       "      <td>tipo_divorcio</td>\n",
       "      <td>1,2</td>\n",
       "    </tr>\n",
       "    <tr>\n",
       "      <th>1</th>\n",
       "      <td>2</td>\n",
       "      <td>Entidad de registro.</td>\n",
       "      <td>2</td>\n",
       "      <td>C</td>\n",
       "      <td>ent_regis</td>\n",
       "      <td>entidad_municipio_localidad_2021</td>\n",
       "      <td>01..32</td>\n",
       "    </tr>\n",
       "    <tr>\n",
       "      <th>2</th>\n",
       "      <td>3</td>\n",
       "      <td>Municipio o alcald�a de registro.</td>\n",
       "      <td>3</td>\n",
       "      <td>C</td>\n",
       "      <td>mun_regis</td>\n",
       "      <td>entidad_municipio_localidad_2021</td>\n",
       "      <td>001..570</td>\n",
       "    </tr>\n",
       "    <tr>\n",
       "      <th>3</th>\n",
       "      <td>4</td>\n",
       "      <td>Localidad de registro.</td>\n",
       "      <td>4</td>\n",
       "      <td>C</td>\n",
       "      <td>loc_regis</td>\n",
       "      <td>entidad_municipio_localidad_2021</td>\n",
       "      <td>0001..6999,7777,9999</td>\n",
       "    </tr>\n",
       "    <tr>\n",
       "      <th>4</th>\n",
       "      <td>5</td>\n",
       "      <td>Tama�o de localidad de registro.</td>\n",
       "      <td>2</td>\n",
       "      <td>N</td>\n",
       "      <td>tloc_regis</td>\n",
       "      <td>localidad_agrupada</td>\n",
       "      <td>1..17,99</td>\n",
       "    </tr>\n",
       "  </tbody>\n",
       "</table>\n",
       "</div>"
      ],
      "text/plain": [
       "   0                       nombre_campo  longitud tipo    nemonico  \\\n",
       "0  1                   Tipo de tr�mite.         1    N    tipo_div   \n",
       "1  2               Entidad de registro.         2    C   ent_regis   \n",
       "2  3  Municipio o alcald�a de registro.         3   C    mun_regis   \n",
       "3  4             Localidad de registro.         4   C    loc_regis   \n",
       "4  5   Tama�o de localidad de registro.         2   N   tloc_regis   \n",
       "\n",
       "                           catalogo          rango_claves  \n",
       "0                     tipo_divorcio                   1,2  \n",
       "1  entidad_municipio_localidad_2021                01..32  \n",
       "2  entidad_municipio_localidad_2021              001..570  \n",
       "3  entidad_municipio_localidad_2021  0001..6999,7777,9999  \n",
       "4                localidad_agrupada              1..17,99  "
      ]
     },
     "execution_count": 21,
     "metadata": {},
     "output_type": "execute_result"
    }
   ],
   "source": [
    "filas_dicionario = datos.iloc[0:5]\n",
    "\n",
    "filas_dicionario"
   ]
  },
  {
   "cell_type": "markdown",
   "metadata": {},
   "source": [
    "# EDA Preliminar"
   ]
  },
  {
   "cell_type": "markdown",
   "metadata": {},
   "source": [
    "# Wrangling"
   ]
  }
 ],
 "metadata": {
  "kernelspec": {
   "display_name": "venv_analisis_divorcios",
   "language": "python",
   "name": "python3"
  },
  "language_info": {
   "codemirror_mode": {
    "name": "ipython",
    "version": 3
   },
   "file_extension": ".py",
   "mimetype": "text/x-python",
   "name": "python",
   "nbconvert_exporter": "python",
   "pygments_lexer": "ipython3",
   "version": "3.7.3"
  }
 },
 "nbformat": 4,
 "nbformat_minor": 2
}
